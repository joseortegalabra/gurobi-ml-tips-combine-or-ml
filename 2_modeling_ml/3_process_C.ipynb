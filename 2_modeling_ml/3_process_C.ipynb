{
 "cells": [
  {
   "cell_type": "markdown",
   "id": "c43faa4d-db0f-4cd3-a093-19438ecae397",
   "metadata": {},
   "source": [
    "# Modeling process C - It is a custom model that need to be written in gurobi direcly - doesn't apply machine learning model"
   ]
  },
  {
   "cell_type": "markdown",
   "id": "b922bd84-6691-4e5a-92c9-dac5fd7dadbd",
   "metadata": {},
   "source": [
    "## Root folder and read env variables"
   ]
  },
  {
   "cell_type": "code",
   "execution_count": null,
   "id": "b846b3c3-ef67-4a3c-8b9d-3b3796b61fb3",
   "metadata": {},
   "outputs": [],
   "source": [
    "import os\n",
    "# fix root path to save outputs\n",
    "actual_path = os.path.abspath(os.getcwd())\n",
    "list_root_path = actual_path.split('\\\\')[:-1]\n",
    "root_path = '\\\\'.join(list_root_path)\n",
    "os.chdir(root_path)\n",
    "print('root path: ', root_path)"
   ]
  },
  {
   "cell_type": "code",
   "execution_count": null,
   "id": "cd3c0576-ebc2-4df8-9bea-50f29844198a",
   "metadata": {},
   "outputs": [],
   "source": [
    "import os\n",
    "from dotenv import load_dotenv, find_dotenv # package used in jupyter notebook to read the variables in file .env\n",
    "\n",
    "\"\"\" get env variable from .env \"\"\"\n",
    "load_dotenv(find_dotenv())\n",
    "\n",
    "\"\"\" Read env variables and save it as python variable \"\"\"\n",
    "PROJECT_GCP = os.environ.get(\"PROJECT_GCP\", \"\")"
   ]
  },
  {
   "cell_type": "code",
   "execution_count": null,
   "id": "e2bab0f8-b9f4-4887-bd70-1790163eab22",
   "metadata": {},
   "outputs": [],
   "source": []
  },
  {
   "cell_type": "markdown",
   "id": "ddd36dbb-2fb7-4476-96ef-b1ef520e3133",
   "metadata": {},
   "source": [
    "## RUN TRAINING"
   ]
  },
  {
   "cell_type": "code",
   "execution_count": null,
   "id": "c29ac8e0",
   "metadata": {},
   "outputs": [],
   "source": [
    "import pandas as pd\n",
    "import numpy as np\n",
    "from google.cloud import bigquery\n",
    "import gcsfs\n",
    "import pickle\n",
    "\n",
    "from sklearn.model_selection import train_test_split\n",
    "\n",
    "from sklearn.pipeline import Pipeline\n",
    "\n",
    "# transform\n",
    "from sklearn.preprocessing import MinMaxScaler\n",
    "from sklearn.preprocessing import StandardScaler\n",
    "from sklearn.preprocessing import PolynomialFeatures\n",
    "from sklearn.preprocessing import FunctionTransformer\n",
    "from sklearn.compose import ColumnTransformer\n",
    "from sklearn.compose import make_column_transformer\n",
    "\n",
    "# models\n",
    "from sklearn.linear_model import LinearRegression # lr\n",
    "from sklearn.linear_model import Ridge # ridge\n",
    "from sklearn.linear_model import Lasso # lasso\n",
    "from sklearn.tree import DecisionTreeRegressor # tree\n",
    "from sklearn.ensemble import GradientBoostingRegressor #gb\n",
    "from sklearn.ensemble import RandomForestRegressor #rf\n",
    "#from xgboost import XGBRegressor # xgb\n",
    "from  sklearn.neural_network import MLPRegressor # mlp"
   ]
  },
  {
   "cell_type": "code",
   "execution_count": null,
   "id": "330fcbba-795b-4620-9721-aaa3162bd344",
   "metadata": {},
   "outputs": [],
   "source": []
  },
  {
   "cell_type": "markdown",
   "id": "c87c07f9-08ba-4ceb-8f37-3b06e7ab5d9a",
   "metadata": {},
   "source": [
    "### 0. Define name process"
   ]
  },
  {
   "cell_type": "code",
   "execution_count": null,
   "id": "8eb284aa-6042-4fd6-b952-c537f5aa3de1",
   "metadata": {},
   "outputs": [],
   "source": [
    "name_process = 'process_c'"
   ]
  },
  {
   "cell_type": "code",
   "execution_count": null,
   "id": "2dbca3ea-374b-4595-b8af-1e07048b7ab6",
   "metadata": {},
   "outputs": [],
   "source": []
  },
  {
   "cell_type": "markdown",
   "id": "f42f283e-afc8-42bf-b79f-70dd9384f88a",
   "metadata": {},
   "source": [
    "### 1. Read data"
   ]
  },
  {
   "cell_type": "code",
   "execution_count": null,
   "id": "94f5ebfa-7a85-4137-8e4b-84a2c7a70b66",
   "metadata": {},
   "outputs": [],
   "source": []
  },
  {
   "cell_type": "code",
   "execution_count": null,
   "id": "4202f9dc-353a-4f4d-9f99-a6119a6980df",
   "metadata": {},
   "outputs": [],
   "source": [
    "# load X_train\n",
    "path_X_train = f'artifacts/data_training/{name_process}/X_train.pkl'\n",
    "X_train = pd.read_pickle(path_X_train)\n",
    "\n",
    "# load y_train\n",
    "path_y_train = f'artifacts/data_training/{name_process}/y_train.pkl'\n",
    "y_train = pd.read_pickle(path_y_train)\n",
    "\n",
    "\n",
    "# ---\n",
    "# load X_test\n",
    "path_X_test = f'artifacts/data_training/{name_process}/X_test.pkl'\n",
    "X_test = pd.read_pickle(path_X_test)\n",
    "\n",
    "# load y_test\n",
    "path_y_test = f'artifacts/data_training/{name_process}/y_test.pkl'\n",
    "y_test = pd.read_pickle(path_y_test)"
   ]
  },
  {
   "cell_type": "code",
   "execution_count": null,
   "id": "d504ba99-462f-4d19-91ba-eece7996161a",
   "metadata": {},
   "outputs": [],
   "source": [
    "print('shape data')\n",
    "print('\\n --- TRAIN ---')\n",
    "print('X_train: ', X_train.shape)\n",
    "print('y_train: ', y_train.shape)\n",
    "\n",
    "print('\\n --- TEST ---')\n",
    "print('X_test: ', X_test.shape)\n",
    "print('y_test: ', y_test.shape)"
   ]
  },
  {
   "cell_type": "code",
   "execution_count": null,
   "id": "57f08036-8436-4de9-ab8e-3ac07b145c07",
   "metadata": {},
   "outputs": [],
   "source": []
  },
  {
   "cell_type": "markdown",
   "id": "e2a1f869-31b5-455e-81ed-7baf03979836",
   "metadata": {},
   "source": [
    "### 2. Read master tags data for this process. Sort features used to train according this order"
   ]
  },
  {
   "cell_type": "code",
   "execution_count": null,
   "id": "18985c54-b5b1-4ea4-8499-69e0be720e49",
   "metadata": {},
   "outputs": [],
   "source": [
    "### read master table - list tags\n",
    "path_maestro_tags_d0eop = f'config/config_ml_models_development/MasterTable_{name_process}.xlsx'\n",
    "maestro_tags = pd.read_excel(path_maestro_tags_d0eop)\n",
    "maestro_tags"
   ]
  },
  {
   "cell_type": "code",
   "execution_count": null,
   "id": "18e6df51-6b06-4795-bdd3-d0fc2d04fe8b",
   "metadata": {},
   "outputs": [],
   "source": []
  },
  {
   "cell_type": "markdown",
   "id": "40489074-f68d-4806-a477-f3374782e69c",
   "metadata": {},
   "source": [
    "### 2. Define target according master table\n",
    "In the master table with the list of features and target, it is possible that there are a lot of features and differents models with differents subsets of features could be trained. In the list defined bellow there are the features used in the trainning and there are the features that will be saved as output of training"
   ]
  },
  {
   "cell_type": "code",
   "execution_count": null,
   "id": "4875dca9-bd46-49cc-a148-e18021ec0e68",
   "metadata": {},
   "outputs": [],
   "source": [
    "list_target = ['Y2']\n",
    "list_target"
   ]
  },
  {
   "cell_type": "code",
   "execution_count": null,
   "id": "b1993dff-bfb9-4798-bb88-9faec6524479",
   "metadata": {},
   "outputs": [],
   "source": []
  },
  {
   "cell_type": "markdown",
   "id": "6c936d94-063c-48e3-a82a-15088a90dbe4",
   "metadata": {},
   "source": [
    "### 3. Define features and sort it acording master table\n",
    "In the master table with the list of features and target, it is possible that there are a lot of features and differents models with differents subsets of features could be trained. In the list defined bellow there are the features used in the trainning and there are the features that will be saved as output of training"
   ]
  },
  {
   "cell_type": "code",
   "execution_count": null,
   "id": "9fab4a8f-13a9-4f36-aa7d-cebe63e8d66a",
   "metadata": {},
   "outputs": [],
   "source": [
    "# mnaully set list of features used in training\n",
    "list_features = ['X3', 'O7']"
   ]
  },
  {
   "cell_type": "code",
   "execution_count": null,
   "id": "34554a77-fca0-454a-b4b5-8e270b1c3a7d",
   "metadata": {},
   "outputs": [],
   "source": [
    "### sort list of features according the order in master table\n",
    "\n",
    "list_features = [tag for tag in maestro_tags['TAG'].tolist() if tag in list_features]\n",
    "list_features"
   ]
  },
  {
   "cell_type": "code",
   "execution_count": null,
   "id": "9db433ea-3217-4d5b-96cd-27b64a6c0747",
   "metadata": {},
   "outputs": [],
   "source": []
  },
  {
   "cell_type": "markdown",
   "id": "fb3ac8d5-8625-451f-9949-080d9c408017",
   "metadata": {},
   "source": [
    "# Modeling process C - It is a custom model that need to be written in gurobi direcly - doesn't apply machine learning model"
   ]
  },
  {
   "cell_type": "code",
   "execution_count": null,
   "id": "08effd1c-5e33-4d62-88ae-14297560b0d5",
   "metadata": {},
   "outputs": [],
   "source": [
    "# parametes alpha\n",
    "alpha_feature_1 = 1/5\n",
    "alpha_feature_2 = 15"
   ]
  },
  {
   "cell_type": "code",
   "execution_count": null,
   "id": "2b2d46d6-7b4e-4a33-973f-d187f53fc4c6",
   "metadata": {},
   "outputs": [],
   "source": [
    "target_predicted = alpha_feature_1 * X_train['X3'] + alpha_feature_2 * X_train['O7']\n",
    "target_predicted"
   ]
  },
  {
   "cell_type": "code",
   "execution_count": null,
   "id": "525216aa-25b3-4301-ae9e-7ae800483bc5",
   "metadata": {},
   "outputs": [],
   "source": [
    "y_train"
   ]
  },
  {
   "cell_type": "code",
   "execution_count": null,
   "id": "6c95a00d-9112-4626-a846-46b908b36f54",
   "metadata": {},
   "outputs": [],
   "source": [
    "from sklearn.metrics import r2_score\n",
    "r2_score(target_predicted, y_train) # r2 = 1 if the value generated using the formula are equal to target. In this example always r2 = 1 because the data was generate to achieve that"
   ]
  },
  {
   "cell_type": "code",
   "execution_count": null,
   "id": "3dd41159-e1da-4e89-baf2-4a62b809c57a",
   "metadata": {},
   "outputs": [],
   "source": []
  },
  {
   "cell_type": "code",
   "execution_count": null,
   "id": "e776f832-1ca3-4940-97a3-c45a95820358",
   "metadata": {},
   "outputs": [],
   "source": []
  },
  {
   "cell_type": "code",
   "execution_count": null,
   "id": "013d16cc-a8fd-4c35-8ceb-4bb729a48c72",
   "metadata": {},
   "outputs": [],
   "source": []
  },
  {
   "cell_type": "markdown",
   "id": "6094c7ba-74a8-4adc-b9cd-ddf7bb5f3db5",
   "metadata": {},
   "source": [
    "## SAVE OUTPUTS TRAINING\n",
    "Save the map altough no machine learning model was trained. But the features and target for the formula model is also mapped"
   ]
  },
  {
   "cell_type": "markdown",
   "id": "ab989a4b-d162-4e1d-94b6-825766e35d65",
   "metadata": {},
   "source": [
    "### 1. Save artifact model. In this case there is not a ml model. The factor of each feature is saved in a excel instead of pkl model"
   ]
  },
  {
   "cell_type": "code",
   "execution_count": null,
   "id": "6f28139e-c288-4e90-bf23-950b98410f2f",
   "metadata": {},
   "outputs": [],
   "source": [
    "#### generate excel with the formula to custom model\n",
    "artifact_model = pd.DataFrame()\n",
    "artifact_model['feature_name'] = list_features # add list features\n",
    "artifact_model['factor_model'] = [alpha_feature_1, alpha_feature_2] # add list of factor for each feature\n",
    "artifact_model"
   ]
  },
  {
   "cell_type": "code",
   "execution_count": null,
   "id": "80957038-68df-4841-ab7d-4cd7b6461529",
   "metadata": {},
   "outputs": [],
   "source": [
    "# save excel\n",
    "path_model = f'artifacts/models/{name_process}/model.xlsx'\n",
    "artifact_model.to_excel(path_model, index = False)"
   ]
  },
  {
   "cell_type": "code",
   "execution_count": null,
   "id": "ce26f369-fb81-4ae1-aa06-733d1cd3477b",
   "metadata": {},
   "outputs": [],
   "source": []
  },
  {
   "cell_type": "code",
   "execution_count": null,
   "id": "0f91eda4-0dc3-4540-8056-5b1e224812e3",
   "metadata": {},
   "outputs": [],
   "source": []
  },
  {
   "cell_type": "markdown",
   "id": "882e3203-8e39-4f73-9cf8-b8f71f3df97c",
   "metadata": {},
   "source": [
    "### 2. Save list of features\n",
    "Save table master tag only with the tags used to train the model. \n",
    "\n",
    "OBS IMPORTANT: remember that the list of features was sorted according the master table so this order was used to train. Also this table has the differentation between no-controlable, controlable and targer variables"
   ]
  },
  {
   "cell_type": "code",
   "execution_count": null,
   "id": "6c98577a-039e-427f-9f6f-5ba642efbb3b",
   "metadata": {},
   "outputs": [],
   "source": [
    "# generate a list of features + target\n",
    "list_features_target = list_features + list_target\n",
    "\n",
    "# filter master tag with only the features+target used to train the ml models\n",
    "maestro_tags = maestro_tags[maestro_tags['TAG'].isin(list_features_target)]\n",
    "maestro_tags = maestro_tags.reset_index().drop(columns = 'index')"
   ]
  },
  {
   "cell_type": "code",
   "execution_count": null,
   "id": "c2115fda-99d3-4010-87ca-3e9ef981cd83",
   "metadata": {},
   "outputs": [],
   "source": [
    "# save master in config folder that will used to create the optimization engine\n",
    "path_list_features_target_to_optimization = f'config/optimization_engine/ml_models/MasterTable_{name_process}.xlsx'\n",
    "maestro_tags.to_excel(path_list_features_target_to_optimization, index = False)"
   ]
  },
  {
   "cell_type": "code",
   "execution_count": null,
   "id": "b004a27a-9023-4602-809c-acfbe2435314",
   "metadata": {},
   "outputs": [],
   "source": []
  },
  {
   "cell_type": "markdown",
   "id": "1e188277-c5c8-4dcc-9a6a-4887625ff03a",
   "metadata": {},
   "source": [
    "### 3. Save example input"
   ]
  },
  {
   "cell_type": "code",
   "execution_count": null,
   "id": "7e38d6eb-855d-45b0-aadb-760b48bc9c51",
   "metadata": {},
   "outputs": [],
   "source": [
    "# example input\n",
    "example_input = X_train.head(1)\n",
    "example_input"
   ]
  },
  {
   "cell_type": "code",
   "execution_count": null,
   "id": "66268d71-67ce-43dd-b743-02f8be1a5370",
   "metadata": {},
   "outputs": [],
   "source": [
    "# save example input\n",
    "\n",
    "path_example_input_ml_model = f'config/optimization_engine/ml_models/{name_process}-example-input-model.xlsx'\n",
    "example_input.to_excel(path_example_input_ml_model)"
   ]
  },
  {
   "cell_type": "code",
   "execution_count": null,
   "id": "136a4beb-7e07-44d6-bcfa-6728d7711c4a",
   "metadata": {},
   "outputs": [],
   "source": []
  }
 ],
 "metadata": {
  "kernelspec": {
   "display_name": "Python 3 (ipykernel)",
   "language": "python",
   "name": "python3"
  },
  "language_info": {
   "codemirror_mode": {
    "name": "ipython",
    "version": 3
   },
   "file_extension": ".py",
   "mimetype": "text/x-python",
   "name": "python",
   "nbconvert_exporter": "python",
   "pygments_lexer": "ipython3",
   "version": "3.10.14"
  }
 },
 "nbformat": 4,
 "nbformat_minor": 5
}
