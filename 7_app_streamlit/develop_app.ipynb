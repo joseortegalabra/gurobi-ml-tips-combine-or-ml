{
 "cells": [
  {
   "cell_type": "markdown",
   "id": "4dc82011-5051-44fe-878e-60cbbd43875f",
   "metadata": {},
   "source": [
    "# Gurobi develop app ML TIPS - PROCESS - TANKS"
   ]
  },
  {
   "cell_type": "code",
   "execution_count": null,
   "id": "2ea7738d-33fe-4a3c-a8d3-f131c259c9c2",
   "metadata": {},
   "outputs": [],
   "source": [
    "import pickle\n",
    "import pandas as pd\n",
    "import numpy as np\n",
    "import json\n",
    "import gurobipy_pandas as gppd\n",
    "from gurobi_ml import add_predictor_constr\n",
    "import gurobipy as gp\n",
    "import plotly.graph_objects as go\n",
    "\n",
    "from optimization_engine import optimization_engine"
   ]
  },
  {
   "cell_type": "code",
   "execution_count": null,
   "id": "5f5e5d67-4de1-487b-98eb-dbb9044d7d24",
   "metadata": {},
   "outputs": [],
   "source": []
  },
  {
   "cell_type": "code",
   "execution_count": null,
   "id": "6e363369-50fc-4c27-a594-289e5c2eb46f",
   "metadata": {},
   "outputs": [],
   "source": []
  },
  {
   "cell_type": "markdown",
   "id": "09eeb8af-89b9-4db8-b879-8c47d6024697",
   "metadata": {},
   "source": [
    "## I) Read env variables"
   ]
  },
  {
   "cell_type": "code",
   "execution_count": null,
   "id": "952fd7e6-61ba-40a3-8f70-facfeef0e8dd",
   "metadata": {},
   "outputs": [],
   "source": [
    "import os\n",
    "from dotenv import load_dotenv, find_dotenv # package used in jupyter notebook to read the variables in file .env\n",
    "\n",
    "\"\"\" get env variable from .env \"\"\"\n",
    "load_dotenv(find_dotenv())\n",
    "\n",
    "\"\"\" Read env variables and save it as python variable \"\"\"\n",
    "WLSACCESSID = os.environ.get(\"WLSACCESSID\", \"\")\n",
    "WLSSECRET = os.environ.get(\"WLSSECRET\", \"\")\n",
    "LICENSEID = int(os.environ.get(\"LICENSEID\", \"\"))\n",
    "PROJECT_GCP = os.environ.get(\"PROJECT_GCP\", \"\")"
   ]
  },
  {
   "cell_type": "code",
   "execution_count": null,
   "id": "f7313d52-80c7-4158-894f-464747c558e6",
   "metadata": {},
   "outputs": [],
   "source": []
  },
  {
   "cell_type": "markdown",
   "id": "c7390f90-d01a-402c-8b46-358efd53161a",
   "metadata": {},
   "source": [
    "## II) LOAD LICENCE GUROBI - using env variables"
   ]
  },
  {
   "cell_type": "code",
   "execution_count": null,
   "id": "395d1c1a-1787-401c-ad00-103c8b5f9f36",
   "metadata": {},
   "outputs": [],
   "source": [
    "import gurobipy as gp\n",
    "params = {\n",
    "\"WLSACCESSID\": WLSACCESSID,\n",
    "\"WLSSECRET\": WLSSECRET,\n",
    "\"LICENSEID\": LICENSEID\n",
    "}\n",
    "env = gp.Env(params=params)"
   ]
  },
  {
   "cell_type": "code",
   "execution_count": null,
   "id": "414bf5f8-3045-409c-9c35-2cd92e38a24b",
   "metadata": {},
   "outputs": [],
   "source": []
  },
  {
   "cell_type": "code",
   "execution_count": null,
   "id": "f13dc83a-84fa-43c6-a95f-9950d3f5f061",
   "metadata": {},
   "outputs": [],
   "source": []
  },
  {
   "cell_type": "code",
   "execution_count": null,
   "id": "fe000d94-8818-46fa-aad1-8f4ec76e9877",
   "metadata": {},
   "outputs": [],
   "source": []
  },
  {
   "cell_type": "markdown",
   "id": "4b684649-9c8e-4e45-bff3-91348b6c1680",
   "metadata": {},
   "source": [
    "## III) FORM STREAMLIT INGRESS DATA\n",
    "\n",
    "### LOAD DATA - INPUT VALUES - USER"
   ]
  },
  {
   "cell_type": "markdown",
   "id": "8c398ebd-7f0e-480b-8780-54bd6d19765f",
   "metadata": {},
   "source": [
    "### I) Initial values"
   ]
  },
  {
   "cell_type": "code",
   "execution_count": null,
   "id": "a279506d-4bd6-4725-aa67-57bbd92cbbd3",
   "metadata": {},
   "outputs": [],
   "source": [
    "####### INITIAL VALUES\n",
    "input_X1_initial = 50\n",
    "input_O1_initial = 50\n",
    "input_O2_initial = 50\n",
    "input_O3_initial = 50\n",
    "\n",
    "input_O4_initial = 200\n",
    "\n",
    "input_X2_initial = 5\n",
    "input_O5_initial = 5\n",
    "input_O6_initial = 5\n",
    "\n",
    "input_X3_initial = 5\n",
    "input_O7_initial = 4\n",
    "\n",
    "input_TL1_initial = 500\n",
    "input_TL2_initial = 500\n",
    "input_TL3_initial = 500"
   ]
  },
  {
   "cell_type": "code",
   "execution_count": null,
   "id": "942702bc-edff-44cb-bae1-8cda94663f58",
   "metadata": {},
   "outputs": [],
   "source": []
  },
  {
   "cell_type": "markdown",
   "id": "7d705df2-2bbd-4398-8f34-616ff3d245ba",
   "metadata": {},
   "source": [
    "### II) Lower bound, upper bound and rate change\n",
    "In this example, only primary, target, secondary variables and tank level have defined lower bound, upper bound and rate change. So, the observed variable hasn't defined that"
   ]
  },
  {
   "cell_type": "code",
   "execution_count": null,
   "id": "c83e23a5-ef69-4c6f-bde4-d02338cd9210",
   "metadata": {},
   "outputs": [],
   "source": [
    "# X1\n",
    "input_X1_lower_bound = 0\n",
    "input_X1_upper_bound = 1000\n",
    "input_X1_rate_change = 100\n",
    "\t\t\n",
    "# Y1\n",
    "input_Y1_lower_bound = 0\n",
    "input_Y1_upper_bound = 400\n",
    "input_Y1_rate_change = 100\n",
    "\t\t\n",
    "# Z1\n",
    "input_Z1_lower_bound = 0\n",
    "input_Z1_upper_bound = 1000\n",
    "input_Z1_rate_change = 100\n",
    "\t\t\n",
    "# X2\n",
    "input_X2_lower_bound = 0\n",
    "input_X2_upper_bound = 1000\n",
    "input_X2_rate_change = 100\n",
    "\n",
    "# Y2\n",
    "input_Y2_lower_bound = 0\n",
    "input_Y2_upper_bound = 500\n",
    "input_Y2_rate_change = 100\n",
    "\n",
    "# Y3\n",
    "input_Y3_lower_bound = 0\n",
    "input_Y3_upper_bound = 450\n",
    "input_Y3_rate_change = 100\n",
    "\n",
    "# X3\n",
    "input_X3_lower_bound = 0\n",
    "input_X3_upper_bound = 1500\n",
    "input_X3_rate_change = 100\n",
    "\n",
    "# TL1\n",
    "input_TL1_lower_bound = 100\n",
    "input_TL1_upper_bound = 20000\n",
    "input_TL1_rate_change = 100\n",
    "\n",
    "# TL2\n",
    "input_TL2_lower_bound = 100\n",
    "input_TL2_upper_bound = 20000\n",
    "input_TL2_rate_change = 100\n",
    "\n",
    "# TL3\n",
    "input_TL3_lower_bound = 100\n",
    "input_TL3_upper_bound = 20000\n",
    "input_TL3_rate_change = 100"
   ]
  },
  {
   "cell_type": "code",
   "execution_count": null,
   "id": "cd1d3534-25c0-4b7b-91e5-2dc6bbf068f3",
   "metadata": {},
   "outputs": [],
   "source": []
  },
  {
   "cell_type": "code",
   "execution_count": null,
   "id": "0968ba2e-45f2-4819-a195-582b3df1a02e",
   "metadata": {},
   "outputs": [],
   "source": []
  },
  {
   "cell_type": "code",
   "execution_count": null,
   "id": "cef41e66-9247-4a91-9690-34e7c7f001dc",
   "metadata": {},
   "outputs": [],
   "source": []
  },
  {
   "cell_type": "markdown",
   "id": "f58d2e3f-bd33-4b26-9fe4-271db1e3f888",
   "metadata": {},
   "source": [
    "## IV) IF THE USER INGRESS THE INFORMATION (SUBMIT BUTTON IN FORM)\n",
    "### GENERATE DATAFRAMES AND RUN OPTIMIZATION ENGINE"
   ]
  },
  {
   "cell_type": "markdown",
   "id": "7c5d4e3b-cdab-474a-bc2d-ae9ff6647104",
   "metadata": {},
   "source": [
    "### I) Initial values\n",
    "The initial values by default is a excel file read as dataframe. So, for this example the dataframe is recreated"
   ]
  },
  {
   "cell_type": "code",
   "execution_count": null,
   "id": "c3a0b85c-b2a0-406d-9544-cbef810b0840",
   "metadata": {},
   "outputs": [],
   "source": [
    "#################### read original initial values - default excel file\n",
    "# paths and file names\n",
    "path_folder_config_optimization = f'config/optimization_engine/config_optimization/'\n",
    "file_initvalues = 'InitialValues.xlsx'\n",
    "path_initvalues = path_folder_config_optimization + file_initvalues\n",
    "\n",
    "# read file\n",
    "config_initvalues = pd.read_excel(path_initvalues)\n",
    "\n",
    "\n",
    "#################### update values with the input values\n",
    "config_initvalues.loc[config_initvalues['feature_name'] == 'X1', 'init_values'] = input_X1_initial\n",
    "config_initvalues.loc[config_initvalues['feature_name'] == 'O1', 'init_values'] = input_O1_initial\n",
    "config_initvalues.loc[config_initvalues['feature_name'] == 'O2', 'init_values'] = input_O2_initial\n",
    "config_initvalues.loc[config_initvalues['feature_name'] == 'O3', 'init_values'] = input_O3_initial\n",
    "\n",
    "config_initvalues.loc[config_initvalues['feature_name'] == 'O4', 'init_values'] = input_O4_initial\n",
    "\n",
    "config_initvalues.loc[config_initvalues['feature_name'] == 'X2', 'init_values'] = input_X2_initial\n",
    "config_initvalues.loc[config_initvalues['feature_name'] == 'O5', 'init_values'] = input_O5_initial\n",
    "config_initvalues.loc[config_initvalues['feature_name'] == 'O6', 'init_values'] = input_O6_initial\n",
    "\n",
    "config_initvalues.loc[config_initvalues['feature_name'] == 'X3', 'init_values'] = input_X3_initial\n",
    "config_initvalues.loc[config_initvalues['feature_name'] == 'O7', 'init_values'] = input_O7_initial\n",
    "\n",
    "config_initvalues.loc[config_initvalues['feature_name'] == 'TL1', 'init_values'] = input_TL1_initial\n",
    "config_initvalues.loc[config_initvalues['feature_name'] == 'TL2', 'init_values'] = input_TL2_initial\n",
    "config_initvalues.loc[config_initvalues['feature_name'] == 'TL3', 'init_values'] = input_TL3_initial"
   ]
  },
  {
   "cell_type": "code",
   "execution_count": null,
   "id": "43cb0d3b-84b5-4ebf-9ab3-82ea54867721",
   "metadata": {},
   "outputs": [],
   "source": []
  },
  {
   "cell_type": "markdown",
   "id": "efb10c15-c178-46d1-969e-8dcf9a9f0725",
   "metadata": {},
   "source": [
    "### II) Lower bound, upper bound and rate change\n",
    "The lower, upper and rate change by default is a excel file read as dataframe. So, for this example the dataframe is recreated"
   ]
  },
  {
   "cell_type": "code",
   "execution_count": null,
   "id": "f157992b-58e1-4030-af71-45e2c8f059a9",
   "metadata": {},
   "outputs": [],
   "source": [
    "#################### read original initial values - default excel file\n",
    "# paths and file names\n",
    "path_folder_config_optimization = f'config/optimization_engine/config_optimization/'\n",
    "file_allvariables = 'AllVariables.xlsx'\n",
    "path_allvariables = path_folder_config_optimization + file_allvariables\n",
    "\n",
    "# read file\n",
    "config_allvariables = pd.read_excel(path_allvariables)\n",
    "\n",
    "\n",
    "#################### update values with the input values\n",
    "# X1\n",
    "config_allvariables.loc[config_initvalues['feature_name'] == 'X1', 'lower'] = input_X1_lower_bound\n",
    "config_allvariables.loc[config_initvalues['feature_name'] == 'X1', 'upper'] = input_X1_upper_bound\n",
    "config_allvariables.loc[config_initvalues['feature_name'] == 'X1', 'rate_change'] = input_X1_rate_change\n",
    "\t\t\n",
    "# Y1\n",
    "config_allvariables.loc[config_initvalues['feature_name'] == 'Y1', 'lower'] = input_Y1_lower_bound\n",
    "config_allvariables.loc[config_initvalues['feature_name'] == 'Y1', 'upper'] = input_Y1_upper_bound\n",
    "config_allvariables.loc[config_initvalues['feature_name'] == 'Y1', 'rate_change'] = input_Y1_rate_change\n",
    "\t\t\n",
    "# Z1\n",
    "config_allvariables.loc[config_initvalues['feature_name'] == 'Z1', 'lower'] = input_Z1_lower_bound\n",
    "config_allvariables.loc[config_initvalues['feature_name'] == 'Z1', 'upper'] = input_Z1_upper_bound\n",
    "config_allvariables.loc[config_initvalues['feature_name'] == 'Z1', 'rate_change'] = input_Z1_rate_change\n",
    "\t\t\n",
    "# X2\n",
    "config_allvariables.loc[config_initvalues['feature_name'] == 'X2', 'lower'] = input_X2_lower_bound\n",
    "config_allvariables.loc[config_initvalues['feature_name'] == 'X2', 'upper'] = input_X2_upper_bound\n",
    "config_allvariables.loc[config_initvalues['feature_name'] == 'X2', 'rate_change'] = input_X2_rate_change\n",
    "\n",
    "# Y2\n",
    "config_allvariables.loc[config_initvalues['feature_name'] == 'Y2', 'lower'] = input_Y2_lower_bound\n",
    "config_allvariables.loc[config_initvalues['feature_name'] == 'Y2', 'upper'] = input_Y2_upper_bound\n",
    "config_allvariables.loc[config_initvalues['feature_name'] == 'Y2', 'rate_change'] = input_Y2_rate_change\n",
    "\n",
    "# Y3\n",
    "config_allvariables.loc[config_initvalues['feature_name'] == 'Y3', 'lower'] = input_Y3_lower_bound\n",
    "config_allvariables.loc[config_initvalues['feature_name'] == 'Y3', 'upper'] = input_Y3_upper_bound\n",
    "config_allvariables.loc[config_initvalues['feature_name'] == 'Y3', 'rate_change'] = input_Y3_rate_change\n",
    "\n",
    "# X3\n",
    "config_allvariables.loc[config_initvalues['feature_name'] == 'X3', 'lower'] = input_X3_lower_bound\n",
    "config_allvariables.loc[config_initvalues['feature_name'] == 'X3', 'upper'] = input_X3_upper_bound\n",
    "config_allvariables.loc[config_initvalues['feature_name'] == 'X3', 'rate_change'] = input_X3_rate_change\n",
    "\n",
    "# TL1\n",
    "config_allvariables.loc[config_initvalues['feature_name'] == 'TL1', 'lower'] = input_TL1_lower_bound\n",
    "config_allvariables.loc[config_initvalues['feature_name'] == 'TL1', 'upper'] = input_TL1_upper_bound\n",
    "config_allvariables.loc[config_initvalues['feature_name'] == 'TL1', 'rate_change'] = input_TL1_rate_change\n",
    "\n",
    "# TL2\n",
    "config_allvariables.loc[config_initvalues['feature_name'] == 'TL2', 'lower'] = input_TL2_lower_bound\n",
    "config_allvariables.loc[config_initvalues['feature_name'] == 'TL2', 'upper'] = input_TL2_upper_bound\n",
    "config_allvariables.loc[config_initvalues['feature_name'] == 'TL2', 'rate_change'] = input_TL2_rate_change\n",
    "\n",
    "# TL3\n",
    "config_allvariables.loc[config_initvalues['feature_name'] == 'TL3', 'lower'] = input_TL3_lower_bound\n",
    "config_allvariables.loc[config_initvalues['feature_name'] == 'TL3', 'upper'] = input_TL3_upper_bound\n",
    "config_allvariables.loc[config_initvalues['feature_name'] == 'TL3', 'rate_change'] = input_TL3_rate_change"
   ]
  },
  {
   "cell_type": "code",
   "execution_count": null,
   "id": "9c1b548b-d50e-4f6d-b251-f8480d1b2fa0",
   "metadata": {},
   "outputs": [],
   "source": [
    "config_allvariables"
   ]
  },
  {
   "cell_type": "code",
   "execution_count": null,
   "id": "802c5de9-3d93-472f-8884-d2344bb0d8bc",
   "metadata": {},
   "outputs": [],
   "source": []
  },
  {
   "cell_type": "code",
   "execution_count": null,
   "id": "ffec8d3f-86a2-424f-a318-d2ea1e4e702e",
   "metadata": {},
   "outputs": [],
   "source": []
  },
  {
   "cell_type": "code",
   "execution_count": null,
   "id": "76717090-2904-4402-bb90-d92fbaafe34c",
   "metadata": {},
   "outputs": [],
   "source": []
  },
  {
   "cell_type": "markdown",
   "id": "a88d5cfa-efee-436f-9f30-696a23517824",
   "metadata": {},
   "source": [
    "## V) LOAD CONFIGURATION FILES FOR OPTIMIZER"
   ]
  },
  {
   "cell_type": "markdown",
   "id": "3d51a054-db3f-4438-84bd-c63de2ee3486",
   "metadata": {},
   "source": [
    "#### 1.1. IndexTime file"
   ]
  },
  {
   "cell_type": "code",
   "execution_count": null,
   "id": "42a3e81f-d09c-4594-a2c9-bfbba578df46",
   "metadata": {},
   "outputs": [],
   "source": [
    "#################### define set ####################\n",
    "\n",
    "## paths and files names\n",
    "path_folder_config_optimization = f'config/optimization_engine/config_optimization/'\n",
    "file_indextime = 'IndexTime.xlsx'\n",
    "path_indextime = path_folder_config_optimization + file_indextime\n",
    "\n",
    "# read file\n",
    "indextime = pd.read_excel(path_indextime)\n",
    "\n",
    "# set index\n",
    "index_set_time = pd.Index(indextime['IndexTime'].values)"
   ]
  },
  {
   "cell_type": "code",
   "execution_count": null,
   "id": "74df9082-d4f4-4e58-a882-91b24dcff96c",
   "metadata": {},
   "outputs": [],
   "source": []
  },
  {
   "cell_type": "markdown",
   "id": "53522809-f1e5-442e-947f-71980e87beba",
   "metadata": {},
   "source": [
    "#### 1.2 Decision variables"
   ]
  },
  {
   "cell_type": "code",
   "execution_count": null,
   "id": "12d9f963-8786-4775-ab56-2dfaf9af71de",
   "metadata": {},
   "outputs": [],
   "source": [
    "# CREATED USING USER INPUTS"
   ]
  },
  {
   "cell_type": "code",
   "execution_count": null,
   "id": "417ec28b-3399-4dfb-b07d-b950e744550a",
   "metadata": {},
   "outputs": [],
   "source": []
  },
  {
   "cell_type": "markdown",
   "id": "0bbed8ab-6ec1-466c-8d56-becfb64ecc00",
   "metadata": {},
   "source": [
    "#### 1.3 Initial Values"
   ]
  },
  {
   "cell_type": "code",
   "execution_count": null,
   "id": "71f23046-ffaf-4cbf-9c06-333403c1c85e",
   "metadata": {},
   "outputs": [],
   "source": [
    "# CREATED USING USER INPUTS"
   ]
  },
  {
   "cell_type": "code",
   "execution_count": null,
   "id": "5b378f62-5822-466c-9b04-92cb9fc06ed8",
   "metadata": {},
   "outputs": [],
   "source": []
  },
  {
   "cell_type": "markdown",
   "id": "8c2ac6b4-98e5-44d4-88e5-9e72c1a27c05",
   "metadata": {},
   "source": [
    "#### 1.4 Define models to load"
   ]
  },
  {
   "cell_type": "code",
   "execution_count": null,
   "id": "82e30766-6685-4120-acab-e9c7761e0898",
   "metadata": {},
   "outputs": [],
   "source": [
    "#################### define initial values ####################\n",
    "\n",
    "# paths and file names\n",
    "path_folder_config_optimization = f'config/optimization_engine/config_optimization/'\n",
    "file_modelsml = 'ModelsML.xlsx'\n",
    "path_modelsml = path_folder_config_optimization + file_modelsml\n",
    "\n",
    "# read file\n",
    "config_modelsml = pd.read_excel(path_modelsml)"
   ]
  },
  {
   "cell_type": "code",
   "execution_count": null,
   "id": "7cbc8400-c929-4beb-a6eb-65bbe2a65ff4",
   "metadata": {},
   "outputs": [],
   "source": []
  },
  {
   "cell_type": "markdown",
   "id": "5ba077a4-61be-48ca-9170-f459e2ee6a93",
   "metadata": {},
   "source": [
    "#### 1.5 Map tanks"
   ]
  },
  {
   "cell_type": "code",
   "execution_count": null,
   "id": "156964a7-6205-4e48-a2b6-0ea17ca3f97d",
   "metadata": {},
   "outputs": [],
   "source": [
    "#################### define map input outputs each tank ####################\n",
    "\n",
    "# paths and file names\n",
    "path_folder_config_optimization = f'config/optimization_engine/config_optimization/'\n",
    "file_maptanks = 'MapTanks.xlsx'\n",
    "path_maptanks = path_folder_config_optimization + file_maptanks\n",
    "\n",
    "# read file\n",
    "config_maptanks = pd.read_excel(path_maptanks)"
   ]
  },
  {
   "cell_type": "code",
   "execution_count": null,
   "id": "21c01e9a-8244-47c5-9538-6e0c05e9eb9f",
   "metadata": {},
   "outputs": [],
   "source": []
  },
  {
   "cell_type": "markdown",
   "id": "3e27048e-df1b-46a0-b3ca-0270fcaac161",
   "metadata": {},
   "source": [
    "#### 1.6 Map process Machine learning models features and target"
   ]
  },
  {
   "cell_type": "code",
   "execution_count": null,
   "id": "4e8059f9-597e-44d0-bd74-83b9e1914006",
   "metadata": {},
   "outputs": [],
   "source": [
    "#################### define map features and targer of each model for each process ####################\n",
    "\n",
    "# paths and file names\n",
    "path_folder_config_optimization = f'config/optimization_engine/config_optimization/'\n",
    "file_mapprocess_mlmodels = 'MapProcessMLmodels.xlsx'\n",
    "path_mapprocess_mlmodels = path_folder_config_optimization + file_mapprocess_mlmodels\n",
    "\n",
    "# read filemapprocess_mlmodels\n",
    "config_mapprocess_mlmodels = pd.read_excel(path_mapprocess_mlmodels)"
   ]
  },
  {
   "cell_type": "code",
   "execution_count": null,
   "id": "b217a22b-77ea-4f5f-8be4-fb4455712420",
   "metadata": {},
   "outputs": [],
   "source": []
  },
  {
   "cell_type": "code",
   "execution_count": null,
   "id": "d7d9d1f1-fee8-4288-b5fc-1be02c1bda94",
   "metadata": {},
   "outputs": [],
   "source": []
  },
  {
   "cell_type": "markdown",
   "id": "dec2d181-1424-455f-b7a1-2b35ad47fbfa",
   "metadata": {},
   "source": [
    "## VI) RUN OPTIMIZATION"
   ]
  },
  {
   "cell_type": "markdown",
   "id": "e405c381-fce1-43da-9e0b-8966cfd826c6",
   "metadata": {},
   "source": [
    "#### i) Define parameters used to relax constraints (if it is necessary)"
   ]
  },
  {
   "cell_type": "code",
   "execution_count": null,
   "id": "3c368f1c-bccc-4925-b981-60620fceaae9",
   "metadata": {},
   "outputs": [],
   "source": [
    "# define list of decision vars that will have change in its rate change\n",
    "list_tags_to_relax_constraints = ['TL1', 'TL2', 'TL3']\n",
    "\n",
    "# define factor (percent = 0.1) to change the rate change of the decision vars. \n",
    "# In this example all the decision var masked will change its value in the same factor\n",
    "param_factor_relax_constraints = 0.1\n",
    "factor_relax_constraints = 1 + param_factor_relax_constraints"
   ]
  },
  {
   "cell_type": "code",
   "execution_count": null,
   "id": "449f2a76-4de7-4c36-8de9-cea95f87c1e5",
   "metadata": {},
   "outputs": [],
   "source": []
  },
  {
   "cell_type": "markdown",
   "id": "4287c818-7c44-47a0-bd7e-9e5a99a8a8dc",
   "metadata": {},
   "source": [
    "#### ii) run optimization"
   ]
  },
  {
   "cell_type": "code",
   "execution_count": null,
   "id": "c8f8b9dd-558b-43ee-9358-caf2faf31106",
   "metadata": {},
   "outputs": [],
   "source": [
    "######## do while. do define status solver // while status solver != 2 relaxing contrainsts (rate of change decision variables) until get a solution\n",
    "# initialize status\n",
    "status_solver = 0\n",
    "\n",
    "# initialize count iterations of relaxing constraints\n",
    "index_count_while = 0\n",
    "max_interations_relaxing_constraints = 40\n",
    "\n",
    "# initiliaze values of constraints to relax\n",
    "to_solver_config_allvariables = config_allvariables.copy()\n",
    "\n",
    "\n",
    "\n",
    "while (status_solver != 2) & (index_count_while <=max_interations_relaxing_constraints):\n",
    "    print('\\n\\n\\n index while: ', index_count_while)\n",
    "\n",
    "    ###### run optimization\n",
    "    model_opt, status_solver, decision_var = optimization_engine(index_set_time,\n",
    "                                    config_allvariables,\n",
    "                                    config_initvalues,\n",
    "                                    config_modelsml,\n",
    "                                    config_maptanks,\n",
    "                                    config_mapprocess_mlmodels,\n",
    "                                    params)\n",
    "\n",
    "    ##### get status solver - if solver get a solution - break the while\n",
    "    if status_solver == 2:\n",
    "        break\n",
    "    \n",
    "    # ###### relaxing constraints. if the solver return a value this values was delete, else the relaxing constraints are used in the while to get a solution\n",
    "    # multiply rate change by factor of selected features\n",
    "    mask = config_allvariables['feature_name'].isin(list_tags_to_relax_constraints)\n",
    "    config_allvariables.loc[mask, 'rate_change'] = config_allvariables[mask]['rate_change'] * factor_relax_constraints\n",
    "\n",
    "    # increse while\n",
    "    index_count_while += 1"
   ]
  },
  {
   "cell_type": "code",
   "execution_count": null,
   "id": "02cd4453-741a-4157-984d-ec7c1bf7ca30",
   "metadata": {},
   "outputs": [],
   "source": [
    "# check status solver\n",
    "print('status solver: ' , status_solver)\n",
    "if status_solver != 2:\n",
    "    print('Infeasible solution')"
   ]
  },
  {
   "cell_type": "code",
   "execution_count": null,
   "id": "1389ff43-3a80-4216-811b-5182422d872e",
   "metadata": {},
   "outputs": [],
   "source": [
    "##### REVISAR QUÉ VALORES DE RATE CHANGE QUEDARON DE LAS VARIABLES\n",
    "mask = config_allvariables['feature_name'].isin(list_tags_to_relax_constraints)\n",
    "config_allvariables[mask]"
   ]
  },
  {
   "cell_type": "code",
   "execution_count": null,
   "id": "a1a528e8-8885-4f02-8365-f56a3f2b2ec7",
   "metadata": {},
   "outputs": [],
   "source": []
  },
  {
   "cell_type": "code",
   "execution_count": null,
   "id": "e5a86d7c-f4bc-4653-8264-2ba525388be8",
   "metadata": {},
   "outputs": [],
   "source": []
  },
  {
   "cell_type": "code",
   "execution_count": null,
   "id": "a8a34ab6-bffc-4798-87a2-2d542b80bbf0",
   "metadata": {},
   "outputs": [],
   "source": []
  },
  {
   "cell_type": "code",
   "execution_count": null,
   "id": "7b191157-7028-419e-8cda-1afcde892e89",
   "metadata": {},
   "outputs": [],
   "source": []
  },
  {
   "cell_type": "markdown",
   "id": "a8ed704e-5b2f-4e56-bb27-d14f0dcef347",
   "metadata": {},
   "source": [
    "## VII) SHOW FRONT IF THE SOLVER WORKS"
   ]
  },
  {
   "cell_type": "code",
   "execution_count": null,
   "id": "22b03a49-932b-47ee-a0c7-57c5407e5da5",
   "metadata": {},
   "outputs": [],
   "source": [
    "######################## get optimal values and save in a dataframe\n",
    "# create a dataframe with set as index\n",
    "solution = pd.DataFrame(index = index_set_time)\n",
    "\n",
    "# save optimal values - features of models (only the features)\n",
    "solution[\"var_X1\"] = decision_var['X1'].gppd.X\n",
    "solution[\"var_O1\"] = decision_var['O1'].gppd.X\n",
    "solution[\"var_O2\"] = decision_var['O2'].gppd.X\n",
    "solution[\"var_O3\"] = decision_var['O3'].gppd.X\n",
    "solution[\"var_Y1\"] = decision_var['Y1'].gppd.X\n",
    "solution[\"var_O4\"] = decision_var['O4'].gppd.X\n",
    "solution[\"var_Z1\"] = decision_var['Z1'].gppd.X\n",
    "solution[\"var_X2\"] = decision_var['X2'].gppd.X\n",
    "solution[\"var_O5\"] = decision_var['O5'].gppd.X\n",
    "solution[\"var_O6\"] = decision_var['O6'].gppd.X\n",
    "solution[\"var_Y2\"] = decision_var['Y2'].gppd.X\n",
    "solution[\"var_Y3\"] = decision_var['Y3'].gppd.X\n",
    "solution[\"var_X3\"] = decision_var['X3'].gppd.X\n",
    "solution[\"var_O7\"] = decision_var['O7'].gppd.X\n",
    "solution[\"var_TL1\"] = decision_var['TL1'].gppd.X\n",
    "solution[\"var_TL2\"] = decision_var['TL2'].gppd.X\n",
    "solution[\"var_TL3\"] = decision_var['TL3'].gppd.X\n",
    "\n",
    "# get value objetive function\n",
    "opt_objetive_function = model_opt.ObjVal"
   ]
  },
  {
   "cell_type": "code",
   "execution_count": null,
   "id": "299d0655-73df-4aae-a31b-ad416cefb27a",
   "metadata": {},
   "outputs": [],
   "source": [
    "# show value objetive function\n",
    "opt_objetive_function"
   ]
  },
  {
   "cell_type": "code",
   "execution_count": null,
   "id": "5c1e801f-d35c-4f64-8745-c0aa1089d304",
   "metadata": {},
   "outputs": [],
   "source": [
    "# show value decision variables\n",
    "solution.T"
   ]
  },
  {
   "cell_type": "code",
   "execution_count": null,
   "id": "fb624692-b897-45bc-b449-2e4b4bc3fffe",
   "metadata": {},
   "outputs": [],
   "source": []
  },
  {
   "cell_type": "code",
   "execution_count": null,
   "id": "f1be380a-8e3d-42cb-9a21-4bd09e7db7d5",
   "metadata": {},
   "outputs": [],
   "source": []
  },
  {
   "cell_type": "code",
   "execution_count": null,
   "id": "39fdc8f1-353f-4745-902b-5d03da2e9ebe",
   "metadata": {},
   "outputs": [],
   "source": []
  }
 ],
 "metadata": {
  "kernelspec": {
   "display_name": "Python 3 (ipykernel)",
   "language": "python",
   "name": "python3"
  },
  "language_info": {
   "codemirror_mode": {
    "name": "ipython",
    "version": 3
   },
   "file_extension": ".py",
   "mimetype": "text/x-python",
   "name": "python",
   "nbconvert_exporter": "python",
   "pygments_lexer": "ipython3",
   "version": "3.10.14"
  }
 },
 "nbformat": 4,
 "nbformat_minor": 5
}
