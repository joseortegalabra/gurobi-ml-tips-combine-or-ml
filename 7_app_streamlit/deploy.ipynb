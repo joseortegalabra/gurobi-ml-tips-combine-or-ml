{
 "cells": [
  {
   "cell_type": "markdown",
   "id": "5ea04d11-b156-4dff-ac80-08ab3e80c79b",
   "metadata": {},
   "source": [
    "# Deploy streamlit app into a cloud run (gcp)\n",
    "\n",
    "**Following the ideas of:**\n",
    "- deploy streamlit app in cloud run: https://medium.com/@faizififita1/how-to-deploy-your-streamlit-web-app-to-google-cloud-run-ba776487c5fe\n",
    "- deploy streamlit app into google app engine: https://dev.to/whitphx/how-to-deploy-streamlit-apps-to-google-app-engine-407o\n",
    "- deploy a flask app into a cloud run: my previous codes\n",
    "    - Create Dockerfile (an example Dockerfile can be found at: https://firebase.google.com/docs/hosting/cloud-run?hl=es-419#python)\n",
    "\n",
    "\n",
    "**Steps:**\n",
    "- Create a sript with codes\n",
    "- Create a .env file with environment variables that you don't want to expose\n",
    "- Define the parameters to deploy\n",
    "- Run codes that do diferents steps to deploy"
   ]
  },
  {
   "cell_type": "code",
   "execution_count": null,
   "id": "bc770c07-ce2a-492f-97ac-bd9fb8aaa545",
   "metadata": {},
   "outputs": [],
   "source": []
  },
  {
   "cell_type": "markdown",
   "id": "03c6054b-c6e1-4a49-b788-156a92e3a057",
   "metadata": {},
   "source": [
    "## I) INTRODUCTION\n",
    "\n",
    "These codes could be run in the Google SDK console, as well as run on a notebook.\n",
    "For a data scientist who is not specialized in devops practices, using a notebook is more intuitive to use\n",
    "\n",
    "#### Previous steps\n",
    "- Stop in the root folder of the application (this notebook is created in the root)\n",
    "- Have scripts created to contain and upload to cloud run\n",
    "\n",
    "#### Important information\n",
    "**To run a console command in a Jupyter notebook and the python variables stored in the notebook can also be passed to the command, you must use the peso sign ($) and not use the assignment command (=)**"
   ]
  },
  {
   "cell_type": "code",
   "execution_count": null,
   "id": "837c5998",
   "metadata": {},
   "outputs": [],
   "source": []
  },
  {
   "cell_type": "code",
   "execution_count": null,
   "id": "646304fb",
   "metadata": {},
   "outputs": [],
   "source": []
  },
  {
   "cell_type": "code",
   "execution_count": null,
   "id": "99ef96bd-3a6c-48df-8078-6efaf5b6c09f",
   "metadata": {},
   "outputs": [],
   "source": []
  },
  {
   "cell_type": "markdown",
   "id": "0bf9ae26",
   "metadata": {},
   "source": [
    "## II) INITIALIZE READ .ENV WITH ENV VARIABLES"
   ]
  },
  {
   "cell_type": "code",
   "execution_count": null,
   "id": "338a3784",
   "metadata": {},
   "outputs": [],
   "source": [
    "import os\n",
    "from dotenv import load_dotenv, find_dotenv # package used in jupyter notebook to read the variables in file .env\n",
    "\n",
    "\"\"\" get env variable from .env \"\"\"\n",
    "load_dotenv(find_dotenv())\n",
    "\n",
    "\"\"\" Read env variables and save it as python variable \"\"\"\n",
    "WLSACCESSID = os.environ.get(\"WLSACCESSID\", \"\")\n",
    "WLSSECRET = os.environ.get(\"WLSSECRET\", \"\")\n",
    "LICENSEID = int(os.environ.get(\"LICENSEID\", \"\"))\n",
    "PROJECT_GCP = os.environ.get(\"PROJECT_GCP\", \"\")"
   ]
  },
  {
   "cell_type": "code",
   "execution_count": null,
   "id": "c7e91a05",
   "metadata": {},
   "outputs": [],
   "source": []
  },
  {
   "cell_type": "markdown",
   "id": "c42cc73c-8063-4e9f-96c7-ae5343c55c53",
   "metadata": {},
   "source": [
    "## III) DEFINE PARAMETERS TO DEPLOY APP INTO A CLOUD RUN "
   ]
  },
  {
   "cell_type": "markdown",
   "id": "9f4bd3e5-8975-45c0-abbc-a5eea58acfd0",
   "metadata": {},
   "source": [
    "### Step 0: Connect to GCP project"
   ]
  },
  {
   "cell_type": "code",
   "execution_count": null,
   "id": "b9d1563e-5625-4963-952d-4c6468d261c0",
   "metadata": {},
   "outputs": [],
   "source": [
    "# ! gcloud config set project $PROJECT_GCP"
   ]
  },
  {
   "cell_type": "code",
   "execution_count": null,
   "id": "3db232b7-2239-4ccc-b8f4-7c313b09cd3f",
   "metadata": {},
   "outputs": [],
   "source": []
  },
  {
   "cell_type": "markdown",
   "id": "7d690650-e360-4d14-9c69-e792e32eb0f1",
   "metadata": {},
   "source": [
    "### Step 1: Define parameters"
   ]
  },
  {
   "cell_type": "code",
   "execution_count": null,
   "id": "90fe41fe-0fdc-4999-b2f8-7e225cfdb5a7",
   "metadata": {},
   "outputs": [],
   "source": [
    "# PARARAMETERS\n",
    "\n",
    "# general gcp\n",
    "REGION = 'us-east1'\n",
    "\n",
    "# name of the repo in artifact registry where will be saved docker images\n",
    "NAME_REPO = 'repo-gurobi-optimization-ml-tips'\n",
    "FORMAT_REPO = 'docker'\n",
    "DESCRIPTION_REPO = \"repo web app with codes of optimization gurobi\"\n",
    "\n",
    "# name of the docker image saved in docker repo in artifact registry\n",
    "NAME_IMAGE = 'gurobi-optimization-ml-tips'\n",
    "\n",
    "# name of cloud run where the app web will be located\n",
    "NAME_CLOUD_RUN = 'gurobi-optimization-ml-tips'"
   ]
  },
  {
   "cell_type": "code",
   "execution_count": null,
   "id": "839eb1d7-f6ba-4d98-ba9b-2490e1cc66a6",
   "metadata": {},
   "outputs": [],
   "source": []
  },
  {
   "cell_type": "code",
   "execution_count": null,
   "id": "e0591b9d",
   "metadata": {},
   "outputs": [],
   "source": []
  },
  {
   "cell_type": "code",
   "execution_count": null,
   "id": "52b4eda8-348f-439f-9413-adba04c635ca",
   "metadata": {},
   "outputs": [],
   "source": []
  },
  {
   "cell_type": "markdown",
   "id": "62e1c63e",
   "metadata": {},
   "source": [
    "# IV) Upload a docker image with the codes of the app in Artifact Registry"
   ]
  },
  {
   "cell_type": "markdown",
   "id": "179f0053-ca26-44cf-ac37-de8928fe4bc9",
   "metadata": {},
   "source": [
    "- Artifact registry is the replacement for container registry and recommended by google. The only difference is that the image is saved in this new service and you need to run another command\n",
    "\n",
    "- **Additionally, every time a new image is uploaded to the artifact registry (rerun the corresponding gcloud command), it receives the latest tag and is the one used to create/update the created cloud run**\n",
    "\n",
    "- Uploading the image to the artifact Registry requires more steps than uploading it to the container registry\n",
    "\n",
    "- Cloud build integration documentation with Artifact Registry: https://cloud.google.com/artifact-registry/docs/configure-cloud-build?hl=es-419"
   ]
  },
  {
   "cell_type": "code",
   "execution_count": null,
   "id": "2072af20-fc4b-4bd0-87f3-eac65495a710",
   "metadata": {},
   "outputs": [],
   "source": []
  },
  {
   "cell_type": "markdown",
   "id": "fccab59b-8d26-4e56-ac6f-61d71014890d",
   "metadata": {},
   "source": [
    "### Step 1. Create repository in artifact registry (if it does not exist)\n",
    "- Unlike container registry which was automatic, in artifact registry you have to create it. **If the repo already exists the gcloud command return an error but doesn't stop de execution of the notebook**\n",
    "\n",
    "- A repo is created which can have multiple images and each one have different versions\n",
    "\n",
    "- Documentation: create repo in artifact registry: https://cloud.google.com/artifact-registry/docs/repositories/create-repos#gcloud"
   ]
  },
  {
   "cell_type": "code",
   "execution_count": null,
   "id": "ceae1f29",
   "metadata": {},
   "outputs": [],
   "source": [
    "# create repo artifact registry\n",
    "! gcloud artifacts repositories create $NAME_REPO \\\n",
    "--repository-format $FORMAT_REPO \\\n",
    "--location $REGION \\\n",
    "--description \"$DESCRIPTION_REPO\" \\\n",
    "--async"
   ]
  },
  {
   "cell_type": "markdown",
   "id": "c040f26c-e1a6-400d-a358-5502c822f932",
   "metadata": {},
   "source": [
    "### Step 2: Set up a Docker build\n",
    "\n",
    "It is necessary to create a **yaml** with the configuration to build the docker image in Artifact Registry.\n",
    "\n",
    "It has the following form\n",
    "\n",
    "<code>\n",
    "steps:\n",
    "- name: 'gcr.io/cloud-builders/docker'\n",
    "   args: [ 'build', '-t', '${_LOCATION}-docker.pkg.dev/$PROJECT_ID/${_REPOSITORY}/${_IMAGE}', '.' ]\n",
    "images:\n",
    "- '${_LOCATION}-docker.pkg.dev/$PROJECT_ID/${_REPOSITORY}/${_IMAGE}'\n",
    "<code>\n",
    "    \n",
    "\n",
    "**This is a GENERIC FILE that can be recycled because it is parameterized to work with any docker repo in the artifact registry**"
   ]
  },
  {
   "cell_type": "markdown",
   "id": "f5dcace8-1a0f-4833-89ab-544bfc2aa7c2",
   "metadata": {},
   "source": []
  },
  {
   "cell_type": "markdown",
   "id": "3f13b0ae",
   "metadata": {},
   "source": [
    "--> Running the following line of code creates a yaml file with the desired configuration.\n",
    "\n",
    "Documentation: https://stackabuse.com/reading-and-writing-yaml-to-a-file-in-python/"
   ]
  },
  {
   "cell_type": "code",
   "execution_count": null,
   "id": "98471485",
   "metadata": {},
   "outputs": [],
   "source": [
    "import yaml\n",
    "\n",
    "# create a python diccionary with the content of the yaml cloudbuild generic\n",
    "\n",
    "dict_python_yaml_cloudbuild = {'steps': [{'name': 'gcr.io/cloud-builders/docker',\n",
    "   'args': ['build', '-t', '${_LOCATION}-docker.pkg.dev/$PROJECT_ID/${_REPOSITORY}/${_IMAGE}', '.']}],\n",
    " 'images': ['${_LOCATION}-docker.pkg.dev/$PROJECT_ID/${_REPOSITORY}/${_IMAGE}']}\n",
    "\n",
    "# save dicctionary in yaml format\n",
    "with open(r'cloudbuild.yaml', 'w') as file:\n",
    "    documents = yaml.dump(dict_python_yaml_cloudbuild, file)"
   ]
  },
  {
   "cell_type": "code",
   "execution_count": null,
   "id": "a72e475e",
   "metadata": {},
   "outputs": [],
   "source": []
  },
  {
   "cell_type": "markdown",
   "id": "1b267e53",
   "metadata": {},
   "source": [
    "### Step 3: Create Dockerfile\n",
    "Like the previous step, in this case you need to create the Dockerfile to be able to upload the image to the Artifact Registry. Typically, the dockerfile is created manually.\n",
    "\n",
    "In this example, the content of the dockerfile is defined within a parameterized string, which allows it to be a transversal file and applicable to any deploy in a cloud run\n",
    "\n",
    "Generally, most of the time, **the Dockerfile does not need to be modified unless you want to change the python vers**ion. So by running the following code you obtain the Dockerfile of the web app\n",
    "\n",
    "https://prnt.sc/uwBOFChK8QU8"
   ]
  },
  {
   "cell_type": "code",
   "execution_count": null,
   "id": "ed0e2f4d",
   "metadata": {},
   "outputs": [],
   "source": [
    "# CREATE A STRING THAT REPRESENT THE DOCKER FILE\n",
    "\n",
    "#old version with requirements file inside the script\n",
    "# string_dockerfile = '''\n",
    "# FROM python:3.10\n",
    "# EXPOSE 8080\n",
    "# WORKDIR /app\n",
    "# COPY . ./\n",
    "# RUN pip install streamlit gunicorn\n",
    "# ENTRYPOINT [\"streamlit\", \"run\", \"app.py\", \"--server.port=8080\", \"--server.address=0.0.0.0\"]\n",
    "# '''\n",
    "\n",
    "\n",
    "string_dockerfile = '''\n",
    "FROM python:3.10\n",
    "EXPOSE 8080\n",
    "WORKDIR /app\n",
    "COPY . ./\n",
    "RUN pip install -r requirements.txt\n",
    "ENTRYPOINT [\"streamlit\", \"run\", \"app.py\", \"--server.port=8080\", \"--server.address=0.0.0.0\"]\n",
    "''' "
   ]
  },
  {
   "cell_type": "code",
   "execution_count": null,
   "id": "edc57cc1",
   "metadata": {},
   "outputs": [],
   "source": [
    "# guardar dockerfile\n",
    "with open('Dockerfile', 'w') as file:\n",
    "    file.write(string_dockerfile)"
   ]
  },
  {
   "cell_type": "code",
   "execution_count": null,
   "id": "c63b43e1",
   "metadata": {},
   "outputs": [],
   "source": []
  },
  {
   "cell_type": "code",
   "execution_count": null,
   "id": "15903a17",
   "metadata": {},
   "outputs": [],
   "source": []
  },
  {
   "cell_type": "markdown",
   "id": "ba335ac5",
   "metadata": {},
   "source": [
    "### Step 4: Containerize (docker image) web app codes using cloud build and upload them to artifact registry\n",
    "- In this step, a docker image is created with the necessary codes for the web app and then this image is uploaded to Artifact Registry (using as a base the \"cloudbuild.yaml\" file that calls the \"Dockerfile\", created in the steps previous)"
   ]
  },
  {
   "cell_type": "code",
   "execution_count": null,
   "id": "1f993074",
   "metadata": {},
   "outputs": [],
   "source": [
    "##### VERY IMPORTANT NOTATION\n",
    "\n",
    "# NOTE: The variable names in the gcloud command correspond to the variables defined in the configuration file\n",
    "#yaml\n",
    "\n",
    "# NOTE2: to pass the name of the variables (as always) you must use the dollar sign \"$\" but you must\n",
    "# to be enclosed in quotes (so that it is understood that it is the variable to be replaced in the configuration yaml)\n",
    "\n",
    "# NOTE3: it must be double quotes and without spaces to avoid problems\n",
    "\n",
    "! gcloud builds submit \\\n",
    "    --config=cloudbuild.yaml \\\n",
    "    --substitutions=_LOCATION=\"$REGION\",_REPOSITORY=\"$NAME_REPO\",_IMAGE=\"$NAME_IMAGE\" ."
   ]
  },
  {
   "cell_type": "code",
   "execution_count": null,
   "id": "12a446b9-1751-43fd-a0f0-82befe5b6c95",
   "metadata": {},
   "outputs": [],
   "source": []
  },
  {
   "cell_type": "markdown",
   "id": "28fba7d5",
   "metadata": {},
   "source": [
    "### Step 5: Deploy the artifact registry container image to cloud run\n",
    "You must run the gloud run deploy command (same as in the container registry) with the only difference being that it changes the location of the image, which is:\n",
    "\n",
    "  {LOCATION}-docker.pkg.dev/{PROJECT}/{REPOSITORY}/{IMAGE}/\n",
    " \n",
    " \n",
    "\n",
    "**IMPORTANT: DUE TO PERMISSIONS ISSUES, THE CLOUD RUN IS CONFIGURED SO THAT ANYONE WITH THE LINK CAN ACCESS**"
   ]
  },
  {
   "cell_type": "code",
   "execution_count": null,
   "id": "51740ac6-8482-439b-bd23-0ce4a81edc02",
   "metadata": {},
   "outputs": [],
   "source": [
    "#### como setear variables de ambiente en cloud run\n",
    "#--set-env-vars=PROJECT_GCP=$PROJECT_ID \\"
   ]
  },
  {
   "cell_type": "code",
   "execution_count": null,
   "id": "40f4016e",
   "metadata": {
    "scrolled": true
   },
   "outputs": [],
   "source": [
    "#### try save env varibles cloud run\n",
    "\n",
    "# ! gcloud run deploy $NAME_CLOUD_RUN \\\n",
    "#     --image $REGION-docker.pkg.dev/$PROJECT_ID/$NAME_REPO/$NAME_IMAGE \\\n",
    "#     --region $REGION \\\n",
    "#     --set-env-vars=PROJECT_GCP=$PROJECT_GCP \\\n",
    "#     --set-env-vars=WLSACCESSID=$WLSACCESSID \\\n",
    "#     --set-env-vars=WLSSECRET=$WLSSECRET \\\n",
    "#     --set-env-vars=LICENSEID=$LICENSEID \\\n",
    "#     --allow-unauthenticated"
   ]
  },
  {
   "cell_type": "code",
   "execution_count": null,
   "id": "9b8e0040-12f0-470d-a7a6-480184b8210b",
   "metadata": {},
   "outputs": [],
   "source": [
    "# read .env file instead of read env variable saved in the cloud run\n",
    "! gcloud run deploy $NAME_CLOUD_RUN \\\n",
    "    --image $REGION-docker.pkg.dev/$PROJECT_ID/$NAME_REPO/$NAME_IMAGE \\\n",
    "    --region $REGION \\\n",
    "    --set-env-vars=PROJECT_GCP=$PROJECT_GCP \\\n",
    "    --allow-unauthenticated"
   ]
  },
  {
   "cell_type": "code",
   "execution_count": null,
   "id": "6225d3a9-131a-434b-9651-45485c965fdb",
   "metadata": {},
   "outputs": [],
   "source": [
    "#### I CANT UNDERSTAND WHY IT RETURN A ERROR. THE NAME OF CLOUD RUN IS CORRECT AND THERE IS OTHER ERROR AND GCP SAYS IT IS A CLOUD RUN NAME\n",
    "NAME_CLOUD_RUN"
   ]
  },
  {
   "cell_type": "code",
   "execution_count": null,
   "id": "dd0184fa-91f0-49a6-b315-50e095f08430",
   "metadata": {},
   "outputs": [],
   "source": []
  },
  {
   "cell_type": "code",
   "execution_count": null,
   "id": "e43a0123-8376-4cba-bf03-3aca4f78e7e0",
   "metadata": {},
   "outputs": [],
   "source": []
  }
 ],
 "metadata": {
  "kernelspec": {
   "display_name": "Python 3 (ipykernel)",
   "language": "python",
   "name": "python3"
  },
  "language_info": {
   "codemirror_mode": {
    "name": "ipython",
    "version": 3
   },
   "file_extension": ".py",
   "mimetype": "text/x-python",
   "name": "python",
   "nbconvert_exporter": "python",
   "pygments_lexer": "ipython3",
   "version": "3.10.14"
  }
 },
 "nbformat": 4,
 "nbformat_minor": 5
}
