{
 "cells": [
  {
   "cell_type": "markdown",
   "id": "92347a6c-5266-4995-ae64-7ab94a368734",
   "metadata": {},
   "source": [
    "# Optimization automatization full - auto relaxing constrints\n",
    "In this notebook you can see the optimization engine, calling a script to get the optimization (optimization engine). If the engine return an infeasible solution there is a for that relaxing the constaints until get a feasible solution (in teory)"
   ]
  },
  {
   "cell_type": "code",
   "execution_count": null,
   "id": "5c5d42a2-f745-4d06-9677-e990681e3041",
   "metadata": {},
   "outputs": [],
   "source": []
  },
  {
   "cell_type": "markdown",
   "id": "986f169c-cd8e-4707-b545-84226eedb449",
   "metadata": {},
   "source": [
    "## Root folder and read env variables"
   ]
  },
  {
   "cell_type": "code",
   "execution_count": null,
   "id": "dcee657f-aada-49b8-b447-f41e067e4a18",
   "metadata": {
    "scrolled": true
   },
   "outputs": [],
   "source": [
    "import os\n",
    "# fix root path to save outputs\n",
    "actual_path = os.path.abspath(os.getcwd())\n",
    "list_root_path = actual_path.split('\\\\')[:-1]\n",
    "root_path = '\\\\'.join(list_root_path)\n",
    "os.chdir(root_path)\n",
    "print('root path: ', root_path)"
   ]
  },
  {
   "cell_type": "code",
   "execution_count": null,
   "id": "a6640988-69c4-4dfd-b22f-aeeb11fa6e55",
   "metadata": {},
   "outputs": [],
   "source": [
    "import os\n",
    "from dotenv import load_dotenv, find_dotenv # package used in jupyter notebook to read the variables in file .env\n",
    "\n",
    "\"\"\" get env variable from .env \"\"\"\n",
    "load_dotenv(find_dotenv())\n",
    "\n",
    "\"\"\" Read env variables and save it as python variable \"\"\"\n",
    "PROJECT_GCP = os.environ.get(\"PROJECT_GCP\", \"\")"
   ]
  },
  {
   "cell_type": "code",
   "execution_count": null,
   "id": "527d20f4-aa38-490e-84f2-30e6fda8bdd9",
   "metadata": {},
   "outputs": [],
   "source": []
  },
  {
   "cell_type": "markdown",
   "id": "003f3a9b-374c-4d73-8444-fc7da3423488",
   "metadata": {},
   "source": [
    "## Load licence gurobi"
   ]
  },
  {
   "cell_type": "code",
   "execution_count": null,
   "id": "ac2359ef-eb78-4784-b81d-d23a27037bd9",
   "metadata": {},
   "outputs": [],
   "source": [
    "##########  LOAD LICENCE GUROBI ##########\n",
    "import gurobipy as gp\n",
    "\n",
    "# set env variable with the path of the licence\n",
    "name_file_licence_gurobi = \"gurobi.lic\"\n",
    "path_licence_gurobi = root_path + '\\\\' + name_file_licence_gurobi\n",
    "os.environ [\"GRB_LICENSE_FILE\"] = path_licence_gurobi"
   ]
  },
  {
   "cell_type": "code",
   "execution_count": null,
   "id": "f59402de-4b8f-42c1-82e7-c286bfeb21f1",
   "metadata": {},
   "outputs": [],
   "source": [
    "######### LAOD CONTENT LICENCE GUROBI #########\n",
    "with open(path_licence_gurobi, 'r') as f:\n",
    "    content_licence = f.read()\n",
    "WLSACCESSID = content_licence.split('\\n')[3].split('=')[1] # load WLSACCESSID (string)\n",
    "WLSSECRET = content_licence.split('\\n')[4].split('=')[1] # load WLSSECRET (string)\n",
    "LICENSEID = int(content_licence.split('\\n')[5].split(\"=\")[1]) # load LICENSEID (integer)\n",
    "\n",
    "params = {\n",
    "\"WLSACCESSID\": WLSACCESSID,\n",
    "\"WLSSECRET\": WLSSECRET,\n",
    "\"LICENSEID\": LICENSEID\n",
    "}"
   ]
  },
  {
   "cell_type": "code",
   "execution_count": null,
   "id": "115d254b-2433-4917-ba92-651a10705e06",
   "metadata": {},
   "outputs": [],
   "source": []
  },
  {
   "cell_type": "markdown",
   "id": "b6843afc-d41f-44ba-a1a9-469cc4f3a6a2",
   "metadata": {},
   "source": [
    "## RUN"
   ]
  },
  {
   "cell_type": "code",
   "execution_count": null,
   "id": "365a0300-b10d-4106-af86-619457307401",
   "metadata": {},
   "outputs": [],
   "source": [
    "import pickle\n",
    "import pandas as pd\n",
    "import numpy as np\n",
    "\n",
    "#gurobi\n",
    "import gurobipy_pandas as gppd\n",
    "from gurobi_ml import add_predictor_constr\n",
    "import gurobipy as gp"
   ]
  },
  {
   "cell_type": "code",
   "execution_count": null,
   "id": "f7b14e29-5164-4360-a160-42a1a64bee08",
   "metadata": {},
   "outputs": [],
   "source": [
    "import warnings\n",
    "warnings.filterwarnings('ignore')"
   ]
  },
  {
   "cell_type": "code",
   "execution_count": null,
   "id": "1e3078fc-ed85-4d94-bcf6-47ac2f7e24d1",
   "metadata": {},
   "outputs": [],
   "source": []
  },
  {
   "cell_type": "markdown",
   "id": "8b51b313-af63-4b4b-bf83-489a8cea301f",
   "metadata": {},
   "source": [
    "## IMPORTANTE LOS ARCHIVOS DE CONFIGURACIÓN SE LEEN AFUERA DEL SCRIPT DE OPTIMIZACIÓN PORQUE AFUERA ESTÁ EL CÓDIGO PARA RELAX LAS RESTRICCIONES CAMBIANDO LOS PARÁMETROS Y LUEGO EL SCRIPT RECIBE LOS VALORES EXACTOS CON LOS QUE TIENE QUE RESOLVER EL PROBLEMA DE OPTIMIZACIÓN\n",
    "\n",
    "- **PARA SIMPLIFICAR TODO, LEO TODOS LOS ARCHIVOS DE CONFIGURACIÓN AFUERA, AUNQUE ALGUNOS NO SE RELAJEN NUNCA, COMO POR EJEMPLO LOS ARCHIVOS QUE CONFIGURAN LA RED**"
   ]
  },
  {
   "cell_type": "markdown",
   "id": "08f70863-7e71-4ed5-8d9a-f9193550b3e5",
   "metadata": {},
   "source": [
    "### 1. Load configuration file optimizer and configuration instance to solve\n",
    "The are principally two kind of files to config optimizer\n",
    "- **configuration file to create optimizer**: there a files used to create the optimization network such as, list of sets, list of variables, upper bound and lower bound, etc. Pricipally in this files should be parameters that doesn't change too much across the time. For example, the list of variable, is a parameter that if change, the structure of the network change and the machine learning models needs to change too\n",
    "\n",
    "- **configuration file with instance to solve**: there files that change its values every time that the optimizer solve the problem. It represents the files with the actual values of the features, and so, this values change every time that the optimizer is executed"
   ]
  },
  {
   "cell_type": "markdown",
   "id": "ed635269-06e2-4d29-93aa-33d7255a0bca",
   "metadata": {},
   "source": [
    "#### 1.1. IndexTime file"
   ]
  },
  {
   "cell_type": "code",
   "execution_count": null,
   "id": "1666dafa-d7a9-4f09-b665-5b870753b4ae",
   "metadata": {},
   "outputs": [],
   "source": [
    "#################### define set ####################\n",
    "\n",
    "## paths and files names\n",
    "path_folder_config_optimization = f'config/optimization_engine/config_optimization/'\n",
    "file_indextime = 'IndexTime.xlsx'\n",
    "path_indextime = path_folder_config_optimization + file_indextime\n",
    "\n",
    "# read file\n",
    "indextime = pd.read_excel(path_indextime)\n",
    "\n",
    "# set index\n",
    "index_set_time = pd.Index(indextime['IndexTime'].values)\n",
    "index_set_time"
   ]
  },
  {
   "cell_type": "code",
   "execution_count": null,
   "id": "5e4eb132-7dc6-413c-9d54-10b09f7d9e12",
   "metadata": {},
   "outputs": [],
   "source": []
  },
  {
   "cell_type": "markdown",
   "id": "43641dc7-5b3e-4659-958b-4142bef567a7",
   "metadata": {},
   "source": [
    "#### 1.2 Decision variables"
   ]
  },
  {
   "cell_type": "code",
   "execution_count": null,
   "id": "79fc9b30-bbd3-4e04-9d63-3321c608a2ec",
   "metadata": {},
   "outputs": [],
   "source": [
    "#################### define decision variables ####################\n",
    "\n",
    "# paths and file names\n",
    "path_folder_config_optimization = f'config/optimization_engine/config_optimization/'\n",
    "file_allvariables = 'AllVariables.xlsx'\n",
    "path_allvariables = path_folder_config_optimization + file_allvariables\n",
    "\n",
    "# read file\n",
    "config_allvariables = pd.read_excel(path_allvariables)\n",
    "\n",
    "# table\n",
    "config_allvariables"
   ]
  },
  {
   "cell_type": "code",
   "execution_count": null,
   "id": "bc0bd905-53a1-4440-a2c4-986063b6fad7",
   "metadata": {},
   "outputs": [],
   "source": []
  },
  {
   "cell_type": "markdown",
   "id": "8a4a9dbf-457a-4427-b93d-80589e8a9918",
   "metadata": {},
   "source": [
    "#### 1.3 Initial Values\n",
    "-  This configuration files corresponde to the description **\"configuration file with instance to solve\"**. This file has the initial values to start the optimizer\n",
    "-  **OBS: the decision variable that are targets of machine learning models its initial value it nos defined. For all the optimization process since t=0 to t=N all the values are predicted by ml model**"
   ]
  },
  {
   "cell_type": "code",
   "execution_count": null,
   "id": "6753daf8-85a5-42c0-86cc-f7b9eef468e1",
   "metadata": {},
   "outputs": [],
   "source": [
    "#################### define initial values ####################\n",
    "\n",
    "# paths and file names\n",
    "path_folder_config_optimization = f'config/optimization_engine/config_optimization/'\n",
    "file_initvalues = 'InitialValues.xlsx'\n",
    "path_initvalues = path_folder_config_optimization + file_initvalues\n",
    "\n",
    "# read file\n",
    "config_initvalues = pd.read_excel(path_initvalues)\n",
    "\n",
    "# table\n",
    "config_initvalues"
   ]
  },
  {
   "cell_type": "markdown",
   "id": "5da68e5a-2c9f-4f01-b139-6520790dd29c",
   "metadata": {},
   "source": [
    "#### OBS: at this part all the parameters of decision variables and observed variables were defined. Now, it is necesary define a structure of the optimization network to have the capacity to generate whatever network of this kind of problem with the posibilty to change the number of variables, its limits, capacity of tanks and also the NUMBER of process and tanks"
   ]
  },
  {
   "cell_type": "code",
   "execution_count": null,
   "id": "a6c3e5f2-884c-41e3-b5d3-328a2dea03f4",
   "metadata": {},
   "outputs": [],
   "source": []
  },
  {
   "cell_type": "markdown",
   "id": "a2fb2fba-02d0-4573-9ed6-f7e7c03251e7",
   "metadata": {},
   "source": [
    "#### 1.4 Define models to load\n",
    "In this file are defined the path to ml models used in each process. Then reading the table the optimizer can go to load the ml model\n",
    "\n",
    "**As you can see a process can have multiple models because the process has multiple outputs. BUT each model to develop has its own and unique name**"
   ]
  },
  {
   "cell_type": "code",
   "execution_count": null,
   "id": "0c524341-4053-4bc0-a4a3-6805705ee79c",
   "metadata": {},
   "outputs": [],
   "source": [
    "#################### define initial values ####################\n",
    "\n",
    "# paths and file names\n",
    "path_folder_config_optimization = f'config/optimization_engine/config_optimization/'\n",
    "file_modelsml = 'ModelsML.xlsx'\n",
    "path_modelsml = path_folder_config_optimization + file_modelsml\n",
    "\n",
    "# read file\n",
    "config_modelsml = pd.read_excel(path_modelsml)\n",
    "\n",
    "# table\n",
    "config_modelsml"
   ]
  },
  {
   "cell_type": "code",
   "execution_count": null,
   "id": "e4871286-4594-4d1f-b4fd-730450623bfd",
   "metadata": {},
   "outputs": [],
   "source": []
  },
  {
   "cell_type": "markdown",
   "id": "8840e610-730f-48db-908c-55a35689a91c",
   "metadata": {},
   "source": [
    "#### 1.5 Map tanks\n",
    "Read a configuration table that map each tank in the process. For each tank is mapped the input flows and the output flows\n",
    "\n",
    "Important, obviosly, the input and outputs of the tank needs to be defined in the table that maps all the features in the network"
   ]
  },
  {
   "cell_type": "code",
   "execution_count": null,
   "id": "79c87023-8240-49b3-a803-b58c34346373",
   "metadata": {},
   "outputs": [],
   "source": [
    "#################### define map input outputs each tank ####################\n",
    "\n",
    "# paths and file names\n",
    "path_folder_config_optimization = f'config/optimization_engine/config_optimization/'\n",
    "file_maptanks = 'MapTanks.xlsx'\n",
    "path_maptanks = path_folder_config_optimization + file_maptanks\n",
    "\n",
    "# read file\n",
    "config_maptanks = pd.read_excel(path_maptanks)\n",
    "\n",
    "# table\n",
    "config_maptanks"
   ]
  },
  {
   "cell_type": "code",
   "execution_count": null,
   "id": "8b4cdf33-6cf2-4521-8837-3b668253d767",
   "metadata": {},
   "outputs": [],
   "source": []
  },
  {
   "cell_type": "markdown",
   "id": "230e1b2f-5c53-4b44-941a-ea6c19ea51cb",
   "metadata": {},
   "source": [
    "#### 1.6 Map process Machine learning models features and target\n",
    "When each machine learning model is trained, one of the outputs of the tranining process is the artifact with the model and also a master table with the features and target of the model.\n",
    "\n",
    "- **In this example the individual master table for each model was generated in the training process and the global table is generated manually by the author**\n",
    "\n",
    "- **As you can see a process can have multiple models because the process has multiple outputs. BUT each model to develop has its own and unique name**"
   ]
  },
  {
   "cell_type": "code",
   "execution_count": null,
   "id": "e0103235-3335-40e0-899e-80149e5880a8",
   "metadata": {},
   "outputs": [],
   "source": [
    "#################### define map features and targer of each model for each process ####################\n",
    "\n",
    "# paths and file names\n",
    "path_folder_config_optimization = f'config/optimization_engine/config_optimization/'\n",
    "file_mapprocess_mlmodels = 'MapProcessMLmodels.xlsx'\n",
    "path_mapprocess_mlmodels = path_folder_config_optimization + file_mapprocess_mlmodels\n",
    "\n",
    "# read filemapprocess_mlmodels\n",
    "config_mapprocess_mlmodels = pd.read_excel(path_mapprocess_mlmodels)\n",
    "\n",
    "# table\n",
    "config_mapprocess_mlmodels"
   ]
  },
  {
   "cell_type": "code",
   "execution_count": null,
   "id": "aa278d4b-107e-4be1-8026-2b3b6df43fce",
   "metadata": {},
   "outputs": [],
   "source": []
  },
  {
   "cell_type": "code",
   "execution_count": null,
   "id": "455efc94-e5a9-43c7-9450-dc0f0abfe06a",
   "metadata": {},
   "outputs": [],
   "source": []
  },
  {
   "cell_type": "code",
   "execution_count": null,
   "id": "8c584d2b-26b0-40ea-bc5a-049fb4069a74",
   "metadata": {},
   "outputs": [],
   "source": []
  },
  {
   "cell_type": "markdown",
   "id": "e1e6c33d-465a-49b7-8c0d-1463b63342db",
   "metadata": {},
   "source": [
    "### 2. Solve optimization\n",
    "Solve optimization relaxing constraints. In this example is relaxing the rate change of decision vars\n",
    "\n",
    "**In this first example, the rate change of decision vars are all relaxed and the unique rate change is the volume of tanks**"
   ]
  },
  {
   "cell_type": "code",
   "execution_count": null,
   "id": "587339ee-6119-408e-bceb-91263a2ac105",
   "metadata": {},
   "outputs": [],
   "source": [
    "# define list of decision vars that will have change in its rate change\n",
    "list_tags_to_relax_constraints = ['TL1', 'TL2', 'TL3']\n",
    "list_tags_to_relax_constraints"
   ]
  },
  {
   "cell_type": "code",
   "execution_count": null,
   "id": "ad75e991-df4d-4ed6-95fe-125f076cfeb8",
   "metadata": {},
   "outputs": [],
   "source": [
    "# define factor (percent = 0.1) to change the rate change of the decision vars. \n",
    "# In this example all the decision var masked will change its value in the same factor\n",
    "param_factor_relax_constraints = 0.1\n",
    "factor_relax_constraints = 1 + param_factor_relax_constraints\n",
    "factor_relax_constraints"
   ]
  },
  {
   "cell_type": "code",
   "execution_count": null,
   "id": "91e89c24-3a29-44d5-af39-1c4cc91c5c29",
   "metadata": {},
   "outputs": [],
   "source": [
    "# print initial values of constraints that can be relaxing its values\n",
    "mask = config_allvariables['feature_name'].isin(list_tags_to_relax_constraints)\n",
    "config_allvariables[mask]"
   ]
  },
  {
   "cell_type": "code",
   "execution_count": null,
   "id": "0aeaaeb0-e343-405f-950e-e466615944ba",
   "metadata": {},
   "outputs": [],
   "source": []
  },
  {
   "cell_type": "code",
   "execution_count": null,
   "id": "1215df11-1603-4ecb-8045-56eb2909d0df",
   "metadata": {},
   "outputs": [],
   "source": [
    "from optimization_engine import optimization_engine"
   ]
  },
  {
   "cell_type": "code",
   "execution_count": null,
   "id": "1ccaaad3-bc84-4787-82e7-898e12a9b03a",
   "metadata": {},
   "outputs": [],
   "source": []
  },
  {
   "cell_type": "code",
   "execution_count": null,
   "id": "4c0c4412-bebe-455d-83b8-4d3d003662c9",
   "metadata": {},
   "outputs": [],
   "source": [
    "\"\"\" do while. do define status solver // while status solver != 2 relaxing contrainsts (rate of change decision variables) until get a solution \"\"\"\n",
    "# initialize status\n",
    "status_solver = 0\n",
    "\n",
    "# initialize count iterations of relaxing constraints\n",
    "index_count_while = 0\n",
    "max_interations_relaxing_constraints = 40\n",
    "\n",
    "# initiliaze values of constraints to relax\n",
    "to_solver_config_allvariables = config_allvariables.copy()\n",
    "\n",
    "\n",
    "\n",
    "while (status_solver != 2) & (index_count_while <=max_interations_relaxing_constraints):\n",
    "    print('\\n\\n\\n index while: ', index_count_while)\n",
    "\n",
    "    ###### run optimization\n",
    "    model_opt, status_solver, decision_var = optimization_engine(index_set_time,\n",
    "                                    config_allvariables,\n",
    "                                    config_initvalues,\n",
    "                                    config_modelsml,\n",
    "                                    config_maptanks,\n",
    "                                    config_mapprocess_mlmodels,\n",
    "                                    params)\n",
    "\n",
    "    ##### get status solver - if solver get a solution - break the while\n",
    "    if status_solver == 2:\n",
    "        break\n",
    "    \n",
    "    # ###### relaxing constraints. if the solver return a value this values was delete, else the relaxing constraints are used in the while to get a solution\n",
    "    # multiply rate change by factor of selected features\n",
    "    mask = config_allvariables['feature_name'].isin(list_tags_to_relax_constraints)\n",
    "    config_allvariables.loc[mask, 'rate_change'] = config_allvariables[mask]['rate_change'] * factor_relax_constraints\n",
    "\n",
    "    # increse while\n",
    "    index_count_while += 1"
   ]
  },
  {
   "cell_type": "code",
   "execution_count": null,
   "id": "d029b7dc-2068-4965-8b04-ae8434ddb8dd",
   "metadata": {},
   "outputs": [],
   "source": [
    "# check status solver\n",
    "print('status solver: ' , status_solver)\n",
    "if status_solver != 2:\n",
    "    print('Infeasible solution')"
   ]
  },
  {
   "cell_type": "code",
   "execution_count": null,
   "id": "0e2a8e43-7934-4579-9c85-56c40a998e34",
   "metadata": {},
   "outputs": [],
   "source": []
  },
  {
   "cell_type": "code",
   "execution_count": null,
   "id": "1e123d35-d9bd-420a-8181-0349464fc7f4",
   "metadata": {},
   "outputs": [],
   "source": []
  },
  {
   "cell_type": "code",
   "execution_count": null,
   "id": "bbd834d8-5ce6-44d9-8599-4894ff9a1347",
   "metadata": {},
   "outputs": [],
   "source": [
    "##### REVISAR QUÉ VALORES DE RATE CHANGE QUEDARON DE LAS VARIABLES\n",
    "mask = config_allvariables['feature_name'].isin(list_tags_to_relax_constraints)\n",
    "config_allvariables[mask]"
   ]
  },
  {
   "cell_type": "code",
   "execution_count": null,
   "id": "96c04cac-3627-45a1-ae68-1232760b63e9",
   "metadata": {},
   "outputs": [],
   "source": []
  },
  {
   "cell_type": "markdown",
   "id": "14a8b5b1-00f4-4535-9ef8-cf6e8596be92",
   "metadata": {},
   "source": [
    "### PRINT SOLUTION"
   ]
  },
  {
   "cell_type": "code",
   "execution_count": null,
   "id": "a32951ac-97e1-4b4c-a044-00f666bc6f8a",
   "metadata": {},
   "outputs": [],
   "source": [
    "# get optimal values and save in a dataframe\n",
    "######## create a dataframe with set as index\n",
    "solution = pd.DataFrame(index = index_set_time)\n",
    "\n",
    "######################## save optimal values - features of models (only the features) ########################\n",
    "solution[\"var_X1\"] = decision_var['X1'].gppd.X\n",
    "solution[\"var_O1\"] = decision_var['O1'].gppd.X\n",
    "solution[\"var_O2\"] = decision_var['O2'].gppd.X\n",
    "solution[\"var_O3\"] = decision_var['O3'].gppd.X\n",
    "solution[\"var_Y1\"] = decision_var['Y1'].gppd.X\n",
    "solution[\"var_O4\"] = decision_var['O4'].gppd.X\n",
    "solution[\"var_Z1\"] = decision_var['Z1'].gppd.X\n",
    "solution[\"var_X2\"] = decision_var['X2'].gppd.X\n",
    "solution[\"var_O5\"] = decision_var['O5'].gppd.X\n",
    "solution[\"var_O6\"] = decision_var['O6'].gppd.X\n",
    "solution[\"var_Y2\"] = decision_var['Y2'].gppd.X\n",
    "solution[\"var_Y3\"] = decision_var['Y3'].gppd.X\n",
    "solution[\"var_X3\"] = decision_var['X3'].gppd.X\n",
    "solution[\"var_O7\"] = decision_var['O7'].gppd.X\n",
    "solution[\"var_TL1\"] = decision_var['TL1'].gppd.X\n",
    "solution[\"var_TL2\"] = decision_var['TL2'].gppd.X\n",
    "solution[\"var_TL3\"] = decision_var['TL3'].gppd.X\n",
    "\n",
    "######################## # get value objetive function ########################\n",
    "opt_objetive_function = model_opt.ObjVal"
   ]
  },
  {
   "cell_type": "code",
   "execution_count": null,
   "id": "8d525989-733c-48c6-9b8b-49edb2afecf3",
   "metadata": {},
   "outputs": [],
   "source": [
    "# know status optimization\n",
    "# docu: https://www.gurobi.com/documentation/current/refman/optimization_status_codes.html#sec:StatusCodes\n",
    "model_opt.Status"
   ]
  },
  {
   "cell_type": "code",
   "execution_count": null,
   "id": "a6af89e0-0dde-4edb-a6a3-438616df05f1",
   "metadata": {},
   "outputs": [],
   "source": [
    "# show value objetive function\n",
    "opt_objetive_function"
   ]
  },
  {
   "cell_type": "code",
   "execution_count": null,
   "id": "b75454dc-060a-4ccb-be35-06de453a1795",
   "metadata": {},
   "outputs": [],
   "source": [
    "# show value decision variables\n",
    "solution.T"
   ]
  },
  {
   "cell_type": "code",
   "execution_count": null,
   "id": "b89068fd-36f7-45bd-a583-feb307a3aa2e",
   "metadata": {},
   "outputs": [],
   "source": []
  },
  {
   "cell_type": "code",
   "execution_count": null,
   "id": "2e385bd8-fe9d-499d-b45b-288d249d6bfc",
   "metadata": {},
   "outputs": [],
   "source": []
  },
  {
   "cell_type": "code",
   "execution_count": null,
   "id": "e74ad2dc-fd9d-481d-81fe-b113820ebfd3",
   "metadata": {},
   "outputs": [],
   "source": []
  },
  {
   "cell_type": "markdown",
   "id": "21a0b910-a130-4d54-b0cd-be8abfaf1021",
   "metadata": {},
   "source": [
    "## IMPORTANTE MI SOLUCIÓN ACTUAL ES RELAJADO LOS RATE CHANGE DE LAS VARIABLES DE DECISIÓN Y CON LOS VALORES DE LOS RATE CHANGE DE TANQUES TAMBIÉN RELAJADOS"
   ]
  },
  {
   "cell_type": "code",
   "execution_count": null,
   "id": "3b826ec9-a55f-4350-baef-c5bcc5d2f763",
   "metadata": {},
   "outputs": [],
   "source": []
  },
  {
   "cell_type": "code",
   "execution_count": null,
   "id": "997212fc-e77f-4f88-9063-cee9924c5abe",
   "metadata": {},
   "outputs": [],
   "source": []
  }
 ],
 "metadata": {
  "kernelspec": {
   "display_name": "Python 3 (ipykernel)",
   "language": "python",
   "name": "python3"
  },
  "language_info": {
   "codemirror_mode": {
    "name": "ipython",
    "version": 3
   },
   "file_extension": ".py",
   "mimetype": "text/x-python",
   "name": "python",
   "nbconvert_exporter": "python",
   "pygments_lexer": "ipython3",
   "version": "3.10.14"
  }
 },
 "nbformat": 4,
 "nbformat_minor": 5
}
