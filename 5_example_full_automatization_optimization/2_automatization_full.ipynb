{
 "cells": [
  {
   "cell_type": "markdown",
   "id": "92347a6c-5266-4995-ae64-7ab94a368734",
   "metadata": {},
   "source": [
    "# Full example - full automatization optimization engine\n",
    "- Hardcoded optimizer creating each variable manually\n",
    "- Hardcoded optimizer creating each constraints manually\n",
    "- There are created configuration tables in excel tables that the optimizer read\n",
    "- IMPORTANT: the observed variables in this code is a decision variable in optimization but its value is fixed"
   ]
  },
  {
   "cell_type": "markdown",
   "id": "ae68a236-44db-4d71-84d3-41f2e8854a66",
   "metadata": {},
   "source": [
    "About observed variables (that always have a fixed value)\n",
    "- The observed variables are not decision variables, but with the idea to automatize this codes they are defined as decision variables and then a constraint is added to set its values to a unique values\n",
    "\n",
    "- Doing this is a little automatice the creation of the constraints and open the posibility to transform the observed variables into a decision variables and connect other models/tanks/process to this observed variables with a less modification in the codes\n",
    "\n",
    "- This example needs a gurobi licence"
   ]
  },
  {
   "cell_type": "code",
   "execution_count": null,
   "id": "5c5d42a2-f745-4d06-9677-e990681e3041",
   "metadata": {},
   "outputs": [],
   "source": []
  },
  {
   "cell_type": "markdown",
   "id": "986f169c-cd8e-4707-b545-84226eedb449",
   "metadata": {},
   "source": [
    "## Root folder and read env variables"
   ]
  },
  {
   "cell_type": "code",
   "execution_count": null,
   "id": "dcee657f-aada-49b8-b447-f41e067e4a18",
   "metadata": {
    "scrolled": true
   },
   "outputs": [],
   "source": [
    "import os\n",
    "# fix root path to save outputs\n",
    "actual_path = os.path.abspath(os.getcwd())\n",
    "list_root_path = actual_path.split('\\\\')[:-1]\n",
    "root_path = '\\\\'.join(list_root_path)\n",
    "os.chdir(root_path)"
   ]
  },
  {
   "cell_type": "code",
   "execution_count": null,
   "id": "a6640988-69c4-4dfd-b22f-aeeb11fa6e55",
   "metadata": {},
   "outputs": [],
   "source": [
    "import os\n",
    "from dotenv import load_dotenv, find_dotenv # package used in jupyter notebook to read the variables in file .env\n",
    "\n",
    "\"\"\" get env variable from .env \"\"\"\n",
    "load_dotenv(find_dotenv())\n",
    "\n",
    "\"\"\" Read env variables and save it as python variable \"\"\"\n",
    "PROJECT_GCP = os.environ.get(\"PROJECT_GCP\", \"\")"
   ]
  },
  {
   "cell_type": "code",
   "execution_count": null,
   "id": "527d20f4-aa38-490e-84f2-30e6fda8bdd9",
   "metadata": {},
   "outputs": [],
   "source": []
  },
  {
   "cell_type": "markdown",
   "id": "003f3a9b-374c-4d73-8444-fc7da3423488",
   "metadata": {},
   "source": [
    "## Load licence gurobi"
   ]
  },
  {
   "cell_type": "code",
   "execution_count": null,
   "id": "ac2359ef-eb78-4784-b81d-d23a27037bd9",
   "metadata": {},
   "outputs": [],
   "source": [
    "##########  LOAD LICENCE GUROBI ##########\n",
    "import gurobipy as gp\n",
    "\n",
    "# set env variable with the path of the licence\n",
    "name_file_licence_gurobi = \"gurobi.lic\"\n",
    "path_licence_gurobi = root_path + '\\\\' + name_file_licence_gurobi\n",
    "os.environ [\"GRB_LICENSE_FILE\"] = path_licence_gurobi\n",
    "print(os.environ[\"GRB_LICENSE_FILE\"])"
   ]
  },
  {
   "cell_type": "code",
   "execution_count": null,
   "id": "f59402de-4b8f-42c1-82e7-c286bfeb21f1",
   "metadata": {},
   "outputs": [],
   "source": [
    "######### LAOD CONTENT LICENCE GUROBI #########\n",
    "with open(path_licence_gurobi, 'r') as f:\n",
    "    content_licence = f.read()\n",
    "WLSACCESSID = content_licence.split('\\n')[3].split('=')[1] # load WLSACCESSID (string)\n",
    "WLSSECRET = content_licence.split('\\n')[4].split('=')[1] # load WLSSECRET (string)\n",
    "LICENSEID = int(content_licence.split('\\n')[5].split(\"=\")[1]) # load LICENSEID (integer)\n",
    "\n",
    "params = {\n",
    "\"WLSACCESSID\": WLSACCESSID,\n",
    "\"WLSSECRET\": WLSSECRET,\n",
    "\"LICENSEID\": LICENSEID\n",
    "}"
   ]
  },
  {
   "cell_type": "code",
   "execution_count": null,
   "id": "115d254b-2433-4917-ba92-651a10705e06",
   "metadata": {},
   "outputs": [],
   "source": []
  },
  {
   "cell_type": "markdown",
   "id": "b6843afc-d41f-44ba-a1a9-469cc4f3a6a2",
   "metadata": {},
   "source": [
    "## RUN"
   ]
  },
  {
   "cell_type": "code",
   "execution_count": null,
   "id": "365a0300-b10d-4106-af86-619457307401",
   "metadata": {},
   "outputs": [],
   "source": [
    "import pickle\n",
    "import pandas as pd\n",
    "import numpy as np\n",
    "\n",
    "#gurobi\n",
    "import gurobipy_pandas as gppd\n",
    "from gurobi_ml import add_predictor_constr\n",
    "import gurobipy as gp"
   ]
  },
  {
   "cell_type": "code",
   "execution_count": null,
   "id": "f7b14e29-5164-4360-a160-42a1a64bee08",
   "metadata": {},
   "outputs": [],
   "source": [
    "import warnings\n",
    "warnings.filterwarnings('ignore')"
   ]
  },
  {
   "cell_type": "code",
   "execution_count": null,
   "id": "1e3078fc-ed85-4d94-bcf6-47ac2f7e24d1",
   "metadata": {},
   "outputs": [],
   "source": []
  },
  {
   "cell_type": "code",
   "execution_count": null,
   "id": "45687449-9d9d-44aa-82a7-ae70255ac000",
   "metadata": {},
   "outputs": [],
   "source": []
  },
  {
   "cell_type": "markdown",
   "id": "08f70863-7e71-4ed5-8d9a-f9193550b3e5",
   "metadata": {},
   "source": [
    "### 1. Load configuration file optimizer and configuration instance to solve\n",
    "The are principally two kind of files to config optimizer\n",
    "- **configuration file to create optimizer**: there a files used to create the optimization network such as, list of sets, list of variables, upper bound and lower bound, etc. Pricipally in this files should be parameters that doesn't change too much across the time. For example, the list of variable, is a parameter that if change, the structure of the network change and the machine learning models needs to change too\n",
    "\n",
    "- **configuration file with instance to solve**: there files that change its values every time that the optimizer solve the problem. It represents the files with the actual values of the features, and so, this values change every time that the optimizer is executed"
   ]
  },
  {
   "cell_type": "markdown",
   "id": "ed635269-06e2-4d29-93aa-33d7255a0bca",
   "metadata": {},
   "source": [
    "#### 1.1. IndexTime file"
   ]
  },
  {
   "cell_type": "code",
   "execution_count": null,
   "id": "1666dafa-d7a9-4f09-b665-5b870753b4ae",
   "metadata": {},
   "outputs": [],
   "source": [
    "#################### define set ####################\n",
    "\n",
    "## paths and files names\n",
    "path_folder_config_optimization = f'config/optimization_engine/config_optimization/'\n",
    "file_indextime = 'IndexTime.xlsx'\n",
    "path_indextime = path_folder_config_optimization + file_indextime\n",
    "\n",
    "# read file\n",
    "indextime = pd.read_excel(path_indextime)\n",
    "\n",
    "# set index\n",
    "index_set_time = pd.Index(indextime['IndexTime'].values)\n",
    "index_set_time"
   ]
  },
  {
   "cell_type": "code",
   "execution_count": null,
   "id": "5e4eb132-7dc6-413c-9d54-10b09f7d9e12",
   "metadata": {},
   "outputs": [],
   "source": []
  },
  {
   "cell_type": "markdown",
   "id": "43641dc7-5b3e-4659-958b-4142bef567a7",
   "metadata": {},
   "source": [
    "#### 1.2 Decision variables"
   ]
  },
  {
   "cell_type": "code",
   "execution_count": null,
   "id": "79fc9b30-bbd3-4e04-9d63-3321c608a2ec",
   "metadata": {},
   "outputs": [],
   "source": [
    "#################### define decision variables ####################\n",
    "\n",
    "# paths and file names\n",
    "path_folder_config_optimization = f'config/optimization_engine/config_optimization/'\n",
    "file_allvariables = 'AllVariables.xlsx'\n",
    "path_allvariables = path_folder_config_optimization + file_allvariables\n",
    "\n",
    "# read file\n",
    "config_allvariables = pd.read_excel(path_allvariables)\n",
    "\n",
    "# table\n",
    "config_allvariables"
   ]
  },
  {
   "cell_type": "code",
   "execution_count": null,
   "id": "bc0bd905-53a1-4440-a2c4-986063b6fad7",
   "metadata": {},
   "outputs": [],
   "source": []
  },
  {
   "cell_type": "markdown",
   "id": "8a4a9dbf-457a-4427-b93d-80589e8a9918",
   "metadata": {},
   "source": [
    "#### 1.3 Initial Values\n",
    "-  This configuration files corresponde to the description **\"configuration file with instance to solve\"**. This file has the initial values to start the optimizer\n",
    "-  **OBS: the decision variable that are targets of machine learning models its initial value it nos defined. For all the optimization process since t=0 to t=N all the values are predicted by ml model**"
   ]
  },
  {
   "cell_type": "code",
   "execution_count": null,
   "id": "6753daf8-85a5-42c0-86cc-f7b9eef468e1",
   "metadata": {},
   "outputs": [],
   "source": [
    "#################### define initial values ####################\n",
    "\n",
    "# paths and file names\n",
    "path_folder_config_optimization = f'config/optimization_engine/config_optimization/'\n",
    "file_initvalues = 'InitialValues.xlsx'\n",
    "path_initvalues = path_folder_config_optimization + file_initvalues\n",
    "\n",
    "# read file\n",
    "config_initvalues = pd.read_excel(path_initvalues)\n",
    "\n",
    "# table\n",
    "config_initvalues"
   ]
  },
  {
   "cell_type": "markdown",
   "id": "5da68e5a-2c9f-4f01-b139-6520790dd29c",
   "metadata": {},
   "source": [
    "#### OBS: at this part all the parameters of decision variables and observed variables were defined. Now, it is necesary define a structure of the optimization network to have the capacity to generate whatever network of this kind of problem with the posibilty to change the number of variables, its limits, capacity of tanks and also the NUMBER of process and tanks"
   ]
  },
  {
   "cell_type": "code",
   "execution_count": null,
   "id": "a6c3e5f2-884c-41e3-b5d3-328a2dea03f4",
   "metadata": {},
   "outputs": [],
   "source": []
  },
  {
   "cell_type": "markdown",
   "id": "a2fb2fba-02d0-4573-9ed6-f7e7c03251e7",
   "metadata": {},
   "source": [
    "#### 1.4 Define models to load\n",
    "In this file are defined the path to ml models used in each process. Then reading the table the optimizer can go to load the ml model\n",
    "\n",
    "**As you can see a process can have multiple models because the process has multiple outputs. BUT each model to develop has its own and unique name**"
   ]
  },
  {
   "cell_type": "code",
   "execution_count": null,
   "id": "0c524341-4053-4bc0-a4a3-6805705ee79c",
   "metadata": {},
   "outputs": [],
   "source": [
    "#################### define initial values ####################\n",
    "\n",
    "# paths and file names\n",
    "path_folder_config_optimization = f'config/optimization_engine/config_optimization/'\n",
    "file_modelsml = 'ModelsML.xlsx'\n",
    "path_modelsml = path_folder_config_optimization + file_modelsml\n",
    "\n",
    "# read file\n",
    "config_modelsml = pd.read_excel(path_modelsml)\n",
    "\n",
    "# table\n",
    "config_modelsml"
   ]
  },
  {
   "cell_type": "code",
   "execution_count": null,
   "id": "e4871286-4594-4d1f-b4fd-730450623bfd",
   "metadata": {},
   "outputs": [],
   "source": []
  },
  {
   "cell_type": "markdown",
   "id": "8840e610-730f-48db-908c-55a35689a91c",
   "metadata": {},
   "source": [
    "#### 1.5 Map tanks\n",
    "Read a configuration table that map each tank in the process. For each tank is mapped the input flows and the output flows\n",
    "\n",
    "Important, obviosly, the input and outputs of the tank needs to be defined in the table that maps all the features in the network"
   ]
  },
  {
   "cell_type": "code",
   "execution_count": null,
   "id": "79c87023-8240-49b3-a803-b58c34346373",
   "metadata": {},
   "outputs": [],
   "source": [
    "#################### define map input outputs each tank ####################\n",
    "\n",
    "# paths and file names\n",
    "path_folder_config_optimization = f'config/optimization_engine/config_optimization/'\n",
    "file_maptanks = 'MapTanks.xlsx'\n",
    "path_maptanks = path_folder_config_optimization + file_maptanks\n",
    "\n",
    "# read file\n",
    "config_maptanks = pd.read_excel(path_maptanks)\n",
    "\n",
    "# table\n",
    "config_maptanks"
   ]
  },
  {
   "cell_type": "code",
   "execution_count": null,
   "id": "8b4cdf33-6cf2-4521-8837-3b668253d767",
   "metadata": {},
   "outputs": [],
   "source": []
  },
  {
   "cell_type": "markdown",
   "id": "230e1b2f-5c53-4b44-941a-ea6c19ea51cb",
   "metadata": {},
   "source": [
    "#### 1.6 Map process Machine learning models features and target\n",
    "When each machine learning model is trained, one of the outputs of the tranining process is the artifact with the model and also a master table with the features and target of the model.\n",
    "\n",
    "- **In this example the individual master table for each model was generated automatically and the sintetized table is generated manually by the author**\n",
    "\n",
    "- **As you can see a process can have multiple models because the process has multiple outputs. BUT each model to develop has its own and unique name**"
   ]
  },
  {
   "cell_type": "code",
   "execution_count": null,
   "id": "e0103235-3335-40e0-899e-80149e5880a8",
   "metadata": {},
   "outputs": [],
   "source": [
    "#################### define map features and targer of each model for each process ####################\n",
    "\n",
    "# paths and file names\n",
    "path_folder_config_optimization = f'config/optimization_engine/config_optimization/'\n",
    "file_mapprocess_mlmodels = 'MapProcessMLmodels.xlsx'\n",
    "path_mapprocess_mlmodels = path_folder_config_optimization + file_mapprocess_mlmodels\n",
    "\n",
    "# read filemapprocess_mlmodels\n",
    "config_mapprocess_mlmodels = pd.read_excel(path_mapprocess_mlmodels)\n",
    "\n",
    "# table\n",
    "config_mapprocess_mlmodels"
   ]
  },
  {
   "cell_type": "code",
   "execution_count": null,
   "id": "8c584d2b-26b0-40ea-bc5a-049fb4069a74",
   "metadata": {},
   "outputs": [],
   "source": []
  },
  {
   "cell_type": "code",
   "execution_count": null,
   "id": "31b6e593-7684-424a-9331-05b88cc874fa",
   "metadata": {},
   "outputs": [],
   "source": []
  },
  {
   "cell_type": "markdown",
   "id": "7a009362-3cb5-41d0-95d1-0b7db239f94c",
   "metadata": {},
   "source": [
    "### 2. Load ML models\n",
    "Automatically load all the models and save its into a dictionary to call when it is neccesary (as a process can have multiple models, id of the dictionary is the **name_process_model** that indicates the name for a unique model in the optimization network)\n",
    "- Process A - y1\n",
    "- Process B - y2\n",
    "- Process C - y2 (custom model)\n",
    "- Process B - y3"
   ]
  },
  {
   "cell_type": "code",
   "execution_count": null,
   "id": "1b70cb6b-c744-4a59-8196-d80b1e3ce681",
   "metadata": {},
   "outputs": [],
   "source": [
    "config_modelsml"
   ]
  },
  {
   "cell_type": "code",
   "execution_count": null,
   "id": "5271f959-9b04-4d51-9855-12996101d397",
   "metadata": {},
   "outputs": [],
   "source": [
    "# for: for each model upload this pkl and save it into a dictionary\n",
    "\n",
    "# define a dictionary where the differents ml models are uploaded. the key of the names models is the column \"name_process_model\" (known the process\n",
    "# and the models)\n",
    "models_ml = {}\n",
    "for index_modelml in range(len(config_modelsml)):\n",
    "\n",
    "    # get the name (ID) of ml models\n",
    "    config_names_modelsml = config_modelsml.loc[index_modelml, 'name_process_model']\n",
    "    print('\\nname model - model id: ', config_names_modelsml)\n",
    "\n",
    "    # define parameters to laod model. path (folder) and artifact (name file)\n",
    "    path_folder = config_modelsml[config_modelsml['name_process_model'] == config_names_modelsml]['path_folder'].values[0]\n",
    "    artifact_name = config_modelsml[config_modelsml['name_process_model'] == config_names_modelsml]['artifact_name'].values[0]\n",
    "    extension_artifact = artifact_name.split('.')[-1]\n",
    "    \n",
    "    # define full path to model\n",
    "    path_folder_model = f'artifacts/models/{path_folder}/'\n",
    "    path_model_loaded = path_folder_model + artifact_name\n",
    "    print('path model loade: ', path_folder)\n",
    "    print('artifact model loaded: ', artifact_name)\n",
    "    print('full path model: ', path_model_loaded)\n",
    "    \n",
    "    # load model pkl\n",
    "    if extension_artifact == 'pkl':\n",
    "        model_loaded = pd.read_pickle(path_model_loaded)\n",
    "        print('loaded pkl')\n",
    "\n",
    "    # load model excel - custom model\n",
    "    if extension_artifact == 'xlsx':\n",
    "        model_loaded = pd.read_excel(path_model_loaded)\n",
    "        print('loaded excel')\n",
    "\n",
    "    if extension_artifact == 'h5':\n",
    "        print('keras - pass - todo')\n",
    "        print('loaded h5')\n",
    "\n",
    "    # save the model loaded into a dict\n",
    "    models_ml[config_names_modelsml] = model_loaded"
   ]
  },
  {
   "cell_type": "code",
   "execution_count": null,
   "id": "d18ee759-d5f7-453b-b2ab-3b66e7e04f23",
   "metadata": {},
   "outputs": [],
   "source": []
  },
  {
   "cell_type": "code",
   "execution_count": null,
   "id": "d8803400-f503-45d6-9a95-a1d805deb904",
   "metadata": {},
   "outputs": [],
   "source": [
    "# model_process_a_y1\n",
    "# model_process_b_y2\n",
    "# model_process_b_y3\n",
    "# model_process_c"
   ]
  },
  {
   "cell_type": "code",
   "execution_count": null,
   "id": "bd1fbc9e-a707-4e91-9c8c-84324cb1c671",
   "metadata": {},
   "outputs": [],
   "source": []
  },
  {
   "cell_type": "code",
   "execution_count": null,
   "id": "916a457d-2ab1-4a75-8e5f-4b360f1cef78",
   "metadata": {},
   "outputs": [],
   "source": []
  },
  {
   "cell_type": "code",
   "execution_count": null,
   "id": "148c5ac8-f0d8-4ddd-b52e-9db7c7aaa7f9",
   "metadata": {},
   "outputs": [],
   "source": []
  },
  {
   "cell_type": "markdown",
   "id": "61bbf9c2-fc6f-44cc-ac07-fd485651fca4",
   "metadata": {},
   "source": [
    "### 2. Create gurobi model"
   ]
  },
  {
   "cell_type": "code",
   "execution_count": null,
   "id": "9adcac1a-f1e5-48a8-838a-132f4fd0de81",
   "metadata": {},
   "outputs": [],
   "source": [
    "# # create model with licence\n",
    "env = gp.Env(params=params)\n",
    "model_opt = gp.Model('Example Optimization Model', env = env)\n",
    "\n",
    "# create model without licence\n",
    "# model_opt = gp.Model('Example Optimization Model')"
   ]
  },
  {
   "cell_type": "code",
   "execution_count": null,
   "id": "c182e230-920d-4dc8-8117-c034f10c1e25",
   "metadata": {},
   "outputs": [],
   "source": []
  },
  {
   "cell_type": "code",
   "execution_count": null,
   "id": "11088ab2-9f11-4554-a374-54415f686ba2",
   "metadata": {},
   "outputs": [],
   "source": []
  },
  {
   "cell_type": "code",
   "execution_count": null,
   "id": "cd4834c3-d4b9-4918-9499-00ed9d3b7dfe",
   "metadata": {},
   "outputs": [],
   "source": []
  },
  {
   "cell_type": "markdown",
   "id": "052c9a12-c3a9-456f-8c59-e2f78776984d",
   "metadata": {},
   "source": [
    "### 3. Create decision variables\n",
    "It is necesary to have:\n",
    "- list of elements of the sets of decision var\n",
    "- table with the list of decision variables to create with important considerations when the are created (for example, upper bound and lower bound)\n",
    "- **create the decision var and save it into a dictionary of decision var. Use the dictionary to call the decision var when they are used to create a constraints**"
   ]
  },
  {
   "cell_type": "markdown",
   "id": "26d058dc-ac4d-43a0-a85b-64d786eb4292",
   "metadata": {},
   "source": [
    "#### Aditional, when the decision var is created, set the initial value\n",
    "\n",
    "- Fix the values of period t=0 for each decision var.\n",
    "\n",
    "- t=0 represent the actual period or initial period and it in some problems and modelations is kwown\n",
    "\n",
    "- In addition in this notebook, the values in time t=0 are fixed for all decision variables, inclusive if the decision var have a constraint that define its values in time t = 0 (so, this kind of constraints needs to be defined since t = 1)"
   ]
  },
  {
   "cell_type": "code",
   "execution_count": null,
   "id": "477adb5f-a388-4ed1-b812-b16e571f3887",
   "metadata": {},
   "outputs": [],
   "source": [
    "##### define a for across the configuration table to create the decision vars and save it into a python dictionary\n",
    "\n",
    "decision_var = {}\n",
    "for index_var in range(len(config_allvariables)):\n",
    "\n",
    "    # get config values\n",
    "    config_names_decision_var = config_allvariables.loc[index_var, 'feature_name']\n",
    "    config_description_decision_var = config_allvariables.loc[index_var, 'feature_name'] # use the feature name as a description in gurobi description\n",
    "    print('defining decision variables: ', config_names_decision_var)\n",
    "\n",
    "    # create decision var and save in the dictionary\n",
    "    decision_var[config_names_decision_var] = gppd.add_vars(model_opt, \n",
    "                                                            index_set_time, \n",
    "                                                            name = config_description_decision_var,\n",
    "                                                            #lb = -gp.GRB.INFINITY,\n",
    "                                                            ub = gp.GRB.INFINITY\n",
    "                                                           )"
   ]
  },
  {
   "cell_type": "code",
   "execution_count": null,
   "id": "f2355bc7-955a-4464-923c-ea2cef8b372f",
   "metadata": {},
   "outputs": [],
   "source": []
  },
  {
   "cell_type": "code",
   "execution_count": null,
   "id": "05d97e9f-7b09-4858-bd63-9d898d4f9e70",
   "metadata": {},
   "outputs": [],
   "source": []
  },
  {
   "cell_type": "markdown",
   "id": "d06c2bbf-1f5e-4aaf-99f5-3e1fdbeca3f1",
   "metadata": {},
   "source": [
    "### 4. Set initial values decision variables\n",
    "Set the initial values t=0 for the decision variables that needs this initial values and save in t=0"
   ]
  },
  {
   "cell_type": "code",
   "execution_count": null,
   "id": "ed2f48a1-1039-4c65-8f18-0800b4df757a",
   "metadata": {},
   "outputs": [],
   "source": [
    "# initial values decision variables - filter configuration file with only the decision var that have defined its initial values \n",
    "# (it should be all except target variables)\n",
    "config_initvalues_init = config_initvalues[config_initvalues['init_values'].isnull() == False]\n",
    "config_initvalues_init = config_initvalues_init.reset_index().drop(columns = 'index')\n",
    "config_initvalues_init"
   ]
  },
  {
   "cell_type": "code",
   "execution_count": null,
   "id": "5cdbcc44-cd0a-4d9a-b094-6380ca23afe8",
   "metadata": {},
   "outputs": [],
   "source": [
    "for index_var in range(len(config_initvalues_init)):\n",
    "\n",
    "    # get config values\n",
    "    config_names_decision_var = config_initvalues_init.loc[index_var, 'feature_name']\n",
    "    print('set initial values decision variables: ', config_names_decision_var)\n",
    "\n",
    "    # get initial value\n",
    "    initial_value_decision_var = config_initvalues_init[config_initvalues_init['feature_name'] == config_names_decision_var]['init_values'].values[0]\n",
    "    \n",
    "    # set initial value t=0 for all decision variables that needs this value\n",
    "    model_opt.addConstr(decision_var[config_names_decision_var]['t0'] == initial_value_decision_var,  \n",
    "                        name = f'Initial Value {config_names_decision_var}')"
   ]
  },
  {
   "cell_type": "code",
   "execution_count": null,
   "id": "ba4efcf8-79aa-46a8-a34c-46c21518a04a",
   "metadata": {},
   "outputs": [],
   "source": []
  },
  {
   "cell_type": "code",
   "execution_count": null,
   "id": "ddc8343e-8d22-48c9-a5a1-c5d8b403a55e",
   "metadata": {},
   "outputs": [],
   "source": []
  },
  {
   "cell_type": "code",
   "execution_count": null,
   "id": "7453a981-ef9a-4763-8e50-a3f338a78f09",
   "metadata": {},
   "outputs": [],
   "source": []
  },
  {
   "cell_type": "code",
   "execution_count": null,
   "id": "216ff68d-ee77-488a-b8c4-bcc39469f4f8",
   "metadata": {},
   "outputs": [],
   "source": []
  },
  {
   "cell_type": "markdown",
   "id": "b9d7708c-7f10-45c9-b3ac-f41c81f20763",
   "metadata": {},
   "source": [
    "### 5. Lower bound and Upper bound decision variables\n",
    "For example, lower bound and upper bound of tank level\n",
    "\n",
    "---\n",
    "If one decision variables doesn't need a lower bound and upper bound parameter, its value in configuration file is saved as np.NaN\n",
    "\n",
    "Then filter the configuration table to have only the decision variables that have defined a rate_change\n",
    "\n",
    "define in differents files one for lower bounds and another for upper bounds"
   ]
  },
  {
   "cell_type": "markdown",
   "id": "82f4e62a-7ba1-4a67-becd-7f66a4428f5e",
   "metadata": {},
   "source": [
    "#### 5.1 Lower bound\n",
    "Since config decision var create a subtable with only the features that have defined its upper bound and then create the constraints"
   ]
  },
  {
   "cell_type": "code",
   "execution_count": null,
   "id": "270e54c6-bde4-4421-99ef-80fc8043ff0e",
   "metadata": {},
   "outputs": [],
   "source": [
    "# lower bounds parameters - filter configuration file with only the decision var that have defined its lower bounds\n",
    "config_allvariables_lower_bounds = config_allvariables[config_allvariables['lower'].isnull() == False]\n",
    "config_allvariables_lower_bounds = config_allvariables_lower_bounds.reset_index().drop(columns = 'index') # reset index to count by index\n",
    "config_allvariables_lower_bounds"
   ]
  },
  {
   "cell_type": "code",
   "execution_count": null,
   "id": "d9239a21-7bba-4a69-8609-6b55ec81fc60",
   "metadata": {},
   "outputs": [],
   "source": [
    "# generate constaint - lower bound\n",
    "\n",
    "for index_var in range(len(config_allvariables_lower_bounds)):\n",
    "\n",
    "    # get config values\n",
    "    config_names_decision_var = config_allvariables_lower_bounds.loc[index_var, 'feature_name']\n",
    "    print('lower bound decision_var: ', config_names_decision_var)\n",
    "    \n",
    "    gppd.add_constrs(model_opt, \n",
    "                     decision_var[config_names_decision_var],  # decision var\n",
    "                     gp.GRB.GREATER_EQUAL,\n",
    "                     config_allvariables_lower_bounds[config_allvariables_lower_bounds['feature_name'] == config_names_decision_var]['lower'].values[0],  # lower bound\n",
    "                     name = f'Lower bound {config_names_decision_var}')"
   ]
  },
  {
   "cell_type": "code",
   "execution_count": null,
   "id": "647451b4-381f-47a3-9dd1-bf04405a025c",
   "metadata": {},
   "outputs": [],
   "source": []
  },
  {
   "cell_type": "code",
   "execution_count": null,
   "id": "af46521d-d060-474f-a93d-1323258b524f",
   "metadata": {},
   "outputs": [],
   "source": []
  },
  {
   "cell_type": "code",
   "execution_count": null,
   "id": "9fb165d8-6db4-4127-a088-e798171fd13b",
   "metadata": {},
   "outputs": [],
   "source": []
  },
  {
   "cell_type": "markdown",
   "id": "7e7dbd14-8485-4a9f-a76c-7cbf650cd358",
   "metadata": {},
   "source": [
    "#### 5.2 upper bound\n",
    "Since config decision var create a subtable with only the features that have defined its upper bound and then create the constraints"
   ]
  },
  {
   "cell_type": "code",
   "execution_count": null,
   "id": "f468287e-e392-4134-a096-91b5ac457963",
   "metadata": {},
   "outputs": [],
   "source": [
    "# upper bounds parameters - filter configuration file with only the decision var that have defined its upper bounds\n",
    "config_allvariables_upper_bounds = config_allvariables[config_allvariables['upper'].isnull() == False]\n",
    "config_allvariables_upper_bounds = config_allvariables_upper_bounds.reset_index().drop(columns = 'index')\n",
    "config_allvariables_upper_bounds"
   ]
  },
  {
   "cell_type": "code",
   "execution_count": null,
   "id": "e8d3e40e-460a-45b8-97d8-923ecbd6d412",
   "metadata": {},
   "outputs": [],
   "source": [
    "# generate constaint - upper bound\n",
    "\n",
    "for index_var in range(len(config_allvariables_upper_bounds)):\n",
    "\n",
    "    # get config values\n",
    "    config_names_decision_var = config_allvariables_upper_bounds.loc[index_var, 'feature_name']\n",
    "    print('upper bound decision_var: ', config_names_decision_var)\n",
    "    \n",
    "    gppd.add_constrs(model_opt, \n",
    "                     decision_var[config_names_decision_var],  # decision var\n",
    "                     gp.GRB.LESS_EQUAL, \n",
    "                     config_allvariables_upper_bounds[config_allvariables_upper_bounds['feature_name'] == config_names_decision_var]['upper'].values[0],  # upper bound\n",
    "                     name = f'Upper bound {config_names_decision_var}')"
   ]
  },
  {
   "cell_type": "code",
   "execution_count": null,
   "id": "85d43894-5489-423a-af35-ce97f3042edb",
   "metadata": {},
   "outputs": [],
   "source": []
  },
  {
   "cell_type": "code",
   "execution_count": null,
   "id": "4884f5f4-99b4-4bc9-8c8d-d857534f8bd9",
   "metadata": {},
   "outputs": [],
   "source": []
  },
  {
   "cell_type": "code",
   "execution_count": null,
   "id": "8a508b0c-5098-4efa-b0a7-d002ed98b2a7",
   "metadata": {},
   "outputs": [],
   "source": []
  },
  {
   "cell_type": "markdown",
   "id": "60ce8851-5341-4f0b-ba43-19bf29aea0df",
   "metadata": {},
   "source": [
    "### 6. Rate change of decision variables across the time\n",
    "\n",
    "If one decision variables doesn't need a rate change parameter, its value in configuration file is saved as np.NaN\n",
    "\n",
    "Then filter the configuration table to have only the decision variables that have defined a rate_change\n",
    "\n",
    "\\begin{align}\n",
    "&| ~ X^{t}_{i} - X^{t-1}_{i} ~ | ~ \\leq  ~ c_{i} &\\quad \\forall ~ i \\in I, t \\in T \\tag{6}\\\\\n",
    "\\end{align}"
   ]
  },
  {
   "cell_type": "code",
   "execution_count": null,
   "id": "14b3e0d2-e4c8-47b7-8486-af92f3c276a1",
   "metadata": {},
   "outputs": [],
   "source": []
  },
  {
   "cell_type": "markdown",
   "id": "7d3ef06a-c662-41b7-86d3-80ee67bb07bc",
   "metadata": {},
   "source": [
    "#### 6.1 define table with values of rate_change"
   ]
  },
  {
   "cell_type": "code",
   "execution_count": null,
   "id": "dee7dfc2-09c1-4ff1-b9b9-bc9a7053c7bc",
   "metadata": {},
   "outputs": [],
   "source": [
    "# rate change parameters - filter configuration file with only the decision var that have defined its rates changes\n",
    "config_allvariables_rate_change = config_allvariables[config_allvariables['rate_change'].isnull() == False]\n",
    "config_allvariables_rate_change = config_allvariables_rate_change.reset_index().drop(columns = 'index')\n",
    "config_allvariables_rate_change"
   ]
  },
  {
   "cell_type": "code",
   "execution_count": null,
   "id": "4a529580-c7ea-47da-b9f1-25c5ecc1b9e5",
   "metadata": {},
   "outputs": [],
   "source": []
  },
  {
   "cell_type": "code",
   "execution_count": null,
   "id": "9ab747ac-01ff-4b09-8c39-63002a018167",
   "metadata": {},
   "outputs": [],
   "source": []
  },
  {
   "cell_type": "markdown",
   "id": "dbd577b7-0031-4a92-8b57-0c8fde7d4415",
   "metadata": {},
   "source": [
    "#### 6.2 The rate change constraints is defined using absolute values. So it is necesary create an auxiliar decision variable\n"
   ]
  },
  {
   "cell_type": "markdown",
   "id": "c543a6f1-8d3d-4ab5-9955-e3283b9b08e1",
   "metadata": {},
   "source": [
    "This auxiliar decision var created represents the difference between the decisions vars. It is necesary create auxiliar variables and fixed it first value into zero (set initial value (diff t = 0 and t = -1) is set to cero because t = -1 is not defined)"
   ]
  },
  {
   "cell_type": "markdown",
   "id": "28fe704c-e981-49c4-bfcc-d2e669ce1980",
   "metadata": {},
   "source": [
    "In this example\n",
    "- diff_time_x >= (x(t-1) - x(t))\n",
    "\n",
    "- diff_time_x >= -(x(t-1) - x(t))\n",
    "\n",
    "- diff_time_x <= delta_x"
   ]
  },
  {
   "cell_type": "code",
   "execution_count": null,
   "id": "612f27c0-6de3-4d18-a1eb-d43276af78e6",
   "metadata": {},
   "outputs": [],
   "source": [
    "### create an auxiliar decion var \"diff\" for each decision var that has defined its rate change\n",
    "\n",
    "aux_decision_var = {}\n",
    "for index_var in range(len(config_allvariables_rate_change)):\n",
    "\n",
    "    # get config values\n",
    "    config_names_decision_var = config_allvariables_rate_change.loc[index_var, 'feature_name']\n",
    "    print('create auxiliar variable diff \"t\" - \"t-1\": ', config_names_decision_var)\n",
    "\n",
    "    # create decision var and save in the dictionary\n",
    "    aux_decision_var[config_names_decision_var] = gppd.add_vars(model_opt, \n",
    "                                                                index_set_time, \n",
    "                                                                name = f'diff \"t\" - \"t_1\" of decision var: {config_names_decision_var}',\n",
    "                                                                lb = -gp.GRB.INFINITY,\n",
    "                                                                ub = gp.GRB.INFINITY\n",
    "                                                               )\n",
    "\n",
    "    # set initial value (diff t = 0 and t = -1) is set to cero because t = -1 is not defined\n",
    "    model_opt.addConstr(aux_decision_var[config_names_decision_var]['t0'] == 0,  name = f'Initial Value diff {config_names_decision_var}')"
   ]
  },
  {
   "cell_type": "code",
   "execution_count": null,
   "id": "86812e5d-851d-4bc6-b116-bb259f0ad78e",
   "metadata": {},
   "outputs": [],
   "source": []
  },
  {
   "cell_type": "code",
   "execution_count": null,
   "id": "ba84d6cd-3eeb-4709-b97f-499c9f8fcbf3",
   "metadata": {},
   "outputs": [],
   "source": []
  },
  {
   "cell_type": "markdown",
   "id": "3d82f5b0-d870-4040-980e-f1f46be0a31e",
   "metadata": {},
   "source": [
    "#### 6.3 Define rate change variable constraint for each decision variable and for each time"
   ]
  },
  {
   "cell_type": "code",
   "execution_count": null,
   "id": "3e367e5e-a1ff-4ce8-9ff7-8be1e830dd69",
   "metadata": {},
   "outputs": [],
   "source": [
    "# for each variable\n",
    "for index_var in range(len(config_allvariables_rate_change)):\n",
    "\n",
    "    # get config values\n",
    "    config_names_decision_var = config_allvariables_rate_change.loc[index_var, 'feature_name']\n",
    "    print('rate change decision var: ', config_names_decision_var)\n",
    "\n",
    "    # get rate change for this decision var\n",
    "    rate_change_decision_var = config_allvariables_rate_change[config_allvariables_rate_change['feature_name'] == config_names_decision_var]['rate_change'].values[0]\n",
    "    \n",
    "    # for each time in this decision variable\n",
    "    for index_time in range(1, len(index_set_time)):\n",
    "        \n",
    "        ### define time t and t-1\n",
    "        time_t = index_set_time[index_time]\n",
    "        time_t_1 = index_set_time[index_time-1]\n",
    "    \n",
    "        ### define constraints\n",
    "        # positive segment\n",
    "        model_opt.addConstr(aux_decision_var[config_names_decision_var][time_t] >= (decision_var[config_names_decision_var][time_t] - decision_var[config_names_decision_var][time_t_1]), \n",
    "                            name = f'diff {config_names_decision_var} positive segment {time_t} - {time_t_1}')\n",
    "\n",
    "        # negative segment\n",
    "        model_opt.addConstr(aux_decision_var[config_names_decision_var][time_t] >= -(decision_var[config_names_decision_var][time_t] - decision_var[config_names_decision_var][time_t_1]), \n",
    "                            name = f'diff {config_names_decision_var} negative segment {time_t} - {time_t_1}')\n",
    "\n",
    "        # rate change\n",
    "        model_opt.addConstr(aux_decision_var[config_names_decision_var][time_t] <= rate_change_decision_var, \n",
    "                            name = f'diff_var_X1 delta {time_t} - {time_t_1}')"
   ]
  },
  {
   "cell_type": "code",
   "execution_count": null,
   "id": "cf2a519c-e4d3-497d-8f9f-390560abe1a5",
   "metadata": {},
   "outputs": [],
   "source": []
  },
  {
   "cell_type": "code",
   "execution_count": null,
   "id": "9b65602d-2fec-41c8-9752-b87145d51307",
   "metadata": {},
   "outputs": [],
   "source": []
  },
  {
   "cell_type": "code",
   "execution_count": null,
   "id": "08a0de44-7799-4e13-ae37-2a39f9d82e74",
   "metadata": {},
   "outputs": [],
   "source": []
  },
  {
   "cell_type": "code",
   "execution_count": null,
   "id": "51d06aaf-69bb-4aff-9912-7afb13a651b5",
   "metadata": {},
   "outputs": [],
   "source": []
  },
  {
   "cell_type": "markdown",
   "id": "71f4fdfa-8f1c-4bbc-ac00-90d5b16b20c6",
   "metadata": {},
   "source": [
    "### 7. Volumen change (Inventory change) - across time - relation between decision variablesend{align}"
   ]
  },
  {
   "cell_type": "markdown",
   "id": "1bab8ee2-5eb0-4d43-928e-ce1490ee8848",
   "metadata": {},
   "source": [
    "The only constraint that needs to be defined is (because the constraints of rate change are defined above - The two first contraints can be replaced with the constraint that defined the lower and upper bound of the decision variables.)\n",
    "\n",
    "\\begin{align}\n",
    "&V^{t-1}_{j} ~ + \\sum_{i}  Y^{t}_{i,j} -  \\sum_{i}  Z^{t}_{i',j} ~ =  ~ V^{t}_{j} &\\quad \\forall ~ t \\in T, j \\in J \\tag{4}\\\\\n",
    "\\end{align}"
   ]
  },
  {
   "cell_type": "code",
   "execution_count": null,
   "id": "51b49760-329b-4e23-8238-73e02cfd61b4",
   "metadata": {},
   "outputs": [],
   "source": []
  },
  {
   "cell_type": "markdown",
   "id": "33054af1-2a5b-46fc-b15c-63130b6ffb9d",
   "metadata": {},
   "source": [
    "#### 7.1 Define full constraints - automatically all times\n",
    "- Automatization constraint. For across all the set time (t0, t1, t2, etc). But it is important to see that the first value of the decision variable (period t=0) is defined before, so the \"for cicle\" start from (t1, t2, etc)"
   ]
  },
  {
   "cell_type": "markdown",
   "id": "1e75361f-031b-4fa5-baae-631bb1a4c664",
   "metadata": {},
   "source": [
    "original codes\n",
    "    \n",
    "    model_opt.addConstr(var_tank_level[time_t_1] + var_Y1[time_t] - var_Z1[time_t] == var_tank_level[time_t], \n",
    "                name = f'new level of tank {time_t} - {time_t_1}')"
   ]
  },
  {
   "cell_type": "code",
   "execution_count": null,
   "id": "f7b55bc5-ab4d-4f57-9298-416358c8e8ec",
   "metadata": {},
   "outputs": [],
   "source": []
  },
  {
   "cell_type": "code",
   "execution_count": null,
   "id": "e54e2a2b-867c-4443-af9d-0c8a65598e4c",
   "metadata": {},
   "outputs": [],
   "source": [
    "#### EXAMPLE FOR ONE TANK HARCODED\n",
    "\n",
    "# for index_time in range(1, len(index_set_time)):\n",
    "    \n",
    "#     ### define time t and t-1\n",
    "#     time_t = index_set_time[index_time]\n",
    "#     time_t_1 = index_set_time[index_time-1]\n",
    "\n",
    "#     ### define constraints\n",
    "#     model_opt.addConstr(decision_var['TL1'][time_t_1] + decision_var['Y1'][time_t] - decision_var['Z1'][time_t] == decision_var['TL1'][time_t], \n",
    "#                 name = f'new level of tank {time_t} - {time_t_1}')"
   ]
  },
  {
   "cell_type": "code",
   "execution_count": null,
   "id": "d99bf3f8-b7d4-4450-a3e4-10e720763de0",
   "metadata": {},
   "outputs": [],
   "source": []
  },
  {
   "cell_type": "code",
   "execution_count": null,
   "id": "0b7f6b6e-4ccf-4b52-a656-38aedb006551",
   "metadata": {},
   "outputs": [],
   "source": [
    "# generate a list of tanks\n",
    "list_tanks = config_maptanks['tank'].unique().tolist()\n",
    "list_tanks"
   ]
  },
  {
   "cell_type": "code",
   "execution_count": null,
   "id": "bcd77bf8-dec7-444e-8289-76f7fda3ce6c",
   "metadata": {},
   "outputs": [],
   "source": [
    "# filter by each tank and build the constraint creating left side of constraint according the number of inputs and outputs flows\n",
    "\n",
    "\n",
    "# FOR EACH TANK\n",
    "for name_tank in list_tanks:\n",
    "    print('tank name: ', name_tank)\n",
    "\n",
    "    # get a config map tanks dataframe with only the information of the tank that is consulting\n",
    "    aux_config_maptanks = config_maptanks[config_maptanks['tank'] == name_tank]\n",
    "\n",
    "\n",
    "    # FOR EACH TIME CONSTRAINT\n",
    "    for index_time in range(1, len(index_set_time)):\n",
    "        \n",
    "        ### define time t and t-1\n",
    "        time_t = index_set_time[index_time]\n",
    "        time_t_1 = index_set_time[index_time-1]\n",
    "    \n",
    "        \n",
    "        # BUILD THE LEFT CONSTRAINT WITH MULTIPLE INPUT AND OUTPUT FLOWS. ALSO IDENTIFY THE RIGHT SIDE CONSTRAINT\n",
    "        left_side_constraint = 0\n",
    "        for tag_related_tank in aux_config_maptanks['feature_name'].to_list():\n",
    "    \n",
    "            # filter the configuration file only for the tag that is consulting\n",
    "            aux_one_row_config_maptanks = aux_config_maptanks[aux_config_maptanks['feature_name'] == tag_related_tank]\n",
    "    \n",
    "            # identify if the tag is level variable adn the build the left side of constraint. also save the value to right side constraint\n",
    "            if (aux_one_row_config_maptanks[\"input_output\"] == 'L').values[0]:\n",
    "                left_side_constraint += decision_var[tag_related_tank][time_t_1]\n",
    "                right_side_constraint = decision_var[tag_related_tank][time_t]\n",
    "    \n",
    "    \n",
    "            # identify if the tag is level variable adn the build the left side of constraint\n",
    "            if (aux_one_row_config_maptanks[\"input_output\"] == 'IN').values[0]:\n",
    "                left_side_constraint += decision_var[tag_related_tank][time_t]\n",
    "                \n",
    "                \n",
    "            # identify if the tag is level variable adn the build the left side of constraint\n",
    "            if (aux_one_row_config_maptanks[\"input_output\"] == 'OUT').values[0]:\n",
    "                left_side_constraint -= decision_var[tag_related_tank][time_t]\n",
    "\n",
    "\n",
    "\n",
    "        ### define constraints\n",
    "        model_opt.addConstr(left_side_constraint == right_side_constraint, \n",
    "                    name = f'new level of tank {name_tank}  in times: {time_t} - {time_t_1}')\n",
    "\n",
    "\n",
    "        # # debugigng\n",
    "        # model_opt.update()\n",
    "        # print(left_side_constraint)\n",
    "        # print(right_side_constraint)"
   ]
  },
  {
   "cell_type": "code",
   "execution_count": null,
   "id": "a82643ba-b72e-4ec3-86a7-87543ed09ae6",
   "metadata": {},
   "outputs": [],
   "source": []
  },
  {
   "cell_type": "code",
   "execution_count": null,
   "id": "edec50e0-cf38-4ca1-bda9-a21111e535d0",
   "metadata": {},
   "outputs": [],
   "source": []
  },
  {
   "cell_type": "markdown",
   "id": "aa48cdac-04cc-456b-89fb-c37ef2a7eff0",
   "metadata": {},
   "source": [
    "### 8. Set values of observed variables\n",
    "The observed variables are not decision variables, but with the idea to automatize this codes they are defined as decision variables and then a constraint is added to set its values to a unique values\n",
    "\n",
    "Doing this is a little automatice the creation of the constraints and open the posibility to transform the observed variables into a decision variables and connect other models/tanks/process to this observed variables with a less modification in the codes"
   ]
  },
  {
   "cell_type": "code",
   "execution_count": null,
   "id": "6f2a991d-790c-4856-a5bc-6c867a17ada4",
   "metadata": {},
   "outputs": [],
   "source": [
    "### get list of observed variables\n",
    "list_observed_variables = config_allvariables[config_allvariables['clasification'] == 'O']['feature_name'].tolist()\n",
    "\n",
    "### get table with observed variables and its values\n",
    "config_initvalues_observed_variables = config_initvalues[config_initvalues['feature_name'].isin(list_observed_variables)]\n",
    "config_initvalues_observed_variables = config_initvalues_observed_variables.reset_index().drop(columns = 'index') # reset index to count by index\n",
    "config_initvalues_observed_variables"
   ]
  },
  {
   "cell_type": "code",
   "execution_count": null,
   "id": "28fa1ef6-5c83-4bb6-84b9-491857f57711",
   "metadata": {},
   "outputs": [],
   "source": [
    "for index_var in range(len(config_initvalues_observed_variables)):\n",
    "    \n",
    "    # get config values\n",
    "    config_names_decision_var = config_initvalues_observed_variables.loc[index_var, 'feature_name']\n",
    "    print('init values observed variables: ', config_names_decision_var)\n",
    "\n",
    "    # add constraint observed variables fixed\n",
    "    gppd.add_constrs(model_opt,\n",
    "                     decision_var[config_names_decision_var],  # decision var\n",
    "                     gp.GRB.EQUAL,\n",
    "                     config_initvalues_observed_variables[config_initvalues_observed_variables['feature_name'] == config_names_decision_var]['init_values'].values[0],  # value observed variable\n",
    "                     name = f'set value of observed variable: {config_names_decision_var}')"
   ]
  },
  {
   "cell_type": "code",
   "execution_count": null,
   "id": "08c22861-eae7-416c-8907-02a3abfaa09a",
   "metadata": {},
   "outputs": [],
   "source": []
  },
  {
   "cell_type": "code",
   "execution_count": null,
   "id": "fa38f734-a08e-45f4-9980-c71d9b6ece02",
   "metadata": {},
   "outputs": [],
   "source": []
  },
  {
   "cell_type": "markdown",
   "id": "c428d04b-2f17-42f8-9a96-23897d6cc2d0",
   "metadata": {},
   "source": [
    "### 8. Load a Machine Learning Model as constraints that represent the relations in the process"
   ]
  },
  {
   "cell_type": "code",
   "execution_count": null,
   "id": "3f1c4531-8edc-484b-92b3-595a0c5be5e5",
   "metadata": {},
   "outputs": [],
   "source": []
  },
  {
   "cell_type": "code",
   "execution_count": null,
   "id": "be0cdba8-2cb3-4781-9359-d5b0297b46d7",
   "metadata": {},
   "outputs": [],
   "source": [
    "for index_modelml in range(len(config_modelsml)):\n",
    "\n",
    "    ############ get the name (ID) of ml models ############\n",
    "    config_names_modelsml = config_modelsml.loc[index_modelml, 'name_process_model']\n",
    "    print('\\nname model - model id: ', config_names_modelsml)\n",
    "\n",
    "\n",
    "    ############ load artifact model ############\n",
    "    model = models_ml[config_names_modelsml]\n",
    "    type_model = type(model)\n",
    "\n",
    "    \n",
    "    ############ load parameters to build the machine learning models constraints ############\n",
    "    # Get the list of features (with the SAME name used in the training of optimizer). and the SAME ORDER\n",
    "    config_mapprocess_mlmodels_to_instance = config_mapprocess_mlmodels[config_mapprocess_mlmodels['name_process_model'] == config_names_modelsml]\n",
    "    config_mapprocess_mlmodels_to_instance_features = config_mapprocess_mlmodels_to_instance[config_mapprocess_mlmodels_to_instance['clasificacion'] != 'T']\n",
    "    list_features_instance = config_mapprocess_mlmodels_to_instance_features['feature_name'].tolist()\n",
    "    \n",
    "    # Get list of target\n",
    "    config_mapprocess_mlmodels_to_instance_target = config_mapprocess_mlmodels_to_instance[config_mapprocess_mlmodels_to_instance['clasificacion'] == 'T']\n",
    "    list_target_instance = config_mapprocess_mlmodels_to_instance_target['feature_name'].tolist()\n",
    "    \n",
    "    # Construct a list of targets of decision var acording the list of the target. # all the models predict only one target\n",
    "    config_names_target_decision_var = list_target_instance[0]\n",
    "    target_decision_var = decision_var[config_names_target_decision_var] \n",
    "\n",
    "\n",
    "    ############ build machine learning models constraints ############\n",
    "    # identifity if the model loaded is a custom/rules or machine learning model\n",
    "    if type(model) == pd.DataFrame:\n",
    "        print('constraint custom model')\n",
    "    \n",
    "        # rename to remember the model is a dataframe with factors in custom model\n",
    "        dataframe_model = model.copy()\n",
    "        \n",
    "        # for each feature in the model, get the decision var and multiply with its factor and build the left side constraint\n",
    "        left_side_constraint = 0\n",
    "        for index_feature_model in range(len(dataframe_model)):\n",
    "        \n",
    "            # get name of decision var\n",
    "            config_names_decision_var = dataframe_model.loc[index_feature_model, 'feature_name']\n",
    "            print('decision var: ', config_names_decision_var)\n",
    "            \n",
    "            # get factor of the decision var\n",
    "            factor_decision_var = dataframe_model.loc[index_feature_model, 'factor_model']\n",
    "            \n",
    "            # multiply decision var with the factor and save in the left side constraint\n",
    "            left_side_constraint += decision_var[config_names_decision_var] * factor_decision_var\n",
    "    \n",
    "    \n",
    "        # define function as constraint\n",
    "        gppd.add_constrs(model_opt, \n",
    "                         left_side_constraint,\n",
    "                         gp.GRB.EQUAL, \n",
    "                         target_decision_var, # decision var target\n",
    "                         name = f'function as constraint output predict {list_target_instance[0] }'\n",
    "                        )\n",
    "    \n",
    "    else:\n",
    "        print('constraint machine learning model')\n",
    "    \n",
    "        # Construct a list features of decision var acording the order in the list. \n",
    "        list_features_decision_var_instance = []\n",
    "        for config_names_decision_var in list_features_instance:\n",
    "            #print('feature - decision var append: ', config_names_decision_var)\n",
    "            list_features_decision_var_instance.append(decision_var[config_names_decision_var])\n",
    "        \n",
    "        # Generate instance of machine learning model\n",
    "        instance = pd.DataFrame(list_features_decision_var_instance).T\n",
    "        instance.columns = list_features_instance\n",
    "        \n",
    "        # # Add machine learning model as constraint\n",
    "        add_predictor_constr(gp_model = model_opt, \n",
    "                             predictor = model, \n",
    "                             input_vars = instance, # instance pandas gurobi\n",
    "                             output_vars = target_decision_var, # decision var target\n",
    "                             name = f'model_predict {list_target_instance[0]}'\n",
    "                            )"
   ]
  },
  {
   "cell_type": "code",
   "execution_count": null,
   "id": "0af12692-47fb-4378-9d38-412c4c4e7873",
   "metadata": {},
   "outputs": [],
   "source": []
  },
  {
   "cell_type": "markdown",
   "id": "a6921d2e-48ac-4456-919b-7f5029321a52",
   "metadata": {},
   "source": [
    "### 9. Define objective optimization\n",
    "Objetive that no generate infeasibility"
   ]
  },
  {
   "cell_type": "code",
   "execution_count": null,
   "id": "9d81d62c-cb88-4a3e-97d7-572ade64aa99",
   "metadata": {},
   "outputs": [],
   "source": [
    "# optization\n",
    "model_opt.setObjective(decision_var['Y1'].sum() + decision_var['Y2'].sum() + decision_var['Y3'].sum(),\n",
    "                       gp.GRB.MAXIMIZE)"
   ]
  },
  {
   "cell_type": "code",
   "execution_count": null,
   "id": "aef73d74-359a-4a58-acdf-a265e8623707",
   "metadata": {},
   "outputs": [],
   "source": []
  },
  {
   "cell_type": "code",
   "execution_count": null,
   "id": "f877b067-7b04-4436-bfb3-090e81f48973",
   "metadata": {},
   "outputs": [],
   "source": []
  },
  {
   "cell_type": "markdown",
   "id": "e0c037fe-dd9b-408b-b1ef-0e0ccc0a8711",
   "metadata": {},
   "source": [
    "## ----> return the mdoel_opt that has defined for this instance can get the solution <----"
   ]
  },
  {
   "cell_type": "code",
   "execution_count": null,
   "id": "117daef7-4e2e-4c5f-95d0-57b7db2580a7",
   "metadata": {},
   "outputs": [],
   "source": [
    "model_opt"
   ]
  },
  {
   "cell_type": "code",
   "execution_count": null,
   "id": "c8b34685-603a-4d3a-8a27-ea2785cde136",
   "metadata": {},
   "outputs": [],
   "source": []
  },
  {
   "cell_type": "code",
   "execution_count": null,
   "id": "e6146b06-b08b-4c7c-a1a9-89af9e4b0fa9",
   "metadata": {},
   "outputs": [],
   "source": []
  },
  {
   "cell_type": "markdown",
   "id": "239737ce-2c33-4aca-b28e-b2e4450ee0bd",
   "metadata": {},
   "source": [
    "### 10. Optimize and get optimal values"
   ]
  },
  {
   "cell_type": "code",
   "execution_count": null,
   "id": "688cdcf5-ea18-4716-a523-3ee16b90db48",
   "metadata": {},
   "outputs": [],
   "source": [
    "# solve\n",
    "model_opt.optimize()"
   ]
  },
  {
   "cell_type": "code",
   "execution_count": null,
   "id": "b835ae8d-ca47-478f-9a11-a21227949557",
   "metadata": {},
   "outputs": [],
   "source": [
    "#### know the status of the model - 2 a optimal solution was founded\n",
    "# docu: https://www.gurobi.com/documentation/current/refman/optimization_status_codes.html#sec:StatusCodes\n",
    "model_opt.Status"
   ]
  },
  {
   "cell_type": "code",
   "execution_count": null,
   "id": "241da7da-682e-4874-8251-c64700b06e16",
   "metadata": {},
   "outputs": [],
   "source": [
    "# get optimal values and save in a dataframe\n",
    "######## create a dataframe with set as index\n",
    "solution = pd.DataFrame(index = index_set_time)\n",
    "\n",
    "######################## save optimal values - features of models (only the features) ########################\n",
    "solution[\"var_X1\"] = decision_var['X1'].gppd.X\n",
    "solution[\"var_O1\"] = decision_var['O1'].gppd.X\n",
    "solution[\"var_O2\"] = decision_var['O2'].gppd.X\n",
    "solution[\"var_O3\"] = decision_var['O3'].gppd.X\n",
    "solution[\"var_Y1\"] = decision_var['Y1'].gppd.X\n",
    "solution[\"var_O4\"] = decision_var['O4'].gppd.X\n",
    "solution[\"var_Z1\"] = decision_var['Z1'].gppd.X\n",
    "solution[\"var_X2\"] = decision_var['X2'].gppd.X\n",
    "solution[\"var_O5\"] = decision_var['O5'].gppd.X\n",
    "solution[\"var_O6\"] = decision_var['O6'].gppd.X\n",
    "solution[\"var_Y2\"] = decision_var['Y2'].gppd.X\n",
    "solution[\"var_Y3\"] = decision_var['Y3'].gppd.X\n",
    "solution[\"var_X3\"] = decision_var['X3'].gppd.X\n",
    "solution[\"var_O7\"] = decision_var['O7'].gppd.X\n",
    "solution[\"var_TL1\"] = decision_var['TL1'].gppd.X\n",
    "solution[\"var_TL2\"] = decision_var['TL2'].gppd.X\n",
    "solution[\"var_TL3\"] = decision_var['TL3'].gppd.X\n",
    "\n",
    "######################## # get value objetive function ########################\n",
    "opt_objetive_function = model_opt.ObjVal"
   ]
  },
  {
   "cell_type": "code",
   "execution_count": null,
   "id": "a6af89e0-0dde-4edb-a6a3-438616df05f1",
   "metadata": {},
   "outputs": [],
   "source": [
    "# show value objetive function\n",
    "opt_objetive_function"
   ]
  },
  {
   "cell_type": "code",
   "execution_count": null,
   "id": "e55440c3-3f32-4219-ae03-968aa51780d1",
   "metadata": {
    "scrolled": true
   },
   "outputs": [],
   "source": [
    "# show value decision variables\n",
    "solution.T"
   ]
  },
  {
   "cell_type": "code",
   "execution_count": null,
   "id": "e74ad2dc-fd9d-481d-81fe-b113820ebfd3",
   "metadata": {},
   "outputs": [],
   "source": []
  },
  {
   "cell_type": "code",
   "execution_count": null,
   "id": "a50e32cc-0860-4d29-a204-ce7a6a6d276a",
   "metadata": {},
   "outputs": [],
   "source": []
  },
  {
   "cell_type": "code",
   "execution_count": null,
   "id": "997212fc-e77f-4f88-9063-cee9924c5abe",
   "metadata": {},
   "outputs": [],
   "source": []
  }
 ],
 "metadata": {
  "kernelspec": {
   "display_name": "Python 3 (ipykernel)",
   "language": "python",
   "name": "python3"
  },
  "language_info": {
   "codemirror_mode": {
    "name": "ipython",
    "version": 3
   },
   "file_extension": ".py",
   "mimetype": "text/x-python",
   "name": "python",
   "nbconvert_exporter": "python",
   "pygments_lexer": "ipython3",
   "version": "3.10.14"
  }
 },
 "nbformat": 4,
 "nbformat_minor": 5
}
