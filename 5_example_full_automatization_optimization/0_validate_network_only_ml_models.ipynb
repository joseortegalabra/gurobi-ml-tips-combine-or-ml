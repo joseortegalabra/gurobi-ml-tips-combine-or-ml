{
 "cells": [
  {
   "cell_type": "markdown",
   "id": "92347a6c-5266-4995-ae64-7ab94a368734",
   "metadata": {},
   "source": [
    "# Validate network with only the models\n",
    "\n",
    "See if the optimization model with only the ml models can generate a feasible solution\n",
    "\n",
    "This is a relaxing problem"
   ]
  },
  {
   "cell_type": "markdown",
   "id": "ae68a236-44db-4d71-84d3-41f2e8854a66",
   "metadata": {},
   "source": []
  },
  {
   "cell_type": "code",
   "execution_count": null,
   "id": "5c5d42a2-f745-4d06-9677-e990681e3041",
   "metadata": {},
   "outputs": [],
   "source": []
  },
  {
   "cell_type": "markdown",
   "id": "986f169c-cd8e-4707-b545-84226eedb449",
   "metadata": {},
   "source": [
    "## Root folder and read env variables"
   ]
  },
  {
   "cell_type": "code",
   "execution_count": null,
   "id": "dcee657f-aada-49b8-b447-f41e067e4a18",
   "metadata": {
    "scrolled": true
   },
   "outputs": [],
   "source": [
    "import os\n",
    "# fix root path to save outputs\n",
    "actual_path = os.path.abspath(os.getcwd())\n",
    "list_root_path = actual_path.split('\\\\')[:-1]\n",
    "root_path = '\\\\'.join(list_root_path)\n",
    "os.chdir(root_path)"
   ]
  },
  {
   "cell_type": "code",
   "execution_count": null,
   "id": "a6640988-69c4-4dfd-b22f-aeeb11fa6e55",
   "metadata": {},
   "outputs": [],
   "source": [
    "import os\n",
    "from dotenv import load_dotenv, find_dotenv # package used in jupyter notebook to read the variables in file .env\n",
    "\n",
    "\"\"\" get env variable from .env \"\"\"\n",
    "load_dotenv(find_dotenv())\n",
    "\n",
    "\"\"\" Read env variables and save it as python variable \"\"\"\n",
    "PROJECT_GCP = os.environ.get(\"PROJECT_GCP\", \"\")"
   ]
  },
  {
   "cell_type": "code",
   "execution_count": null,
   "id": "527d20f4-aa38-490e-84f2-30e6fda8bdd9",
   "metadata": {},
   "outputs": [],
   "source": []
  },
  {
   "cell_type": "markdown",
   "id": "003f3a9b-374c-4d73-8444-fc7da3423488",
   "metadata": {},
   "source": [
    "## Load licence gurobi"
   ]
  },
  {
   "cell_type": "code",
   "execution_count": null,
   "id": "ac2359ef-eb78-4784-b81d-d23a27037bd9",
   "metadata": {},
   "outputs": [],
   "source": [
    "##########  LOAD LICENCE GUROBI ##########\n",
    "import gurobipy as gp\n",
    "\n",
    "# set env variable with the path of the licence\n",
    "name_file_licence_gurobi = \"gurobi.lic\"\n",
    "path_licence_gurobi = root_path + '\\\\' + name_file_licence_gurobi\n",
    "os.environ [\"GRB_LICENSE_FILE\"] = path_licence_gurobi\n",
    "print(os.environ[\"GRB_LICENSE_FILE\"])"
   ]
  },
  {
   "cell_type": "code",
   "execution_count": null,
   "id": "f59402de-4b8f-42c1-82e7-c286bfeb21f1",
   "metadata": {},
   "outputs": [],
   "source": [
    "######### LAOD CONTENT LICENCE GUROBI #########\n",
    "with open(path_licence_gurobi, 'r') as f:\n",
    "    content_licence = f.read()\n",
    "WLSACCESSID = content_licence.split('\\n')[3].split('=')[1] # load WLSACCESSID (string)\n",
    "WLSSECRET = content_licence.split('\\n')[4].split('=')[1] # load WLSSECRET (string)\n",
    "LICENSEID = int(content_licence.split('\\n')[5].split(\"=\")[1]) # load LICENSEID (integer)\n",
    "\n",
    "params = {\n",
    "\"WLSACCESSID\": WLSACCESSID,\n",
    "\"WLSSECRET\": WLSSECRET,\n",
    "\"LICENSEID\": LICENSEID\n",
    "}"
   ]
  },
  {
   "cell_type": "code",
   "execution_count": null,
   "id": "115d254b-2433-4917-ba92-651a10705e06",
   "metadata": {},
   "outputs": [],
   "source": []
  },
  {
   "cell_type": "markdown",
   "id": "b6843afc-d41f-44ba-a1a9-469cc4f3a6a2",
   "metadata": {},
   "source": [
    "## RUN"
   ]
  },
  {
   "cell_type": "code",
   "execution_count": null,
   "id": "365a0300-b10d-4106-af86-619457307401",
   "metadata": {},
   "outputs": [],
   "source": [
    "import pickle\n",
    "import pandas as pd\n",
    "import numpy as np\n",
    "\n",
    "#gurobi\n",
    "import gurobipy_pandas as gppd\n",
    "from gurobi_ml import add_predictor_constr\n",
    "import gurobipy as gp"
   ]
  },
  {
   "cell_type": "code",
   "execution_count": null,
   "id": "f7b14e29-5164-4360-a160-42a1a64bee08",
   "metadata": {},
   "outputs": [],
   "source": [
    "import warnings\n",
    "warnings.filterwarnings('ignore')"
   ]
  },
  {
   "cell_type": "code",
   "execution_count": null,
   "id": "1e3078fc-ed85-4d94-bcf6-47ac2f7e24d1",
   "metadata": {},
   "outputs": [],
   "source": []
  },
  {
   "cell_type": "code",
   "execution_count": null,
   "id": "45687449-9d9d-44aa-82a7-ae70255ac000",
   "metadata": {},
   "outputs": [],
   "source": []
  },
  {
   "cell_type": "markdown",
   "id": "08f70863-7e71-4ed5-8d9a-f9193550b3e5",
   "metadata": {},
   "source": [
    "### 1. Load configuration file optimizer and configuration instance to solve\n",
    "The are principally two kind of files to config optimizer\n",
    "- **configuration file to create optimizer**: there a files used to create the optimization network such as, list of sets, list of variables, upper bound and lower bound, etc. Pricipally in this files should be parameters that doesn't change too much across the time. For example, the list of variable, is a parameter that if change, the structure of the network change and the machine learning models needs to change too\n",
    "\n",
    "- **configuration file with instance to solve**: there files that change its values every time that the optimizer solve the problem. It represents the files with the actual values of the features, and so, this values change every time that the optimizer is executed"
   ]
  },
  {
   "cell_type": "markdown",
   "id": "ed635269-06e2-4d29-93aa-33d7255a0bca",
   "metadata": {},
   "source": [
    "#### 1.1. IndexTime file"
   ]
  },
  {
   "cell_type": "code",
   "execution_count": null,
   "id": "1666dafa-d7a9-4f09-b665-5b870753b4ae",
   "metadata": {},
   "outputs": [],
   "source": [
    "#################### define set ####################\n",
    "\n",
    "## paths and files names\n",
    "path_folder_config_optimization = f'config/optimization_engine/config_optimization/'\n",
    "file_indextime = 'IndexTime.xlsx'\n",
    "path_indextime = path_folder_config_optimization + file_indextime\n",
    "\n",
    "# read file\n",
    "indextime = pd.read_excel(path_indextime)\n",
    "\n",
    "# set index\n",
    "index_set_time = pd.Index(indextime['IndexTime'].values)\n",
    "index_set_time"
   ]
  },
  {
   "cell_type": "code",
   "execution_count": null,
   "id": "5e4eb132-7dc6-413c-9d54-10b09f7d9e12",
   "metadata": {},
   "outputs": [],
   "source": []
  },
  {
   "cell_type": "markdown",
   "id": "43641dc7-5b3e-4659-958b-4142bef567a7",
   "metadata": {},
   "source": [
    "#### 1.2 Decision variables"
   ]
  },
  {
   "cell_type": "code",
   "execution_count": null,
   "id": "79fc9b30-bbd3-4e04-9d63-3321c608a2ec",
   "metadata": {},
   "outputs": [],
   "source": [
    "#################### define decision variables ####################\n",
    "\n",
    "# paths and file names\n",
    "path_folder_config_optimization = f'config/optimization_engine/config_optimization/'\n",
    "file_allvariables = 'AllVariables.xlsx'\n",
    "path_allvariables = path_folder_config_optimization + file_allvariables\n",
    "\n",
    "# read file\n",
    "config_allvariables = pd.read_excel(path_allvariables)\n",
    "\n",
    "# table\n",
    "config_allvariables"
   ]
  },
  {
   "cell_type": "code",
   "execution_count": null,
   "id": "bc0bd905-53a1-4440-a2c4-986063b6fad7",
   "metadata": {},
   "outputs": [],
   "source": []
  },
  {
   "cell_type": "markdown",
   "id": "8a4a9dbf-457a-4427-b93d-80589e8a9918",
   "metadata": {},
   "source": [
    "#### 1.3 Initial Values\n",
    "-  This configuration files corresponde to the description **\"configuration file with instance to solve\"**. This file has the initial values to start the optimizer\n",
    "-  **OBS: the decision variable that are targets of machine learning models its initial value it nos defined. For all the optimization process since t=0 to t=N all the values are predicted by ml model**"
   ]
  },
  {
   "cell_type": "code",
   "execution_count": null,
   "id": "6753daf8-85a5-42c0-86cc-f7b9eef468e1",
   "metadata": {},
   "outputs": [],
   "source": [
    "#################### define initial values ####################\n",
    "\n",
    "# paths and file names\n",
    "path_folder_config_optimization = f'config/optimization_engine/config_optimization/'\n",
    "file_initvalues = 'InitialValues.xlsx'\n",
    "path_initvalues = path_folder_config_optimization + file_initvalues\n",
    "\n",
    "# read file\n",
    "config_initvalues = pd.read_excel(path_initvalues)\n",
    "\n",
    "# table\n",
    "config_initvalues"
   ]
  },
  {
   "cell_type": "markdown",
   "id": "5da68e5a-2c9f-4f01-b139-6520790dd29c",
   "metadata": {},
   "source": [
    "#### OBS: at this part all the parameters of decision variables and observed variables were defined. Now, it is necesary define a structure of the optimization network to have the capacity to generate whatever network of this kind of problem with the posibilty to change the number of variables, its limits, capacity of tanks and also the NUMBER of process and tanks"
   ]
  },
  {
   "cell_type": "code",
   "execution_count": null,
   "id": "a6c3e5f2-884c-41e3-b5d3-328a2dea03f4",
   "metadata": {},
   "outputs": [],
   "source": []
  },
  {
   "cell_type": "markdown",
   "id": "a2fb2fba-02d0-4573-9ed6-f7e7c03251e7",
   "metadata": {},
   "source": [
    "#### 1.4 Define models to load\n",
    "In this file are defined the path to ml models used in each process. Then reading the table the optimizer can go to load the ml model\n",
    "\n",
    "**As you can see a process can have multiple models because the process has multiple outputs. BUT each model to develop has its own and unique name**"
   ]
  },
  {
   "cell_type": "code",
   "execution_count": null,
   "id": "0c524341-4053-4bc0-a4a3-6805705ee79c",
   "metadata": {},
   "outputs": [],
   "source": [
    "#################### define initial values ####################\n",
    "\n",
    "# paths and file names\n",
    "path_folder_config_optimization = f'config/optimization_engine/config_optimization/'\n",
    "file_modelsml = 'ModelsML.xlsx'\n",
    "path_modelsml = path_folder_config_optimization + file_modelsml\n",
    "\n",
    "# read file\n",
    "config_modelsml = pd.read_excel(path_modelsml)\n",
    "\n",
    "# table\n",
    "config_modelsml"
   ]
  },
  {
   "cell_type": "code",
   "execution_count": null,
   "id": "e4871286-4594-4d1f-b4fd-730450623bfd",
   "metadata": {},
   "outputs": [],
   "source": []
  },
  {
   "cell_type": "markdown",
   "id": "8840e610-730f-48db-908c-55a35689a91c",
   "metadata": {},
   "source": [
    "#### 1.5 Map tanks\n",
    "Read a configuration table that map each tank in the process. For each tank is mapped the input flows and the output flows\n",
    "\n",
    "Important, obviosly, the input and outputs of the tank needs to be defined in the table that maps all the features in the network"
   ]
  },
  {
   "cell_type": "code",
   "execution_count": null,
   "id": "79c87023-8240-49b3-a803-b58c34346373",
   "metadata": {},
   "outputs": [],
   "source": [
    "#################### define map input outputs each tank ####################\n",
    "\n",
    "# paths and file names\n",
    "path_folder_config_optimization = f'config/optimization_engine/config_optimization/'\n",
    "file_maptanks = 'MapTanks.xlsx'\n",
    "path_maptanks = path_folder_config_optimization + file_maptanks\n",
    "\n",
    "# read file\n",
    "config_maptanks = pd.read_excel(path_maptanks)\n",
    "\n",
    "# table\n",
    "config_maptanks"
   ]
  },
  {
   "cell_type": "code",
   "execution_count": null,
   "id": "8b4cdf33-6cf2-4521-8837-3b668253d767",
   "metadata": {},
   "outputs": [],
   "source": []
  },
  {
   "cell_type": "markdown",
   "id": "230e1b2f-5c53-4b44-941a-ea6c19ea51cb",
   "metadata": {},
   "source": [
    "#### 1.6 Map process Machine learning models features and target\n",
    "When each machine learning model is trained, one of the outputs of the tranining process is the artifact with the model and also a master table with the features and target of the model.\n",
    "\n",
    "- **In this example the individual master table for each model was generated automatically and the sintetized table is generated manually by the author**\n",
    "\n",
    "- **As you can see a process can have multiple models because the process has multiple outputs. BUT each model to develop has its own and unique name**"
   ]
  },
  {
   "cell_type": "code",
   "execution_count": null,
   "id": "e0103235-3335-40e0-899e-80149e5880a8",
   "metadata": {},
   "outputs": [],
   "source": [
    "#################### define map features and targer of each model for each process ####################\n",
    "\n",
    "# paths and file names\n",
    "path_folder_config_optimization = f'config/optimization_engine/config_optimization/'\n",
    "file_mapprocess_mlmodels = 'MapProcessMLmodels.xlsx'\n",
    "path_mapprocess_mlmodels = path_folder_config_optimization + file_mapprocess_mlmodels\n",
    "\n",
    "# read filemapprocess_mlmodels\n",
    "config_mapprocess_mlmodels = pd.read_excel(path_mapprocess_mlmodels)\n",
    "\n",
    "# table\n",
    "config_mapprocess_mlmodels"
   ]
  },
  {
   "cell_type": "code",
   "execution_count": null,
   "id": "8c584d2b-26b0-40ea-bc5a-049fb4069a74",
   "metadata": {},
   "outputs": [],
   "source": []
  },
  {
   "cell_type": "code",
   "execution_count": null,
   "id": "31b6e593-7684-424a-9331-05b88cc874fa",
   "metadata": {},
   "outputs": [],
   "source": []
  },
  {
   "cell_type": "markdown",
   "id": "7a009362-3cb5-41d0-95d1-0b7db239f94c",
   "metadata": {},
   "source": [
    "### 2. Load ML models\n",
    "Automatically load all the models and save its into a dictionary to call when it is neccesary (as a process can have multiple models, id of the dictionary is the **name_process_model** that indicates the name for a unique model in the optimization network)\n",
    "- Process A - y1\n",
    "- Process B - y2\n",
    "- Process C - y2 (custom model)\n",
    "- Process B - y3"
   ]
  },
  {
   "cell_type": "code",
   "execution_count": null,
   "id": "1b70cb6b-c744-4a59-8196-d80b1e3ce681",
   "metadata": {},
   "outputs": [],
   "source": [
    "config_modelsml"
   ]
  },
  {
   "cell_type": "code",
   "execution_count": null,
   "id": "900620d8-8b60-4907-bcd7-20aa5744ef6c",
   "metadata": {},
   "outputs": [],
   "source": [
    "# process_a_y1\n",
    "path_model_process_a_y1 = 'artifacts/models/process_a/'\n",
    "artifact_model_process_a_y1 = 'model.pkl'\n",
    "path_model_process_a_y1 = path_model_process_a_y1 + artifact_model_process_a_y1\n",
    "model_process_a_y1 = pd.read_pickle(path_model_process_a_y1)\n",
    "model_process_a_y1"
   ]
  },
  {
   "cell_type": "code",
   "execution_count": null,
   "id": "19f2eb3f-b9a4-43e5-b80b-d8eb782bf260",
   "metadata": {},
   "outputs": [],
   "source": [
    "# process_b_y2\n",
    "path_model_process_b_y2 = 'artifacts/models/process_b_y2/'\n",
    "artifact_model_process_b_y2 = 'model.pkl'\n",
    "path_model_process_b_y2 = path_model_process_b_y2 + artifact_model_process_b_y2\n",
    "model_process_b_y2 = pd.read_pickle(path_model_process_b_y2)\n",
    "model_process_b_y2"
   ]
  },
  {
   "cell_type": "code",
   "execution_count": null,
   "id": "f1747ce1-b627-462f-bf94-7facf0d57ebc",
   "metadata": {},
   "outputs": [],
   "source": [
    "# process_b_y3\n",
    "path_model_process_b_y3 = 'artifacts/models/process_b_y3/'\n",
    "artifact_model_process_b_y3 = 'model.pkl'\n",
    "path_model_process_b_y3 = path_model_process_b_y3 + artifact_model_process_b_y3\n",
    "model_process_b_y3 = pd.read_pickle(path_model_process_b_y3)\n",
    "model_process_b_y3"
   ]
  },
  {
   "cell_type": "code",
   "execution_count": null,
   "id": "e208d2be-94f3-4c26-a12f-ec2763bdebee",
   "metadata": {},
   "outputs": [],
   "source": [
    "# process_c_y2\n",
    "# CUSTOM - read excel table with the parameters\n",
    "\n",
    "path_model_process_c = 'artifacts/models/process_c/'\n",
    "artifact_model_process_c = 'model.xlsx'\n",
    "path_model_process_c = path_model_process_c + artifact_model_process_c\n",
    "model_process_c = pd.read_excel(path_model_process_c)\n",
    "model_process_c"
   ]
  },
  {
   "cell_type": "code",
   "execution_count": null,
   "id": "bd1fbc9e-a707-4e91-9c8c-84324cb1c671",
   "metadata": {},
   "outputs": [],
   "source": []
  },
  {
   "cell_type": "code",
   "execution_count": null,
   "id": "916a457d-2ab1-4a75-8e5f-4b360f1cef78",
   "metadata": {},
   "outputs": [],
   "source": []
  },
  {
   "cell_type": "code",
   "execution_count": null,
   "id": "148c5ac8-f0d8-4ddd-b52e-9db7c7aaa7f9",
   "metadata": {},
   "outputs": [],
   "source": []
  },
  {
   "cell_type": "markdown",
   "id": "61bbf9c2-fc6f-44cc-ac07-fd485651fca4",
   "metadata": {},
   "source": [
    "### 2. Create gurobi model"
   ]
  },
  {
   "cell_type": "code",
   "execution_count": null,
   "id": "9adcac1a-f1e5-48a8-838a-132f4fd0de81",
   "metadata": {},
   "outputs": [],
   "source": [
    "# # create model with licence\n",
    "env = gp.Env(params=params)\n",
    "model_opt = gp.Model('Example Optimization Model', env = env)\n",
    "\n",
    "# create model without licence\n",
    "# model_opt = gp.Model('Example Optimization Model')"
   ]
  },
  {
   "cell_type": "code",
   "execution_count": null,
   "id": "c182e230-920d-4dc8-8117-c034f10c1e25",
   "metadata": {},
   "outputs": [],
   "source": []
  },
  {
   "cell_type": "code",
   "execution_count": null,
   "id": "11088ab2-9f11-4554-a374-54415f686ba2",
   "metadata": {},
   "outputs": [],
   "source": []
  },
  {
   "cell_type": "code",
   "execution_count": null,
   "id": "cd4834c3-d4b9-4918-9499-00ed9d3b7dfe",
   "metadata": {},
   "outputs": [],
   "source": []
  },
  {
   "cell_type": "markdown",
   "id": "052c9a12-c3a9-456f-8c59-e2f78776984d",
   "metadata": {},
   "source": [
    "### 3. Create decision variables\n",
    "It is necesary to have:\n",
    "- list of elements of the sets of decision var\n",
    "- table with the list of decision variables to create with important considerations when the are created (for example, upper bound and lower bound)\n",
    "- **create the decision var and save it into a dictionary of decision var. Use the dictionary to call the decision var when they are used to create a constraints**"
   ]
  },
  {
   "cell_type": "markdown",
   "id": "26d058dc-ac4d-43a0-a85b-64d786eb4292",
   "metadata": {},
   "source": [
    "#### Aditional, when the decision var is created, set the initial value\n",
    "\n",
    "- Fix the values of period t=0 for each decision var.\n",
    "\n",
    "- t=0 represent the actual period or initial period and it in some problems and modelations is kwown\n",
    "\n",
    "- In addition in this notebook, the values in time t=0 are fixed for all decision variables, inclusive if the decision var have a constraint that define its values in time t = 0 (so, this kind of constraints needs to be defined since t = 1)"
   ]
  },
  {
   "cell_type": "code",
   "execution_count": null,
   "id": "0250a208-6f05-4962-92d5-d544cc69d931",
   "metadata": {},
   "outputs": [],
   "source": [
    "### MANUALLY - create a decision variable with the prefix var_xxx\n",
    "var_X1 = gppd.add_vars(model_opt, \n",
    "                       index_set_time, \n",
    "                       name = 'description X1',\n",
    "                       ub = gp.GRB.INFINITY\n",
    "                      )\n",
    "\n",
    "var_O1 = gppd.add_vars(model_opt, \n",
    "                       index_set_time, \n",
    "                       name = 'description X1',\n",
    "                       ub = gp.GRB.INFINITY\n",
    "                      )\n",
    "\n",
    "var_O2 = gppd.add_vars(model_opt, \n",
    "                       index_set_time, \n",
    "                       name = 'description X1',\n",
    "                       ub = gp.GRB.INFINITY\n",
    "                      )\n",
    "\n",
    "var_O3 = gppd.add_vars(model_opt, \n",
    "                       index_set_time, \n",
    "                       name = 'description X1',\n",
    "                       ub = gp.GRB.INFINITY\n",
    "                      )\n",
    "\n",
    "var_Y1 = gppd.add_vars(model_opt, \n",
    "                       index_set_time, \n",
    "                       name = 'description X1',\n",
    "                       ub = gp.GRB.INFINITY\n",
    "                      )\n",
    "\n",
    "var_O4 = gppd.add_vars(model_opt, \n",
    "                       index_set_time, \n",
    "                       name = 'description X1',\n",
    "                       ub = gp.GRB.INFINITY\n",
    "                      )\n",
    "\n",
    "var_Z1 = gppd.add_vars(model_opt, \n",
    "                       index_set_time, \n",
    "                       name = 'description X1',\n",
    "                       ub = gp.GRB.INFINITY\n",
    "                      )\n",
    "\n",
    "var_X2 = gppd.add_vars(model_opt, \n",
    "                       index_set_time, \n",
    "                       name = 'description X1',\n",
    "                       ub = gp.GRB.INFINITY\n",
    "                      )\n",
    "\n",
    "var_O5 = gppd.add_vars(model_opt, \n",
    "                       index_set_time, \n",
    "                       name = 'description X1',\n",
    "                       ub = gp.GRB.INFINITY\n",
    "                      )\n",
    "\n",
    "var_O6 = gppd.add_vars(model_opt, \n",
    "                       index_set_time, \n",
    "                       name = 'description X1',\n",
    "                       ub = gp.GRB.INFINITY\n",
    "                      )\n",
    "\n",
    "var_Y2 = gppd.add_vars(model_opt, \n",
    "                       index_set_time, \n",
    "                       name = 'description X1',\n",
    "                       ub = gp.GRB.INFINITY\n",
    "                      )\n",
    "\n",
    "var_Y3 = gppd.add_vars(model_opt, \n",
    "                       index_set_time, \n",
    "                       name = 'description X1',\n",
    "                       ub = gp.GRB.INFINITY\n",
    "                      )\n",
    "\n",
    "var_X3 = gppd.add_vars(model_opt, \n",
    "                       index_set_time, \n",
    "                       name = 'description X1',\n",
    "                       ub = gp.GRB.INFINITY\n",
    "                      )\n",
    "\n",
    "var_O7 = gppd.add_vars(model_opt, \n",
    "                       index_set_time, \n",
    "                       name = 'description X1',\n",
    "                       ub = gp.GRB.INFINITY\n",
    "                      )\n",
    "\n",
    "var_TL1 = gppd.add_vars(model_opt, \n",
    "                       index_set_time, \n",
    "                       name = 'description X1',\n",
    "                       ub = gp.GRB.INFINITY\n",
    "                      )\n",
    "\n",
    "var_TL2 = gppd.add_vars(model_opt, \n",
    "                       index_set_time, \n",
    "                       name = 'description X1',\n",
    "                       ub = gp.GRB.INFINITY\n",
    "                      )\n",
    "\n",
    "var_TL3 = gppd.add_vars(model_opt, \n",
    "                       index_set_time, \n",
    "                       name = 'description X1',\n",
    "                       ub = gp.GRB.INFINITY\n",
    "                      )"
   ]
  },
  {
   "cell_type": "code",
   "execution_count": null,
   "id": "a27ba154-46cd-4ddb-9b28-68e7e3b729a3",
   "metadata": {},
   "outputs": [],
   "source": []
  },
  {
   "cell_type": "code",
   "execution_count": null,
   "id": "f2355bc7-955a-4464-923c-ea2cef8b372f",
   "metadata": {},
   "outputs": [],
   "source": []
  },
  {
   "cell_type": "code",
   "execution_count": null,
   "id": "05d97e9f-7b09-4858-bd63-9d898d4f9e70",
   "metadata": {},
   "outputs": [],
   "source": []
  },
  {
   "cell_type": "markdown",
   "id": "d06c2bbf-1f5e-4aaf-99f5-3e1fdbeca3f1",
   "metadata": {},
   "source": [
    "### 4. Set initial values decision variables\n",
    "Set the initial values t=0 for the decision variables that needs this initial values and save in t=0"
   ]
  },
  {
   "cell_type": "code",
   "execution_count": null,
   "id": "c5724444-fafd-4a01-9532-b79af0d13db7",
   "metadata": {},
   "outputs": [],
   "source": [
    "# MANUALLY"
   ]
  },
  {
   "cell_type": "code",
   "execution_count": null,
   "id": "696ca093-2629-4c47-9315-b6f52ae91431",
   "metadata": {},
   "outputs": [],
   "source": [
    "# X1\n",
    "init_value_X1 = 50.0\n",
    "model_opt.addConstr(var_X1['t0'] == init_value_X1, name = f'Initial Value X0')\n",
    "\n",
    "# O1\n",
    "init_value_O1 = 50.0\n",
    "model_opt.addConstr(var_O1['t0'] == init_value_O1, name = f'Initial Value X0')\n",
    "\n",
    "# O2\t\n",
    "init_value_O2 = 50.0\n",
    "model_opt.addConstr(var_O2['t0'] == init_value_O2, name = f'Initial Value X0')\n",
    "\n",
    "# O3\n",
    "init_value_O3 = 50.0\n",
    "model_opt.addConstr(var_O3['t0'] == init_value_O3, name = f'Initial Value X0')\n",
    "\n",
    "# O4\n",
    "init_value_O4 = 200.0\n",
    "model_opt.addConstr(var_O4['t0'] == init_value_O4, name = f'Initial Value X0')\n",
    "\n",
    "# Z1\n",
    "#init_value_Z1 = 120 # es una variable que depende de una variable de decision que de hecho deberia ser el mismo valor a menos que baje de nivel el tk\n",
    "#model_opt.addConstr(var_Z1['t0'] == init_value_Z1, name = f'Initial Value X0')\n",
    "\n",
    "# X2\n",
    "init_value_X2 = 5\n",
    "model_opt.addConstr(var_X2['t0'] == init_value_X2, name = f'Initial Value X0')\n",
    "\n",
    "# O5\n",
    "init_value_O5 = 5\n",
    "model_opt.addConstr(var_O5['t0'] == init_value_O5, name = f'Initial Value X0')\n",
    "\n",
    "# O6\n",
    "init_value_O6 = 5\n",
    "model_opt.addConstr(var_O6['t0'] == init_value_O6, name = f'Initial Value X0')\n",
    "\n",
    "# X3\n",
    "init_value_X3 = 5\n",
    "model_opt.addConstr(var_X3['t0'] == init_value_X3, name = f'Initial Value X0')\n",
    "\n",
    "# O7\n",
    "init_value_O7 = 4\n",
    "model_opt.addConstr(var_O7['t0'] == init_value_O7, name = f'Initial Value X0')\n",
    "\n",
    "# TL1\n",
    "init_value_TL1 = 500\n",
    "model_opt.addConstr(var_TL1['t0'] == init_value_TL1, name = f'Initial Value X0')\n",
    "\n",
    "# TL2\n",
    "init_value_TL2 = 500\n",
    "model_opt.addConstr(var_TL2['t0'] == init_value_TL2, name = f'Initial Value X0')\n",
    "\n",
    "# TL3\n",
    "init_value_TL3 = 500\n",
    "model_opt.addConstr(var_TL3['t0'] == init_value_TL3, name = f'Initial Value X0')"
   ]
  },
  {
   "cell_type": "code",
   "execution_count": null,
   "id": "5b97d79a-7af6-401a-b30e-75251808596b",
   "metadata": {},
   "outputs": [],
   "source": []
  },
  {
   "cell_type": "code",
   "execution_count": null,
   "id": "956a40d2-e620-4b49-a93b-ad0e42469886",
   "metadata": {},
   "outputs": [],
   "source": []
  },
  {
   "cell_type": "code",
   "execution_count": null,
   "id": "216ff68d-ee77-488a-b8c4-bcc39469f4f8",
   "metadata": {},
   "outputs": [],
   "source": []
  },
  {
   "cell_type": "markdown",
   "id": "b9d7708c-7f10-45c9-b3ac-f41c81f20763",
   "metadata": {},
   "source": [
    "### 5. Lower bound and Upper bound decision variables\n",
    "For example, lower bound and upper bound of tank level\n",
    "\n",
    "---\n",
    "If one decision variables doesn't need a lower bound and upper bound parameter, its value in configuration file is saved as np.NaN\n",
    "\n",
    "Then filter the configuration table to have only the decision variables that have defined a rate_change\n",
    "\n",
    "define in differents files one for lower bounds and another for upper bounds"
   ]
  },
  {
   "cell_type": "markdown",
   "id": "82f4e62a-7ba1-4a67-becd-7f66a4428f5e",
   "metadata": {},
   "source": [
    "#### 5.1 Lower bound\n",
    "Since config decision var create a subtable with only the features that have defined its upper bound and then create the constraints"
   ]
  },
  {
   "cell_type": "code",
   "execution_count": null,
   "id": "4d7329b5-d4f3-4fc1-808d-c4188ddf7d56",
   "metadata": {},
   "outputs": [],
   "source": []
  },
  {
   "cell_type": "code",
   "execution_count": null,
   "id": "b5651b2f-143e-4434-90d8-69d27bc83347",
   "metadata": {},
   "outputs": [],
   "source": [
    "# MANUALLY"
   ]
  },
  {
   "cell_type": "code",
   "execution_count": null,
   "id": "1c06832f-3635-4908-bfc9-a0f8183735b1",
   "metadata": {},
   "outputs": [],
   "source": [
    "# var_X1\n",
    "var_X1_lower_bound = 0\n",
    "gppd.add_constrs(model_opt,\n",
    "                 var_X1,  # decision var\n",
    "                 gp.GRB.GREATER_EQUAL,\n",
    "                 var_X1_lower_bound,  # lower bound\n",
    "                 name = f'Lower bound X0')\n",
    "\n",
    "# var_Y1\n",
    "var_Y1_lower_bound = 0\n",
    "gppd.add_constrs(model_opt,\n",
    "                 var_Y1,  # decision var\n",
    "                 gp.GRB.GREATER_EQUAL,\n",
    "                 var_Y1_lower_bound,  # lower bound\n",
    "                 name = f'Lower bound X0')\n",
    "\n",
    "# var_Z1\n",
    "var_Z1_lower_bound = 0\n",
    "gppd.add_constrs(model_opt,\n",
    "                 var_Z1,  # decision var\n",
    "                 gp.GRB.GREATER_EQUAL,\n",
    "                 var_Z1_lower_bound,  # lower bound\n",
    "                 name = f'Lower bound X0')\n",
    "\n",
    "# var_X2\n",
    "var_X2_lower_bound = 0\n",
    "gppd.add_constrs(model_opt,\n",
    "                 var_X2,  # decision var\n",
    "                 gp.GRB.GREATER_EQUAL,\n",
    "                 var_X2_lower_bound,  # lower bound\n",
    "                 name = f'Lower bound X0')\n",
    "\n",
    "# var_Y2\n",
    "var_Y2_lower_bound = 0\n",
    "gppd.add_constrs(model_opt,\n",
    "                 var_Y2,  # decision var\n",
    "                 gp.GRB.GREATER_EQUAL,\n",
    "                 var_Y2_lower_bound,  # lower bound\n",
    "                 name = f'Lower bound X0')\n",
    "\n",
    "# var_Y3\n",
    "var_Y3_lower_bound = 0\n",
    "gppd.add_constrs(model_opt,\n",
    "                 var_Y3,  # decision var\n",
    "                 gp.GRB.GREATER_EQUAL,\n",
    "                 var_Y3_lower_bound,  # lower bound\n",
    "                 name = f'Lower bound X0')\n",
    "\n",
    "# var_X3\n",
    "var_X3_lower_bound = 0\n",
    "gppd.add_constrs(model_opt,\n",
    "                 var_X3,  # decision var\n",
    "                 gp.GRB.GREATER_EQUAL,\n",
    "                 var_X3_lower_bound,  # lower bound\n",
    "                 name = f'Lower bound X0')\n",
    "\n",
    "# var_TL1\n",
    "var_TL1_lower_bound = 100\n",
    "gppd.add_constrs(model_opt,\n",
    "                 var_TL1,  # decision var\n",
    "                 gp.GRB.GREATER_EQUAL,\n",
    "                 var_TL1_lower_bound,  # lower bound\n",
    "                 name = f'Lower bound X0')\n",
    "\n",
    "# var_TL2\n",
    "var_TL2_lower_bound = 100\n",
    "gppd.add_constrs(model_opt,\n",
    "                 var_TL2,  # decision var\n",
    "                 gp.GRB.GREATER_EQUAL,\n",
    "                 var_TL2_lower_bound,  # lower bound\n",
    "                 name = f'Lower bound X0')\n",
    "\n",
    "# var_TL3\n",
    "var_TL3_lower_bound = 100\n",
    "gppd.add_constrs(model_opt,\n",
    "                 var_TL3,  # decision var\n",
    "                 gp.GRB.GREATER_EQUAL,\n",
    "                 var_TL3_lower_bound,  # lower bound\n",
    "                 name = f'Lower bound X0')"
   ]
  },
  {
   "cell_type": "code",
   "execution_count": null,
   "id": "cea7d402-028a-4bd8-85c2-f270bb483f14",
   "metadata": {},
   "outputs": [],
   "source": []
  },
  {
   "cell_type": "code",
   "execution_count": null,
   "id": "9fb165d8-6db4-4127-a088-e798171fd13b",
   "metadata": {},
   "outputs": [],
   "source": []
  },
  {
   "cell_type": "markdown",
   "id": "7e7dbd14-8485-4a9f-a76c-7cbf650cd358",
   "metadata": {},
   "source": [
    "#### 5.2 upper bound\n",
    "Since config decision var create a subtable with only the features that have defined its upper bound and then create the constraints"
   ]
  },
  {
   "cell_type": "code",
   "execution_count": null,
   "id": "2ff8099d-3cf5-4939-8272-5a2cb4debd39",
   "metadata": {},
   "outputs": [],
   "source": [
    "##### MANUALLY"
   ]
  },
  {
   "cell_type": "code",
   "execution_count": null,
   "id": "311795df-833a-4e20-b967-2ffaa9e02df9",
   "metadata": {},
   "outputs": [],
   "source": [
    "# var_X1\n",
    "var_X1_upper_bound = 1000\n",
    "gppd.add_constrs(model_opt,\n",
    "                 var_X1,  # decision var\n",
    "                 gp.GRB.LESS_EQUAL,\n",
    "                 var_X1_upper_bound,  # upper bound\n",
    "                 name = f'Upper bound X0')\n",
    "\n",
    "# var_Y1\n",
    "var_Y1_upper_bound = 400\n",
    "gppd.add_constrs(model_opt,\n",
    "                 var_Y1,  # decision var\n",
    "                 gp.GRB.LESS_EQUAL,\n",
    "                 var_Y1_upper_bound,  # upper bound\n",
    "                 name = f'Upper bound X0')\n",
    "\n",
    "# var_Z1\n",
    "var_Z1_upper_bound = 1000\n",
    "gppd.add_constrs(model_opt,\n",
    "                 var_Z1,  # decision var\n",
    "                 gp.GRB.LESS_EQUAL,\n",
    "                 var_Z1_upper_bound,  # upper bound\n",
    "                 name = f'Upper bound X0')\n",
    "\n",
    "# var_X2\n",
    "var_X2_upper_bound = 1000\n",
    "gppd.add_constrs(model_opt,\n",
    "                 var_X2,  # decision var\n",
    "                 gp.GRB.LESS_EQUAL,\n",
    "                 var_X2_upper_bound,  # upper bound\n",
    "                 name = f'Upper bound X0')\n",
    "\n",
    "# var_Y2\n",
    "var_Y2_upper_bound = 500\n",
    "gppd.add_constrs(model_opt,\n",
    "                 var_Y2,  # decision var\n",
    "                 gp.GRB.LESS_EQUAL,\n",
    "                 var_Y2_upper_bound,  # upper bound\n",
    "                 name = f'Upper bound X0')\n",
    "\n",
    "# var_Y3\n",
    "var_Y3_upper_bound = 450\n",
    "gppd.add_constrs(model_opt,\n",
    "                 var_Y3,  # decision var\n",
    "                 gp.GRB.LESS_EQUAL,\n",
    "                 var_Y3_upper_bound,  # upper bound\n",
    "                 name = f'Upper bound X0')\n",
    "\n",
    "# var_X3\n",
    "var_X3_upper_bound = 1500\n",
    "gppd.add_constrs(model_opt,\n",
    "                 var_X3,  # decision var\n",
    "                 gp.GRB.LESS_EQUAL,\n",
    "                 var_X3_upper_bound,  # upper bound\n",
    "                 name = f'Upper bound X0')\n",
    "\n",
    "# var_TL1\n",
    "var_TL1_upper_bound = 20000\n",
    "gppd.add_constrs(model_opt,\n",
    "                 var_TL1,  # decision var\n",
    "                 gp.GRB.LESS_EQUAL,\n",
    "                 var_TL1_upper_bound,  # upper bound\n",
    "                 name = f'Upper bound X0')\n",
    "\n",
    "# var_TL2\n",
    "var_TL2_upper_bound = 20000\n",
    "gppd.add_constrs(model_opt,\n",
    "                 var_TL2,  # decision var\n",
    "                 gp.GRB.LESS_EQUAL,\n",
    "                 var_TL2_upper_bound,  # upper bound\n",
    "                 name = f'Upper bound X0')\n",
    "\n",
    "# var_TL3\n",
    "var_TL3_upper_bound = 20000\n",
    "gppd.add_constrs(model_opt,\n",
    "                 var_TL3,  # decision var\n",
    "                 gp.GRB.LESS_EQUAL,\n",
    "                 var_TL3_upper_bound,  # upper bound\n",
    "                 name = f'Upper bound X0')"
   ]
  },
  {
   "cell_type": "code",
   "execution_count": null,
   "id": "8fd06710-0857-4643-95ed-e42547aa72f8",
   "metadata": {},
   "outputs": [],
   "source": []
  },
  {
   "cell_type": "code",
   "execution_count": null,
   "id": "8a508b0c-5098-4efa-b0a7-d002ed98b2a7",
   "metadata": {},
   "outputs": [],
   "source": []
  },
  {
   "cell_type": "code",
   "execution_count": null,
   "id": "a82643ba-b72e-4ec3-86a7-87543ed09ae6",
   "metadata": {},
   "outputs": [],
   "source": []
  },
  {
   "cell_type": "markdown",
   "id": "aa48cdac-04cc-456b-89fb-c37ef2a7eff0",
   "metadata": {},
   "source": [
    "### 8. Set values of observed variables\n",
    "The observed variables are not decision variables, but with the idea to automatize this codes they are defined as decision variables and then a constraint is added to set its values to a unique values\n",
    "\n",
    "Doing this is a little automatice the creation of the constraints and open the posibility to transform the observed variables into a decision variables and connect other models/tanks/process to this observed variables with a less modification in the codes"
   ]
  },
  {
   "cell_type": "code",
   "execution_count": null,
   "id": "da6214d5-039d-4543-b6b8-057caa8aadea",
   "metadata": {},
   "outputs": [],
   "source": [
    "##### MANUALLY"
   ]
  },
  {
   "cell_type": "code",
   "execution_count": null,
   "id": "a46e71eb-eb85-4c3c-97fb-a3461faf0506",
   "metadata": {},
   "outputs": [],
   "source": [
    "# var_O1\n",
    "\n",
    "observed_value_O1 = 50.0\n",
    "gppd.add_constrs(model_opt,\n",
    "                 var_O1,  # decision var\n",
    "                 gp.GRB.EQUAL,\n",
    "                 observed_value_O1,  # value observed variable\n",
    "                 name = f'set value to observed variable')"
   ]
  },
  {
   "cell_type": "code",
   "execution_count": null,
   "id": "611fdb4a-107f-439b-bd4a-5948a33868f6",
   "metadata": {},
   "outputs": [],
   "source": [
    "# var_O2\n",
    "\n",
    "observed_value_O2 = 50.0\n",
    "gppd.add_constrs(model_opt,\n",
    "                 var_O2,  # decision var\n",
    "                 gp.GRB.EQUAL,\n",
    "                 observed_value_O2,  # value observed variable\n",
    "                 name = f'set value to observed variable')"
   ]
  },
  {
   "cell_type": "code",
   "execution_count": null,
   "id": "f7a69d31-c016-4c67-9be2-69981a2424a1",
   "metadata": {},
   "outputs": [],
   "source": [
    "# var_O3\n",
    "\n",
    "observed_value_O3 = 50.0\n",
    "gppd.add_constrs(model_opt,\n",
    "                 var_O3,  # decision var\n",
    "                 gp.GRB.EQUAL,\n",
    "                 observed_value_O3,  # value observed variable\n",
    "                 name = f'set value to observed variable')"
   ]
  },
  {
   "cell_type": "code",
   "execution_count": null,
   "id": "b7884a45-f2a5-4cdf-8fa7-f53ad5485f8d",
   "metadata": {},
   "outputs": [],
   "source": [
    "# var_O4\n",
    "\n",
    "observed_value_O4 = 200.0\n",
    "gppd.add_constrs(model_opt,\n",
    "                 var_O4,  # decision var\n",
    "                 gp.GRB.EQUAL,\n",
    "                 observed_value_O4,  # value observed variable\n",
    "                 name = f'set value to observed variable')"
   ]
  },
  {
   "cell_type": "code",
   "execution_count": null,
   "id": "b72ccdc1-3c1d-4074-9c08-11948adfd44c",
   "metadata": {},
   "outputs": [],
   "source": [
    "# var_O5\n",
    "\n",
    "observed_value_O5 = 5.0\n",
    "gppd.add_constrs(model_opt,\n",
    "                 var_O5,  # decision var\n",
    "                 gp.GRB.EQUAL,\n",
    "                 observed_value_O5,  # value observed variable\n",
    "                 name = f'set value to observed variable')"
   ]
  },
  {
   "cell_type": "code",
   "execution_count": null,
   "id": "791ca702-2786-49e6-b5ac-d011c44fe882",
   "metadata": {},
   "outputs": [],
   "source": [
    "# var_O6\n",
    "\n",
    "observed_value_O6 = 5.0\n",
    "gppd.add_constrs(model_opt,\n",
    "                 var_O6,  # decision var\n",
    "                 gp.GRB.EQUAL,\n",
    "                 observed_value_O6,  # value observed variable\n",
    "                 name = f'set value to observed variable')"
   ]
  },
  {
   "cell_type": "code",
   "execution_count": null,
   "id": "310d66f2-7b20-4dca-8325-3d1ad4c0e6e7",
   "metadata": {},
   "outputs": [],
   "source": [
    "# var_O7\n",
    "\n",
    "observed_value_O7 = 4.0\n",
    "gppd.add_constrs(model_opt,\n",
    "                 var_O7,  # decision var\n",
    "                 gp.GRB.EQUAL,\n",
    "                 observed_value_O7,  # value observed variable\n",
    "                 name = f'set value to observed variable')"
   ]
  },
  {
   "cell_type": "code",
   "execution_count": null,
   "id": "41348c26-8378-4580-846d-ca9c94076370",
   "metadata": {},
   "outputs": [],
   "source": []
  },
  {
   "cell_type": "code",
   "execution_count": null,
   "id": "fa38f734-a08e-45f4-9980-c71d9b6ece02",
   "metadata": {},
   "outputs": [],
   "source": []
  },
  {
   "cell_type": "markdown",
   "id": "c428d04b-2f17-42f8-9a96-23897d6cc2d0",
   "metadata": {},
   "source": [
    "### 8. Load a Machine Learning Model as constraints that represent the relations in the process\n",
    "Add a constraint defined as a machine learning model that represent the relation between X1, X2 with the output of the process (Y1)"
   ]
  },
  {
   "cell_type": "code",
   "execution_count": null,
   "id": "96cffe12-8389-4f20-901e-dfff17ea6d12",
   "metadata": {},
   "outputs": [],
   "source": []
  },
  {
   "cell_type": "code",
   "execution_count": null,
   "id": "500f27bb-653e-406d-a77e-afdf561c8600",
   "metadata": {},
   "outputs": [],
   "source": [
    "############# Connect model process_a_y1\n",
    "\n",
    "# Generate instance of machine learning model\n",
    "instance = pd.DataFrame([var_X1, var_O1, var_O2, var_O3]).T\n",
    "instance.columns = [\"X1\", \"O1\", \"O2\", \"O3\"]\n",
    "\n",
    "# Add machine learning model as constraint\n",
    "\n",
    "pred_constr_ml_process_a_y1 = add_predictor_constr(gp_model = model_opt, \n",
    "                                                   predictor = model_process_a_y1, \n",
    "                                                   input_vars = instance, # instance pandas gurobi\n",
    "                                                   output_vars = var_Y1, # target\n",
    "                                                   name = f'model_predict Y1'\n",
    "                                                  )\n",
    "\n",
    "pred_constr_ml_process_a_y1.print_stats()"
   ]
  },
  {
   "cell_type": "code",
   "execution_count": null,
   "id": "4bdfe53b-0d59-40c2-8113-ca74d48e2aff",
   "metadata": {},
   "outputs": [],
   "source": [
    "############# Connect model model_process_b_y2\n",
    "\n",
    "\n",
    "# Generate instance of machine learning model\n",
    "instance = pd.DataFrame([var_Z1, var_X2, var_O5, var_O6]).T\n",
    "instance.columns = [\"Z1\", \"X2\", \"O5\", \"O6\"]\n",
    "\n",
    "# Add machine learning model as constraint\n",
    "\n",
    "pred_constr_ml_model_process_b_y2 = add_predictor_constr(gp_model = model_opt, \n",
    "                                                   predictor = model_process_b_y2, \n",
    "                                                   input_vars = instance, # instance pandas gurobi\n",
    "                                                   output_vars = var_Y2, # target\n",
    "                                                   name = f'model_predict Y2'\n",
    "                                                  )\n",
    "\n",
    "pred_constr_ml_model_process_b_y2.print_stats()"
   ]
  },
  {
   "cell_type": "code",
   "execution_count": null,
   "id": "8cd5c275-3711-499e-9699-3e0e58c5eb07",
   "metadata": {},
   "outputs": [],
   "source": [
    "############# Connect model model_process_b_y3\n",
    "\n",
    "\n",
    "# Generate instance of machine learning model\n",
    "instance = pd.DataFrame([var_Z1, var_X2]).T\n",
    "instance.columns = [\"Z1\", \"X2\"]\n",
    "\n",
    "# Add machine learning model as constraint\n",
    "\n",
    "pred_constr_ml_model_process_b_y3 = add_predictor_constr(gp_model = model_opt, \n",
    "                                                   predictor = model_process_b_y3, \n",
    "                                                   input_vars = instance, # instance pandas gurobi\n",
    "                                                   output_vars = var_Y3, # target\n",
    "                                                   name = f'model_predict Y3'\n",
    "                                                  )\n",
    "\n",
    "pred_constr_ml_model_process_b_y3.print_stats()"
   ]
  },
  {
   "cell_type": "code",
   "execution_count": null,
   "id": "5360a092-2e44-4bec-841b-b9d5c9bb641f",
   "metadata": {},
   "outputs": [],
   "source": [
    "var_X2"
   ]
  },
  {
   "cell_type": "code",
   "execution_count": null,
   "id": "b3794486-31c3-464a-8cd4-4377be7cff53",
   "metadata": {},
   "outputs": [],
   "source": []
  },
  {
   "cell_type": "code",
   "execution_count": null,
   "id": "788ca818-4a58-4596-8e0e-05e1fc0fbb59",
   "metadata": {},
   "outputs": [],
   "source": []
  },
  {
   "cell_type": "markdown",
   "id": "088e91a2-3c7d-4b16-a1f4-7992e1f5067d",
   "metadata": {},
   "source": [
    "### 8. Define a custom function as constraints that represent the relations in the process C\n",
    "\n",
    "**Important: this constraint and the objective functions are more hardoded that the rest of constraints**"
   ]
  },
  {
   "cell_type": "code",
   "execution_count": null,
   "id": "4e854f60-6b45-4d04-8a3a-90f922f987b3",
   "metadata": {},
   "outputs": [],
   "source": [
    "# define parameters of the constraint\n",
    "alpha_feature_1 = 1/5\n",
    "alpha_feature_2 = 15"
   ]
  },
  {
   "cell_type": "code",
   "execution_count": null,
   "id": "3df127c1-78eb-4db5-b36d-c2dc5729921a",
   "metadata": {},
   "outputs": [],
   "source": [
    "# define function as constraint\n",
    "gppd.add_constrs(model_opt, \n",
    "                 (alpha_feature_1 * var_X3 + alpha_feature_2 * var_O7), \n",
    "                 gp.GRB.EQUAL, \n",
    "                 var_Y2, \n",
    "                 name = 'function as constraint output process C'\n",
    "                )"
   ]
  },
  {
   "cell_type": "code",
   "execution_count": null,
   "id": "18fe747e-081b-46f9-a2e5-85ea727df396",
   "metadata": {},
   "outputs": [],
   "source": []
  },
  {
   "cell_type": "code",
   "execution_count": null,
   "id": "60f1b113-ba0e-4822-9076-43174e353e4c",
   "metadata": {},
   "outputs": [],
   "source": []
  },
  {
   "cell_type": "code",
   "execution_count": null,
   "id": "93af47c5-b639-4ba3-8a96-56291a7fe0e9",
   "metadata": {},
   "outputs": [],
   "source": []
  },
  {
   "cell_type": "code",
   "execution_count": null,
   "id": "813aecad-b149-4f6b-b1d8-3e28ba131018",
   "metadata": {},
   "outputs": [],
   "source": [
    "model_opt.update()"
   ]
  },
  {
   "cell_type": "code",
   "execution_count": null,
   "id": "cf3b5a0f-bc3f-437b-8ab1-43cca4699a6f",
   "metadata": {},
   "outputs": [],
   "source": [
    "model_opt"
   ]
  },
  {
   "cell_type": "code",
   "execution_count": null,
   "id": "32adcc75-178d-47b4-8bad-f8644239a24a",
   "metadata": {},
   "outputs": [],
   "source": []
  },
  {
   "cell_type": "code",
   "execution_count": null,
   "id": "f5c21bfb-1203-43c4-a351-2f6be6db81f5",
   "metadata": {},
   "outputs": [],
   "source": []
  },
  {
   "cell_type": "code",
   "execution_count": null,
   "id": "5b0ac647-fca1-4d8e-97e5-f90cea8149e2",
   "metadata": {},
   "outputs": [],
   "source": []
  },
  {
   "cell_type": "markdown",
   "id": "a6921d2e-48ac-4456-919b-7f5029321a52",
   "metadata": {},
   "source": [
    "### 9. Define objective optimization\n",
    "Objetive that no generate infeasibility"
   ]
  },
  {
   "cell_type": "code",
   "execution_count": null,
   "id": "68b69a18-c64b-49e5-997f-12cb3acdf9c0",
   "metadata": {},
   "outputs": [],
   "source": [
    "var_Y3.sum()"
   ]
  },
  {
   "cell_type": "code",
   "execution_count": null,
   "id": "c2c4092c-5d05-4b47-a582-137d5dd183d2",
   "metadata": {},
   "outputs": [],
   "source": [
    "var_Y2.sum()"
   ]
  },
  {
   "cell_type": "code",
   "execution_count": null,
   "id": "a6142a3b-84d8-4ca1-b801-68573b17d98d",
   "metadata": {},
   "outputs": [],
   "source": [
    "# optization\n",
    "model_opt.setObjective(var_Y1.sum() + var_Y2.sum() + var_Y3.sum(),\n",
    "                       gp.GRB.MAXIMIZE)"
   ]
  },
  {
   "cell_type": "code",
   "execution_count": null,
   "id": "f877b067-7b04-4436-bfb3-090e81f48973",
   "metadata": {},
   "outputs": [],
   "source": []
  },
  {
   "cell_type": "markdown",
   "id": "e0c037fe-dd9b-408b-b1ef-0e0ccc0a8711",
   "metadata": {},
   "source": [
    "## ----> return the mdoel_opt that has defined for this instance can get the solution <----"
   ]
  },
  {
   "cell_type": "code",
   "execution_count": null,
   "id": "117daef7-4e2e-4c5f-95d0-57b7db2580a7",
   "metadata": {},
   "outputs": [],
   "source": [
    "model_opt"
   ]
  },
  {
   "cell_type": "code",
   "execution_count": null,
   "id": "c8b34685-603a-4d3a-8a27-ea2785cde136",
   "metadata": {},
   "outputs": [],
   "source": []
  },
  {
   "cell_type": "code",
   "execution_count": null,
   "id": "e6146b06-b08b-4c7c-a1a9-89af9e4b0fa9",
   "metadata": {},
   "outputs": [],
   "source": []
  },
  {
   "cell_type": "markdown",
   "id": "239737ce-2c33-4aca-b28e-b2e4450ee0bd",
   "metadata": {},
   "source": [
    "### 10. Optimize and get optimal values"
   ]
  },
  {
   "cell_type": "code",
   "execution_count": null,
   "id": "688cdcf5-ea18-4716-a523-3ee16b90db48",
   "metadata": {},
   "outputs": [],
   "source": [
    "# solve\n",
    "model_opt.optimize()"
   ]
  },
  {
   "cell_type": "code",
   "execution_count": null,
   "id": "b835ae8d-ca47-478f-9a11-a21227949557",
   "metadata": {},
   "outputs": [],
   "source": [
    "#### know the status of the model - 2 a optimal solution was founded\n",
    "# docu: https://www.gurobi.com/documentation/current/refman/optimization_status_codes.html#sec:StatusCodes\n",
    "model_opt.Status"
   ]
  },
  {
   "cell_type": "code",
   "execution_count": null,
   "id": "241da7da-682e-4874-8251-c64700b06e16",
   "metadata": {},
   "outputs": [],
   "source": [
    "# get optimal values and save in a dataframe\n",
    "######## create a dataframe with set as index\n",
    "solution = pd.DataFrame(index = index_set_time)\n",
    "\n",
    "######################## save optimal values - features of models (only the features) ########################\n",
    "solution[\"var_X1\"] = var_X1.gppd.X\n",
    "solution[\"var_O1\"] = var_O1.gppd.X\n",
    "solution[\"var_O2\"] = var_O2.gppd.X\n",
    "solution[\"var_O3\"] = var_O3.gppd.X\n",
    "solution[\"var_Y1\"] = var_Y1.gppd.X\n",
    "solution[\"var_O4\"] = var_O4.gppd.X\n",
    "solution[\"var_Z1\"] = var_Z1.gppd.X\n",
    "solution[\"var_X2\"] = var_X2.gppd.X\n",
    "solution[\"var_O5\"] = var_O5.gppd.X\n",
    "solution[\"var_O6\"] = var_O6.gppd.X\n",
    "solution[\"var_Y2\"] = var_Y2.gppd.X\n",
    "solution[\"var_Y3\"] = var_Y3.gppd.X\n",
    "solution[\"var_X3\"] = var_X3.gppd.X\n",
    "solution[\"var_O7\"] = var_O7.gppd.X\n",
    "solution[\"var_TL1\"] = var_TL1.gppd.X\n",
    "solution[\"var_TL2\"] = var_TL2.gppd.X\n",
    "solution[\"var_TL3\"] = var_TL3.gppd.X\n",
    "\n",
    "######################## # get value objetive function ########################\n",
    "opt_objetive_function = model_opt.ObjVal"
   ]
  },
  {
   "cell_type": "code",
   "execution_count": null,
   "id": "5d61b491-c368-4876-8f97-8cd6ba117a27",
   "metadata": {},
   "outputs": [],
   "source": [
    "# show value objetive function\n",
    "opt_objetive_function"
   ]
  },
  {
   "cell_type": "code",
   "execution_count": null,
   "id": "e2a6ca7f-39a9-48a1-aea5-b337cc95ccfb",
   "metadata": {},
   "outputs": [],
   "source": [
    "solution"
   ]
  },
  {
   "cell_type": "code",
   "execution_count": null,
   "id": "6a720485-7b42-49d1-ac1c-2ab37f68f611",
   "metadata": {},
   "outputs": [],
   "source": [
    "stop"
   ]
  },
  {
   "cell_type": "code",
   "execution_count": null,
   "id": "d49c1caf-8463-4add-8156-5d47e9bc5d73",
   "metadata": {},
   "outputs": [],
   "source": [
    "# var_y2 = 100\n",
    "# var_x3 = 200\n",
    "# var_o7 = 4\n",
    "200 * 1/5 + 4*15 # output tag y2"
   ]
  },
  {
   "cell_type": "code",
   "execution_count": null,
   "id": "d3ba1b40-5526-4f89-be9d-beca72fa1612",
   "metadata": {},
   "outputs": [],
   "source": [
    "# probar que el modelo y3 funciona bien\n",
    "instance_debugging_b_y3 = [[2250, 0.0]]  # z1, x2\n",
    "model_process_b_y3.predict(instance_debugging_b_y3)"
   ]
  },
  {
   "cell_type": "code",
   "execution_count": null,
   "id": "dd6253fb-1c30-4904-9a8e-1a15157522b4",
   "metadata": {},
   "outputs": [],
   "source": [
    "var_Z1"
   ]
  },
  {
   "cell_type": "code",
   "execution_count": null,
   "id": "c314bbe5-a6d1-40cf-ad1f-eccc6b57571f",
   "metadata": {},
   "outputs": [],
   "source": [
    "var_Z1, var_X2"
   ]
  },
  {
   "cell_type": "code",
   "execution_count": null,
   "id": "c5276e7d-635c-4c45-9180-f88eb00c6cb4",
   "metadata": {},
   "outputs": [],
   "source": []
  },
  {
   "cell_type": "code",
   "execution_count": null,
   "id": "3f914637-c314-4e8e-9804-7afa0da98157",
   "metadata": {},
   "outputs": [],
   "source": []
  },
  {
   "cell_type": "code",
   "execution_count": null,
   "id": "6a6f7a80-a220-4f55-941a-c7512a771ab1",
   "metadata": {},
   "outputs": [],
   "source": [
    "# tabla de limites operacionales\n",
    "config_allvariables.dropna()"
   ]
  },
  {
   "cell_type": "code",
   "execution_count": null,
   "id": "72244684-46e5-4c85-bb30-9a25224ecd10",
   "metadata": {},
   "outputs": [],
   "source": []
  },
  {
   "cell_type": "code",
   "execution_count": null,
   "id": "849d0797-d78a-477b-8451-4ae6bd834809",
   "metadata": {},
   "outputs": [],
   "source": []
  }
 ],
 "metadata": {
  "kernelspec": {
   "display_name": "Python 3 (ipykernel)",
   "language": "python",
   "name": "python3"
  },
  "language_info": {
   "codemirror_mode": {
    "name": "ipython",
    "version": 3
   },
   "file_extension": ".py",
   "mimetype": "text/x-python",
   "name": "python",
   "nbconvert_exporter": "python",
   "pygments_lexer": "ipython3",
   "version": "3.10.14"
  }
 },
 "nbformat": 4,
 "nbformat_minor": 5
}
