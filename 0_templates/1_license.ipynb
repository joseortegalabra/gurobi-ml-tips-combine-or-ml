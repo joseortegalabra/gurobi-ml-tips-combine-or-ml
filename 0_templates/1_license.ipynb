{
 "cells": [
  {
   "cell_type": "code",
   "execution_count": null,
   "id": "d0ce3909-4d53-41cf-9628-6af29fa6e66b",
   "metadata": {},
   "outputs": [],
   "source": [
    "import pandas as pd\n",
    "import numpy as np\n",
    "import gurobipy as gp"
   ]
  },
  {
   "cell_type": "code",
   "execution_count": null,
   "id": "1fe3cb2c-a4b8-4b7d-b263-29b4575f10d7",
   "metadata": {},
   "outputs": [],
   "source": []
  },
  {
   "cell_type": "markdown",
   "id": "00c84321-72df-409e-b88c-4a56dc4e15db",
   "metadata": {},
   "source": [
    "# LOAD LICENCES\n",
    "\n",
    "#### Load licence. In this notebook there are 4 ways to load the licence gurobi in python\n",
    "\n",
    "Official documentation gurobi:\n",
    "- Source 1: https://support.gurobi.com/hc/en-us/articles/360013417211-Where-do-I-place-the-Gurobi-license-file-gurobi-lic-ame)\n",
    "- Source 2: https://support.gurobi.com/hc/en-us/articles/13232844297489-How-do-I-set-up-a-Web-License-Service-WLS-license\n",
    "\n",
    "\n",
    "#### Content Notebook:\n",
    "  1. Forma básica de crear un modelo en gurobi (sin licencia). Si la licencia no está en el path por defecto que lee gurobi se carga un modelo free.\n",
    " \n",
    "  2. Forma básica de crear un modelo en gurobi (con licencia). Está documentada las instrucciones de cómo ubicar la licencia en gurobi en el path por defecto que lee gurobi\n",
    " \n",
    "  3. Crear un modelo en gurobi con licencia con path custom de la licencia. Está documentado de cómo ubicar la licencia de gurobi en un path custom. En este notebook no funcionó. Quizás utilizando python script en lugar de un jupyter notebook funcione\n",
    " \n",
    "  4. Crear un modelo en gurobi como licencia con path custom de la licencia y crear un diccionario params a partir de la licencia. Está documentado de cíomo ubicar la licencia de gurobi en un path custom y leyendo la licencia se crea un diccionario donde se guardan los secrets de la licencia y luego se crea el modelo de gurobi en el jupyter notebook"
   ]
  },
  {
   "cell_type": "code",
   "execution_count": null,
   "id": "c7c74355-8653-4f9f-b401-6086eaf4812a",
   "metadata": {},
   "outputs": [],
   "source": []
  },
  {
   "cell_type": "code",
   "execution_count": null,
   "id": "34be7600-3233-4299-875e-029e156419e7",
   "metadata": {},
   "outputs": [],
   "source": []
  },
  {
   "cell_type": "markdown",
   "id": "27ffb70a-f364-480e-b354-d98429662607",
   "metadata": {},
   "source": [
    "## 1. SEE KIND OF LICENCE INSTALLED\n",
    "Create a model of gurobi, and the first time that you create it, you can see the kind of gurobi licence that it is using\n",
    "\n",
    "gp.Model()"
   ]
  },
  {
   "cell_type": "code",
   "execution_count": null,
   "id": "6e1fc467-a107-4879-af0c-11a583f1310c",
   "metadata": {},
   "outputs": [],
   "source": [
    "m = gp.Model()"
   ]
  },
  {
   "cell_type": "code",
   "execution_count": null,
   "id": "c1960520-8139-4ac9-86cf-8d449b71abb2",
   "metadata": {},
   "outputs": [],
   "source": []
  },
  {
   "cell_type": "markdown",
   "id": "6cc3ac53-182e-440d-bcac-3a17fd12524d",
   "metadata": {},
   "source": [
    "## 2. SAVE LICENCE IN DEFAULT PATH\n",
    "The default directories where Gurobi will search for a gurobi.lic license file are:\n",
    "\n",
    "- Windows:\tC:\\gurobi, C:\\gurobi1100 (for 11.0.0), and your home directory (C:\\Users\\yourusername)\n",
    "\n",
    "\n",
    "- Linux:\t/opt/gurobi, /opt/gurobi1100 (for 11.0.0), and your home directory (/home/yourusername)\n",
    "\n",
    "\n",
    "- macOS:\t/Library/gurobi, /Library/gurobi1100 (for 11.0.0), and your home directory (/Users/yourusern\n",
    "\n",
    "If you save the licence in this path, automatically gurobi detected and you don't need to do nothing\n",
    "\n",
    "Sources: https://support.gurobi.com/hc/en-us/articles/360013417211-Where-do-I-place-the-Gurobi-license-file-gurobi-lic-ame)"
   ]
  },
  {
   "cell_type": "code",
   "execution_count": null,
   "id": "7d3dbac0-5423-4bf5-aec8-6e5884e39158",
   "metadata": {},
   "outputs": [],
   "source": [
    "m = gp.Model()"
   ]
  },
  {
   "cell_type": "code",
   "execution_count": null,
   "id": "f063dc27-f6c1-405d-a32a-8496d3aad982",
   "metadata": {},
   "outputs": [],
   "source": []
  },
  {
   "cell_type": "code",
   "execution_count": null,
   "id": "f876921e-6a24-4fb5-a03f-b5fc693126e5",
   "metadata": {},
   "outputs": [],
   "source": []
  },
  {
   "cell_type": "markdown",
   "id": "a7f649b2-6062-4124-a92e-5306725a6f8d",
   "metadata": {},
   "source": [
    "## 3. SAVE LICENCE IN A CUSTOM PATH\n",
    "Change a env variable with the custom path of the licence\n",
    "\n",
    "In this case, the licence has name \"gurobi.lic\""
   ]
  },
  {
   "cell_type": "code",
   "execution_count": null,
   "id": "b6de39e3-52e8-49cc-9e9a-33b23225f593",
   "metadata": {},
   "outputs": [],
   "source": [
    "##########  LOCATED IN ROOT PATH IOF THE REPO ##########\n",
    "import os\n",
    "# fix root path to save outputs\n",
    "actual_path = os.path.abspath(os.getcwd())\n",
    "list_root_path = actual_path.split('\\\\')[:-1]\n",
    "root_path = '\\\\'.join(list_root_path)\n",
    "os.chdir(root_path)\n",
    "print('root path: ', root_path)"
   ]
  },
  {
   "cell_type": "code",
   "execution_count": null,
   "id": "12a88846-5140-4ebc-9c96-b55b9e4feb8a",
   "metadata": {},
   "outputs": [],
   "source": [
    "##########  LOAD LICENCE GUROBI ##########\n",
    "import gurobipy as gp\n",
    "\n",
    "# set env variable with the path of the licence\n",
    "name_file_licence_gurobi = \"gurobi.lic\"\n",
    "path_licence_gurobi = root_path + '\\\\' + name_file_licence_gurobi\n",
    "os.environ [\"GRB_LICENSE_FILE\"] = path_licence_gurobi\n",
    "print(os.environ[\"GRB_LICENSE_FILE\"])"
   ]
  },
  {
   "cell_type": "code",
   "execution_count": null,
   "id": "43784a89-a324-44be-a633-db45a5f661ac",
   "metadata": {},
   "outputs": [],
   "source": [
    "######### lOAD GUROBI MODEL #########\n",
    "m = gp.Model()\n",
    "m"
   ]
  },
  {
   "cell_type": "code",
   "execution_count": null,
   "id": "578fd5fa-d08a-4901-be95-b73e1f523c95",
   "metadata": {},
   "outputs": [],
   "source": []
  },
  {
   "cell_type": "code",
   "execution_count": null,
   "id": "c6902ed0-f59a-4451-81bf-75c526703180",
   "metadata": {},
   "outputs": [],
   "source": []
  },
  {
   "cell_type": "code",
   "execution_count": null,
   "id": "992925a8-c94f-4d21-b925-4f384ae54fcc",
   "metadata": {},
   "outputs": [],
   "source": []
  },
  {
   "cell_type": "markdown",
   "id": "43cf6e1f-f1be-446f-9022-b2b38a1926f2",
   "metadata": {},
   "source": [
    "## 4. SAVE LICENCE IN A CUSTOM PATH USING THE CONTENT OF THE LICENCE AS ENV VAR"
   ]
  },
  {
   "cell_type": "code",
   "execution_count": null,
   "id": "d99e4434-9fef-4e7d-abff-1ccb5cb1f805",
   "metadata": {},
   "outputs": [],
   "source": [
    "##########  LOCATED IN ROOT PATH IOF THE REPO ##########\n",
    "import os\n",
    "# fix root path to save outputs\n",
    "actual_path = os.path.abspath(os.getcwd())\n",
    "list_root_path = actual_path.split('\\\\')[:-1]\n",
    "root_path = '\\\\'.join(list_root_path)\n",
    "os.chdir(root_path)\n",
    "print('root path: ', root_path)"
   ]
  },
  {
   "cell_type": "code",
   "execution_count": null,
   "id": "baf7f3b2-32c9-4a6c-8e73-84e416daeaa2",
   "metadata": {},
   "outputs": [],
   "source": [
    "##########  LOAD LICENCE GUROBI ##########\n",
    "import gurobipy as gp\n",
    "\n",
    "# set env variable with the path of the licence\n",
    "name_file_licence_gurobi = \"gurobi.lic\"\n",
    "path_licence_gurobi = root_path + '\\\\' + name_file_licence_gurobi\n",
    "os.environ [\"GRB_LICENSE_FILE\"] = path_licence_gurobi\n",
    "print(os.environ[\"GRB_LICENSE_FILE\"])"
   ]
  },
  {
   "cell_type": "code",
   "execution_count": null,
   "id": "4ca669fc-d512-4991-9956-867f9e3c4269",
   "metadata": {},
   "outputs": [],
   "source": [
    "######### LAOD CONTENT LICENCE GUROBI #########\n",
    "with open(path_licence_gurobi, 'r') as f:\n",
    "    content_licence = f.read()\n",
    "WLSACCESSID = content_licence.split('\\n')[3].split('=')[1] # load WLSACCESSID (string)\n",
    "WLSSECRET = content_licence.split('\\n')[4].split('=')[1] # load WLSSECRET (string)\n",
    "LICENSEID = int(content_licence.split('\\n')[5].split(\"=\")[1]) # load LICENSEID (integer)\n",
    "\n",
    "params = {\n",
    "\"WLSACCESSID\": WLSACCESSID,\n",
    "\"WLSSECRET\": WLSSECRET,\n",
    "\"LICENSEID\": LICENSEID\n",
    "}"
   ]
  },
  {
   "cell_type": "code",
   "execution_count": null,
   "id": "9536b7e3-314e-4cb2-b804-ea66169ad5f1",
   "metadata": {},
   "outputs": [],
   "source": [
    "######### lOAD GUROBI MODEL #########\n",
    "env = gp.Env(params=params)\n",
    "\n",
    "#Create the model within the Gurobi environment\n",
    "m = gp.Model(\"Gurobi test model\", env=env)\n",
    "m"
   ]
  },
  {
   "cell_type": "code",
   "execution_count": null,
   "id": "f690c646-06b2-4a1d-b03f-b45d7b16a46e",
   "metadata": {},
   "outputs": [],
   "source": []
  },
  {
   "cell_type": "code",
   "execution_count": null,
   "id": "4032bbfe-7f01-4e72-a316-664bb0f2f417",
   "metadata": {},
   "outputs": [],
   "source": []
  }
 ],
 "metadata": {
  "kernelspec": {
   "display_name": "Python 3 (ipykernel)",
   "language": "python",
   "name": "python3"
  },
  "language_info": {
   "codemirror_mode": {
    "name": "ipython",
    "version": 3
   },
   "file_extension": ".py",
   "mimetype": "text/x-python",
   "name": "python",
   "nbconvert_exporter": "python",
   "pygments_lexer": "ipython3",
   "version": "3.10.14"
  }
 },
 "nbformat": 4,
 "nbformat_minor": 5
}
