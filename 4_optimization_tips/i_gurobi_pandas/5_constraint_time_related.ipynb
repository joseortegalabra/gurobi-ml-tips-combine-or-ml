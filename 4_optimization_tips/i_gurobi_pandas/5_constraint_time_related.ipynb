{
 "cells": [
  {
   "cell_type": "markdown",
   "id": "92347a6c-5266-4995-ae64-7ab94a368734",
   "metadata": {},
   "source": [
    "# Given a decision var related with time define differents constraints related with time\n",
    "\n",
    "The constraints that can be defined are related with time for example:\n",
    "- rate change. relation of a each decision variable in previous time and actual time. Ex: X(t-1) - X(t) <= rate_change\n",
    "- volumen change (aka inventory change. Change of the level of the tank across the time\n",
    "- fixed time t=0 in decision variables (develop in previous notebook)\n",
    "\n",
    "**The problem is not solved in the corrected way. The codes are writted only with the idea of develop the constraints**"
   ]
  },
  {
   "cell_type": "markdown",
   "id": "986f169c-cd8e-4707-b545-84226eedb449",
   "metadata": {},
   "source": [
    "## Root folder and read env variables"
   ]
  },
  {
   "cell_type": "code",
   "execution_count": null,
   "id": "dcee657f-aada-49b8-b447-f41e067e4a18",
   "metadata": {},
   "outputs": [],
   "source": [
    "import os\n",
    "# fix root path to save outputs\n",
    "actual_path = os.path.abspath(os.getcwd())\n",
    "list_root_path = actual_path.split('\\\\')[:-2]\n",
    "root_path = '\\\\'.join(list_root_path)\n",
    "os.chdir(root_path)\n",
    "print('root path: ', root_path)"
   ]
  },
  {
   "cell_type": "code",
   "execution_count": null,
   "id": "a6640988-69c4-4dfd-b22f-aeeb11fa6e55",
   "metadata": {},
   "outputs": [],
   "source": [
    "import os\n",
    "from dotenv import load_dotenv, find_dotenv # package used in jupyter notebook to read the variables in file .env\n",
    "\n",
    "\"\"\" get env variable from .env \"\"\"\n",
    "load_dotenv(find_dotenv())\n",
    "\n",
    "\"\"\" Read env variables and save it as python variable \"\"\"\n",
    "PROJECT_GCP = os.environ.get(\"PROJECT_GCP\", \"\")"
   ]
  },
  {
   "cell_type": "code",
   "execution_count": null,
   "id": "115d254b-2433-4917-ba92-651a10705e06",
   "metadata": {},
   "outputs": [],
   "source": []
  },
  {
   "cell_type": "markdown",
   "id": "b6843afc-d41f-44ba-a1a9-469cc4f3a6a2",
   "metadata": {},
   "source": [
    "## RUN"
   ]
  },
  {
   "cell_type": "code",
   "execution_count": null,
   "id": "365a0300-b10d-4106-af86-619457307401",
   "metadata": {},
   "outputs": [],
   "source": [
    "import pickle\n",
    "import pandas as pd\n",
    "import numpy as np\n",
    "\n",
    "#gurobi\n",
    "import gurobipy_pandas as gppd\n",
    "from gurobi_ml import add_predictor_constr\n",
    "import gurobipy as gp"
   ]
  },
  {
   "cell_type": "code",
   "execution_count": null,
   "id": "f7b14e29-5164-4360-a160-42a1a64bee08",
   "metadata": {},
   "outputs": [],
   "source": []
  },
  {
   "cell_type": "code",
   "execution_count": null,
   "id": "1e3078fc-ed85-4d94-bcf6-47ac2f7e24d1",
   "metadata": {},
   "outputs": [],
   "source": []
  },
  {
   "cell_type": "markdown",
   "id": "61bbf9c2-fc6f-44cc-ac07-fd485651fca4",
   "metadata": {},
   "source": [
    "## 2. Create gurobi model"
   ]
  },
  {
   "cell_type": "code",
   "execution_count": null,
   "id": "9adcac1a-f1e5-48a8-838a-132f4fd0de81",
   "metadata": {},
   "outputs": [],
   "source": [
    "# create model\n",
    "m = gp.Model('modelo')"
   ]
  },
  {
   "cell_type": "code",
   "execution_count": null,
   "id": "cd4834c3-d4b9-4918-9499-00ed9d3b7dfe",
   "metadata": {},
   "outputs": [],
   "source": []
  },
  {
   "cell_type": "markdown",
   "id": "052c9a12-c3a9-456f-8c59-e2f78776984d",
   "metadata": {},
   "source": [
    "### 3. Create decision variables\n",
    "- Decision variables that are features\n",
    "- Decicion variable that is the outputs\n",
    "- Decision variable that represent the level of a tank"
   ]
  },
  {
   "cell_type": "code",
   "execution_count": null,
   "id": "4b528702-a27d-4bb2-8a67-f384123f7468",
   "metadata": {},
   "outputs": [],
   "source": [
    "# define set\n",
    "list_set_time = ['t0', 't1', 't2', 't3', 't4', 't5', 't6']\n",
    "index_set_time = pd.Index(list_set_time)\n",
    "index_set_time"
   ]
  },
  {
   "cell_type": "code",
   "execution_count": null,
   "id": "fa72387d-019d-415b-a0de-3d88d08ff4cf",
   "metadata": {},
   "outputs": [],
   "source": [
    "# create decision variables - features ml model\n",
    "var_X1 = gppd.add_vars(m, index_set_time, name = \"decision variable Z1\",\n",
    "                       #lb = -gp.GRB.INFINITY,\n",
    "                                      ub = gp.GRB.INFINITY\n",
    "                                     )\n",
    "\n",
    "var_X2 = gppd.add_vars(m, index_set_time, name = \"decision variable X2\",\n",
    "                       #lb = -gp.GRB.INFINITY,\n",
    "                                      ub = gp.GRB.INFINITY\n",
    "                                     )"
   ]
  },
  {
   "cell_type": "code",
   "execution_count": null,
   "id": "dd2d5921-1117-4657-9e50-4768fc123fa6",
   "metadata": {},
   "outputs": [],
   "source": [
    "# crete decision variables - output ml model\n",
    "\n",
    "var_Y1 = gppd.add_vars(m, index_set_time, name = \"decision variable Y1\",\n",
    "                       #lb = -gp.GRB.INFINITY,\n",
    "                                      ub = gp.GRB.INFINITY\n",
    "                                     )\n",
    "\n",
    "var_Z1 = gppd.add_vars(m, index_set_time, name = \"decision variable Y2\",\n",
    "                       #lb = -gp.GRB.INFINITY,\n",
    "                                      ub = gp.GRB.INFINITY\n",
    "                                     )"
   ]
  },
  {
   "cell_type": "code",
   "execution_count": null,
   "id": "217a1ba3-66d9-46b2-8124-43ac62f44338",
   "metadata": {},
   "outputs": [],
   "source": [
    "# create decision variable that represent level of tanks\n",
    "var_tank_level = gppd.add_vars(m, index_set_time, name = \"decision variable level tank\",\n",
    "                       #lb = -gp.GRB.INFINITY,\n",
    "                                      ub = gp.GRB.INFINITY\n",
    "                                     )"
   ]
  },
  {
   "cell_type": "code",
   "execution_count": null,
   "id": "21a40af9-3d49-40fb-bab5-68154ad699ba",
   "metadata": {},
   "outputs": [],
   "source": []
  },
  {
   "cell_type": "markdown",
   "id": "66f3ae37-0a73-42ad-b2df-a0c7c99dc916",
   "metadata": {},
   "source": [
    "### 4. Define parameters"
   ]
  },
  {
   "cell_type": "markdown",
   "id": "a91d170f-c5ea-4b6d-88e8-4b8fa715f415",
   "metadata": {},
   "source": [
    "#### 4.1 Rate change of decision variables across the time"
   ]
  },
  {
   "cell_type": "code",
   "execution_count": null,
   "id": "1ff13ccd-c6ac-4e2e-8ff7-2fca58964a83",
   "metadata": {},
   "outputs": [],
   "source": [
    "rate_change_var_X1 = 100\n",
    "rate_change_var_Y1 = 100\n",
    "rate_change_var_Z1 = 40"
   ]
  },
  {
   "cell_type": "code",
   "execution_count": null,
   "id": "1ad45587-c51b-4184-a6ea-d14f7f4c8f5b",
   "metadata": {},
   "outputs": [],
   "source": []
  },
  {
   "cell_type": "markdown",
   "id": "7e0252e7-102f-4a98-8a7d-c403798033b5",
   "metadata": {},
   "source": [
    "#### 4.2 Constraint tanks - lower bound and upper bound tank level"
   ]
  },
  {
   "cell_type": "code",
   "execution_count": null,
   "id": "7e87441d-0690-4f88-9b24-16822193bbb2",
   "metadata": {},
   "outputs": [],
   "source": [
    "tank_level_lower_bound = 200\n",
    "tank_level_upper_bound = 1000"
   ]
  },
  {
   "cell_type": "code",
   "execution_count": null,
   "id": "e9386d8b-7b5b-416a-a81a-f8446119acf0",
   "metadata": {},
   "outputs": [],
   "source": []
  },
  {
   "cell_type": "code",
   "execution_count": null,
   "id": "5c84f5a6-7db4-4883-bcc9-1e1610fa2a3a",
   "metadata": {},
   "outputs": [],
   "source": []
  },
  {
   "cell_type": "markdown",
   "id": "5944cdcb-22be-4ce9-bd37-42e90e61c1d6",
   "metadata": {},
   "source": [
    "### 5. Define fixed values of the decision Var in time t=0 (actual_value) (develop in the previous notebook)\n",
    "- Fix the values of period t=0 for each decision var.\n",
    "\n",
    "- t=0 represent the actual period or initial period and it in some problems and modelations is kwown\n",
    "\n",
    "- In addition in this notebook, the values in time t=0 are fixed for all decision variables, inclusive if the decision var have a constraint that define its values in time t = 0 (so, this kind of constraints needs to be defined since t = 1)"
   ]
  },
  {
   "cell_type": "code",
   "execution_count": null,
   "id": "dfdf32a9-95c0-498e-8309-fdff949d0026",
   "metadata": {},
   "outputs": [],
   "source": [
    "# set values in t = 0\n",
    "\n",
    "# var_X1['t0']\n",
    "# gppd.add_constrs(m, var_X1[0], gp.GRB.EQUAL, 10, name = 'Initial Value X3') doesn't work :/\n",
    "init_value_X1 = 10\n",
    "m.addConstr(var_X1['t0'] == init_value_X1,  name = 'Initial Value X3')\n",
    "\n",
    "# var_X2['t0']\n",
    "init_value_X2 = 55\n",
    "m.addConstr(var_X2['t0'] == init_value_X2,  name = 'Initial Value X2')\n",
    "\n",
    "\n",
    "# var_Z1['t0']\n",
    "init_value_Z1 = 20\n",
    "m.addConstr(var_Z1['t0'] == init_value_Z1,  name = 'Initial Value Y2')\n",
    "\n",
    "\n",
    "# var_tank_level['t0']\n",
    "init_value_tank_level = 500\n",
    "m.addConstr(var_tank_level['t0'] == init_value_tank_level,  name = 'Initial level of tank')"
   ]
  },
  {
   "cell_type": "code",
   "execution_count": null,
   "id": "2dc0b429-f2e4-4ab4-922e-22bc4c8aea27",
   "metadata": {},
   "outputs": [],
   "source": []
  },
  {
   "cell_type": "markdown",
   "id": "742ac60e-6e0a-429b-b546-bb9e5ebdb20a",
   "metadata": {},
   "source": [
    "### 7. rate change - across time - each decision variable\n",
    "\n",
    "\\begin{align}\n",
    "&| ~ X^{t}_{i} - X^{t-1}_{i} ~ | ~ \\leq  ~ c_{i} &\\quad \\forall ~ i \\in I, t \\in T \\tag{6}\\\\\n",
    "\\end{align}\n",
    "\n",
    "There is a parameter between the values of a decision variable across the time. There is a delta between the actual value and the previous value"
   ]
  },
  {
   "cell_type": "code",
   "execution_count": null,
   "id": "0745e164-3391-4745-b733-2e7fac771dbc",
   "metadata": {},
   "outputs": [],
   "source": []
  },
  {
   "cell_type": "code",
   "execution_count": null,
   "id": "97ed9075-9325-434a-9723-92684bfff61b",
   "metadata": {},
   "outputs": [],
   "source": []
  },
  {
   "cell_type": "markdown",
   "id": "63d48798-3c14-4bfc-a029-c52b5f22de9b",
   "metadata": {},
   "source": [
    "#### 7.1 Requirements constraints abs value - create auxiliar variable diff\n",
    "\n",
    "The absolute value constraints works as:\n",
    "- y >= (x1 - x2)\n",
    "\n",
    "- y >= -(x1 - x2)\n",
    "\n",
    "- y <= delta\n",
    "\n",
    "**In this example**\n",
    "- diff_time_x >= (x(t-1) - x(t))\n",
    "\n",
    "- diff_time_x >= -(x(t-1) - x(t))\n",
    "\n",
    "- diff_time_x <= delta_x"
   ]
  },
  {
   "cell_type": "code",
   "execution_count": null,
   "id": "4048e430-9881-4f1d-a01c-7780db8b3015",
   "metadata": {},
   "outputs": [],
   "source": [
    "###### X1\n",
    "# define decision variable the difference betweeen \"t\" and \"t-1\"\n",
    "diff_var_X1 = gppd.add_vars(m, index_set_time, name = \"diff between X3 t-1 and t\",\n",
    "                            lb = -gp.GRB.INFINITY,\n",
    "                            ub = gp.GRB.INFINITY\n",
    "                                     )\n",
    "\n",
    "# set initial value (diff t = 0 and t = -1) is set to cero because t = -1 is not defined\n",
    "m.addConstr(diff_var_X1['t0'] == 0,  name = 'Initial Value diff X3')"
   ]
  },
  {
   "cell_type": "code",
   "execution_count": null,
   "id": "ea0f8cae-a23f-4cc6-ab95-5b59dce24949",
   "metadata": {},
   "outputs": [],
   "source": [
    "###### Y1\n",
    "# define decision variable the difference betweeen \"t\" and \"t-1\"\n",
    "diff_var_Y1 = gppd.add_vars(m, index_set_time, name = \"diff between Y1 t-1 and t\",\n",
    "                            lb = -gp.GRB.INFINITY,\n",
    "                            ub = gp.GRB.INFINITY\n",
    "                                     )\n",
    "\n",
    "# set initial value (diff t = 0 and t = -1) is set to cero because t = -1 is not defined\n",
    "m.addConstr(diff_var_Y1['t0'] == 0,  name = 'Initial Value diff Y1')"
   ]
  },
  {
   "cell_type": "code",
   "execution_count": null,
   "id": "6296f916-dd96-48ec-98fe-96d1e6d5f9ee",
   "metadata": {},
   "outputs": [],
   "source": [
    "###### Y2\n",
    "# define decision variable the difference betweeen \"t\" and \"t-1\"\n",
    "diff_var_Z1 = gppd.add_vars(m, index_set_time, name = \"diff between Y2 t-1 and t\",\n",
    "                            lb = -gp.GRB.INFINITY,\n",
    "                            ub = gp.GRB.INFINITY\n",
    "                                     )\n",
    "\n",
    "# set initial value (diff t = 0 and t = -1) is set to cero because t = -1 is not defined\n",
    "m.addConstr(diff_var_Z1['t0'] == 0,  name = 'Initial Value diff Y2')"
   ]
  },
  {
   "cell_type": "code",
   "execution_count": null,
   "id": "35a59bd6-2f3c-4367-8e1b-b360b86770a3",
   "metadata": {},
   "outputs": [],
   "source": []
  },
  {
   "cell_type": "code",
   "execution_count": null,
   "id": "3b19f5fb-5cdc-4942-9267-3f7be979ad4e",
   "metadata": {},
   "outputs": [],
   "source": []
  },
  {
   "cell_type": "markdown",
   "id": "591b78d3-a44a-48a0-8543-2e4a60c2b024",
   "metadata": {},
   "source": [
    "#### 7.2 Define example constraints - hardocoded to one time t=1\n",
    "Before automatize this constraint, it is necesary build it manually. In this example is defined for decision var X3 and time t = 1 (the difference between x3(t=0) and x3(t=1))"
   ]
  },
  {
   "cell_type": "code",
   "execution_count": null,
   "id": "64b54bc7-46f5-460f-9310-7a9cdec904aa",
   "metadata": {},
   "outputs": [],
   "source": [
    "#### example var_X1 - for time t = 1\n",
    "\n",
    "# m.addConstr(diff_var_X1['t1'] >= (var_X1['t1'] - var_X1['t0']), name = 'diff_var_X1 positive segment')\n",
    "# m.addConstr(diff_var_X1['t1'] >= -(var_X1['t1'] - var_X1['t0']), name = 'diff_var_X1 negative segment')\n",
    "# m.addConstr(diff_var_X1['t1'] <= rate_change_var_X1, name = 'diff_var_X1 delta')"
   ]
  },
  {
   "cell_type": "code",
   "execution_count": null,
   "id": "3deddf3f-5bbb-4c85-9da4-6d2f3ec90a31",
   "metadata": {},
   "outputs": [],
   "source": []
  },
  {
   "cell_type": "markdown",
   "id": "430e3776-517c-40c7-a213-7f5726c9ada3",
   "metadata": {},
   "source": [
    "#### 7.3 Define full constraints - automatically all times\n",
    "- Automatization constraint. For across all the set time (t0, t1, t2, etc). But it is important to see that the first value of the decision variable \"diff_x\" is defined before, so the \"for cicle\" start from (t1, t2, etc)\n",
    "\n",
    "- This is done many times according the number of decision variables. AND the only change is the name of the decision vars. In this example, acording the names of variables, only change the name of the decision var that are defined its rate change\n",
    "\n",
    "- So, it is necesary to genealize this codes to run only once and have a function that add this constraints"
   ]
  },
  {
   "cell_type": "code",
   "execution_count": null,
   "id": "682f0e20-6623-4ac6-a975-137a45787b11",
   "metadata": {},
   "outputs": [],
   "source": [
    "### define rate change var X3\n",
    "\n",
    "for index_time in range(1, len(index_set_time)):\n",
    "    \n",
    "    # define time t and t-1\n",
    "    time_t = index_set_time[index_time]\n",
    "    time_t_1 = index_set_time[index_time-1]\n",
    "    print('time t: ', time_t)\n",
    "    print('time t-1: ', time_t_1)\n",
    "\n",
    "    # define constraints\n",
    "    m.addConstr(diff_var_X1[time_t] >= (var_X1[time_t] - var_X1[time_t_1]), name = f'diff_var_X1 positive segment {time_t} - {time_t_1}')\n",
    "    m.addConstr(diff_var_X1[time_t] >= -(var_X1[time_t] - var_X1[time_t_1]), name = f'diff_var_X1 negative segment {time_t} - {time_t_1}')\n",
    "    m.addConstr(diff_var_X1[time_t] <= rate_change_var_X1, name = f'diff_var_X1 delta {time_t} - {time_t_1}')"
   ]
  },
  {
   "cell_type": "code",
   "execution_count": null,
   "id": "9a5a917c-ff1e-4410-87a2-8f3aafeb8af0",
   "metadata": {},
   "outputs": [],
   "source": [
    "### define rate change var Y1\n",
    "\n",
    "for index_time in range(1, len(index_set_time)):\n",
    "    \n",
    "    # define time t and t-1\n",
    "    time_t = index_set_time[index_time]\n",
    "    time_t_1 = index_set_time[index_time-1]\n",
    "    print('time t: ', time_t)\n",
    "    print('time t-1: ', time_t_1)\n",
    "\n",
    "    # define constraints\n",
    "    m.addConstr(diff_var_Y1[time_t] >= (var_Y1[time_t] - var_Y1[time_t_1]), name = f'diff_var_Y1 positive segment {time_t} - {time_t_1}')\n",
    "    m.addConstr(diff_var_Y1[time_t] >= -(var_Y1[time_t] - var_Y1[time_t_1]), name = f'diff_var_Y1 negative segment {time_t} - {time_t_1}')\n",
    "    m.addConstr(diff_var_Y1[time_t] <= rate_change_var_Y1, name = f'diff_var_Y1 delta {time_t} - {time_t_1}')"
   ]
  },
  {
   "cell_type": "code",
   "execution_count": null,
   "id": "70376e4c-4037-46e4-8c88-438f79d54722",
   "metadata": {},
   "outputs": [],
   "source": [
    "### define rate change var Y2\n",
    "\n",
    "for index_time in range(1, len(index_set_time)):\n",
    "    \n",
    "    # define time t and t-1\n",
    "    time_t = index_set_time[index_time]\n",
    "    time_t_1 = index_set_time[index_time-1]\n",
    "    print('time t: ', time_t)\n",
    "    print('time t-1: ', time_t_1)\n",
    "\n",
    "    # define constraints\n",
    "    m.addConstr(diff_var_Z1[time_t] >= (var_Z1[time_t] - var_Z1[time_t_1]), name = f'diff_var_Z1 positive segment {time_t} - {time_t_1}')\n",
    "    m.addConstr(diff_var_Z1[time_t] >= -(var_Z1[time_t] - var_Z1[time_t_1]), name = f'diff_var_Z1 negative segment {time_t} - {time_t_1}')\n",
    "    m.addConstr(diff_var_Z1[time_t] <= rate_change_var_Z1, name = f'diff_var_Z1 delta {time_t} - {time_t_1}')"
   ]
  },
  {
   "cell_type": "code",
   "execution_count": null,
   "id": "b3393853-fa2f-4509-98df-5a1d3572bce0",
   "metadata": {},
   "outputs": [],
   "source": []
  },
  {
   "cell_type": "code",
   "execution_count": null,
   "id": "917ae6a4-3549-4b04-82f8-7d21b53a60d6",
   "metadata": {},
   "outputs": [],
   "source": []
  },
  {
   "cell_type": "code",
   "execution_count": null,
   "id": "51d06aaf-69bb-4aff-9912-7afb13a651b5",
   "metadata": {},
   "outputs": [],
   "source": []
  },
  {
   "cell_type": "markdown",
   "id": "71f4fdfa-8f1c-4bbc-ac00-90d5b16b20c6",
   "metadata": {},
   "source": [
    "### 8. Volumen change (Inventory change) - across time - relation between decision variables\n",
    "\n",
    "\\begin{align}\r\n",
    "&V^{t-1}_{j} ~ + \\sum_{i}  Y^{t}_{i,j} -  \\sum_{i}  Z^{t}_{i',j} ~ \\leq  ~ UB_{j} &\\quad \\forall ~ t \\in T, j \\in J \\tag{2}\\\\\r\n",
    "\\end{align}\r\n",
    "\r\n",
    "\\begin{align}\r\n",
    "&V^{t-1}_{j} ~ + \\sum_{i}  Y^{t}_{i,j} -  \\sum_{i}  Z^{t}_{i',j} ~ \\geq  ~ LB_{j} &\\quad \\forall ~ t \\in T, j \\in J \\tag{3}\\\\\r\n",
    "\\end{align}\r\n",
    "\r\n",
    "\\begin{align}\r\n",
    "&V^{t-1}_{j} ~ + \\sum_{i}  Y^{t}_{i,j} -  \\sum_{i}  Z^{t}_{i',j} ~ =  ~ V^{t}_{j} &\\quad \\forall ~ t \\in T, j \\in J \\tag{4}\\\\\r\n",
    "\\end{align}"
   ]
  },
  {
   "cell_type": "code",
   "execution_count": null,
   "id": "396aa21d-7af5-477f-8866-57c5c699c479",
   "metadata": {},
   "outputs": [],
   "source": []
  },
  {
   "cell_type": "markdown",
   "id": "91a76d8f-2ce7-42da-aa02-56d3e8398857",
   "metadata": {},
   "source": [
    "#### 8.1 Define example constraints - hardocoded to one time t=1\n",
    "Remember the time t = 0 is the initial time and it has fixed values"
   ]
  },
  {
   "cell_type": "code",
   "execution_count": null,
   "id": "70087977-161f-40f0-820c-74d591b24074",
   "metadata": {},
   "outputs": [],
   "source": [
    "# m.addConstr(var_tank_level['t0'] + var_Y1['t1'] - var_Z1['t1'] <= tank_level_upper_bound, name = 'tank level below the upper bound')\n",
    "# m.addConstr(var_tank_level['t0'] + var_Y1['t1'] - var_Z1['t1'] >= tank_level_lower_bound , name = 'tank level above the lower bound')\n",
    "# m.addConstr(var_tank_level['t0'] + var_Y1['t1'] - var_Z1['t1'] == var_tank_level['t1'], name = 'new level of tank')"
   ]
  },
  {
   "cell_type": "code",
   "execution_count": null,
   "id": "2c2413b2-4cdb-488a-a12f-e9df35a1a3a0",
   "metadata": {},
   "outputs": [],
   "source": []
  },
  {
   "cell_type": "code",
   "execution_count": null,
   "id": "51b49760-329b-4e23-8238-73e02cfd61b4",
   "metadata": {},
   "outputs": [],
   "source": []
  },
  {
   "cell_type": "markdown",
   "id": "33054af1-2a5b-46fc-b15c-63130b6ffb9d",
   "metadata": {},
   "source": [
    "#### 8.2 Define full constraints - automatically all times\n",
    "- Automatization constraint. For across all the set time (t0, t1, t2, etc). But it is important to see that the first value of the decision variable (period t=0) is defined before, so the \"for cicle\" start from (t1, t2, etc)\n",
    "\n",
    "\n",
    "- IMPORTANT: This codes are defined for only this example when there are only one input and one output. In the future it needs to genelize to recibe multiple input and output values"
   ]
  },
  {
   "cell_type": "code",
   "execution_count": null,
   "id": "2c1a97d0-b03c-4adc-9e0a-5c6a8dd43809",
   "metadata": {},
   "outputs": [],
   "source": [
    "for index_time in range(1, len(index_set_time)):\n",
    "    \n",
    "    # define time t and t-1\n",
    "    time_t = index_set_time[index_time]\n",
    "    time_t_1 = index_set_time[index_time-1]\n",
    "    print('time t: ', time_t)\n",
    "    print('time t-1: ', time_t_1)\n",
    "\n",
    "    # define constraints\n",
    "    m.addConstr(var_tank_level[time_t_1] + var_Y1[time_t] - var_Z1[time_t] <= tank_level_upper_bound, \n",
    "                name = f'tank level below the upper bound {time_t} - {time_t_1}')\n",
    "    m.addConstr(var_tank_level[time_t_1] + var_Y1[time_t] - var_Z1[time_t] >= tank_level_lower_bound , \n",
    "                name = f'tank level above the lower bound {time_t} - {time_t_1}')\n",
    "    m.addConstr(var_tank_level[time_t_1] + var_Y1[time_t] - var_Z1[time_t] == var_tank_level[time_t], \n",
    "                name = f'new level of tank {time_t} - {time_t_1}')"
   ]
  },
  {
   "cell_type": "code",
   "execution_count": null,
   "id": "fec64824-95ee-4f1b-970a-96854300d0c4",
   "metadata": {},
   "outputs": [],
   "source": [
    "m"
   ]
  },
  {
   "cell_type": "code",
   "execution_count": null,
   "id": "ccf21135-f25b-4945-a62f-1b4795ac3ac6",
   "metadata": {},
   "outputs": [],
   "source": [
    "m.update()"
   ]
  },
  {
   "cell_type": "code",
   "execution_count": null,
   "id": "81175655-f9b2-4c16-b7c8-e5a9c21c752b",
   "metadata": {},
   "outputs": [],
   "source": [
    "m"
   ]
  },
  {
   "cell_type": "code",
   "execution_count": null,
   "id": "3c2b471f-6320-4354-a09e-d361a9095f5a",
   "metadata": {},
   "outputs": [],
   "source": [
    "# print show one decision var\n",
    "var_X1"
   ]
  },
  {
   "cell_type": "code",
   "execution_count": null,
   "id": "6c88a2c5-fe81-4325-84ed-d2921aed2a17",
   "metadata": {},
   "outputs": [],
   "source": []
  },
  {
   "cell_type": "code",
   "execution_count": null,
   "id": "785a028d-049d-4b88-9de8-c33130446420",
   "metadata": {},
   "outputs": [],
   "source": []
  },
  {
   "cell_type": "markdown",
   "id": "c428d04b-2f17-42f8-9a96-23897d6cc2d0",
   "metadata": {},
   "source": [
    "### 9. Additional - define a custom function as constraints that represent the relations in the process\n",
    "Add a constraint defined as a funtion that represent the relation between X1, X2 with the output of the process (Y1)"
   ]
  },
  {
   "cell_type": "code",
   "execution_count": null,
   "id": "07265e22-ff2a-417f-a3cc-ab49eb0d1105",
   "metadata": {},
   "outputs": [],
   "source": [
    "# define parameters of the constraint\n",
    "alpha_feature_x1 = 1/5\n",
    "alpha_feature_x2 = 15"
   ]
  },
  {
   "cell_type": "code",
   "execution_count": null,
   "id": "ad7f613e-4dca-4fab-85b0-66416b4fdaec",
   "metadata": {},
   "outputs": [],
   "source": [
    "# define function as constraint\n",
    "gppd.add_constrs(m, (alpha_feature_x1 * var_X1 + alpha_feature_x1 * var_X1), gp.GRB.EQUAL, var_Y1, name = 'function as constraint output process')"
   ]
  },
  {
   "cell_type": "code",
   "execution_count": null,
   "id": "2324253d-95ae-4337-b186-cf618709b23a",
   "metadata": {},
   "outputs": [],
   "source": []
  },
  {
   "cell_type": "code",
   "execution_count": null,
   "id": "aa6014ce-5a3e-49a4-b128-f74a4479cc8c",
   "metadata": {},
   "outputs": [],
   "source": []
  },
  {
   "cell_type": "code",
   "execution_count": null,
   "id": "5b0ac647-fca1-4d8e-97e5-f90cea8149e2",
   "metadata": {},
   "outputs": [],
   "source": []
  },
  {
   "cell_type": "markdown",
   "id": "a6921d2e-48ac-4456-919b-7f5029321a52",
   "metadata": {},
   "source": [
    "### 10. Define objective optimization\n",
    "Objetive that no generate infeasibility"
   ]
  },
  {
   "cell_type": "code",
   "execution_count": null,
   "id": "a6142a3b-84d8-4ca1-b801-68573b17d98d",
   "metadata": {},
   "outputs": [],
   "source": [
    "m.setObjective(var_tank_level.sum(),\n",
    "               gp.GRB.MINIMIZE)"
   ]
  },
  {
   "cell_type": "code",
   "execution_count": null,
   "id": "e6146b06-b08b-4c7c-a1a9-89af9e4b0fa9",
   "metadata": {},
   "outputs": [],
   "source": []
  },
  {
   "cell_type": "code",
   "execution_count": null,
   "id": "24f64634-1406-4407-a8ea-d703ae82c932",
   "metadata": {},
   "outputs": [],
   "source": [
    "m"
   ]
  },
  {
   "cell_type": "code",
   "execution_count": null,
   "id": "013e3119-cd7b-403b-a305-96c7649ca69e",
   "metadata": {},
   "outputs": [],
   "source": []
  },
  {
   "cell_type": "markdown",
   "id": "239737ce-2c33-4aca-b28e-b2e4450ee0bd",
   "metadata": {},
   "source": [
    "#### 6. Optimize and get optimal values"
   ]
  },
  {
   "cell_type": "code",
   "execution_count": null,
   "id": "688cdcf5-ea18-4716-a523-3ee16b90db48",
   "metadata": {},
   "outputs": [],
   "source": [
    "# solve\n",
    "m.optimize()"
   ]
  },
  {
   "cell_type": "code",
   "execution_count": null,
   "id": "b835ae8d-ca47-478f-9a11-a21227949557",
   "metadata": {},
   "outputs": [],
   "source": [
    "#### know the status of the model - 2 a optimal solution was founded\n",
    "# docu: https://www.gurobi.com/documentation/current/refman/optimization_status_codes.html#sec:StatusCodes\n",
    "m.Status"
   ]
  },
  {
   "cell_type": "code",
   "execution_count": null,
   "id": "241da7da-682e-4874-8251-c64700b06e16",
   "metadata": {},
   "outputs": [],
   "source": [
    "# get optimal values and save in a dataframe\n",
    "######## create a dataframe with set as index\n",
    "solution = pd.DataFrame(index = index_set_time)\n",
    "\n",
    "######################## save optimal values - features of models (only the features) ########################\n",
    "solution[\"var_X1\"] = var_X1.gppd.X\n",
    "solution[\"var_X2\"] = var_X2.gppd.X\n",
    "solution[\"var_Y1\"] = var_Y1.gppd.X\n",
    "solution[\"var_Z1\"] = var_Z1.gppd.X\n",
    "solution[\"var_tank_level\"] = var_tank_level.gppd.X\n",
    "\n",
    "\n",
    "######################## # get value objetive function ########################\n",
    "opt_objetive_function = m.ObjVal"
   ]
  },
  {
   "cell_type": "code",
   "execution_count": null,
   "id": "a6af89e0-0dde-4edb-a6a3-438616df05f1",
   "metadata": {},
   "outputs": [],
   "source": [
    "# show value objetive function\n",
    "opt_objetive_function"
   ]
  },
  {
   "cell_type": "code",
   "execution_count": null,
   "id": "e55440c3-3f32-4219-ae03-968aa51780d1",
   "metadata": {},
   "outputs": [],
   "source": [
    "# show value decision variables\n",
    "solution"
   ]
  },
  {
   "cell_type": "code",
   "execution_count": null,
   "id": "e74ad2dc-fd9d-481d-81fe-b113820ebfd3",
   "metadata": {},
   "outputs": [],
   "source": []
  },
  {
   "cell_type": "code",
   "execution_count": null,
   "id": "788bd3a0-88d6-4c6c-bcb9-867099cb3b4f",
   "metadata": {},
   "outputs": [],
   "source": []
  },
  {
   "cell_type": "code",
   "execution_count": null,
   "id": "0f012a10-8f38-46ad-83ca-220943558c11",
   "metadata": {},
   "outputs": [],
   "source": []
  },
  {
   "cell_type": "code",
   "execution_count": null,
   "id": "997212fc-e77f-4f88-9063-cee9924c5abe",
   "metadata": {},
   "outputs": [],
   "source": []
  }
 ],
 "metadata": {
  "kernelspec": {
   "display_name": "Python 3 (ipykernel)",
   "language": "python",
   "name": "python3"
  },
  "language_info": {
   "codemirror_mode": {
    "name": "ipython",
    "version": 3
   },
   "file_extension": ".py",
   "mimetype": "text/x-python",
   "name": "python",
   "nbconvert_exporter": "python",
   "pygments_lexer": "ipython3",
   "version": "3.10.14"
  }
 },
 "nbformat": 4,
 "nbformat_minor": 5
}
