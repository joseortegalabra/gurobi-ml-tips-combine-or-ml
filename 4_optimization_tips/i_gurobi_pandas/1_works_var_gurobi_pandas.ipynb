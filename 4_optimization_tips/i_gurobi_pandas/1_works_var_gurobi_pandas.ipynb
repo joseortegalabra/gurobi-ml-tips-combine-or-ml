{
 "cells": [
  {
   "cell_type": "markdown",
   "id": "92347a6c-5266-4995-ae64-7ab94a368734",
   "metadata": {},
   "source": [
    "# How to work with gurobi pandas to define decision var with multiple sets (index)"
   ]
  },
  {
   "cell_type": "markdown",
   "id": "986f169c-cd8e-4707-b545-84226eedb449",
   "metadata": {},
   "source": [
    "## Root folder and read env variables"
   ]
  },
  {
   "cell_type": "code",
   "execution_count": null,
   "id": "dcee657f-aada-49b8-b447-f41e067e4a18",
   "metadata": {},
   "outputs": [],
   "source": [
    "import os\n",
    "# fix root path to save outputs\n",
    "actual_path = os.path.abspath(os.getcwd())\n",
    "list_root_path = actual_path.split('\\\\')[:-2]\n",
    "root_path = '\\\\'.join(list_root_path)\n",
    "os.chdir(root_path)\n",
    "print('root path: ', root_path)"
   ]
  },
  {
   "cell_type": "code",
   "execution_count": null,
   "id": "a6640988-69c4-4dfd-b22f-aeeb11fa6e55",
   "metadata": {},
   "outputs": [],
   "source": [
    "import os\n",
    "from dotenv import load_dotenv, find_dotenv # package used in jupyter notebook to read the variables in file .env\n",
    "\n",
    "\"\"\" get env variable from .env \"\"\"\n",
    "load_dotenv(find_dotenv())\n",
    "\n",
    "\"\"\" Read env variables and save it as python variable \"\"\"\n",
    "PROJECT_GCP = os.environ.get(\"PROJECT_GCP\", \"\")"
   ]
  },
  {
   "cell_type": "code",
   "execution_count": null,
   "id": "115d254b-2433-4917-ba92-651a10705e06",
   "metadata": {},
   "outputs": [],
   "source": []
  },
  {
   "cell_type": "markdown",
   "id": "b6843afc-d41f-44ba-a1a9-469cc4f3a6a2",
   "metadata": {},
   "source": [
    "## RUN"
   ]
  },
  {
   "cell_type": "code",
   "execution_count": null,
   "id": "365a0300-b10d-4106-af86-619457307401",
   "metadata": {},
   "outputs": [],
   "source": [
    "import pickle\n",
    "import pandas as pd\n",
    "import numpy as np\n",
    "\n",
    "#gurobi\n",
    "import gurobipy_pandas as gppd\n",
    "from gurobi_ml import add_predictor_constr\n",
    "import gurobipy as gp"
   ]
  },
  {
   "cell_type": "code",
   "execution_count": null,
   "id": "f7b14e29-5164-4360-a160-42a1a64bee08",
   "metadata": {},
   "outputs": [],
   "source": []
  },
  {
   "cell_type": "code",
   "execution_count": null,
   "id": "1e3078fc-ed85-4d94-bcf6-47ac2f7e24d1",
   "metadata": {},
   "outputs": [],
   "source": []
  },
  {
   "cell_type": "markdown",
   "id": "61bbf9c2-fc6f-44cc-ac07-fd485651fca4",
   "metadata": {},
   "source": [
    "## 2. Create gurobi model"
   ]
  },
  {
   "cell_type": "code",
   "execution_count": null,
   "id": "9adcac1a-f1e5-48a8-838a-132f4fd0de81",
   "metadata": {},
   "outputs": [],
   "source": [
    "# create model\n",
    "m = gp.Model('modelo')"
   ]
  },
  {
   "cell_type": "code",
   "execution_count": null,
   "id": "cd4834c3-d4b9-4918-9499-00ed9d3b7dfe",
   "metadata": {},
   "outputs": [],
   "source": []
  },
  {
   "cell_type": "markdown",
   "id": "052c9a12-c3a9-456f-8c59-e2f78776984d",
   "metadata": {},
   "source": [
    "### 3. Create decision variables\n",
    "- Decision variables that are features in ml models\n",
    "- Decicion variable that is the output in ml models"
   ]
  },
  {
   "cell_type": "markdown",
   "id": "3739f677-0504-46cc-96ee-be204809ed9a",
   "metadata": {},
   "source": [
    "#### 3.1 define multiple sets"
   ]
  },
  {
   "cell_type": "code",
   "execution_count": null,
   "id": "4b528702-a27d-4bb2-8a67-f384123f7468",
   "metadata": {},
   "outputs": [],
   "source": [
    "# define set time\n",
    "list_set_time = ['t0', 't1', 't2', 't3', 't4', 't5', 't6']\n",
    "index_set_time = pd.Index(list_set_time)\n",
    "index_set_time"
   ]
  },
  {
   "cell_type": "code",
   "execution_count": null,
   "id": "948d4170-b514-455a-9895-6d49f7846821",
   "metadata": {},
   "outputs": [],
   "source": [
    "# define set additional - second set defined to this example - of example, think the set represent the kind of product\n",
    "list_set_product = ['w', 'x', 'y', 'z']\n",
    "index_set_product = pd.Index(list_set_product)\n",
    "index_set_product"
   ]
  },
  {
   "cell_type": "code",
   "execution_count": null,
   "id": "8e7a0fc4-f3f6-46e4-b2ed-1a39ec7cd84a",
   "metadata": {},
   "outputs": [],
   "source": [
    "############## multi set region&time - index pandas ##############\n",
    "index_set_product_time = pd.MultiIndex.from_product((list_set_product, list_set_time), \n",
    "                                                    names = ('product', 'time')\n",
    "                                                   )\n",
    "index_set_product_time"
   ]
  },
  {
   "cell_type": "code",
   "execution_count": null,
   "id": "2c5e190f-3378-4204-bac7-6fce43f3f485",
   "metadata": {},
   "outputs": [],
   "source": []
  },
  {
   "cell_type": "markdown",
   "id": "8fcaeb83-b5ed-4c65-b22a-1d3ffcf1e1bf",
   "metadata": {},
   "source": [
    "#### 3.2 create decision variables MULTIPLE INDEX"
   ]
  },
  {
   "cell_type": "code",
   "execution_count": null,
   "id": "fa72387d-019d-415b-a0de-3d88d08ff4cf",
   "metadata": {},
   "outputs": [],
   "source": [
    "# create decision variables\n",
    "var_Z1_multiple = gppd.add_vars(m, index_set_product_time, name = \"decision variable Z1 - MULTI INDEX\"\n",
    "                                     )\n",
    "\n",
    "var_X2_multiple = gppd.add_vars(m, index_set_product_time, name = \"decision variable X2 - MULTI INDEX\"\n",
    "                                     )\n",
    "\n",
    "var_Y2_multiple = gppd.add_vars(m, index_set_product_time, name = \"decision variable Y2 - MULTI INDEX\"\n",
    "                                     )"
   ]
  },
  {
   "cell_type": "code",
   "execution_count": null,
   "id": "c6cdf440-8f8c-47ab-b020-fe1ad2acd306",
   "metadata": {},
   "outputs": [],
   "source": [
    "# \"compile\"\n",
    "m.update()"
   ]
  },
  {
   "cell_type": "code",
   "execution_count": null,
   "id": "a028cec2-0f07-4743-8115-01a54801af2e",
   "metadata": {},
   "outputs": [],
   "source": [
    "# see decision var created\n",
    "var_Y2_multiple"
   ]
  },
  {
   "cell_type": "code",
   "execution_count": null,
   "id": "4457e145-6b2d-4aa6-911e-612abc4cda29",
   "metadata": {},
   "outputs": [],
   "source": []
  },
  {
   "cell_type": "markdown",
   "id": "693a320f-1152-4893-8612-540241304c3c",
   "metadata": {},
   "source": [
    "#### 3.3 create decision variables ONE INDEX"
   ]
  },
  {
   "cell_type": "code",
   "execution_count": null,
   "id": "d5367f18-431f-448d-8492-04feaed09a23",
   "metadata": {},
   "outputs": [],
   "source": [
    "# create decision variables\n",
    "var_Z1_one = gppd.add_vars(m, index_set_product, name = \"decision variable Z1 - ONE INDEX\"\n",
    "                                     )\n",
    "\n",
    "var_X2_one = gppd.add_vars(m, index_set_product, name = \"decision variable X2 - ONE INDEX\"\n",
    "                                     )\n",
    "\n",
    "var_Y2_one = gppd.add_vars(m, index_set_product, name = \"decision variable Y2 - ONE INDEX\"\n",
    "                                     )"
   ]
  },
  {
   "cell_type": "code",
   "execution_count": null,
   "id": "c1438cb4-2fdc-469b-84d6-a4e7fcde1105",
   "metadata": {},
   "outputs": [],
   "source": [
    "# \"compile\"\n",
    "m.update()"
   ]
  },
  {
   "cell_type": "code",
   "execution_count": null,
   "id": "9f10b479-f308-44fc-bdb0-464e2d232b12",
   "metadata": {},
   "outputs": [],
   "source": [
    "# see decision var created\n",
    "var_Y2_one"
   ]
  },
  {
   "cell_type": "code",
   "execution_count": null,
   "id": "56b1aebc-c8aa-4888-b72d-4394face2f49",
   "metadata": {},
   "outputs": [],
   "source": []
  },
  {
   "cell_type": "markdown",
   "id": "e5dd9888-8b46-484d-aeae-c137540e827a",
   "metadata": {},
   "source": [
    "### 5. Define objective optimization\n",
    "Objetive that no generate infeasibility"
   ]
  },
  {
   "cell_type": "code",
   "execution_count": null,
   "id": "4dc19f6b-5d9c-4449-b8e5-0685a52715f5",
   "metadata": {},
   "outputs": [],
   "source": [
    "var_Y2_one.sum() # sum across time"
   ]
  },
  {
   "cell_type": "code",
   "execution_count": null,
   "id": "6cb07100-85e0-47e7-a7ef-dbb23e2580b6",
   "metadata": {},
   "outputs": [],
   "source": [
    "m.setObjective(var_Y2_one.sum(),\n",
    "               gp.GRB.MINIMIZE)"
   ]
  },
  {
   "cell_type": "code",
   "execution_count": null,
   "id": "368f6be4-01d6-416b-8777-b0234b3fc0ba",
   "metadata": {},
   "outputs": [],
   "source": []
  },
  {
   "cell_type": "markdown",
   "id": "239737ce-2c33-4aca-b28e-b2e4450ee0bd",
   "metadata": {},
   "source": [
    "#### 6. Optimize and get optimal values"
   ]
  },
  {
   "cell_type": "code",
   "execution_count": null,
   "id": "688cdcf5-ea18-4716-a523-3ee16b90db48",
   "metadata": {},
   "outputs": [],
   "source": [
    "# solve\n",
    "m.optimize()"
   ]
  },
  {
   "cell_type": "code",
   "execution_count": null,
   "id": "b835ae8d-ca47-478f-9a11-a21227949557",
   "metadata": {},
   "outputs": [],
   "source": [
    "#### know the status of the model - 2 a optimal solution was founded\n",
    "# docu: https://www.gurobi.com/documentation/current/refman/optimization_status_codes.html#sec:StatusCodes\n",
    "m.Status"
   ]
  },
  {
   "cell_type": "code",
   "execution_count": null,
   "id": "241da7da-682e-4874-8251-c64700b06e16",
   "metadata": {},
   "outputs": [],
   "source": [
    "# get optimal values and save in a dataframe\n",
    "######## create a dataframe with set used previosly\n",
    "solution = pd.DataFrame(index = index_set_product)\n",
    "\n",
    "######################## save optimal values - features of models (only the features) ########################\n",
    "\n",
    "# model\n",
    "solution[\"var_Z1_one\"] = var_Z1_one.gppd.X\n",
    "solution[\"var_X2_one\"] = var_X2_one.gppd.X\n",
    "\n",
    "\n",
    "######################## save optimal values - targets of models (some targets are features of the model of the next step) ########################\n",
    "solution[\"var_Y2_one\"] = var_Y2_one.gppd.X  # model\n",
    "\n",
    "\n",
    "######################## # get value objetive function ########################\n",
    "opt_objetive_function = m.ObjVal"
   ]
  },
  {
   "cell_type": "code",
   "execution_count": null,
   "id": "a6af89e0-0dde-4edb-a6a3-438616df05f1",
   "metadata": {},
   "outputs": [],
   "source": [
    "# show value objetive function\n",
    "opt_objetive_function"
   ]
  },
  {
   "cell_type": "code",
   "execution_count": null,
   "id": "e55440c3-3f32-4219-ae03-968aa51780d1",
   "metadata": {},
   "outputs": [],
   "source": [
    "# show value decision variables\n",
    "solution"
   ]
  },
  {
   "cell_type": "code",
   "execution_count": null,
   "id": "c379938b-ac69-4232-a344-8392c9ce9c57",
   "metadata": {},
   "outputs": [],
   "source": []
  }
 ],
 "metadata": {
  "kernelspec": {
   "display_name": "Python 3 (ipykernel)",
   "language": "python",
   "name": "python3"
  },
  "language_info": {
   "codemirror_mode": {
    "name": "ipython",
    "version": 3
   },
   "file_extension": ".py",
   "mimetype": "text/x-python",
   "name": "python",
   "nbconvert_exporter": "python",
   "pygments_lexer": "ipython3",
   "version": "3.10.14"
  }
 },
 "nbformat": 4,
 "nbformat_minor": 5
}
