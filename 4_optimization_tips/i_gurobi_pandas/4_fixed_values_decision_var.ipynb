{
 "cells": [
  {
   "cell_type": "markdown",
   "id": "92347a6c-5266-4995-ae64-7ab94a368734",
   "metadata": {},
   "source": [
    "# Given a decision Var fix the value of one elements in one set of these decision var\n",
    "\n",
    "- For example, given a decision var X with set across the time (t0, t1, t2, etc), the idea is set the values of the first elements of the set because in time t0 it represent the actual period"
   ]
  },
  {
   "cell_type": "markdown",
   "id": "986f169c-cd8e-4707-b545-84226eedb449",
   "metadata": {},
   "source": [
    "## Root folder and read env variables"
   ]
  },
  {
   "cell_type": "code",
   "execution_count": null,
   "id": "dcee657f-aada-49b8-b447-f41e067e4a18",
   "metadata": {},
   "outputs": [],
   "source": [
    "import os\n",
    "# fix root path to save outputs\n",
    "actual_path = os.path.abspath(os.getcwd())\n",
    "list_root_path = actual_path.split('\\\\')[:-2]\n",
    "root_path = '\\\\'.join(list_root_path)\n",
    "os.chdir(root_path)\n",
    "print('root path: ', root_path)"
   ]
  },
  {
   "cell_type": "code",
   "execution_count": null,
   "id": "a6640988-69c4-4dfd-b22f-aeeb11fa6e55",
   "metadata": {},
   "outputs": [],
   "source": [
    "import os\n",
    "from dotenv import load_dotenv, find_dotenv # package used in jupyter notebook to read the variables in file .env\n",
    "\n",
    "\"\"\" get env variable from .env \"\"\"\n",
    "load_dotenv(find_dotenv())\n",
    "\n",
    "\"\"\" Read env variables and save it as python variable \"\"\"\n",
    "PROJECT_GCP = os.environ.get(\"PROJECT_GCP\", \"\")"
   ]
  },
  {
   "cell_type": "code",
   "execution_count": null,
   "id": "115d254b-2433-4917-ba92-651a10705e06",
   "metadata": {},
   "outputs": [],
   "source": []
  },
  {
   "cell_type": "markdown",
   "id": "b6843afc-d41f-44ba-a1a9-469cc4f3a6a2",
   "metadata": {},
   "source": [
    "## RUN"
   ]
  },
  {
   "cell_type": "code",
   "execution_count": null,
   "id": "365a0300-b10d-4106-af86-619457307401",
   "metadata": {},
   "outputs": [],
   "source": [
    "import pickle\n",
    "import pandas as pd\n",
    "import numpy as np\n",
    "\n",
    "#gurobi\n",
    "import gurobipy_pandas as gppd\n",
    "from gurobi_ml import add_predictor_constr\n",
    "import gurobipy as gp"
   ]
  },
  {
   "cell_type": "code",
   "execution_count": null,
   "id": "f7b14e29-5164-4360-a160-42a1a64bee08",
   "metadata": {},
   "outputs": [],
   "source": []
  },
  {
   "cell_type": "code",
   "execution_count": null,
   "id": "1e3078fc-ed85-4d94-bcf6-47ac2f7e24d1",
   "metadata": {},
   "outputs": [],
   "source": []
  },
  {
   "cell_type": "markdown",
   "id": "61bbf9c2-fc6f-44cc-ac07-fd485651fca4",
   "metadata": {},
   "source": [
    "## 2. Create gurobi model"
   ]
  },
  {
   "cell_type": "code",
   "execution_count": null,
   "id": "9adcac1a-f1e5-48a8-838a-132f4fd0de81",
   "metadata": {},
   "outputs": [],
   "source": [
    "# create model\n",
    "m = gp.Model('modelo')"
   ]
  },
  {
   "cell_type": "code",
   "execution_count": null,
   "id": "cd4834c3-d4b9-4918-9499-00ed9d3b7dfe",
   "metadata": {},
   "outputs": [],
   "source": []
  },
  {
   "cell_type": "markdown",
   "id": "052c9a12-c3a9-456f-8c59-e2f78776984d",
   "metadata": {},
   "source": [
    "### 3. Create decision variables\n",
    "- Decision variables that are features\n",
    "- Decicion variable that is the output"
   ]
  },
  {
   "cell_type": "code",
   "execution_count": null,
   "id": "4b528702-a27d-4bb2-8a67-f384123f7468",
   "metadata": {},
   "outputs": [],
   "source": [
    "# define set\n",
    "list_set_time = ['t0', 't1', 't2', 't3', 't4', 't5', 't6']\n",
    "index_set_time = pd.Index(list_set_time)\n",
    "index_set_time"
   ]
  },
  {
   "cell_type": "code",
   "execution_count": null,
   "id": "fa72387d-019d-415b-a0de-3d88d08ff4cf",
   "metadata": {},
   "outputs": [],
   "source": [
    "# create decision variables - features ml model\n",
    "var_X3 = gppd.add_vars(m, index_set_time, name = \"decision variable Z1\",\n",
    "                       #lb = -gp.GRB.INFINITY,\n",
    "                                      ub = gp.GRB.INFINITY\n",
    "                                     )\n",
    "\n",
    "var_Z4 = gppd.add_vars(m, index_set_time, name = \"decision variable X2\",\n",
    "                       #lb = -gp.GRB.INFINITY,\n",
    "                                      ub = gp.GRB.INFINITY\n",
    "                                     )"
   ]
  },
  {
   "cell_type": "code",
   "execution_count": null,
   "id": "dd2d5921-1117-4657-9e50-4768fc123fa6",
   "metadata": {},
   "outputs": [],
   "source": [
    "# crete decision variables - output ml model\n",
    "var_Y2 = gppd.add_vars(m, index_set_time, name = \"decision variable Y2\",\n",
    "                       lb = -gp.GRB.INFINITY,\n",
    "                                      ub = gp.GRB.INFINITY\n",
    "                                     )"
   ]
  },
  {
   "cell_type": "code",
   "execution_count": null,
   "id": "c6cdf440-8f8c-47ab-b020-fe1ad2acd306",
   "metadata": {},
   "outputs": [],
   "source": [
    "# \"compile\"\n",
    "m.update()"
   ]
  },
  {
   "cell_type": "code",
   "execution_count": null,
   "id": "a028cec2-0f07-4743-8115-01a54801af2e",
   "metadata": {},
   "outputs": [],
   "source": [
    "# see decision var created\n",
    "var_Y2"
   ]
  },
  {
   "cell_type": "code",
   "execution_count": null,
   "id": "ab543d35-902a-491f-b53f-fbda07c75c4d",
   "metadata": {},
   "outputs": [],
   "source": []
  },
  {
   "cell_type": "markdown",
   "id": "263aae39-5d28-4624-ba40-02edc2111b68",
   "metadata": {},
   "source": [
    "### 4. Define Some Constraints (extra for the objective of this example)\n",
    "In this example, the following formula is defined as constraint\n",
    "\n",
    "---------------\n",
    "alpha_feature_1 = 1/5\n",
    "\n",
    "alpha_feature_2 = 15\n",
    "\n",
    "Y2 = alpha_feature_1 * X3 + alpha_feature_2 * 06"
   ]
  },
  {
   "cell_type": "code",
   "execution_count": null,
   "id": "f50c0c1e-f79c-40ee-80f1-41b79bb663ab",
   "metadata": {},
   "outputs": [],
   "source": [
    "# define parameters of the constraint\n",
    "alpha_feature_x3 = 1/5\n",
    "alpha_feature_z4 = 15"
   ]
  },
  {
   "cell_type": "code",
   "execution_count": null,
   "id": "25d7fec6-75da-4647-bf26-b1857b3d5e86",
   "metadata": {},
   "outputs": [],
   "source": [
    "# define function as constraint\n",
    "gppd.add_constrs(m, (alpha_feature_x3 * var_X3 + alpha_feature_z4 * var_Z4), gp.GRB.EQUAL, var_Y2, name = 'function as constraint')"
   ]
  },
  {
   "cell_type": "code",
   "execution_count": null,
   "id": "5c84f5a6-7db4-4883-bcc9-1e1610fa2a3a",
   "metadata": {},
   "outputs": [],
   "source": []
  },
  {
   "cell_type": "markdown",
   "id": "5944cdcb-22be-4ce9-bd37-42e90e61c1d6",
   "metadata": {},
   "source": [
    "### 5. Define fixed values of the decision Var\n",
    "- Fix the values of period t=0 for each decision var.\n",
    "\n",
    "- t=0 represent the actual period or initial period and it in some problems and modelations is kwown"
   ]
  },
  {
   "cell_type": "code",
   "execution_count": null,
   "id": "dfdf32a9-95c0-498e-8309-fdff949d0026",
   "metadata": {},
   "outputs": [],
   "source": [
    "# set values in t = 0\n",
    "\n",
    "# var_X3['t0'] = 10\n",
    "# gppd.add_constrs(m, var_X3[0], gp.GRB.EQUAL, 10, name = 'Initial Value X3') doesn't work :/\n",
    "m.addConstr(var_X3['t0'] == 10,  name = 'Initial Value X3')\n",
    "\n",
    "# var_Z4['t0'] = 55\n",
    "m.addConstr(var_Z4['t0'] == 55,  name = 'Initial Value Z4')"
   ]
  },
  {
   "cell_type": "code",
   "execution_count": null,
   "id": "fec64824-95ee-4f1b-970a-96854300d0c4",
   "metadata": {},
   "outputs": [],
   "source": [
    "m"
   ]
  },
  {
   "cell_type": "code",
   "execution_count": null,
   "id": "ccf21135-f25b-4945-a62f-1b4795ac3ac6",
   "metadata": {},
   "outputs": [],
   "source": [
    "m.update()"
   ]
  },
  {
   "cell_type": "code",
   "execution_count": null,
   "id": "81175655-f9b2-4c16-b7c8-e5a9c21c752b",
   "metadata": {},
   "outputs": [],
   "source": [
    "m"
   ]
  },
  {
   "cell_type": "code",
   "execution_count": null,
   "id": "3c2b471f-6320-4354-a09e-d361a9095f5a",
   "metadata": {},
   "outputs": [],
   "source": [
    "# print show one decision var\n",
    "var_X3"
   ]
  },
  {
   "cell_type": "code",
   "execution_count": null,
   "id": "5b0ac647-fca1-4d8e-97e5-f90cea8149e2",
   "metadata": {},
   "outputs": [],
   "source": []
  },
  {
   "cell_type": "markdown",
   "id": "a6921d2e-48ac-4456-919b-7f5029321a52",
   "metadata": {},
   "source": [
    "### 6. Define objective optimization\n",
    "Objetive that no generate infeasibility"
   ]
  },
  {
   "cell_type": "code",
   "execution_count": null,
   "id": "a6142a3b-84d8-4ca1-b801-68573b17d98d",
   "metadata": {},
   "outputs": [],
   "source": [
    "m.setObjective(var_X3.sum() + var_Z4.sum(),\n",
    "               gp.GRB.MINIMIZE)"
   ]
  },
  {
   "cell_type": "code",
   "execution_count": null,
   "id": "e6146b06-b08b-4c7c-a1a9-89af9e4b0fa9",
   "metadata": {},
   "outputs": [],
   "source": []
  },
  {
   "cell_type": "markdown",
   "id": "239737ce-2c33-4aca-b28e-b2e4450ee0bd",
   "metadata": {},
   "source": [
    "#### 6. Optimize and get optimal values"
   ]
  },
  {
   "cell_type": "code",
   "execution_count": null,
   "id": "688cdcf5-ea18-4716-a523-3ee16b90db48",
   "metadata": {},
   "outputs": [],
   "source": [
    "# solve\n",
    "m.optimize()"
   ]
  },
  {
   "cell_type": "code",
   "execution_count": null,
   "id": "b835ae8d-ca47-478f-9a11-a21227949557",
   "metadata": {},
   "outputs": [],
   "source": [
    "#### know the status of the model - 2 a optimal solution was founded\n",
    "# docu: https://www.gurobi.com/documentation/current/refman/optimization_status_codes.html#sec:StatusCodes\n",
    "m.Status"
   ]
  },
  {
   "cell_type": "code",
   "execution_count": null,
   "id": "241da7da-682e-4874-8251-c64700b06e16",
   "metadata": {},
   "outputs": [],
   "source": [
    "# get optimal values and save in a dataframe\n",
    "######## create a dataframe with set as index\n",
    "solution = pd.DataFrame(index = index_set_time)\n",
    "\n",
    "######################## save optimal values - features of models (only the features) ########################\n",
    "\n",
    "# model\n",
    "solution[\"var_X3\"] = var_X3.gppd.X\n",
    "solution[\"var_Z4\"] = var_Z4.gppd.X\n",
    "\n",
    "\n",
    "######################## save optimal values - targets of models (some targets are features of the model of the next step) ########################\n",
    "solution[\"var_Y2\"] = var_Y2.gppd.X  # model\n",
    "\n",
    "\n",
    "######################## # get value objetive function ########################\n",
    "opt_objetive_function = m.ObjVal"
   ]
  },
  {
   "cell_type": "code",
   "execution_count": null,
   "id": "a6af89e0-0dde-4edb-a6a3-438616df05f1",
   "metadata": {},
   "outputs": [],
   "source": [
    "# show value objetive function\n",
    "opt_objetive_function"
   ]
  },
  {
   "cell_type": "code",
   "execution_count": null,
   "id": "e55440c3-3f32-4219-ae03-968aa51780d1",
   "metadata": {},
   "outputs": [],
   "source": [
    "# show value decision variables\n",
    "solution"
   ]
  },
  {
   "cell_type": "code",
   "execution_count": null,
   "id": "591f9e07-b5c9-412a-9655-f5e0f0d6b2a9",
   "metadata": {},
   "outputs": [],
   "source": [
    "#### wonderfull"
   ]
  },
  {
   "cell_type": "code",
   "execution_count": null,
   "id": "997212fc-e77f-4f88-9063-cee9924c5abe",
   "metadata": {},
   "outputs": [],
   "source": []
  }
 ],
 "metadata": {
  "kernelspec": {
   "display_name": "Python 3 (ipykernel)",
   "language": "python",
   "name": "python3"
  },
  "language_info": {
   "codemirror_mode": {
    "name": "ipython",
    "version": 3
   },
   "file_extension": ".py",
   "mimetype": "text/x-python",
   "name": "python",
   "nbconvert_exporter": "python",
   "pygments_lexer": "ipython3",
   "version": "3.10.14"
  }
 },
 "nbformat": 4,
 "nbformat_minor": 5
}
