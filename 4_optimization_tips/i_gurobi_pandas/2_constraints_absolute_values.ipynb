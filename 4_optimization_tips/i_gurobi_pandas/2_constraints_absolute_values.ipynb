{
 "cells": [
  {
   "cell_type": "markdown",
   "id": "840ee274-c437-407d-89d7-1f397ad239a8",
   "metadata": {},
   "source": [
    "# Constraint abs value\n",
    "Test add a constraint with absolute value\n",
    "\n",
    "### Context\n",
    "There are 2 features X(t=1) and X(t=2) and I want that the difference between X(t=1) and X(t=2) will not be upper to certain delta. \n",
    "Note that the difference between the variables could be positive or negative, so to compare the difference with the delta it is neccesary that the difference to be in absolute value\n",
    "\n",
    "### Solution\n",
    "It is necessary to create an auxiliar variable defined as the difference"
   ]
  },
  {
   "cell_type": "markdown",
   "id": "e7073bf6-6e15-4e78-a7fc-9aef837b5679",
   "metadata": {},
   "source": [
    "## RUN: Idea 1"
   ]
  },
  {
   "cell_type": "code",
   "execution_count": null,
   "id": "9311a5d7-d60a-429f-99aa-c08ada93977c",
   "metadata": {},
   "outputs": [],
   "source": [
    "import gurobipy as gp\n",
    "\n",
    "# Crear el modelo\n",
    "m = gp.Model('modelo')\n",
    "\n",
    "# Variables de decisión\n",
    "x1 = m.addVar(name='x1')\n",
    "x2 = m.addVar(name='x2')\n",
    "\n",
    "# Diferencia entre x1 y x2\n",
    "d = m.addVar(name='d')\n",
    "\n",
    "# Restricción de diferencia\n",
    "delta = 10  # Valor de delta\n",
    "m.addConstr(d == x1 - x2, name='d_definition')\n",
    "m.addConstr(d <= delta, name='upper_bound')\n",
    "m.addConstr(d >= -delta, name='lower_bound')\n",
    "\n",
    "# Función objetivo y resolución\n",
    "m.setObjective(x1 + x2, sense=gp.GRB.MINIMIZE)\n",
    "m.optimize()"
   ]
  },
  {
   "cell_type": "code",
   "execution_count": null,
   "id": "47d7d0e2-e906-4ff3-a0b1-f8d0c04ff4fa",
   "metadata": {},
   "outputs": [],
   "source": [
    "# Imprimir resultados\n",
    "print('x1:', x1.x)\n",
    "print('x2:', x2.x)\n",
    "print('d:', d.x)"
   ]
  },
  {
   "cell_type": "code",
   "execution_count": null,
   "id": "71366bf0-e48f-4983-a07a-03fcd6ede617",
   "metadata": {},
   "outputs": [],
   "source": []
  },
  {
   "cell_type": "code",
   "execution_count": null,
   "id": "ebf42717-42b6-4ed5-8643-35aeb3253bd0",
   "metadata": {},
   "outputs": [],
   "source": []
  },
  {
   "cell_type": "markdown",
   "id": "f2fa4153-b7ee-4584-b99e-b61020ed8f25",
   "metadata": {},
   "source": [
    "## RUN: Idea 2"
   ]
  },
  {
   "cell_type": "markdown",
   "id": "b10faea0-b02b-4526-a10d-1f9dd3ee4d55",
   "metadata": {},
   "source": [
    "SOLUCION\n",
    "\n",
    "Usando variables auxiliares:\n",
    "Puedes introducir una **variable auxiliar y** para **representar el valor absoluto de x**:\n",
    "\n",
    "- y >= x\n",
    "\n",
    "- y >= -x\n",
    "\n",
    "- y <= b\n",
    "\n",
    "Esto asegura que y es el máximo de x y -x, por lo que y representa efectivamente |x|.\n",
    "\n",
    "--------\n",
    "Luego, si quiero calcular el valor absoluto de una diferencia de variables de decisión se tiene la **variable auxiliar y** para representar el **valor absoluto de x1-x2**\n",
    "\n",
    "- y >= (x1 - x2)\n",
    "\n",
    "- y >= -(x1 - x2)\n",
    "\n",
    "- y <= delta"
   ]
  },
  {
   "cell_type": "markdown",
   "id": "872a1c97-e9a6-4a17-a2c1-59de8ae43119",
   "metadata": {},
   "source": [
    "#### Idea 2 - all decision var"
   ]
  },
  {
   "cell_type": "code",
   "execution_count": null,
   "id": "0b7b22f7-821a-4584-ad61-2f950d3a0a6f",
   "metadata": {},
   "outputs": [],
   "source": [
    "import gurobipy as gp\n",
    "\n",
    "# Crear el modelo\n",
    "m = gp.Model('modelo')\n",
    "\n",
    "# Variables de decisión\n",
    "x1 = m.addVar(name = 'x1')\n",
    "x2 = m.addVar(name = 'x2')\n",
    "\n",
    "# Diferencia entre x1 y x2\n",
    "abs_diff = m.addVar(name = 'abs(x1-x2)')\n",
    "\n",
    "# Restricción de diferencia\n",
    "delta = 10  # Valor de delta\n",
    "m.addConstr(abs_diff >= (x1 - x2), name = '|x1 - x2| positive segment')\n",
    "m.addConstr(abs_diff >= -(x1 - x2), name = '|x1 - x2| negative segment')\n",
    "m.addConstr(abs_diff <= delta, name = 'delta')\n",
    "\n",
    "\n",
    "# Función objetivo y resolución\n",
    "m.setObjective(x1 + x2, sense=gp.GRB.MINIMIZE)\n",
    "m.optimize()"
   ]
  },
  {
   "cell_type": "code",
   "execution_count": null,
   "id": "30841a60-3c88-488b-bf15-eae99a594824",
   "metadata": {},
   "outputs": [],
   "source": [
    "# Imprimir resultados\n",
    "print('x1:', x1.x)\n",
    "print('x2:', x2.x)\n",
    "print('abs_diff:', abs_diff.x)"
   ]
  },
  {
   "cell_type": "code",
   "execution_count": null,
   "id": "c20b4595-51e1-4c50-bfc8-30f7b6b41694",
   "metadata": {},
   "outputs": [],
   "source": []
  },
  {
   "cell_type": "code",
   "execution_count": null,
   "id": "cc59c1cd-8622-46a5-b512-34925f8cf84c",
   "metadata": {},
   "outputs": [],
   "source": []
  },
  {
   "cell_type": "markdown",
   "id": "5aadf294-9e1e-4f89-be97-8ed1eaa648c0",
   "metadata": {},
   "source": [
    "#### Idea 2 - one decision var is a parameter"
   ]
  },
  {
   "cell_type": "code",
   "execution_count": null,
   "id": "59c1a54e-e6bf-48c1-9f95-78d8599aaff5",
   "metadata": {},
   "outputs": [],
   "source": [
    "import gurobipy as gp\n",
    "\n",
    "# Crear el modelo\n",
    "m = gp.Model('modelo')\n",
    "\n",
    "# Variables de decisión\n",
    "x1 = m.addVar(name = 'x1')\n",
    "x2 = 3\n",
    "\n",
    "# Diferencia entre x1 y x2\n",
    "abs_diff = m.addVar(name = 'abs(x1-x2)')\n",
    "\n",
    "# Restricción de diferencia\n",
    "delta = 10  # Valor de delta\n",
    "m.addConstr(abs_diff >= (x1 - x2), name = '|x1 - x2| positive segment')\n",
    "m.addConstr(abs_diff >= -(x1 - x2), name = '|x1 - x2| negative segment')\n",
    "m.addConstr(abs_diff <= delta, name = 'delta')\n",
    "\n",
    "\n",
    "# Función objetivo y resolución\n",
    "m.setObjective(x1 + x2, sense=gp.GRB.MINIMIZE)\n",
    "m.optimize()"
   ]
  },
  {
   "cell_type": "code",
   "execution_count": null,
   "id": "f874789f-670d-4cf6-8c32-0afec9caf824",
   "metadata": {
    "scrolled": true
   },
   "outputs": [],
   "source": [
    "# Imprimir resultados\n",
    "print('x1:', x1.x)\n",
    "print('abs_diff:', abs_diff.x)"
   ]
  },
  {
   "cell_type": "code",
   "execution_count": null,
   "id": "97bf3de3-c612-47b9-b15e-5c8234bb75a1",
   "metadata": {},
   "outputs": [],
   "source": []
  },
  {
   "cell_type": "code",
   "execution_count": null,
   "id": "9b7821b1-9b06-42c7-9115-6dbb43ba2c46",
   "metadata": {},
   "outputs": [],
   "source": []
  }
 ],
 "metadata": {
  "kernelspec": {
   "display_name": "Python 3 (ipykernel)",
   "language": "python",
   "name": "python3"
  },
  "language_info": {
   "codemirror_mode": {
    "name": "ipython",
    "version": 3
   },
   "file_extension": ".py",
   "mimetype": "text/x-python",
   "name": "python",
   "nbconvert_exporter": "python",
   "pygments_lexer": "ipython3",
   "version": "3.10.14"
  }
 },
 "nbformat": 4,
 "nbformat_minor": 5
}
