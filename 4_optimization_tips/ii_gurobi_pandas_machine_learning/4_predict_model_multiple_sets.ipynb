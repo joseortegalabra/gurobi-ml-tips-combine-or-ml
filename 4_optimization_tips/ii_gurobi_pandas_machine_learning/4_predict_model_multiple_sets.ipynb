{
 "cells": [
  {
   "cell_type": "markdown",
   "id": "92347a6c-5266-4995-ae64-7ab94a368734",
   "metadata": {},
   "source": [
    "# Test to define how to add decision var with multiple sets Var(x,t) into a dataframe to connect to Machine Learning Model\n",
    "\n",
    "Gurobi machine learning, how is natural, only accepts dataframe of 2 dimensions to connect to Machine Learning Models. **The columns are the features that the model recibe (always are the features of the ml model) and the rows represent one set of the data**, \n",
    "\n",
    "So, when the decision variables has multiple sets there are two aproaches that can be do depending of the nature of the optimization problem:\n",
    "- Use a ML model transversal across only one of the sets (time for example) to achieve to generate the input dataframe: time, features\n",
    "- Use a ML model with the input dataframe with multiindex to have a input dataframe with 2 or more sets: (product, time), feartures"
   ]
  },
  {
   "cell_type": "markdown",
   "id": "986f169c-cd8e-4707-b545-84226eedb449",
   "metadata": {},
   "source": [
    "## Root folder and read env variables"
   ]
  },
  {
   "cell_type": "code",
   "execution_count": null,
   "id": "dcee657f-aada-49b8-b447-f41e067e4a18",
   "metadata": {},
   "outputs": [],
   "source": [
    "import os\n",
    "# fix root path to save outputs\n",
    "actual_path = os.path.abspath(os.getcwd())\n",
    "list_root_path = actual_path.split('\\\\')[:-2]\n",
    "root_path = '\\\\'.join(list_root_path)\n",
    "os.chdir(root_path)\n",
    "print('root path: ', root_path)"
   ]
  },
  {
   "cell_type": "code",
   "execution_count": null,
   "id": "a6640988-69c4-4dfd-b22f-aeeb11fa6e55",
   "metadata": {},
   "outputs": [],
   "source": [
    "import os\n",
    "from dotenv import load_dotenv, find_dotenv # package used in jupyter notebook to read the variables in file .env\n",
    "\n",
    "\"\"\" get env variable from .env \"\"\"\n",
    "load_dotenv(find_dotenv())\n",
    "\n",
    "\"\"\" Read env variables and save it as python variable \"\"\"\n",
    "PROJECT_GCP = os.environ.get(\"PROJECT_GCP\", \"\")"
   ]
  },
  {
   "cell_type": "code",
   "execution_count": null,
   "id": "115d254b-2433-4917-ba92-651a10705e06",
   "metadata": {},
   "outputs": [],
   "source": []
  },
  {
   "cell_type": "markdown",
   "id": "b6843afc-d41f-44ba-a1a9-469cc4f3a6a2",
   "metadata": {},
   "source": [
    "## ---> LOAD THE PROCESS THAT PREDICT OUTPUT Y2 OF PROCESS B.  Y2 = f(Z1, X2, O5, O6)"
   ]
  },
  {
   "cell_type": "code",
   "execution_count": null,
   "id": "365a0300-b10d-4106-af86-619457307401",
   "metadata": {},
   "outputs": [],
   "source": [
    "import pickle\n",
    "import pandas as pd\n",
    "import numpy as np\n",
    "\n",
    "#gurobi\n",
    "import gurobipy_pandas as gppd\n",
    "from gurobi_ml import add_predictor_constr\n",
    "import gurobipy as gp"
   ]
  },
  {
   "cell_type": "markdown",
   "id": "99763c69-717f-48d3-9875-c9435c00fcb8",
   "metadata": {},
   "source": [
    "### 0. Load data\n",
    "This data will be use to get values to generate a instance of the ml model"
   ]
  },
  {
   "cell_type": "code",
   "execution_count": null,
   "id": "5ce4064a-405c-4cb1-b886-500687af49d4",
   "metadata": {},
   "outputs": [],
   "source": [
    "name_process = 'process_b_y2'  # LOAD THE MODEL THAT PREDICT OUTPUT Y2 OF PROCESS B.  Y2 = f(Z1, X2, O5, O6)\n",
    "\n",
    "# load X_test\n",
    "path_X_test = f'artifacts/data_training/{name_process}/X_test.pkl'\n",
    "X_test = pd.read_pickle(path_X_test)\n",
    "\n",
    "# load y_test\n",
    "path_y_test = f'artifacts/data_training/{name_process}/y_test.pkl'\n",
    "y_test = pd.read_pickle(path_y_test)"
   ]
  },
  {
   "cell_type": "code",
   "execution_count": null,
   "id": "f7b14e29-5164-4360-a160-42a1a64bee08",
   "metadata": {},
   "outputs": [],
   "source": []
  },
  {
   "cell_type": "markdown",
   "id": "d87ead74-f6b6-4a17-bfbc-9605be9d33d9",
   "metadata": {},
   "source": [
    "### 1. Load Artifacts to connect ML to gurobi"
   ]
  },
  {
   "cell_type": "markdown",
   "id": "abb8e34c-3455-4e4b-8a93-67d5fea7a7aa",
   "metadata": {},
   "source": [
    "#### 1.1 pkl model"
   ]
  },
  {
   "cell_type": "code",
   "execution_count": null,
   "id": "6c4387f7-3544-45ba-8b95-57af3f2d01b8",
   "metadata": {},
   "outputs": [],
   "source": [
    "path_model_to_test = f'artifacts/models/{name_process}/lr.pkl'\n",
    "model_ml_to_test = pd.read_pickle(path_model_to_test)\n",
    "model_ml_to_test"
   ]
  },
  {
   "cell_type": "markdown",
   "id": "49abfccd-803d-4530-84e0-4dd8d3902899",
   "metadata": {},
   "source": [
    "### 1.2 Define list of features and target for each model"
   ]
  },
  {
   "cell_type": "code",
   "execution_count": null,
   "id": "bbd13696-711b-4623-bc8b-bec4d0bac2f3",
   "metadata": {},
   "outputs": [],
   "source": [
    "X_test"
   ]
  },
  {
   "cell_type": "code",
   "execution_count": null,
   "id": "9b192baa-ad8f-46a3-ad92-829dbc834d86",
   "metadata": {},
   "outputs": [],
   "source": [
    "######################## model  ########################\n",
    "\n",
    "list_features = ['Z1', 'X2', 'O5', 'O6']\n",
    "\n",
    "list_features_controlables = ['Z1', 'X2']\n",
    "\n",
    "list_target = ['Y2']"
   ]
  },
  {
   "cell_type": "markdown",
   "id": "e22683ab-b05e-4ee7-bf67-1fad5bb00428",
   "metadata": {},
   "source": [
    "### 1.3 Read master tag and sort features according its order"
   ]
  },
  {
   "cell_type": "code",
   "execution_count": null,
   "id": "2678cd7c-a467-4b6c-acac-f6e044e29f08",
   "metadata": {},
   "outputs": [],
   "source": [
    "# read table master tag\n",
    "path_list_features_target_to_optimization = f'config/config_ml_models_development/MasterTable_{name_process}.xlsx'\n",
    "maestro_tags = pd.read_excel(path_list_features_target_to_optimization)\n",
    "\n",
    "### sort list of features according the order in master table\n",
    "list_features = [tag for tag in maestro_tags['TAG'].tolist() if tag in list_features]\n",
    "list_features_controlables = [tag for tag in maestro_tags['TAG'].tolist() if tag in list_features_controlables]"
   ]
  },
  {
   "cell_type": "code",
   "execution_count": null,
   "id": "1e3078fc-ed85-4d94-bcf6-47ac2f7e24d1",
   "metadata": {},
   "outputs": [],
   "source": []
  },
  {
   "cell_type": "markdown",
   "id": "61bbf9c2-fc6f-44cc-ac07-fd485651fca4",
   "metadata": {},
   "source": [
    "## 2. Create gurobi model"
   ]
  },
  {
   "cell_type": "code",
   "execution_count": null,
   "id": "9adcac1a-f1e5-48a8-838a-132f4fd0de81",
   "metadata": {},
   "outputs": [],
   "source": [
    "# create model\n",
    "m = gp.Model('modelo')"
   ]
  },
  {
   "cell_type": "code",
   "execution_count": null,
   "id": "cd4834c3-d4b9-4918-9499-00ed9d3b7dfe",
   "metadata": {},
   "outputs": [],
   "source": []
  },
  {
   "cell_type": "markdown",
   "id": "052c9a12-c3a9-456f-8c59-e2f78776984d",
   "metadata": {},
   "source": [
    "### 3. Create decision variables\n",
    "- Decision variables that are features in ml models\n",
    "- Decicion variable that is the output in ml models"
   ]
  },
  {
   "cell_type": "markdown",
   "id": "3739f677-0504-46cc-96ee-be204809ed9a",
   "metadata": {},
   "source": [
    "#### 3.1 define multiple sets"
   ]
  },
  {
   "cell_type": "code",
   "execution_count": null,
   "id": "4b528702-a27d-4bb2-8a67-f384123f7468",
   "metadata": {},
   "outputs": [],
   "source": [
    "# define set time\n",
    "list_set_time = ['t0', 't1', 't2', 't3', 't4', 't5', 't6']\n",
    "index_set_time = pd.Index(list_set_time)\n",
    "index_set_time"
   ]
  },
  {
   "cell_type": "code",
   "execution_count": null,
   "id": "948d4170-b514-455a-9895-6d49f7846821",
   "metadata": {},
   "outputs": [],
   "source": [
    "# define set additional - second set defined to this example - of example, think the set represent the kind of product\n",
    "list_set_product = ['w', 'x', 'y', 'z']\n",
    "index_set_product = pd.Index(list_set_product)\n",
    "index_set_product"
   ]
  },
  {
   "cell_type": "code",
   "execution_count": null,
   "id": "8e7a0fc4-f3f6-46e4-b2ed-1a39ec7cd84a",
   "metadata": {},
   "outputs": [],
   "source": [
    "############## multi set region&time - index pandas ##############\n",
    "index_set_product_time = pd.MultiIndex.from_product((list_set_product, list_set_time), \n",
    "                                                    names = ('product', 'time')\n",
    "                                                   )\n",
    "index_set_product_time"
   ]
  },
  {
   "cell_type": "code",
   "execution_count": null,
   "id": "2c5e190f-3378-4204-bac7-6fce43f3f485",
   "metadata": {},
   "outputs": [],
   "source": []
  },
  {
   "cell_type": "markdown",
   "id": "8fcaeb83-b5ed-4c65-b22a-1d3ffcf1e1bf",
   "metadata": {},
   "source": [
    "#### 3.2 create decision variables MULTIPLE INDEX"
   ]
  },
  {
   "cell_type": "code",
   "execution_count": null,
   "id": "fa72387d-019d-415b-a0de-3d88d08ff4cf",
   "metadata": {},
   "outputs": [],
   "source": [
    "# create decision variables - features ml model\n",
    "var_Z1 = gppd.add_vars(m, index_set_product_time, name = \"decision variable Z1\"\n",
    "                                     )\n",
    "\n",
    "var_X2 = gppd.add_vars(m, index_set_product_time, name = \"decision variable X2\"\n",
    "                                     )"
   ]
  },
  {
   "cell_type": "code",
   "execution_count": null,
   "id": "dd2d5921-1117-4657-9e50-4768fc123fa6",
   "metadata": {},
   "outputs": [],
   "source": [
    "# crete decision variables - output ml model\n",
    "var_Y2 = gppd.add_vars(m, index_set_product_time, name = \"decision variable Y2\"\n",
    "                                     )"
   ]
  },
  {
   "cell_type": "code",
   "execution_count": null,
   "id": "c6cdf440-8f8c-47ab-b020-fe1ad2acd306",
   "metadata": {},
   "outputs": [],
   "source": [
    "# \"compile\"\n",
    "m.update()"
   ]
  },
  {
   "cell_type": "code",
   "execution_count": null,
   "id": "a028cec2-0f07-4743-8115-01a54801af2e",
   "metadata": {},
   "outputs": [],
   "source": [
    "# see decision var created\n",
    "var_Y2"
   ]
  },
  {
   "cell_type": "code",
   "execution_count": null,
   "id": "ab543d35-902a-491f-b53f-fbda07c75c4d",
   "metadata": {},
   "outputs": [],
   "source": []
  },
  {
   "cell_type": "markdown",
   "id": "81dff7f6-25a9-4ab6-84e8-fa3fbbb16350",
   "metadata": {},
   "source": [
    "## EXAMPLES ML MODELS WITH DECISION VAR WITH MULTIPLE SETS"
   ]
  },
  {
   "cell_type": "code",
   "execution_count": null,
   "id": "bb4f4210-c1dc-4450-92fa-456693e4636c",
   "metadata": {},
   "outputs": [],
   "source": []
  },
  {
   "cell_type": "markdown",
   "id": "93f125e2-da48-4bd2-9109-a44ab658f8da",
   "metadata": {},
   "source": [
    "### A. Instance Machine learning MULTIPLE INDEX\n",
    "- Create instance of Machine learning model using decision var of gurobi (decision var in optimization)\n",
    "\n",
    "- The observed variables has fixed values, so this values doesn't change across the time"
   ]
  },
  {
   "cell_type": "code",
   "execution_count": null,
   "id": "1300e282-9f69-47e3-8260-6787a430efe3",
   "metadata": {},
   "outputs": [],
   "source": [
    "######################## generate instance NO controlables features for model ########################\n",
    "\n",
    "# list feature NC\n",
    "list_features_no_vc = list(set(list_features) - set(list_features_controlables))\n",
    "\n",
    "# generate dataframe with input values. In this example is the mean value\n",
    "df_input_values = np.array(X_test[list_features_no_vc].mean().to_frame().T).tolist()\n",
    "\n",
    "# generate dataframe instance_no_controlables with the time set - MULTIINDEX\n",
    "instance_no_controlables = pd.DataFrame(df_input_values, index = index_set_product_time, columns = list_features_no_vc) # TODO: full index dataframe - multiindex\n",
    "instance_no_controlables"
   ]
  },
  {
   "cell_type": "code",
   "execution_count": null,
   "id": "75dd5abc-09b4-4ccc-ba4c-3dead6906f0f",
   "metadata": {},
   "outputs": [],
   "source": [
    "######################## genrate instance - features no controlables + decision vars ########################\n",
    "\n",
    "# create instance with controlables variables. sorted according the list of features. ES MUY IMPORTANTE QUE ESTÉ ORDENADO LAS VARIABLES DE DECUISIÓN DE ACUERDO A LA LISTA DE FEATURES\n",
    "instance_controlables = pd.DataFrame([var_Z1, var_X2]).T # ADD DECISION VARIABLES\n",
    "instance_controlables.columns = list_features_controlables # rename columns\n",
    "\n",
    "# append features controlables with no controlables\n",
    "instance = pd.concat([instance_no_controlables, instance_controlables], axis = 1)\n",
    "instance = instance[list_features] # sort features"
   ]
  },
  {
   "cell_type": "code",
   "execution_count": null,
   "id": "3b3c5a9a-b7f9-4de8-bb54-836452061faf",
   "metadata": {},
   "outputs": [],
   "source": [
    "instance"
   ]
  },
  {
   "cell_type": "code",
   "execution_count": null,
   "id": "93a6da9b-35e0-4cda-97d2-730b89c6657a",
   "metadata": {},
   "outputs": [],
   "source": [
    "###### load ml constraint ######\n",
    "pred_constr = add_predictor_constr(gp_model = m, \n",
    "                                                    predictor = model_ml_to_test, \n",
    "                                                    input_vars = instance, # instance pandas gurobi\n",
    "                                                    output_vars = var_Y2, # target\n",
    "                                                    name = f'model_predict'\n",
    "                                                   )\n",
    "pred_constr.print_stats()"
   ]
  },
  {
   "cell_type": "code",
   "execution_count": null,
   "id": "79f84f0e-6724-4286-933c-fced6ac61d19",
   "metadata": {},
   "outputs": [],
   "source": []
  },
  {
   "cell_type": "code",
   "execution_count": null,
   "id": "c8d6009b-c450-4eb8-866d-fa2ed8f19638",
   "metadata": {},
   "outputs": [],
   "source": []
  },
  {
   "cell_type": "markdown",
   "id": "2839e957-f07b-483d-8cea-86b8d42b34a9",
   "metadata": {},
   "source": [
    "### B. Instance Machine learning ONE INDEX\n",
    "- Create instance of Machine learning model using decision var of gurobi (decision var in optimization)\n",
    "\n",
    "- The observed variables has fixed values, so this values doesn't change across the time\n",
    "\n",
    "- For this example, supose that in the set \"product\" the element \"w\" was selected, **so the machine learning model predict for the \"product w\" across all the \"time t\"**"
   ]
  },
  {
   "cell_type": "code",
   "execution_count": null,
   "id": "f502ef97-712d-4fbb-b890-d812fd529f28",
   "metadata": {},
   "outputs": [],
   "source": [
    "######################## generate instance NO controlables features for model ########################\n",
    "\n",
    "# list feature NC\n",
    "list_features_no_vc = list(set(list_features) - set(list_features_controlables))\n",
    "\n",
    "# generate dataframe with input values. In this example is the mean value\n",
    "#df_input_values = X_test[list_features_no_vc].mean().to_frame().T\n",
    "df_input_values = np.array(X_test[list_features_no_vc].mean().to_frame().T).tolist()\n",
    "\n",
    "# generate dataframe instance_no_controlables with the time set - ONLY ONE INDEX\n",
    "instance_no_controlables = pd.DataFrame(df_input_values, index = index_set_time, columns = list_features_no_vc) # index dataframe - multiindex\n",
    "instance_no_controlables"
   ]
  },
  {
   "cell_type": "code",
   "execution_count": null,
   "id": "d8c57e86-3897-46b1-bafc-b89c420eeedd",
   "metadata": {},
   "outputs": [],
   "source": [
    "######################## genrate instance - features no controlables + decision vars ########################\n",
    "\n",
    "# create instance with controlables variables. sorted according the list of features. ES MUY IMPORTANTE QUE ESTÉ ORDENADO LAS VARIABLES DE DECUISIÓN DE ACUERDO A LA LISTA DE FEATURES\n",
    "instance_controlables = pd.DataFrame([var_Z1['w'], var_X2['w']]).T # TODO: ADD DECISION VARIABLES WITH THE SELECTION OF THE SET\n",
    "instance_controlables.columns = list_features_controlables # rename columns\n",
    "\n",
    "# append features controlables with no controlables\n",
    "instance = pd.concat([instance_no_controlables, instance_controlables], axis = 1)\n",
    "instance = instance[list_features] # sort features"
   ]
  },
  {
   "cell_type": "code",
   "execution_count": null,
   "id": "3dcac5d1-0fee-4872-9720-a66eb9f9a687",
   "metadata": {},
   "outputs": [],
   "source": [
    "instance"
   ]
  },
  {
   "cell_type": "code",
   "execution_count": null,
   "id": "5fd90f6c-2999-4848-a9ce-3f6e9c97dfc0",
   "metadata": {},
   "outputs": [],
   "source": [
    "###### load ml constraint ######\n",
    "pred_constr = add_predictor_constr(gp_model = m, \n",
    "                                                    predictor = model_ml_to_test, \n",
    "                                                    input_vars = instance, # instance pandas gurobi\n",
    "                                                    output_vars = var_Y2['w'], # TODO: ADD DECISION VARIABLES WITH THE SELECTION OF THE SET\n",
    "                                                    name = f'model_predict'\n",
    "                                                   )\n",
    "pred_constr.print_stats()"
   ]
  },
  {
   "cell_type": "code",
   "execution_count": null,
   "id": "30b21a45-d993-4725-b9bb-3f25e9291d02",
   "metadata": {},
   "outputs": [],
   "source": []
  },
  {
   "cell_type": "code",
   "execution_count": null,
   "id": "b0f0d6a3-21a2-422c-a35e-5d3b9156ad61",
   "metadata": {},
   "outputs": [],
   "source": []
  },
  {
   "cell_type": "code",
   "execution_count": null,
   "id": "4f434f6b-e133-48cc-a4c9-8c9f826c213d",
   "metadata": {},
   "outputs": [],
   "source": []
  },
  {
   "cell_type": "markdown",
   "id": "e5dd9888-8b46-484d-aeae-c137540e827a",
   "metadata": {},
   "source": [
    "### 5. Define objective optimization\n",
    "Objetive that no generate infeasibility"
   ]
  },
  {
   "cell_type": "code",
   "execution_count": null,
   "id": "4dc19f6b-5d9c-4449-b8e5-0685a52715f5",
   "metadata": {},
   "outputs": [],
   "source": [
    "var_Y2.sum() # sum across time"
   ]
  },
  {
   "cell_type": "code",
   "execution_count": null,
   "id": "6cb07100-85e0-47e7-a7ef-dbb23e2580b6",
   "metadata": {},
   "outputs": [],
   "source": [
    "m.setObjective(var_Y2.sum(),\n",
    "               gp.GRB.MINIMIZE)"
   ]
  },
  {
   "cell_type": "code",
   "execution_count": null,
   "id": "368f6be4-01d6-416b-8777-b0234b3fc0ba",
   "metadata": {},
   "outputs": [],
   "source": []
  },
  {
   "cell_type": "code",
   "execution_count": null,
   "id": "2de070fe-66de-4f13-98b9-584b4b33ba22",
   "metadata": {},
   "outputs": [],
   "source": []
  },
  {
   "cell_type": "code",
   "execution_count": null,
   "id": "48e3b7df-2bff-4171-82d2-22dd7a62cf3a",
   "metadata": {},
   "outputs": [],
   "source": []
  },
  {
   "cell_type": "markdown",
   "id": "239737ce-2c33-4aca-b28e-b2e4450ee0bd",
   "metadata": {},
   "source": [
    "#### 6. Optimize and get optimal values"
   ]
  },
  {
   "cell_type": "code",
   "execution_count": null,
   "id": "688cdcf5-ea18-4716-a523-3ee16b90db48",
   "metadata": {},
   "outputs": [],
   "source": [
    "# solve\n",
    "m.optimize()"
   ]
  },
  {
   "cell_type": "code",
   "execution_count": null,
   "id": "b835ae8d-ca47-478f-9a11-a21227949557",
   "metadata": {},
   "outputs": [],
   "source": [
    "#### know the status of the model - 2 a optimal solution was founded\n",
    "# docu: https://www.gurobi.com/documentation/current/refman/optimization_status_codes.html#sec:StatusCodes\n",
    "m.Status"
   ]
  },
  {
   "cell_type": "code",
   "execution_count": null,
   "id": "241da7da-682e-4874-8251-c64700b06e16",
   "metadata": {},
   "outputs": [],
   "source": [
    "# get optimal values and save in a dataframe\n",
    "######## create a dataframe with set as index\n",
    "solution = pd.DataFrame(index = index_set_time)\n",
    "\n",
    "######################## save optimal values - features of models (only the features) ########################\n",
    "\n",
    "# model\n",
    "solution[\"var_Z1\"] = var_Z1.gppd.X\n",
    "solution[\"var_X2\"] = var_X2.gppd.X\n",
    "\n",
    "\n",
    "######################## save optimal values - targets of models (some targets are features of the model of the next step) ########################\n",
    "solution[\"var_Y2\"] = var_Y2.gppd.X  # model\n",
    "\n",
    "\n",
    "######################## # get value objetive function ########################\n",
    "opt_objetive_function = m.ObjVal"
   ]
  },
  {
   "cell_type": "code",
   "execution_count": null,
   "id": "a6af89e0-0dde-4edb-a6a3-438616df05f1",
   "metadata": {},
   "outputs": [],
   "source": [
    "# show value objetive function\n",
    "opt_objetive_function"
   ]
  },
  {
   "cell_type": "code",
   "execution_count": null,
   "id": "e55440c3-3f32-4219-ae03-968aa51780d1",
   "metadata": {},
   "outputs": [],
   "source": [
    "# show value decision variables\n",
    "solution"
   ]
  },
  {
   "cell_type": "code",
   "execution_count": null,
   "id": "591f9e07-b5c9-412a-9655-f5e0f0d6b2a9",
   "metadata": {},
   "outputs": [],
   "source": []
  },
  {
   "cell_type": "code",
   "execution_count": null,
   "id": "997212fc-e77f-4f88-9063-cee9924c5abe",
   "metadata": {},
   "outputs": [],
   "source": []
  }
 ],
 "metadata": {
  "kernelspec": {
   "display_name": "Python 3 (ipykernel)",
   "language": "python",
   "name": "python3"
  },
  "language_info": {
   "codemirror_mode": {
    "name": "ipython",
    "version": 3
   },
   "file_extension": ".py",
   "mimetype": "text/x-python",
   "name": "python",
   "nbconvert_exporter": "python",
   "pygments_lexer": "ipython3",
   "version": "3.10.14"
  }
 },
 "nbformat": 4,
 "nbformat_minor": 5
}
