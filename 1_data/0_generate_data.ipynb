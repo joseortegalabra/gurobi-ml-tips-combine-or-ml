{
 "cells": [
  {
   "cell_type": "markdown",
   "id": "c43faa4d-db0f-4cd3-a093-19438ecae397",
   "metadata": {},
   "source": [
    "# Generate data to ML models\n",
    "Generate the data to ML models. For this example only ficticious data are generated acording a certain formula (also ficticous that try to represent the problem of process that generate an output and this output pass across a tank and then go to another tank)"
   ]
  },
  {
   "cell_type": "markdown",
   "id": "b922bd84-6691-4e5a-92c9-dac5fd7dadbd",
   "metadata": {},
   "source": [
    "## Root folder and read env variables"
   ]
  },
  {
   "cell_type": "code",
   "execution_count": 1,
   "id": "b846b3c3-ef67-4a3c-8b9d-3b3796b61fb3",
   "metadata": {},
   "outputs": [
    {
     "name": "stdout",
     "output_type": "stream",
     "text": [
      "root path:  /Users/joseortega/Documents/GitHub/gurobi-ml-tips-combine-or-ml\n"
     ]
    }
   ],
   "source": [
    "import os\n",
    "# fix root path to save outputs\n",
    "actual_path = os.path.abspath(os.getcwd())\n",
    "list_root_path = actual_path.split('/')[:-1]\n",
    "root_path = '/'.join(list_root_path)\n",
    "os.chdir(root_path)\n",
    "print('root path: ', root_path)"
   ]
  },
  {
   "cell_type": "code",
   "execution_count": 2,
   "id": "cd3c0576-ebc2-4df8-9bea-50f29844198a",
   "metadata": {},
   "outputs": [],
   "source": [
    "import os\n",
    "from dotenv import load_dotenv, find_dotenv # package used in jupyter notebook to read the variables in file .env\n",
    "\n",
    "\"\"\" get env variable from .env \"\"\"\n",
    "load_dotenv(find_dotenv())\n",
    "\n",
    "\"\"\" Read env variables and save it as python variable \"\"\"\n",
    "PROJECT_GCP = os.environ.get(\"PROJECT_GCP\", \"\")"
   ]
  },
  {
   "cell_type": "code",
   "execution_count": null,
   "id": "e2bab0f8-b9f4-4887-bd70-1790163eab22",
   "metadata": {},
   "outputs": [],
   "source": []
  },
  {
   "cell_type": "markdown",
   "id": "ddd36dbb-2fb7-4476-96ef-b1ef520e3133",
   "metadata": {},
   "source": [
    "## RUN"
   ]
  },
  {
   "cell_type": "code",
   "execution_count": 3,
   "id": "c29ac8e0",
   "metadata": {},
   "outputs": [],
   "source": [
    "import pandas as pd\n",
    "import numpy as np\n",
    "from google.cloud import bigquery\n",
    "import gcsfs\n",
    "import pickle\n",
    "\n",
    "from sklearn.linear_model import LinearRegression\n",
    "from sklearn.model_selection import train_test_split\n",
    "\n",
    "# import warnings\n",
    "# warnings.filterwarnings(\"ignore\")"
   ]
  },
  {
   "cell_type": "code",
   "execution_count": 4,
   "id": "c30fb690",
   "metadata": {},
   "outputs": [],
   "source": [
    "# ### desarrollo\n",
    "\n",
    "# PROJECT_ID = PROJECT_GCP\n",
    "# ! gcloud config set project $PROJECT_ID"
   ]
  },
  {
   "cell_type": "markdown",
   "id": "debf68c0-9d2b-436b-ba99-5b0e1aa32e23",
   "metadata": {},
   "source": [
    "### 0. Paramaters"
   ]
  },
  {
   "cell_type": "code",
   "execution_count": 5,
   "id": "0a06630d-2469-4a7c-ba89-b1d57b8d720f",
   "metadata": {},
   "outputs": [],
   "source": [
    "len_data = 1000"
   ]
  },
  {
   "cell_type": "code",
   "execution_count": null,
   "id": "d2df6510-226d-49ad-abcd-e60751a23409",
   "metadata": {},
   "outputs": [],
   "source": []
  },
  {
   "cell_type": "code",
   "execution_count": null,
   "id": "338febfc-be79-4b37-a915-b7e87d0487ee",
   "metadata": {},
   "outputs": [],
   "source": []
  },
  {
   "cell_type": "markdown",
   "id": "627c8f8c-e8d5-4a00-b6b9-a60b3bb0daa7",
   "metadata": {},
   "source": [
    "### 1. Read Master Table"
   ]
  },
  {
   "cell_type": "code",
   "execution_count": 6,
   "id": "0d9660f6-fd6c-47a9-b5a9-105ec9302106",
   "metadata": {},
   "outputs": [
    {
     "data": {
      "text/html": [
       "<div>\n",
       "<style scoped>\n",
       "    .dataframe tbody tr th:only-of-type {\n",
       "        vertical-align: middle;\n",
       "    }\n",
       "\n",
       "    .dataframe tbody tr th {\n",
       "        vertical-align: top;\n",
       "    }\n",
       "\n",
       "    .dataframe thead th {\n",
       "        text-align: right;\n",
       "    }\n",
       "</style>\n",
       "<table border=\"1\" class=\"dataframe\">\n",
       "  <thead>\n",
       "    <tr style=\"text-align: right;\">\n",
       "      <th></th>\n",
       "      <th>TAG</th>\n",
       "      <th>FEATURES_NAMES</th>\n",
       "      <th>DESCRIPCION</th>\n",
       "      <th>CLASIFICACION_NAME</th>\n",
       "      <th>CLASIFICACION</th>\n",
       "      <th>USE_ACTUAL_MODEL</th>\n",
       "    </tr>\n",
       "  </thead>\n",
       "  <tbody>\n",
       "    <tr>\n",
       "      <th>0</th>\n",
       "      <td>X1</td>\n",
       "      <td>X1</td>\n",
       "      <td>Variable de entrada al proceso A. Variable Pri...</td>\n",
       "      <td>Primary</td>\n",
       "      <td>P</td>\n",
       "      <td>PR_A_Y1</td>\n",
       "    </tr>\n",
       "    <tr>\n",
       "      <th>1</th>\n",
       "      <td>O1</td>\n",
       "      <td>O1</td>\n",
       "      <td>Variable de entrada al proceso A. No es una va...</td>\n",
       "      <td>Observed</td>\n",
       "      <td>O</td>\n",
       "      <td>PR_A_Y1</td>\n",
       "    </tr>\n",
       "    <tr>\n",
       "      <th>2</th>\n",
       "      <td>O2</td>\n",
       "      <td>O2</td>\n",
       "      <td>Variable de entrada al proceso A. No es una va...</td>\n",
       "      <td>Observed</td>\n",
       "      <td>O</td>\n",
       "      <td>PR_A_Y1</td>\n",
       "    </tr>\n",
       "    <tr>\n",
       "      <th>3</th>\n",
       "      <td>O3</td>\n",
       "      <td>O3</td>\n",
       "      <td>Variable de entrada al proceso A. No es una va...</td>\n",
       "      <td>Observed</td>\n",
       "      <td>O</td>\n",
       "      <td>PR_A_Y1</td>\n",
       "    </tr>\n",
       "    <tr>\n",
       "      <th>4</th>\n",
       "      <td>Y1</td>\n",
       "      <td>Y1</td>\n",
       "      <td>Variable target del proceso A y Variable de en...</td>\n",
       "      <td>Target</td>\n",
       "      <td>T</td>\n",
       "      <td>PR_A_Y1</td>\n",
       "    </tr>\n",
       "    <tr>\n",
       "      <th>5</th>\n",
       "      <td>O4</td>\n",
       "      <td>O4</td>\n",
       "      <td>Variable de entrada al proceso tanque TANK1. N...</td>\n",
       "      <td>Observed</td>\n",
       "      <td>O</td>\n",
       "      <td>TK_1</td>\n",
       "    </tr>\n",
       "    <tr>\n",
       "      <th>6</th>\n",
       "      <td>Z1</td>\n",
       "      <td>Z1</td>\n",
       "      <td>Variable de salida del tanque X y Variable de ...</td>\n",
       "      <td>Secundary</td>\n",
       "      <td>S</td>\n",
       "      <td>PR_B_Y2/PR_B_Y3</td>\n",
       "    </tr>\n",
       "    <tr>\n",
       "      <th>7</th>\n",
       "      <td>X2</td>\n",
       "      <td>X2</td>\n",
       "      <td>Variable de entrada al proceso B. Aparece por ...</td>\n",
       "      <td>Primary</td>\n",
       "      <td>P</td>\n",
       "      <td>PR_B_Y2/PR_B_Y3</td>\n",
       "    </tr>\n",
       "    <tr>\n",
       "      <th>8</th>\n",
       "      <td>O5</td>\n",
       "      <td>O5</td>\n",
       "      <td>Variable de entrada al proceso B. No es una va...</td>\n",
       "      <td>Observed</td>\n",
       "      <td>O</td>\n",
       "      <td>PR_B_Y2</td>\n",
       "    </tr>\n",
       "    <tr>\n",
       "      <th>9</th>\n",
       "      <td>O6</td>\n",
       "      <td>O6</td>\n",
       "      <td>Variable de entrada al proceso B. No es una va...</td>\n",
       "      <td>Observed</td>\n",
       "      <td>O</td>\n",
       "      <td>PR_B_Y2</td>\n",
       "    </tr>\n",
       "    <tr>\n",
       "      <th>10</th>\n",
       "      <td>Y2</td>\n",
       "      <td>Y2</td>\n",
       "      <td>Variable target del proceso B y proceso C (y v...</td>\n",
       "      <td>Target</td>\n",
       "      <td>T</td>\n",
       "      <td>PR_B_Y2/PR_C_Y2</td>\n",
       "    </tr>\n",
       "    <tr>\n",
       "      <th>11</th>\n",
       "      <td>Y3</td>\n",
       "      <td>Y3</td>\n",
       "      <td>Variable target del proceso B que finaliza el ...</td>\n",
       "      <td>Target</td>\n",
       "      <td>T</td>\n",
       "      <td>PR_B_Y3</td>\n",
       "    </tr>\n",
       "    <tr>\n",
       "      <th>12</th>\n",
       "      <td>X3</td>\n",
       "      <td>X3</td>\n",
       "      <td>Variable de entrada al proceso C. Aparece por ...</td>\n",
       "      <td>Primary</td>\n",
       "      <td>P</td>\n",
       "      <td>PR_C_Y2</td>\n",
       "    </tr>\n",
       "    <tr>\n",
       "      <th>13</th>\n",
       "      <td>O7</td>\n",
       "      <td>O7</td>\n",
       "      <td>Variable de entrada al proceso C. No es una va...</td>\n",
       "      <td>Observed</td>\n",
       "      <td>O</td>\n",
       "      <td>PR_C_Y2</td>\n",
       "    </tr>\n",
       "  </tbody>\n",
       "</table>\n",
       "</div>"
      ],
      "text/plain": [
       "   TAG FEATURES_NAMES                                        DESCRIPCION  \\\n",
       "0   X1             X1  Variable de entrada al proceso A. Variable Pri...   \n",
       "1   O1             O1  Variable de entrada al proceso A. No es una va...   \n",
       "2   O2             O2  Variable de entrada al proceso A. No es una va...   \n",
       "3   O3             O3  Variable de entrada al proceso A. No es una va...   \n",
       "4   Y1             Y1  Variable target del proceso A y Variable de en...   \n",
       "5   O4             O4  Variable de entrada al proceso tanque TANK1. N...   \n",
       "6   Z1             Z1  Variable de salida del tanque X y Variable de ...   \n",
       "7   X2             X2  Variable de entrada al proceso B. Aparece por ...   \n",
       "8   O5             O5  Variable de entrada al proceso B. No es una va...   \n",
       "9   O6             O6  Variable de entrada al proceso B. No es una va...   \n",
       "10  Y2             Y2  Variable target del proceso B y proceso C (y v...   \n",
       "11  Y3             Y3  Variable target del proceso B que finaliza el ...   \n",
       "12  X3             X3  Variable de entrada al proceso C. Aparece por ...   \n",
       "13  O7             O7  Variable de entrada al proceso C. No es una va...   \n",
       "\n",
       "   CLASIFICACION_NAME CLASIFICACION USE_ACTUAL_MODEL  \n",
       "0             Primary             P          PR_A_Y1  \n",
       "1            Observed             O          PR_A_Y1  \n",
       "2            Observed             O          PR_A_Y1  \n",
       "3            Observed             O          PR_A_Y1  \n",
       "4              Target             T          PR_A_Y1  \n",
       "5            Observed             O             TK_1  \n",
       "6           Secundary             S  PR_B_Y2/PR_B_Y3  \n",
       "7             Primary             P  PR_B_Y2/PR_B_Y3  \n",
       "8            Observed             O          PR_B_Y2  \n",
       "9            Observed             O          PR_B_Y2  \n",
       "10             Target             T  PR_B_Y2/PR_C_Y2  \n",
       "11             Target             T          PR_B_Y3  \n",
       "12            Primary             P          PR_C_Y2  \n",
       "13           Observed             O          PR_C_Y2  "
      ]
     },
     "execution_count": 6,
     "metadata": {},
     "output_type": "execute_result"
    }
   ],
   "source": [
    "path_master_table = f'config/MasterTable.xlsx'\n",
    "master_table = pd.read_excel(path_master_table)\n",
    "master_table"
   ]
  },
  {
   "cell_type": "code",
   "execution_count": null,
   "id": "8dd0fc5a-967f-4de5-a0a8-4aecd5988c5f",
   "metadata": {},
   "outputs": [],
   "source": []
  },
  {
   "cell_type": "code",
   "execution_count": null,
   "id": "4e124655-671f-410f-8210-35de1e10c029",
   "metadata": {},
   "outputs": [],
   "source": []
  },
  {
   "cell_type": "code",
   "execution_count": null,
   "id": "3ccee55f",
   "metadata": {},
   "outputs": [],
   "source": []
  },
  {
   "cell_type": "markdown",
   "id": "5a352c92-7b8a-41ad-beb5-3f486e7f16d0",
   "metadata": {},
   "source": [
    "### 2. Define data random features and target\n",
    "Define data random and create a formula to map the features into a target and then generate random data to append to the target"
   ]
  },
  {
   "cell_type": "markdown",
   "id": "b16e6f77-8e8a-4467-9ed5-eb8bf37191a9",
   "metadata": {},
   "source": [
    "#### 2.1 Process A"
   ]
  },
  {
   "cell_type": "code",
   "execution_count": 7,
   "id": "fc5c2528-fe3e-4770-b202-bf81150d5f5e",
   "metadata": {},
   "outputs": [],
   "source": [
    "list_features_process_a = [\n",
    "    \"X1\",\n",
    "    \"O1\",\n",
    "    \"O2\",\n",
    "    \"O3\"\n",
    "]\n",
    "\n",
    "list_target_process_a = [\"Y1\"]"
   ]
  },
  {
   "cell_type": "code",
   "execution_count": 8,
   "id": "3b6fe1fa-4957-4ea5-a6c2-e493a0bb1be6",
   "metadata": {},
   "outputs": [],
   "source": [
    "##### FEATURES\n",
    "\n",
    "# generate data features process_a\n",
    "np.random.seed(42)\n",
    "values_features_process_a = 100 * np.random.rand(len_data, len(list_features_process_a))"
   ]
  },
  {
   "cell_type": "code",
   "execution_count": 9,
   "id": "7d0c4f63-9343-4873-993b-b1eedbff53ed",
   "metadata": {},
   "outputs": [],
   "source": [
    "#### TARGET y = f(x)\n",
    "\n",
    "# define contribution of each feature into target value\n",
    "# formula_target_process_a = (np.exp(-1/values_features_process_a) + np.log(values_features_process_a)).sum(axis = 1) # all features\n",
    "contribution_target_process_a_feature_0 = 15 * (np.exp(-1/values_features_process_a[:, 0]) + np.log(values_features_process_a[:, 0]))\n",
    "contribution_target_process_a_feature_1 = -4 * (np.exp(-1/values_features_process_a[:, 1]))\n",
    "contribution_target_process_a_feature_2 = -1/3 * (np.exp(np.log(values_features_process_a[:, 2])))\n",
    "contribution_target_process_a_feature_3 = -1/3 * (values_features_process_a[:, 3])\n",
    "\n",
    "# generate target -> sum individual contributions\n",
    "formula_target_process_a = contribution_target_process_a_feature_0 + contribution_target_process_a_feature_1 + \\\n",
    "                            contribution_target_process_a_feature_2 + contribution_target_process_a_feature_3\n",
    "\n",
    "# generate noise to add to the formula of the target generated\n",
    "np.random.seed(52)\n",
    "noise_target_process_a = 10 * np.random.rand(len_data, len(list_target_process_a))"
   ]
  },
  {
   "cell_type": "code",
   "execution_count": 10,
   "id": "ec663eaf-19b1-4272-a1c8-4b18c3d48add",
   "metadata": {},
   "outputs": [
    {
     "data": {
      "text/html": [
       "<div>\n",
       "<style scoped>\n",
       "    .dataframe tbody tr th:only-of-type {\n",
       "        vertical-align: middle;\n",
       "    }\n",
       "\n",
       "    .dataframe tbody tr th {\n",
       "        vertical-align: top;\n",
       "    }\n",
       "\n",
       "    .dataframe thead th {\n",
       "        text-align: right;\n",
       "    }\n",
       "</style>\n",
       "<table border=\"1\" class=\"dataframe\">\n",
       "  <thead>\n",
       "    <tr style=\"text-align: right;\">\n",
       "      <th></th>\n",
       "      <th>X1</th>\n",
       "      <th>O1</th>\n",
       "      <th>O2</th>\n",
       "      <th>O3</th>\n",
       "      <th>Y1</th>\n",
       "    </tr>\n",
       "  </thead>\n",
       "  <tbody>\n",
       "    <tr>\n",
       "      <th>0</th>\n",
       "      <td>37.467481</td>\n",
       "      <td>95.270644</td>\n",
       "      <td>73.200558</td>\n",
       "      <td>60.013231</td>\n",
       "      <td>99.845222</td>\n",
       "    </tr>\n",
       "    <tr>\n",
       "      <th>1</th>\n",
       "      <td>15.615333</td>\n",
       "      <td>15.798666</td>\n",
       "      <td>5.809525</td>\n",
       "      <td>86.764997</td>\n",
       "      <td>91.956321</td>\n",
       "    </tr>\n",
       "    <tr>\n",
       "      <th>2</th>\n",
       "      <td>60.124970</td>\n",
       "      <td>71.006471</td>\n",
       "      <td>2.059613</td>\n",
       "      <td>97.138367</td>\n",
       "      <td>112.318699</td>\n",
       "    </tr>\n",
       "    <tr>\n",
       "      <th>3</th>\n",
       "      <td>83.257733</td>\n",
       "      <td>21.433125</td>\n",
       "      <td>18.183660</td>\n",
       "      <td>18.487833</td>\n",
       "      <td>142.317317</td>\n",
       "    </tr>\n",
       "    <tr>\n",
       "      <th>4</th>\n",
       "      <td>30.437694</td>\n",
       "      <td>52.674857</td>\n",
       "      <td>43.195665</td>\n",
       "      <td>29.270296</td>\n",
       "      <td>109.671948</td>\n",
       "    </tr>\n",
       "    <tr>\n",
       "      <th>...</th>\n",
       "      <td>...</td>\n",
       "      <td>...</td>\n",
       "      <td>...</td>\n",
       "      <td>...</td>\n",
       "      <td>...</td>\n",
       "    </tr>\n",
       "    <tr>\n",
       "      <th>995</th>\n",
       "      <td>83.249823</td>\n",
       "      <td>80.764094</td>\n",
       "      <td>22.433019</td>\n",
       "      <td>22.755289</td>\n",
       "      <td>135.164129</td>\n",
       "    </tr>\n",
       "    <tr>\n",
       "      <th>996</th>\n",
       "      <td>81.744001</td>\n",
       "      <td>93.239056</td>\n",
       "      <td>9.537256</td>\n",
       "      <td>45.153246</td>\n",
       "      <td>132.995228</td>\n",
       "    </tr>\n",
       "    <tr>\n",
       "      <th>997</th>\n",
       "      <td>33.758897</td>\n",
       "      <td>87.268059</td>\n",
       "      <td>8.353655</td>\n",
       "      <td>21.259976</td>\n",
       "      <td>129.397887</td>\n",
       "    </tr>\n",
       "    <tr>\n",
       "      <th>998</th>\n",
       "      <td>75.260303</td>\n",
       "      <td>5.328598</td>\n",
       "      <td>49.254702</td>\n",
       "      <td>44.358086</td>\n",
       "      <td>124.431951</td>\n",
       "    </tr>\n",
       "    <tr>\n",
       "      <th>999</th>\n",
       "      <td>33.453587</td>\n",
       "      <td>39.656445</td>\n",
       "      <td>52.995222</td>\n",
       "      <td>16.284118</td>\n",
       "      <td>115.505074</td>\n",
       "    </tr>\n",
       "  </tbody>\n",
       "</table>\n",
       "<p>1000 rows × 5 columns</p>\n",
       "</div>"
      ],
      "text/plain": [
       "            X1         O1         O2         O3          Y1\n",
       "0    37.467481  95.270644  73.200558  60.013231   99.845222\n",
       "1    15.615333  15.798666   5.809525  86.764997   91.956321\n",
       "2    60.124970  71.006471   2.059613  97.138367  112.318699\n",
       "3    83.257733  21.433125  18.183660  18.487833  142.317317\n",
       "4    30.437694  52.674857  43.195665  29.270296  109.671948\n",
       "..         ...        ...        ...        ...         ...\n",
       "995  83.249823  80.764094  22.433019  22.755289  135.164129\n",
       "996  81.744001  93.239056   9.537256  45.153246  132.995228\n",
       "997  33.758897  87.268059   8.353655  21.259976  129.397887\n",
       "998  75.260303   5.328598  49.254702  44.358086  124.431951\n",
       "999  33.453587  39.656445  52.995222  16.284118  115.505074\n",
       "\n",
       "[1000 rows x 5 columns]"
      ]
     },
     "execution_count": 10,
     "metadata": {},
     "output_type": "execute_result"
    }
   ],
   "source": [
    "# GENERATE DATA_TARGET PROCESS A\n",
    "\n",
    "# generarte dataframe features_target\n",
    "values_target_process_a  = formula_target_process_a.reshape(formula_target_process_a.shape[0], 1) + noise_target_process_a\n",
    "data_process_a = pd.DataFrame(values_features_process_a, columns = list_features_process_a)\n",
    "data_process_a[list_target_process_a] = values_target_process_a\n",
    "\n",
    "# change values to not have negartive values -this data try to represent a physical process\n",
    "data_process_a = data_process_a + np.abs(data_process_a.min())\n",
    "\n",
    "data_process_a"
   ]
  },
  {
   "cell_type": "code",
   "execution_count": 11,
   "id": "3948a8c7-d74b-436b-a4e5-abaa706527b8",
   "metadata": {},
   "outputs": [
    {
     "data": {
      "text/plain": [
       "X1    0.629808\n",
       "O1   -0.026350\n",
       "O2   -0.477447\n",
       "O3   -0.463847\n",
       "Y1    1.000000\n",
       "Name: Y1, dtype: float64"
      ]
     },
     "execution_count": 11,
     "metadata": {},
     "output_type": "execute_result"
    }
   ],
   "source": [
    "# ## corr data\n",
    "data_process_a.corr()['Y1']"
   ]
  },
  {
   "cell_type": "code",
   "execution_count": 12,
   "id": "f66e1b34-9bfd-4d1a-8ade-3b16ee212772",
   "metadata": {},
   "outputs": [
    {
     "data": {
      "text/plain": [
       "array([[<Axes: title={'center': 'X1'}>, <Axes: title={'center': 'O1'}>],\n",
       "       [<Axes: title={'center': 'O2'}>, <Axes: title={'center': 'O3'}>],\n",
       "       [<Axes: title={'center': 'Y1'}>, <Axes: >]], dtype=object)"
      ]
     },
     "execution_count": 12,
     "metadata": {},
     "output_type": "execute_result"
    },
    {
     "data": {
      "image/png": "[encoded data removed]",
      "text/plain": [
       "<Figure size 640x480 with 6 Axes>"
      ]
     },
     "metadata": {},
     "output_type": "display_data"
    }
   ],
   "source": [
    "# hist all data\n",
    "data_process_a.hist()"
   ]
  },
  {
   "cell_type": "code",
   "execution_count": 13,
   "id": "ce11d98c-3e20-4fb8-884b-d0854147e3de",
   "metadata": {},
   "outputs": [
    {
     "data": {
      "text/plain": [
       "<Axes: >"
      ]
     },
     "execution_count": 13,
     "metadata": {},
     "output_type": "execute_result"
    },
    {
     "data": {
      "image/png": "[encoded data removed]",
      "text/plain": [
       "<Figure size 640x480 with 1 Axes>"
      ]
     },
     "metadata": {},
     "output_type": "display_data"
    }
   ],
   "source": [
    "# histogram target\n",
    "data_process_a['Y1'].hist()"
   ]
  },
  {
   "cell_type": "code",
   "execution_count": null,
   "id": "d3000ac0-b260-4c18-acc9-ac575fde87f2",
   "metadata": {},
   "outputs": [],
   "source": []
  },
  {
   "cell_type": "code",
   "execution_count": null,
   "id": "a048e45b-bbc1-4904-b360-3264dc5beb85",
   "metadata": {},
   "outputs": [],
   "source": []
  },
  {
   "cell_type": "markdown",
   "id": "83dcb52f-9659-4e2b-b760-190024de5b05",
   "metadata": {},
   "source": [
    "#### 2.2 Process B - target Y2\n",
    "Process B that see Z1, X2, O5, O6 and generate the target y2. That target is also shared with the output of the process C"
   ]
  },
  {
   "cell_type": "code",
   "execution_count": 14,
   "id": "b1dfb444-ed71-45fe-ac4c-105d38d9b74d",
   "metadata": {},
   "outputs": [],
   "source": [
    "list_features_process_b_y2 = [\n",
    "    \"Z1\",\n",
    "    \"X2\",\n",
    "    \"O5\",\n",
    "    \"O6\"\n",
    "]\n",
    "\n",
    "list_target_process_b_y2 = [\"Y2\"]"
   ]
  },
  {
   "cell_type": "code",
   "execution_count": 15,
   "id": "c477569f-9e71-4d55-ae64-7b1788e19a65",
   "metadata": {},
   "outputs": [],
   "source": [
    "##### FEATURES\n",
    "\n",
    "# generate data features process_b_y2\n",
    "np.random.seed(62)\n",
    "\n",
    "values_features_process_b_y2_secondary = np.array(data_process_a[\"Y1\"]) + 200 # the input in the tank is the same if the volume is constant. \n",
    "# also in this example there are one extra flow\n",
    "values_features_process_b_y2_secondary = np.expand_dims(values_features_process_b_y2_secondary, axis = 1)\n",
    "values_features_process_b_y2_primary_observed = 10 * np.random.rand(len_data, len(list_features_process_b_y2)-1)\n",
    "\n",
    "values_features_process_b_y2 = np.concatenate((values_features_process_b_y2_secondary, values_features_process_b_y2_primary_observed), axis = 1) "
   ]
  },
  {
   "cell_type": "code",
   "execution_count": 16,
   "id": "b05a3c05-a2fa-40e3-84fb-4825ce1a6220",
   "metadata": {},
   "outputs": [],
   "source": [
    "#### TARGET y = f(x)\n",
    "\n",
    "# define contribution of each feature into target value\n",
    "# formula_target_process_b_y2 = (np.exp(-1/values_features_process_b_y2) + np.log(values_features_process_b_y2)).sum(axis = 1) # all features\n",
    "contribution_target_process_b_y2_feature_0 = 1/3 * values_features_process_b_y2[:, 0]\n",
    "contribution_target_process_b_y2_feature_1 = 15 * (np.exp(-1/values_features_process_b_y2[:, 1]))\n",
    "contribution_target_process_b_y2_feature_2 = 2 * (np.exp(np.log(values_features_process_b_y2[:, 2])))\n",
    "contribution_target_process_b_y2_feature_3 = -1/10 * (values_features_process_b_y2[:, 3])\n",
    "\n",
    "# generate target -> sum individual contributions\n",
    "formula_target_process_b_y2 = contribution_target_process_b_y2_feature_0 + contribution_target_process_b_y2_feature_1 + \\\n",
    "                            contribution_target_process_b_y2_feature_2 + contribution_target_process_b_y2_feature_3\n",
    "\n",
    "# generate noise to add to the formula of the target generated\n",
    "np.random.seed(12)\n",
    "noise_target_process_b_y2 = 10 * np.random.rand(len_data, len(list_target_process_b_y2))"
   ]
  },
  {
   "cell_type": "code",
   "execution_count": 17,
   "id": "9b7add4b-72df-4965-83b7-3cdb633ebad8",
   "metadata": {},
   "outputs": [
    {
     "data": {
      "text/html": [
       "<div>\n",
       "<style scoped>\n",
       "    .dataframe tbody tr th:only-of-type {\n",
       "        vertical-align: middle;\n",
       "    }\n",
       "\n",
       "    .dataframe tbody tr th {\n",
       "        vertical-align: top;\n",
       "    }\n",
       "\n",
       "    .dataframe thead th {\n",
       "        text-align: right;\n",
       "    }\n",
       "</style>\n",
       "<table border=\"1\" class=\"dataframe\">\n",
       "  <thead>\n",
       "    <tr style=\"text-align: right;\">\n",
       "      <th></th>\n",
       "      <th>Z1</th>\n",
       "      <th>X2</th>\n",
       "      <th>O5</th>\n",
       "      <th>O6</th>\n",
       "      <th>Y2</th>\n",
       "    </tr>\n",
       "  </thead>\n",
       "  <tbody>\n",
       "    <tr>\n",
       "      <th>0</th>\n",
       "      <td>299.845222</td>\n",
       "      <td>0.337547</td>\n",
       "      <td>4.891075</td>\n",
       "      <td>8.460851</td>\n",
       "      <td>111.201405</td>\n",
       "    </tr>\n",
       "    <tr>\n",
       "      <th>1</th>\n",
       "      <td>291.956321</td>\n",
       "      <td>4.114020</td>\n",
       "      <td>6.314154</td>\n",
       "      <td>2.909432</td>\n",
       "      <td>128.819869</td>\n",
       "    </tr>\n",
       "    <tr>\n",
       "      <th>2</th>\n",
       "      <td>312.318699</td>\n",
       "      <td>5.428003</td>\n",
       "      <td>2.281814</td>\n",
       "      <td>2.402763</td>\n",
       "      <td>123.538904</td>\n",
       "    </tr>\n",
       "    <tr>\n",
       "      <th>3</th>\n",
       "      <td>342.317317</td>\n",
       "      <td>9.534575</td>\n",
       "      <td>6.458104</td>\n",
       "      <td>0.178572</td>\n",
       "      <td>145.847987</td>\n",
       "    </tr>\n",
       "    <tr>\n",
       "      <th>4</th>\n",
       "      <td>309.671948</td>\n",
       "      <td>9.961258</td>\n",
       "      <td>7.351945</td>\n",
       "      <td>7.219425</td>\n",
       "      <td>130.918964</td>\n",
       "    </tr>\n",
       "    <tr>\n",
       "      <th>...</th>\n",
       "      <td>...</td>\n",
       "      <td>...</td>\n",
       "      <td>...</td>\n",
       "      <td>...</td>\n",
       "      <td>...</td>\n",
       "    </tr>\n",
       "    <tr>\n",
       "      <th>995</th>\n",
       "      <td>335.164129</td>\n",
       "      <td>7.676773</td>\n",
       "      <td>8.853379</td>\n",
       "      <td>5.622381</td>\n",
       "      <td>148.683450</td>\n",
       "    </tr>\n",
       "    <tr>\n",
       "      <th>996</th>\n",
       "      <td>332.995228</td>\n",
       "      <td>7.624778</td>\n",
       "      <td>8.860129</td>\n",
       "      <td>6.958882</td>\n",
       "      <td>141.283171</td>\n",
       "    </tr>\n",
       "    <tr>\n",
       "      <th>997</th>\n",
       "      <td>329.397887</td>\n",
       "      <td>2.902402</td>\n",
       "      <td>6.884758</td>\n",
       "      <td>1.397521</td>\n",
       "      <td>142.739911</td>\n",
       "    </tr>\n",
       "    <tr>\n",
       "      <th>998</th>\n",
       "      <td>324.431951</td>\n",
       "      <td>0.359562</td>\n",
       "      <td>8.983187</td>\n",
       "      <td>2.696323</td>\n",
       "      <td>134.396831</td>\n",
       "    </tr>\n",
       "    <tr>\n",
       "      <th>999</th>\n",
       "      <td>315.505074</td>\n",
       "      <td>6.881495</td>\n",
       "      <td>7.715202</td>\n",
       "      <td>4.902413</td>\n",
       "      <td>135.219679</td>\n",
       "    </tr>\n",
       "  </tbody>\n",
       "</table>\n",
       "<p>1000 rows × 5 columns</p>\n",
       "</div>"
      ],
      "text/plain": [
       "             Z1        X2        O5        O6          Y2\n",
       "0    299.845222  0.337547  4.891075  8.460851  111.201405\n",
       "1    291.956321  4.114020  6.314154  2.909432  128.819869\n",
       "2    312.318699  5.428003  2.281814  2.402763  123.538904\n",
       "3    342.317317  9.534575  6.458104  0.178572  145.847987\n",
       "4    309.671948  9.961258  7.351945  7.219425  130.918964\n",
       "..          ...       ...       ...       ...         ...\n",
       "995  335.164129  7.676773  8.853379  5.622381  148.683450\n",
       "996  332.995228  7.624778  8.860129  6.958882  141.283171\n",
       "997  329.397887  2.902402  6.884758  1.397521  142.739911\n",
       "998  324.431951  0.359562  8.983187  2.696323  134.396831\n",
       "999  315.505074  6.881495  7.715202  4.902413  135.219679\n",
       "\n",
       "[1000 rows x 5 columns]"
      ]
     },
     "execution_count": 17,
     "metadata": {},
     "output_type": "execute_result"
    }
   ],
   "source": [
    "# GENERATE DATA_TARGET PROCESS B y2\n",
    "\n",
    "# generate data target process_b_y2\n",
    "values_target_process_b_y2  = formula_target_process_b_y2.reshape(formula_target_process_b_y2.shape[0], 1) + noise_target_process_b_y2\n",
    "data_process_b_y2 = pd.DataFrame(values_features_process_b_y2, columns = list_features_process_b_y2)\n",
    "data_process_b_y2[list_target_process_b_y2] = values_target_process_b_y2\n",
    "\n",
    "data_process_b_y2"
   ]
  },
  {
   "cell_type": "code",
   "execution_count": 18,
   "id": "a1aad01f-6f26-4776-971f-5f286e3a6e5a",
   "metadata": {},
   "outputs": [
    {
     "data": {
      "text/plain": [
       "Z1    0.717116\n",
       "X2    0.316397\n",
       "O5    0.561734\n",
       "O6   -0.034461\n",
       "Y2    1.000000\n",
       "Name: Y2, dtype: float64"
      ]
     },
     "execution_count": 18,
     "metadata": {},
     "output_type": "execute_result"
    }
   ],
   "source": [
    "# ## corr data\n",
    "data_process_b_y2.corr()['Y2']"
   ]
  },
  {
   "cell_type": "code",
   "execution_count": 19,
   "id": "a67d9ce8-7d69-450c-aa7a-0c41542c6eac",
   "metadata": {},
   "outputs": [
    {
     "data": {
      "text/plain": [
       "array([[<Axes: title={'center': 'Z1'}>, <Axes: title={'center': 'X2'}>],\n",
       "       [<Axes: title={'center': 'O5'}>, <Axes: title={'center': 'O6'}>],\n",
       "       [<Axes: title={'center': 'Y2'}>, <Axes: >]], dtype=object)"
      ]
     },
     "execution_count": 19,
     "metadata": {},
     "output_type": "execute_result"
    },
    {
     "data": {
      "image/png": "[encoded data removed]",
      "text/plain": [
       "<Figure size 640x480 with 6 Axes>"
      ]
     },
     "metadata": {},
     "output_type": "display_data"
    }
   ],
   "source": [
    "# hist all features\n",
    "data_process_b_y2.hist()"
   ]
  },
  {
   "cell_type": "code",
   "execution_count": 20,
   "id": "a4397042-c4f4-4eda-8899-d8ffa518d9fc",
   "metadata": {},
   "outputs": [
    {
     "data": {
      "text/plain": [
       "<Axes: >"
      ]
     },
     "execution_count": 20,
     "metadata": {},
     "output_type": "execute_result"
    },
    {
     "data": {
      "image/png": "[encoded data removed]",
      "text/plain": [
       "<Figure size 640x480 with 1 Axes>"
      ]
     },
     "metadata": {},
     "output_type": "display_data"
    }
   ],
   "source": [
    "# histogram target\n",
    "data_process_b_y2['Y2'].hist()"
   ]
  },
  {
   "cell_type": "code",
   "execution_count": null,
   "id": "045d294f-787f-47c6-9d49-11cd612ac1bb",
   "metadata": {},
   "outputs": [],
   "source": []
  },
  {
   "cell_type": "code",
   "execution_count": 21,
   "id": "9bfc73c3-5c00-4f72-be43-d76433e23351",
   "metadata": {},
   "outputs": [
    {
     "data": {
      "text/plain": [
       "0       99.845222\n",
       "1       91.956321\n",
       "2      112.318699\n",
       "3      142.317317\n",
       "4      109.671948\n",
       "          ...    \n",
       "995    135.164129\n",
       "996    132.995228\n",
       "997    129.397887\n",
       "998    124.431951\n",
       "999    115.505074\n",
       "Name: Y1, Length: 1000, dtype: float64"
      ]
     },
     "execution_count": 21,
     "metadata": {},
     "output_type": "execute_result"
    }
   ],
   "source": [
    "### revisar correlaciones entre Y1 (entrada tanque) y z1 (salida tanque)\n",
    "data_process_a['Y1']"
   ]
  },
  {
   "cell_type": "code",
   "execution_count": 22,
   "id": "c390afaa-75a6-4048-98ef-6438ff555fec",
   "metadata": {},
   "outputs": [
    {
     "data": {
      "text/plain": [
       "0      299.845222\n",
       "1      291.956321\n",
       "2      312.318699\n",
       "3      342.317317\n",
       "4      309.671948\n",
       "          ...    \n",
       "995    335.164129\n",
       "996    332.995228\n",
       "997    329.397887\n",
       "998    324.431951\n",
       "999    315.505074\n",
       "Name: Z1, Length: 1000, dtype: float64"
      ]
     },
     "execution_count": 22,
     "metadata": {},
     "output_type": "execute_result"
    }
   ],
   "source": [
    "data_process_b_y2['Z1']"
   ]
  },
  {
   "cell_type": "code",
   "execution_count": null,
   "id": "cb62f0c7-8a35-41d6-b1df-175263f73107",
   "metadata": {},
   "outputs": [],
   "source": []
  },
  {
   "cell_type": "code",
   "execution_count": null,
   "id": "a3dd3a93-bd2e-49de-b619-b5d4e512477c",
   "metadata": {},
   "outputs": [],
   "source": []
  },
  {
   "cell_type": "code",
   "execution_count": null,
   "id": "e98aaf73-8ca5-47fb-9096-3fe022cc2cec",
   "metadata": {},
   "outputs": [],
   "source": []
  },
  {
   "cell_type": "markdown",
   "id": "959a2f20-d644-4485-9f87-91a263e563a9",
   "metadata": {},
   "source": [
    "#### 2.3 Process C\n",
    "This process has its own formula as ml models. \n",
    "\n",
    "- To use this formula in gurobi it is necesary define the formula directly as constraint. So, the formula used here is the original formula that will be used as \"model\"\n",
    "\n",
    "- Also, according the diagram of the process that we try to modelate, the target of this process needs to be the same target of the process B"
   ]
  },
  {
   "cell_type": "code",
   "execution_count": 23,
   "id": "fda130bf-c5c3-4fee-8442-d709e0a53c6c",
   "metadata": {},
   "outputs": [],
   "source": [
    "list_features_process_c = [\n",
    "    \"X3\",\n",
    "    \"O7\",\n",
    "]\n",
    "\n",
    "list_target_process_c = [\"Y2\"]"
   ]
  },
  {
   "cell_type": "code",
   "execution_count": 24,
   "id": "a75c9667-3bc2-4f8f-8325-48bdbca7a5cb",
   "metadata": {},
   "outputs": [],
   "source": [
    "#### TARGET\n",
    "\n",
    "# the target of the process needs to be the same of the target of process B\n",
    "values_target_process_c = np.array(data_process_b_y2[\"Y2\"])\n",
    "values_target_process_c = np.expand_dims(values_target_process_c, axis = 1)"
   ]
  },
  {
   "cell_type": "code",
   "execution_count": 25,
   "id": "e4372ea9-cddd-4813-b45f-b3bbf99ab336",
   "metadata": {},
   "outputs": [],
   "source": [
    "##### FEATURES - fixed one feature and the another feature is calcualated according the alpha defined\n",
    "\n",
    "# generate data feature 1 process_c \n",
    "np.random.seed(62)\n",
    "values_features_process_c_feature1 = 10 * np.random.rand(len_data, len(list_features_process_c)-1)\n",
    "\n",
    "# the features needs a parameter alpha in the formula that maps this values into the target\n",
    "alpha_feature_1 = 1/5\n",
    "alpha_feature_2 = 15\n",
    "values_features_process_c_feature2 = (values_target_process_c - alpha_feature_1 * values_features_process_c_feature1) / alpha_feature_2\n",
    "#values_features_process_c_feature2[values_features_process_c_feature2 < 0] = 0\n",
    "\n",
    "values_features_process_c = np.concatenate((values_features_process_c_feature1, values_features_process_c_feature2), axis = 1)"
   ]
  },
  {
   "cell_type": "code",
   "execution_count": 26,
   "id": "873822da-b0ed-40a0-a642-16cd36cd0eec",
   "metadata": {},
   "outputs": [
    {
     "data": {
      "text/html": [
       "<div>\n",
       "<style scoped>\n",
       "    .dataframe tbody tr th:only-of-type {\n",
       "        vertical-align: middle;\n",
       "    }\n",
       "\n",
       "    .dataframe tbody tr th {\n",
       "        vertical-align: top;\n",
       "    }\n",
       "\n",
       "    .dataframe thead th {\n",
       "        text-align: right;\n",
       "    }\n",
       "</style>\n",
       "<table border=\"1\" class=\"dataframe\">\n",
       "  <thead>\n",
       "    <tr style=\"text-align: right;\">\n",
       "      <th></th>\n",
       "      <th>X3</th>\n",
       "      <th>O7</th>\n",
       "      <th>Y2</th>\n",
       "    </tr>\n",
       "  </thead>\n",
       "  <tbody>\n",
       "    <tr>\n",
       "      <th>0</th>\n",
       "      <td>0.337547</td>\n",
       "      <td>7.408926</td>\n",
       "      <td>111.201405</td>\n",
       "    </tr>\n",
       "    <tr>\n",
       "      <th>1</th>\n",
       "      <td>4.891075</td>\n",
       "      <td>8.522777</td>\n",
       "      <td>128.819869</td>\n",
       "    </tr>\n",
       "    <tr>\n",
       "      <th>2</th>\n",
       "      <td>8.460851</td>\n",
       "      <td>8.123116</td>\n",
       "      <td>123.538904</td>\n",
       "    </tr>\n",
       "    <tr>\n",
       "      <th>3</th>\n",
       "      <td>4.114020</td>\n",
       "      <td>9.668346</td>\n",
       "      <td>145.847987</td>\n",
       "    </tr>\n",
       "    <tr>\n",
       "      <th>4</th>\n",
       "      <td>6.314154</td>\n",
       "      <td>8.643742</td>\n",
       "      <td>130.918964</td>\n",
       "    </tr>\n",
       "    <tr>\n",
       "      <th>...</th>\n",
       "      <td>...</td>\n",
       "      <td>...</td>\n",
       "      <td>...</td>\n",
       "    </tr>\n",
       "    <tr>\n",
       "      <th>995</th>\n",
       "      <td>4.983054</td>\n",
       "      <td>9.845789</td>\n",
       "      <td>148.683450</td>\n",
       "    </tr>\n",
       "    <tr>\n",
       "      <th>996</th>\n",
       "      <td>3.887887</td>\n",
       "      <td>9.367040</td>\n",
       "      <td>141.283171</td>\n",
       "    </tr>\n",
       "    <tr>\n",
       "      <th>997</th>\n",
       "      <td>5.537505</td>\n",
       "      <td>9.442161</td>\n",
       "      <td>142.739911</td>\n",
       "    </tr>\n",
       "    <tr>\n",
       "      <th>998</th>\n",
       "      <td>4.707576</td>\n",
       "      <td>8.897021</td>\n",
       "      <td>134.396831</td>\n",
       "    </tr>\n",
       "    <tr>\n",
       "      <th>999</th>\n",
       "      <td>4.867620</td>\n",
       "      <td>8.949744</td>\n",
       "      <td>135.219679</td>\n",
       "    </tr>\n",
       "  </tbody>\n",
       "</table>\n",
       "<p>1000 rows × 3 columns</p>\n",
       "</div>"
      ],
      "text/plain": [
       "           X3        O7          Y2\n",
       "0    0.337547  7.408926  111.201405\n",
       "1    4.891075  8.522777  128.819869\n",
       "2    8.460851  8.123116  123.538904\n",
       "3    4.114020  9.668346  145.847987\n",
       "4    6.314154  8.643742  130.918964\n",
       "..        ...       ...         ...\n",
       "995  4.983054  9.845789  148.683450\n",
       "996  3.887887  9.367040  141.283171\n",
       "997  5.537505  9.442161  142.739911\n",
       "998  4.707576  8.897021  134.396831\n",
       "999  4.867620  8.949744  135.219679\n",
       "\n",
       "[1000 rows x 3 columns]"
      ]
     },
     "execution_count": 26,
     "metadata": {},
     "output_type": "execute_result"
    }
   ],
   "source": [
    "# generate dataframe process_c\n",
    "data_process_c = pd.DataFrame(values_features_process_c, columns = list_features_process_c)\n",
    "data_process_c[list_target_process_c] = values_target_process_c\n",
    "data_process_c"
   ]
  },
  {
   "cell_type": "code",
   "execution_count": 27,
   "id": "95205dc2-7696-4c64-a958-b8549763680c",
   "metadata": {},
   "outputs": [
    {
     "data": {
      "text/plain": [
       "X3     0.000558\n",
       "O7     5.709173\n",
       "Y2    86.579782\n",
       "dtype: float64"
      ]
     },
     "execution_count": 27,
     "metadata": {},
     "output_type": "execute_result"
    }
   ],
   "source": [
    "data_process_c.min()"
   ]
  },
  {
   "cell_type": "code",
   "execution_count": 28,
   "id": "bd458de9-93e5-4544-8d15-a91dbc83768b",
   "metadata": {},
   "outputs": [
    {
     "data": {
      "text/plain": [
       "array([[<Axes: title={'center': 'X3'}>, <Axes: title={'center': 'O7'}>],\n",
       "       [<Axes: title={'center': 'Y2'}>, <Axes: >]], dtype=object)"
      ]
     },
     "execution_count": 28,
     "metadata": {},
     "output_type": "execute_result"
    },
    {
     "data": {
      "image/png": "[encoded data removed]",
      "text/plain": [
       "<Figure size 640x480 with 4 Axes>"
      ]
     },
     "metadata": {},
     "output_type": "display_data"
    }
   ],
   "source": [
    "data_process_c.hist()"
   ]
  },
  {
   "cell_type": "code",
   "execution_count": 29,
   "id": "cda93f47-317e-45f4-a179-cf7a42f628b8",
   "metadata": {},
   "outputs": [
    {
     "data": {
      "text/plain": [
       "X3   -0.045602\n",
       "O7    0.998532\n",
       "Y2    1.000000\n",
       "Name: Y2, dtype: float64"
      ]
     },
     "execution_count": 29,
     "metadata": {},
     "output_type": "execute_result"
    }
   ],
   "source": [
    "data_process_c.corr()['Y2']"
   ]
  },
  {
   "cell_type": "code",
   "execution_count": 30,
   "id": "e49cff7f-41cc-4a4b-96d0-085418328698",
   "metadata": {},
   "outputs": [
    {
     "data": {
      "text/plain": [
       "<Axes: >"
      ]
     },
     "execution_count": 30,
     "metadata": {},
     "output_type": "execute_result"
    },
    {
     "data": {
      "image/png": "[encoded data removed]",
      "text/plain": [
       "<Figure size 640x480 with 1 Axes>"
      ]
     },
     "metadata": {},
     "output_type": "display_data"
    }
   ],
   "source": [
    "# hist target\n",
    "data_process_c['Y2'].hist()"
   ]
  },
  {
   "cell_type": "code",
   "execution_count": null,
   "id": "f28eb4bd-b125-47da-bd7e-1190ee599ca4",
   "metadata": {},
   "outputs": [],
   "source": []
  },
  {
   "cell_type": "code",
   "execution_count": null,
   "id": "7102b921-ea07-4e0c-999c-061adf39c27f",
   "metadata": {},
   "outputs": [],
   "source": []
  },
  {
   "cell_type": "markdown",
   "id": "c166c88f-16ec-4a65-82c7-5f446f678ca2",
   "metadata": {},
   "source": [
    "#### 2.4 Process B - target Y3\n",
    "Process B that see Z1, X2, and generate the target y3. \n",
    "See that the process B has 2 targets.\n",
    "See that to generate target y3 it is necesary only the features Z1 and X2 and it is not necesary the features O5 and O6"
   ]
  },
  {
   "cell_type": "code",
   "execution_count": 31,
   "id": "951b069c-c5c8-474c-9c10-2d4b8e9785be",
   "metadata": {},
   "outputs": [],
   "source": [
    "list_features_process_b_y3 = [\n",
    "    \"Z1\",\n",
    "    \"X2\"\n",
    "]\n",
    "\n",
    "list_target_process_b_y3 = [\"Y3\"]"
   ]
  },
  {
   "cell_type": "code",
   "execution_count": 32,
   "id": "c3fdfc15-1245-462f-8024-0c2af4b3884d",
   "metadata": {},
   "outputs": [
    {
     "data": {
      "text/html": [
       "<div>\n",
       "<style scoped>\n",
       "    .dataframe tbody tr th:only-of-type {\n",
       "        vertical-align: middle;\n",
       "    }\n",
       "\n",
       "    .dataframe tbody tr th {\n",
       "        vertical-align: top;\n",
       "    }\n",
       "\n",
       "    .dataframe thead th {\n",
       "        text-align: right;\n",
       "    }\n",
       "</style>\n",
       "<table border=\"1\" class=\"dataframe\">\n",
       "  <thead>\n",
       "    <tr style=\"text-align: right;\">\n",
       "      <th></th>\n",
       "      <th>Z1</th>\n",
       "      <th>X2</th>\n",
       "    </tr>\n",
       "  </thead>\n",
       "  <tbody>\n",
       "    <tr>\n",
       "      <th>0</th>\n",
       "      <td>299.845222</td>\n",
       "      <td>0.337547</td>\n",
       "    </tr>\n",
       "    <tr>\n",
       "      <th>1</th>\n",
       "      <td>291.956321</td>\n",
       "      <td>4.114020</td>\n",
       "    </tr>\n",
       "    <tr>\n",
       "      <th>2</th>\n",
       "      <td>312.318699</td>\n",
       "      <td>5.428003</td>\n",
       "    </tr>\n",
       "    <tr>\n",
       "      <th>3</th>\n",
       "      <td>342.317317</td>\n",
       "      <td>9.534575</td>\n",
       "    </tr>\n",
       "    <tr>\n",
       "      <th>4</th>\n",
       "      <td>309.671948</td>\n",
       "      <td>9.961258</td>\n",
       "    </tr>\n",
       "  </tbody>\n",
       "</table>\n",
       "</div>"
      ],
      "text/plain": [
       "           Z1        X2\n",
       "0  299.845222  0.337547\n",
       "1  291.956321  4.114020\n",
       "2  312.318699  5.428003\n",
       "3  342.317317  9.534575\n",
       "4  309.671948  9.961258"
      ]
     },
     "execution_count": 32,
     "metadata": {},
     "output_type": "execute_result"
    }
   ],
   "source": [
    "##### FEATURES - the features are already generated\n",
    "data_process_b_y3 = data_process_b_y2[list_features_process_b_y3]\n",
    "data_process_b_y3.head()"
   ]
  },
  {
   "cell_type": "code",
   "execution_count": 33,
   "id": "8a96508d-ec34-4af5-9ba6-6ede6f7b8c8c",
   "metadata": {},
   "outputs": [],
   "source": [
    "#### TARGET y = f(x)\n",
    "\n",
    "# define contribution of each feature into target value\n",
    "contribution_target_process_b_y3_feature_1 = 2 * (np.exp(np.log( data_process_b_y3.iloc[:, 0] )))\n",
    "contribution_target_process_b_y3_feature_2 = -1/10 * data_process_b_y3.iloc[:, 1]\n",
    "\n",
    "# generate target -> sum individual contributions\n",
    "formula_target_process_b_y3 = contribution_target_process_b_y3_feature_1 + contribution_target_process_b_y3_feature_2"
   ]
  },
  {
   "cell_type": "code",
   "execution_count": 34,
   "id": "ae023393-c0e5-4a7f-a28d-28067b178113",
   "metadata": {},
   "outputs": [
    {
     "name": "stderr",
     "output_type": "stream",
     "text": [
      "/var/folders/fx/0kx46vn52sg544t8x3s4hdl00000gn/T/ipykernel_60220/2602898210.py:3: SettingWithCopyWarning: \n",
      "A value is trying to be set on a copy of a slice from a DataFrame.\n",
      "Try using .loc[row_indexer,col_indexer] = value instead\n",
      "\n",
      "See the caveats in the documentation: https://pandas.pydata.org/pandas-docs/stable/user_guide/indexing.html#returning-a-view-versus-a-copy\n",
      "  data_process_b_y3.loc[:, 'Y3'] = values_target_process_b_y3\n"
     ]
    },
    {
     "data": {
      "text/html": [
       "<div>\n",
       "<style scoped>\n",
       "    .dataframe tbody tr th:only-of-type {\n",
       "        vertical-align: middle;\n",
       "    }\n",
       "\n",
       "    .dataframe tbody tr th {\n",
       "        vertical-align: top;\n",
       "    }\n",
       "\n",
       "    .dataframe thead th {\n",
       "        text-align: right;\n",
       "    }\n",
       "</style>\n",
       "<table border=\"1\" class=\"dataframe\">\n",
       "  <thead>\n",
       "    <tr style=\"text-align: right;\">\n",
       "      <th></th>\n",
       "      <th>Z1</th>\n",
       "      <th>X2</th>\n",
       "      <th>Y3</th>\n",
       "    </tr>\n",
       "  </thead>\n",
       "  <tbody>\n",
       "    <tr>\n",
       "      <th>0</th>\n",
       "      <td>299.845222</td>\n",
       "      <td>0.337547</td>\n",
       "      <td>599.656689</td>\n",
       "    </tr>\n",
       "    <tr>\n",
       "      <th>1</th>\n",
       "      <td>291.956321</td>\n",
       "      <td>4.114020</td>\n",
       "      <td>583.501239</td>\n",
       "    </tr>\n",
       "    <tr>\n",
       "      <th>2</th>\n",
       "      <td>312.318699</td>\n",
       "      <td>5.428003</td>\n",
       "      <td>624.094597</td>\n",
       "    </tr>\n",
       "    <tr>\n",
       "      <th>3</th>\n",
       "      <td>342.317317</td>\n",
       "      <td>9.534575</td>\n",
       "      <td>683.681177</td>\n",
       "    </tr>\n",
       "    <tr>\n",
       "      <th>4</th>\n",
       "      <td>309.671948</td>\n",
       "      <td>9.961258</td>\n",
       "      <td>618.347769</td>\n",
       "    </tr>\n",
       "    <tr>\n",
       "      <th>...</th>\n",
       "      <td>...</td>\n",
       "      <td>...</td>\n",
       "      <td>...</td>\n",
       "    </tr>\n",
       "    <tr>\n",
       "      <th>995</th>\n",
       "      <td>335.164129</td>\n",
       "      <td>7.676773</td>\n",
       "      <td>669.560580</td>\n",
       "    </tr>\n",
       "    <tr>\n",
       "      <th>996</th>\n",
       "      <td>332.995228</td>\n",
       "      <td>7.624778</td>\n",
       "      <td>665.227978</td>\n",
       "    </tr>\n",
       "    <tr>\n",
       "      <th>997</th>\n",
       "      <td>329.397887</td>\n",
       "      <td>2.902402</td>\n",
       "      <td>658.505533</td>\n",
       "    </tr>\n",
       "    <tr>\n",
       "      <th>998</th>\n",
       "      <td>324.431951</td>\n",
       "      <td>0.359562</td>\n",
       "      <td>648.827945</td>\n",
       "    </tr>\n",
       "    <tr>\n",
       "      <th>999</th>\n",
       "      <td>315.505074</td>\n",
       "      <td>6.881495</td>\n",
       "      <td>630.321999</td>\n",
       "    </tr>\n",
       "  </tbody>\n",
       "</table>\n",
       "<p>1000 rows × 3 columns</p>\n",
       "</div>"
      ],
      "text/plain": [
       "             Z1        X2          Y3\n",
       "0    299.845222  0.337547  599.656689\n",
       "1    291.956321  4.114020  583.501239\n",
       "2    312.318699  5.428003  624.094597\n",
       "3    342.317317  9.534575  683.681177\n",
       "4    309.671948  9.961258  618.347769\n",
       "..          ...       ...         ...\n",
       "995  335.164129  7.676773  669.560580\n",
       "996  332.995228  7.624778  665.227978\n",
       "997  329.397887  2.902402  658.505533\n",
       "998  324.431951  0.359562  648.827945\n",
       "999  315.505074  6.881495  630.321999\n",
       "\n",
       "[1000 rows x 3 columns]"
      ]
     },
     "execution_count": 34,
     "metadata": {},
     "output_type": "execute_result"
    }
   ],
   "source": [
    "# GENERATE DATA_TARGET PROCESS B y3\n",
    "values_target_process_b_y3  = np.array(formula_target_process_b_y3)\n",
    "data_process_b_y3.loc[:, 'Y3'] = values_target_process_b_y3\n",
    "\n",
    "data_process_b_y3"
   ]
  },
  {
   "cell_type": "code",
   "execution_count": 35,
   "id": "129f5dd9-9504-4024-844f-93a060fab69f",
   "metadata": {},
   "outputs": [
    {
     "data": {
      "text/plain": [
       "<Axes: >"
      ]
     },
     "execution_count": 35,
     "metadata": {},
     "output_type": "execute_result"
    },
    {
     "data": {
      "image/png": "[encoded data removed]",
      "text/plain": [
       "<Figure size 640x480 with 1 Axes>"
      ]
     },
     "metadata": {},
     "output_type": "display_data"
    }
   ],
   "source": [
    "# histogram target\n",
    "data_process_b_y3['Y3'].hist()"
   ]
  },
  {
   "cell_type": "code",
   "execution_count": null,
   "id": "07413bc2-2f92-450e-ad87-8a1773ba9fcb",
   "metadata": {},
   "outputs": [],
   "source": []
  },
  {
   "cell_type": "markdown",
   "id": "62730764-8448-4aa6-8651-f1ed9ca1ccc0",
   "metadata": {},
   "source": [
    "### 3. Evaluate capacity of ml model and split data\n",
    "Evaluate the capacity of a Machine Learning model to predict this data. For this example it will use only a simple linear regression"
   ]
  },
  {
   "cell_type": "markdown",
   "id": "66a45424-dafc-41c0-badd-e2b7851b31c4",
   "metadata": {},
   "source": [
    "#### 3.1 Process A"
   ]
  },
  {
   "cell_type": "code",
   "execution_count": 36,
   "id": "11a0d647-9bac-4b11-818b-c4e1c25b7191",
   "metadata": {},
   "outputs": [
    {
     "data": {
      "text/plain": [
       "0.818572112755708"
      ]
     },
     "execution_count": 36,
     "metadata": {},
     "output_type": "execute_result"
    }
   ],
   "source": [
    "# list features-target\n",
    "features_train_process_a = data_process_a.columns.tolist()[0:-1]\n",
    "target_process_a = [data_process_a.columns.tolist()[-1]]\n",
    "\n",
    "# generate data\n",
    "X_process_a = data_process_a[features_train_process_a]\n",
    "y_process_a = data_process_a[target_process_a]\n",
    "\n",
    "# split train test\n",
    "X_train_process_a, X_test_process_a, y_train_process_a, y_test_process_a = train_test_split(X_process_a,\n",
    "                                                                                            y_process_a,\n",
    "                                                                                            test_size = 0.2,\n",
    "                                                                                            random_state = 42\n",
    "                                                                                           )\n",
    "\n",
    "# train model\n",
    "lr_process_a = LinearRegression()\n",
    "lr_process_a.fit(X_train_process_a, y_train_process_a)\n",
    "\n",
    "# evaluate\n",
    "lr_process_a.score(X_test_process_a, y_test_process_a)"
   ]
  },
  {
   "cell_type": "code",
   "execution_count": 37,
   "id": "8a890e08-3de8-43a3-b2a3-025fb050dd2f",
   "metadata": {},
   "outputs": [
    {
     "data": {
      "text/html": [
       "<div>\n",
       "<style scoped>\n",
       "    .dataframe tbody tr th:only-of-type {\n",
       "        vertical-align: middle;\n",
       "    }\n",
       "\n",
       "    .dataframe tbody tr th {\n",
       "        vertical-align: top;\n",
       "    }\n",
       "\n",
       "    .dataframe thead th {\n",
       "        text-align: right;\n",
       "    }\n",
       "</style>\n",
       "<table border=\"1\" class=\"dataframe\">\n",
       "  <thead>\n",
       "    <tr style=\"text-align: right;\">\n",
       "      <th></th>\n",
       "      <th>X1</th>\n",
       "      <th>O1</th>\n",
       "      <th>O2</th>\n",
       "      <th>O3</th>\n",
       "    </tr>\n",
       "  </thead>\n",
       "  <tbody>\n",
       "    <tr>\n",
       "      <th>0</th>\n",
       "      <td>37.467481</td>\n",
       "      <td>95.270644</td>\n",
       "      <td>73.200558</td>\n",
       "      <td>60.013231</td>\n",
       "    </tr>\n",
       "    <tr>\n",
       "      <th>1</th>\n",
       "      <td>15.615333</td>\n",
       "      <td>15.798666</td>\n",
       "      <td>5.809525</td>\n",
       "      <td>86.764997</td>\n",
       "    </tr>\n",
       "    <tr>\n",
       "      <th>2</th>\n",
       "      <td>60.124970</td>\n",
       "      <td>71.006471</td>\n",
       "      <td>2.059613</td>\n",
       "      <td>97.138367</td>\n",
       "    </tr>\n",
       "    <tr>\n",
       "      <th>3</th>\n",
       "      <td>83.257733</td>\n",
       "      <td>21.433125</td>\n",
       "      <td>18.183660</td>\n",
       "      <td>18.487833</td>\n",
       "    </tr>\n",
       "    <tr>\n",
       "      <th>4</th>\n",
       "      <td>30.437694</td>\n",
       "      <td>52.674857</td>\n",
       "      <td>43.195665</td>\n",
       "      <td>29.270296</td>\n",
       "    </tr>\n",
       "    <tr>\n",
       "      <th>...</th>\n",
       "      <td>...</td>\n",
       "      <td>...</td>\n",
       "      <td>...</td>\n",
       "      <td>...</td>\n",
       "    </tr>\n",
       "    <tr>\n",
       "      <th>995</th>\n",
       "      <td>83.249823</td>\n",
       "      <td>80.764094</td>\n",
       "      <td>22.433019</td>\n",
       "      <td>22.755289</td>\n",
       "    </tr>\n",
       "    <tr>\n",
       "      <th>996</th>\n",
       "      <td>81.744001</td>\n",
       "      <td>93.239056</td>\n",
       "      <td>9.537256</td>\n",
       "      <td>45.153246</td>\n",
       "    </tr>\n",
       "    <tr>\n",
       "      <th>997</th>\n",
       "      <td>33.758897</td>\n",
       "      <td>87.268059</td>\n",
       "      <td>8.353655</td>\n",
       "      <td>21.259976</td>\n",
       "    </tr>\n",
       "    <tr>\n",
       "      <th>998</th>\n",
       "      <td>75.260303</td>\n",
       "      <td>5.328598</td>\n",
       "      <td>49.254702</td>\n",
       "      <td>44.358086</td>\n",
       "    </tr>\n",
       "    <tr>\n",
       "      <th>999</th>\n",
       "      <td>33.453587</td>\n",
       "      <td>39.656445</td>\n",
       "      <td>52.995222</td>\n",
       "      <td>16.284118</td>\n",
       "    </tr>\n",
       "  </tbody>\n",
       "</table>\n",
       "<p>1000 rows × 4 columns</p>\n",
       "</div>"
      ],
      "text/plain": [
       "            X1         O1         O2         O3\n",
       "0    37.467481  95.270644  73.200558  60.013231\n",
       "1    15.615333  15.798666   5.809525  86.764997\n",
       "2    60.124970  71.006471   2.059613  97.138367\n",
       "3    83.257733  21.433125  18.183660  18.487833\n",
       "4    30.437694  52.674857  43.195665  29.270296\n",
       "..         ...        ...        ...        ...\n",
       "995  83.249823  80.764094  22.433019  22.755289\n",
       "996  81.744001  93.239056   9.537256  45.153246\n",
       "997  33.758897  87.268059   8.353655  21.259976\n",
       "998  75.260303   5.328598  49.254702  44.358086\n",
       "999  33.453587  39.656445  52.995222  16.284118\n",
       "\n",
       "[1000 rows x 4 columns]"
      ]
     },
     "execution_count": 37,
     "metadata": {},
     "output_type": "execute_result"
    }
   ],
   "source": [
    "X_process_a"
   ]
  },
  {
   "cell_type": "code",
   "execution_count": null,
   "id": "7f051c7b-ba2f-4955-8621-ecb1f2d6adc9",
   "metadata": {},
   "outputs": [],
   "source": []
  },
  {
   "cell_type": "code",
   "execution_count": null,
   "id": "7c4744a1-596b-4c99-8f65-7c8ee86c8cd4",
   "metadata": {},
   "outputs": [],
   "source": []
  },
  {
   "cell_type": "markdown",
   "id": "abba9bac-365c-4b36-9525-74528bac56b8",
   "metadata": {},
   "source": [
    "#### 3.2 Process B y2"
   ]
  },
  {
   "cell_type": "code",
   "execution_count": 38,
   "id": "08315dab-d19d-4422-aaee-e3480350f871",
   "metadata": {},
   "outputs": [
    {
     "data": {
      "text/plain": [
       "0.8936387673859321"
      ]
     },
     "execution_count": 38,
     "metadata": {},
     "output_type": "execute_result"
    }
   ],
   "source": [
    "# list features-target\n",
    "features_train_process_b_y2 = data_process_b_y2.columns.tolist()[0:-1]\n",
    "target_process_b_y2 = [data_process_b_y2.columns.tolist()[-1]]\n",
    "\n",
    "# generate data\n",
    "X_process_b_y2 = data_process_b_y2[features_train_process_b_y2]\n",
    "y_process_b_y2 = data_process_b_y2[target_process_b_y2]\n",
    "\n",
    "X_train_process_b_y2, X_test_process_b_y2, y_train_process_b_y2, y_test_process_b_y2 = train_test_split(X_process_b_y2,\n",
    "                                                                                                        y_process_b_y2,\n",
    "                                                                                                        test_size = 0.2,\n",
    "                                                                                                        random_state = 42\n",
    "                                                                                                       )\n",
    "\n",
    "# train model\n",
    "lr_process_b_y2 = LinearRegression()\n",
    "lr_process_b_y2.fit(X_train_process_b_y2, y_train_process_b_y2)\n",
    "\n",
    "# evaluate\n",
    "lr_process_b_y2.score(X_test_process_b_y2, y_test_process_b_y2)"
   ]
  },
  {
   "cell_type": "code",
   "execution_count": null,
   "id": "6ed75a86-143c-4548-8ffd-c1ecb3155cd3",
   "metadata": {},
   "outputs": [],
   "source": []
  },
  {
   "cell_type": "code",
   "execution_count": null,
   "id": "5456d6dd-1636-409d-856a-6f255bb9bca6",
   "metadata": {},
   "outputs": [],
   "source": []
  },
  {
   "cell_type": "markdown",
   "id": "4091be33-582b-4784-b5f6-64ef3402eb27",
   "metadata": {},
   "source": [
    "#### 3.3 Process B y3"
   ]
  },
  {
   "cell_type": "code",
   "execution_count": 39,
   "id": "76bee7c3-1e14-428b-a36c-467a21069a9b",
   "metadata": {},
   "outputs": [
    {
     "data": {
      "text/plain": [
       "1.0"
      ]
     },
     "execution_count": 39,
     "metadata": {},
     "output_type": "execute_result"
    }
   ],
   "source": [
    "# list features-target\n",
    "features_train_process_b_y3 = data_process_b_y3.columns.tolist()[0:-1]\n",
    "target_process_b_y3 = [data_process_b_y3.columns.tolist()[-1]]\n",
    "\n",
    "# generate data\n",
    "X_process_b_y3 = data_process_b_y3[features_train_process_b_y3]\n",
    "y_process_b_y3 = data_process_b_y3[target_process_b_y3]\n",
    "\n",
    "X_train_process_b_y3, X_test_process_b_y3, y_train_process_b_y3, y_test_process_b_y3 = train_test_split(X_process_b_y3,\n",
    "                                                                                                        y_process_b_y3,\n",
    "                                                                                                        test_size = 0.2,\n",
    "                                                                                                        random_state = 42\n",
    "                                                                                                       )\n",
    "\n",
    "# train model\n",
    "lr_process_b_y3 = LinearRegression()\n",
    "lr_process_b_y3.fit(X_train_process_b_y3, y_train_process_b_y3)\n",
    "\n",
    "# evaluate\n",
    "lr_process_b_y3.score(X_test_process_b_y3, y_test_process_b_y3)"
   ]
  },
  {
   "cell_type": "code",
   "execution_count": null,
   "id": "b14f0195-8fef-4d57-aa04-4fb7573f992c",
   "metadata": {},
   "outputs": [],
   "source": []
  },
  {
   "cell_type": "code",
   "execution_count": null,
   "id": "23008c4d-d799-4dfb-afda-fcd6b573654e",
   "metadata": {},
   "outputs": [],
   "source": []
  },
  {
   "cell_type": "markdown",
   "id": "7e0df9ce-7271-4124-a4bc-58b4c34b1ee0",
   "metadata": {},
   "source": [
    "#### 3.4 Process C"
   ]
  },
  {
   "cell_type": "code",
   "execution_count": 40,
   "id": "0185147a-0f42-4215-8183-5285e4847c82",
   "metadata": {},
   "outputs": [
    {
     "data": {
      "text/plain": [
       "1.0"
      ]
     },
     "execution_count": 40,
     "metadata": {},
     "output_type": "execute_result"
    }
   ],
   "source": [
    "# list features-target\n",
    "features_train_process_c = data_process_c.columns.tolist()[0:-1]\n",
    "target_process_c = [data_process_c.columns.tolist()[-1]]\n",
    "\n",
    "# generate data\n",
    "X_process_c = data_process_c[features_train_process_c]\n",
    "y_process_c = data_process_c[target_process_c]\n",
    "\n",
    "# split train test\n",
    "X_train_process_c, X_test_process_c, y_train_process_c, y_test_process_c = train_test_split(X_process_c,\n",
    "                                                                                            y_process_c,\n",
    "                                                                                            test_size = 0.2,\n",
    "                                                                                            random_state = 42\n",
    "                                                                                           )\n",
    "\n",
    "# train model\n",
    "lr_process_c = LinearRegression()\n",
    "lr_process_c.fit(X_train_process_c, y_train_process_c)\n",
    "\n",
    "# evaluate\n",
    "lr_process_c.score(X_test_process_c, y_test_process_c)"
   ]
  },
  {
   "cell_type": "code",
   "execution_count": null,
   "id": "ee2165af-60a9-4f2e-8a00-32e2254dfe7d",
   "metadata": {},
   "outputs": [],
   "source": []
  },
  {
   "cell_type": "markdown",
   "id": "32dca340-1ecb-42aa-8be0-01e615b84af0",
   "metadata": {},
   "source": [
    "### 4. Save Data"
   ]
  },
  {
   "cell_type": "markdown",
   "id": "2937af7d-64cf-4278-8037-67e371497cd8",
   "metadata": {},
   "source": [
    "#### 4.1 Process A"
   ]
  },
  {
   "cell_type": "code",
   "execution_count": 41,
   "id": "e4bfa8ad-fee3-45b7-813e-75dd49c4c927",
   "metadata": {},
   "outputs": [],
   "source": [
    "### save data TRAIN - TEST\n",
    "name_model = 'process_a'\n",
    "\n",
    "\n",
    "# ---\n",
    "# save X_train\n",
    "path_X_train = f'artifacts/data_training/{name_model}/X_train.pkl'\n",
    "with open(path_X_train, \"wb\") as output:\n",
    "    pickle.dump(X_train_process_a, output)\n",
    "    output.close()\n",
    "\n",
    "# save y_train\n",
    "path_y_train = f'artifacts/data_training/{name_model}/y_train.pkl'\n",
    "with open(path_y_train, \"wb\") as output:\n",
    "    pickle.dump(y_train_process_a, output)\n",
    "    output.close()\n",
    "\n",
    "\n",
    "# ---\n",
    "# save X_test\n",
    "path_X_test = f'artifacts/data_training/{name_model}/X_test.pkl'\n",
    "with open(path_X_test, \"wb\") as output:\n",
    "    pickle.dump(X_test_process_a, output)\n",
    "    output.close()\n",
    "\n",
    "# save y_test\n",
    "path_y_test = f'artifacts/data_training/{name_model}/y_test.pkl'\n",
    "with open(path_y_test, \"wb\") as output:\n",
    "    pickle.dump(y_test_process_a, output)\n",
    "    output.close()"
   ]
  },
  {
   "cell_type": "code",
   "execution_count": null,
   "id": "830b4dd0-56cf-4618-bc62-b9d20fd83c0c",
   "metadata": {},
   "outputs": [],
   "source": []
  },
  {
   "cell_type": "markdown",
   "id": "f575aa1e-8547-47ad-9d6f-fb1cd9e02932",
   "metadata": {},
   "source": [
    "#### 4.2 Process B y2"
   ]
  },
  {
   "cell_type": "code",
   "execution_count": 42,
   "id": "d39a082b-4ea5-4a10-8578-fe786736e252",
   "metadata": {},
   "outputs": [],
   "source": [
    "### save data TRAIN - TEST\n",
    "name_model = 'process_b_y2'\n",
    "\n",
    "\n",
    "# ---\n",
    "# save X_train y2\n",
    "path_X_train = f'artifacts/data_training/{name_model}/X_train.pkl'\n",
    "with open(path_X_train, \"wb\") as output:\n",
    "    pickle.dump(X_train_process_b_y2, output)\n",
    "    output.close()\n",
    "\n",
    "# save y_train y2\n",
    "path_y_train = f'artifacts/data_training/{name_model}/y_train.pkl'\n",
    "with open(path_y_train, \"wb\") as output:\n",
    "    pickle.dump(y_train_process_b_y2, output)\n",
    "    output.close()\n",
    "\n",
    "\n",
    "# ---\n",
    "# save X_test y2\n",
    "path_X_test = f'artifacts/data_training/{name_model}/X_test.pkl'\n",
    "with open(path_X_test, \"wb\") as output:\n",
    "    pickle.dump(X_test_process_b_y2, output)\n",
    "    output.close()\n",
    "\n",
    "# save y_test y2\n",
    "path_y_test = f'artifacts/data_training/{name_model}/y_test.pkl'\n",
    "with open(path_y_test, \"wb\") as output:\n",
    "    pickle.dump(y_test_process_b_y2, output)\n",
    "    output.close()"
   ]
  },
  {
   "cell_type": "code",
   "execution_count": null,
   "id": "2bc0c5ca-2ba1-4f2b-ad88-f5ff1af44e74",
   "metadata": {},
   "outputs": [],
   "source": []
  },
  {
   "cell_type": "markdown",
   "id": "a6f73e05-5e70-4244-ace3-8afe439145ea",
   "metadata": {},
   "source": [
    "#### 4.3 Process B y3"
   ]
  },
  {
   "cell_type": "code",
   "execution_count": 43,
   "id": "7c0cba93-16a4-4573-8949-ef91b64197c7",
   "metadata": {},
   "outputs": [],
   "source": [
    "### save data TRAIN - TEST\n",
    "name_model = 'process_b_y3'\n",
    "\n",
    "\n",
    "# ---\n",
    "# save X_train y2\n",
    "path_X_train = f'artifacts/data_training/{name_model}/X_train.pkl'\n",
    "with open(path_X_train, \"wb\") as output:\n",
    "    pickle.dump(X_train_process_b_y3, output)\n",
    "    output.close()\n",
    "\n",
    "# save y_train y2\n",
    "path_y_train = f'artifacts/data_training/{name_model}/y_train.pkl'\n",
    "with open(path_y_train, \"wb\") as output:\n",
    "    pickle.dump(y_train_process_b_y3, output)\n",
    "    output.close()\n",
    "\n",
    "\n",
    "# ---\n",
    "# save X_test y2\n",
    "path_X_test = f'artifacts/data_training/{name_model}/X_test.pkl'\n",
    "with open(path_X_test, \"wb\") as output:\n",
    "    pickle.dump(X_test_process_b_y3, output)\n",
    "    output.close()\n",
    "\n",
    "# save y_test y2\n",
    "path_y_test = f'artifacts/data_training/{name_model}/y_test.pkl'\n",
    "with open(path_y_test, \"wb\") as output:\n",
    "    pickle.dump(y_test_process_b_y3, output)\n",
    "    output.close()"
   ]
  },
  {
   "cell_type": "code",
   "execution_count": null,
   "id": "d6de317d-9510-4955-b325-81570e920f43",
   "metadata": {},
   "outputs": [],
   "source": []
  },
  {
   "cell_type": "code",
   "execution_count": null,
   "id": "dfe08b00-a641-4aeb-8a55-47c678bfdf75",
   "metadata": {},
   "outputs": [],
   "source": []
  },
  {
   "cell_type": "code",
   "execution_count": null,
   "id": "70d02cc0-5e56-414a-9a0d-a2a2730b5569",
   "metadata": {},
   "outputs": [],
   "source": []
  },
  {
   "cell_type": "code",
   "execution_count": null,
   "id": "bcea253d-cb93-4ba2-bc4e-bca417c5a060",
   "metadata": {},
   "outputs": [],
   "source": []
  },
  {
   "cell_type": "markdown",
   "id": "eaa330d2-bcea-4b5b-88f2-580566b5bed2",
   "metadata": {},
   "source": [
    "#### 4.4 Process C"
   ]
  },
  {
   "cell_type": "code",
   "execution_count": 44,
   "id": "ecae8742-5497-41f0-bdfa-c082fec07b65",
   "metadata": {},
   "outputs": [],
   "source": [
    "### save data TRAIN - TEST\n",
    "name_model = 'process_c'\n",
    "\n",
    "\n",
    "# ---\n",
    "# save X_train\n",
    "path_X_train = f'artifacts/data_training/{name_model}/X_train.pkl'\n",
    "with open(path_X_train, \"wb\") as output:\n",
    "    pickle.dump(X_train_process_c, output)\n",
    "    output.close()\n",
    "\n",
    "# save y_train\n",
    "path_y_train = f'artifacts/data_training/{name_model}/y_train.pkl'\n",
    "with open(path_y_train, \"wb\") as output:\n",
    "    pickle.dump(y_train_process_c, output)\n",
    "    output.close()\n",
    "\n",
    "\n",
    "# ---\n",
    "# save X_test\n",
    "path_X_test = f'artifacts/data_training/{name_model}/X_test.pkl'\n",
    "with open(path_X_test, \"wb\") as output:\n",
    "    pickle.dump(X_test_process_c, output)\n",
    "    output.close()\n",
    "\n",
    "# save y_test\n",
    "path_y_test = f'artifacts/data_training/{name_model}/y_test.pkl'\n",
    "with open(path_y_test, \"wb\") as output:\n",
    "    pickle.dump(y_test_process_c, output)\n",
    "    output.close()"
   ]
  },
  {
   "cell_type": "code",
   "execution_count": null,
   "id": "1ffcb9ce-5fa2-45de-9687-8335cba59b57",
   "metadata": {},
   "outputs": [],
   "source": []
  },
  {
   "cell_type": "code",
   "execution_count": null,
   "id": "fd8e2a61-8ada-426d-b7de-d8568eea41a9",
   "metadata": {},
   "outputs": [],
   "source": []
  },
  {
   "cell_type": "code",
   "execution_count": null,
   "id": "834ded26-5bb6-43a0-a12f-411a8420de65",
   "metadata": {},
   "outputs": [],
   "source": []
  }
 ],
 "metadata": {
  "kernelspec": {
   "display_name": "Python 3 (ipykernel)",
   "language": "python",
   "name": "python3"
  },
  "language_info": {
   "codemirror_mode": {
    "name": "ipython",
    "version": 3
   },
   "file_extension": ".py",
   "mimetype": "text/x-python",
   "name": "python",
   "nbconvert_exporter": "python",
   "pygments_lexer": "ipython3",
   "version": "3.10.14"
  }
 },
 "nbformat": 4,
 "nbformat_minor": 5
}
